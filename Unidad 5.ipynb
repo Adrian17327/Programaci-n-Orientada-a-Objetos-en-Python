{
 "cells": [
  {
   "cell_type": "markdown",
   "metadata": {},
   "source": [
    "# Unidad 5: Archivos"
   ]
  },
  {
   "cell_type": "markdown",
   "metadata": {},
   "source": [
    "<img src=\"img\\broken2.jpg\" alt=\"Python\" width=\"1000\"/>"
   ]
  },
  {
   "cell_type": "markdown",
   "metadata": {},
   "source": [
    "Un archivo puede que sea diferente a lo que esta uno acostumbrado a manejar en Windows. En Python cuando se hace referencia a un archivo, se está refiriendo a un documento de texto (txt) o a un documento binario. El primero corresponde a una secuencia de lineas formadas por caracteres. En cambio los archivos binarios debido a su naturaleza, es necesario usar alguna aplicación para poder leerlos o interpretarlos."
   ]
  },
  {
   "cell_type": "markdown",
   "metadata": {},
   "source": [
    "En esencia, los archivos son un conjunto de bytes que se utilizan para almacenar cierto tipo de datos. En la actualidad, los archivos en la mayoría de los sistemas operativos están compuestos de 3 partes:\n",
    "\n",
    "1. **Encabezado**: Metadatos acerca del contenido del archivo (nombre, tamaño, tipo, etc.)\n",
    "\n",
    "2. **Datos**: El contenido del archivo.\n",
    "\n",
    "3. **Fin del archivo (EOF)**: Un caracter especial que indica el final del documento. \n",
    "\n",
    "Dependiendo el tipo de archivo que se vaya a utilizar, es el tipo de extensión que lo representará. En este curso se manejarán archivos con extensión txt para textos y csv para bases de datos."
   ]
  },
  {
   "cell_type": "markdown",
   "metadata": {},
   "source": [
    "Al tratar de acceder a un archivo, es importante conocer la localización del mismo. Dicha localización estará compuesta de 3 secciones:\n",
    "\n",
    "1. La ruta\n",
    "2. El nombre del archivo\n",
    "3. La extensión"
   ]
  },
  {
   "cell_type": "markdown",
   "metadata": {},
   "source": [
    "Es posible detrminar si un archivo es de texto o si es binario basandonos únicamente en la extensión del mismo. A continuación se presentan ejemplos de las extensiones más comunes:"
   ]
  },
  {
   "cell_type": "markdown",
   "metadata": {},
   "source": [
    "**Archivos Binarios:**\n",
    "\n",
    "<table>\n",
    "  <tr>\n",
    "    <td>Imagenes</td>\n",
    "    <td>jpg, png, gif, bmp, tiff, psd</td>\n",
    "  </tr>\n",
    "  <tr>\n",
    "    <td>Videos</td>\n",
    "    <td>mp4, mvk, avi, mov, mpg, vob</td>\n",
    "  </tr>\n",
    "  <tr>\n",
    "    <td>Audio</td>\n",
    "    <td>mp3, aac,wav, flac, ogg, mka, wma</td>\n",
    "  </tr>\n",
    "  <tr>\n",
    "    <td>Documentos</td>\n",
    "    <td>pdf, doc, xls, ppt, docx</td>\n",
    "  </tr>\n",
    "  <tr>\n",
    "    <td>Archivo</td>\n",
    "    <td>zip, rar, iso</td>\n",
    "  </tr>\n",
    "  <tr>\n",
    "    <td>Ejecutable</td>\n",
    "    <td>exe, dll</td>\n",
    "  </tr>\n",
    "</table>"
   ]
  },
  {
   "cell_type": "markdown",
   "metadata": {},
   "source": [
    "**Archivos de texto:**\n",
    "\n",
    "<table>\n",
    "  <tr>\n",
    "    <td>Web</td>\n",
    "    <td>html, xml, css, svg, json</td>\n",
    "  </tr>\n",
    "  <tr>\n",
    "    <td>Código fuente</td>\n",
    "    <td>c, cpp, h, cs, js, py, java, rb, pl, php</td>\n",
    "  </tr>\n",
    "  <tr>\n",
    "    <td>Documentos</td>\n",
    "    <td>txt, tex, markdown, asciidoc</td>\n",
    "  </tr>\n",
    "  <tr>\n",
    "    <td>Configuración</td>\n",
    "    <td>ini, cfg, reg</td>\n",
    "  </tr>\n",
    "  <tr>\n",
    "    <td>Tabular</td>\n",
    "    <td>csv, tsv</td>\n",
    "  </tr>\n",
    "</table>"
   ]
  },
  {
   "cell_type": "markdown",
   "metadata": {},
   "source": [
    "## 5.1 Procesamiento de archivos"
   ]
  },
  {
   "cell_type": "markdown",
   "metadata": {},
   "source": [
    "El procesamiento de archivos está constituido por 3 sencillos pasos: **Abrir el archivo, Manipular el contenido, Cerrar el archivo.**"
   ]
  },
  {
   "cell_type": "markdown",
   "metadata": {},
   "source": [
    "### Abrir el archivo"
   ]
  },
  {
   "cell_type": "markdown",
   "metadata": {},
   "source": [
    "Abrir un archivo en Python se hace mediante el método **open()**. Para poder abrir un archivo es necesario conocer su ubicación y nombre seguido. Opcionalmente, por el modo o tipo de operación a realizar, se selecciona alguna codificación que nos servirá para manipular el archivo. Si no se indica el tipo de operación el archivo se abrirá en modo de lectura y si se omite la codificación se utilizará la codificación actual del sistema. Si se intenta abrir para un archivo inexistente, Python creará uno nuevo. Los modos de apertura en Python son los siguientes:"
   ]
  },
  {
   "cell_type": "markdown",
   "metadata": {},
   "source": [
    "<table>\n",
    "  <tr>\n",
    "    <th>Modificador</th>\n",
    "    <th>Significado</th>\n",
    "  </tr>\n",
    "  <tr>\n",
    "    <td> r </td>\n",
    "    <td>Abre un documento para su lectura (esta es la opción por defecto)</td>\n",
    "  </tr>\n",
    "  <tr>\n",
    "    <td> w </td>\n",
    "    <td>Abre un documento para su escritura (en caso de no existir creará el archivo)</td>\n",
    "  </tr>\n",
    "  <tr>\n",
    "    <td> a </td>\n",
    "    <td>Abre un archivo para agregar texto al final del documento sin sobreescribirlo</td>\n",
    "  </tr>\n",
    "  <tr>\n",
    "    <td> t </td>\n",
    "    <td>Abre un documento en modod de texto (esta es la opción por defecto)</td>\n",
    "  </tr>\n",
    "  <tr>\n",
    "    <td> b </td>\n",
    "    <td>Abre un documento en modo binario</td>\n",
    "  </tr>\n",
    "  <tr>\n",
    "    <td> + </td>\n",
    "    <td>Abre un documento para ser actualizado (lectura y escritura)</td>\n",
    "  </tr>\n",
    "</table>"
   ]
  },
  {
   "cell_type": "markdown",
   "metadata": {},
   "source": [
    "### Manipular el archivo"
   ]
  },
  {
   "cell_type": "markdown",
   "metadata": {},
   "source": [
    "Manipular archivos en Python es muy sencillo. No hace falta importar ninguna librería. Los métodos para modificar los archivos son **read()** y **write()**. El primero nos permite leer la información almacenada en el documento mientras que el segundo nos permíte agregar información. Cabe mencionar que mediante esta técnica, no es posible modificar texto ya existente, solamente es posible agregar nuevas lineas de texto. En caso de querer modificar el texto, sería necesario reescribir todo el archivo en cuestión. "
   ]
  },
  {
   "cell_type": "markdown",
   "metadata": {},
   "source": [
    "Es posible desplazarse en el texto. Para ello se utilizan los métodos **tell()** y **seek()**. El primero indicará la posición del cursor en bytes. El segundo desplazara al cursor a la posición indicada en bytes. Dicha posición está indexada."
   ]
  },
  {
   "cell_type": "markdown",
   "metadata": {},
   "source": [
    "### Cerrar el archivo"
   ]
  },
  {
   "cell_type": "markdown",
   "metadata": {},
   "source": [
    "Python, por tratarse de un lenguaje de programación, utiliza recursos de memoria siempre que una función o un método es ejecutado. En este sentido, abrir un archivo y manipularlo utiliza recursos. Estos recursos son liberados solo hasta que el documento se cierra. Para cerrar un archivo se utiliza el método **close()**, y al momento de cerrar el archivo, todos los cambios son guardados."
   ]
  },
  {
   "cell_type": "markdown",
   "metadata": {},
   "source": [
    "### try - finally / with - as"
   ]
  },
  {
   "cell_type": "markdown",
   "metadata": {},
   "source": [
    "Al estar manipulando un archivo en Python, es probable que una excepción pueda ocurrir.  Cuando una de estas pasa, el código saldrá abruptamente provocando que el archivo se cierre sin previo aviso. Una manera de controlar esta situación es mediante el manejo de excepciones. El bloque **try - finally** es una manera mas segura de abrir un archivo:"
   ]
  },
  {
   "cell_type": "code",
   "execution_count": null,
   "metadata": {},
   "outputs": [],
   "source": [
    "try:\n",
    "    f = open(\"test.txt\",\"w+\")\n",
    "    # Operaciones a realizar en el archivo\n",
    "finally:\n",
    "    f.close()"
   ]
  },
  {
   "cell_type": "markdown",
   "metadata": {},
   "source": [
    "De este modo, garantizamos que el archivo se cierre de forma adecuada, incluso si una excepción llegara a ocurrir. Para poder lograr el manejo de excepción de arriba, Python utiliza el bloque **with - as**"
   ]
  },
  {
   "cell_type": "code",
   "execution_count": null,
   "metadata": {},
   "outputs": [],
   "source": [
    "with open(\"test.txt\", \"a\") as f:\n",
    "    # Operaciones a realizar en el archivo"
   ]
  },
  {
   "cell_type": "markdown",
   "metadata": {},
   "source": [
    "### Ejemplo: Abrir, manipular y cerrar:"
   ]
  },
  {
   "cell_type": "code",
   "execution_count": null,
   "metadata": {},
   "outputs": [],
   "source": [
    "with open(\"test.txt\",'w+',encoding = 'utf-8') as f:\n",
    "    f.write(\"Mi primer archivo\\n\")\n",
    "    f.write(\"Este archivo\\n\\n\")\n",
    "    f.write(\"contiene 4 lineas\\n\\n\")\n",
    "    f.write(\"Adios\\n\")"
   ]
  },
  {
   "cell_type": "markdown",
   "metadata": {},
   "source": [
    "El ejemplo anterior, abre el archivo test, en caso de no existir lo crea, y en caso de existir sobreescribira el contenido con las lineas escritas dentro del bloque."
   ]
  },
  {
   "cell_type": "markdown",
   "metadata": {},
   "source": [
    "Repitiendo el ejemplo anterior, ahora usaremos el método **tell()** para determinar la posición final del cursor:"
   ]
  },
  {
   "cell_type": "code",
   "execution_count": null,
   "metadata": {},
   "outputs": [],
   "source": [
    "with open(\"test.txt\",'w+',encoding = 'utf-8') as f:\n",
    "    f.write(\"Mi primer archivo\\n\")\n",
    "    f.write(\"Este archivo\\n\\n\")\n",
    "    f.write(\"contiene 4 lineas\\n\\n\")\n",
    "    f.write(\"Adios\\n\")\n",
    "    a=f.tell() # Como el documento cierra al término del bloque, almacenamos el valor de tell\n",
    "               # en una variable, para posteriormente imprimirla y saber la última posición \n",
    "               # del cursor.\n",
    "a"
   ]
  },
  {
   "cell_type": "markdown",
   "metadata": {},
   "source": [
    "El número 63, representa el número de bytes del archivo. Cada caracter representa un byte, y cada salto de linea representa 2 bytes."
   ]
  },
  {
   "cell_type": "code",
   "execution_count": null,
   "metadata": {},
   "outputs": [],
   "source": [
    "with open(\"test.txt\",'w+',encoding = 'utf-8') as f:\n",
    "    f.write(\"\\nMi primer archivo\\n\")\n",
    "    f.write(\"Este archivo\\n\\n\")\n",
    "    f.write(\"contiene 4 lineas\\n\\n\")\n",
    "    f.write(\"Adios\\n\")\n",
    "    f.seek(0)\n",
    "    f.write(\"Hola\\n\")"
   ]
  },
  {
   "cell_type": "markdown",
   "metadata": {},
   "source": [
    "## 5.2 Archivos de texto"
   ]
  },
  {
   "cell_type": "markdown",
   "metadata": {},
   "source": [
    "En Python no hace falta importar alguna libreria para el manejo de archivos de texto. Esto se puede hacer directamente mediante los métodos ya incorporados en el lenguaje. El primero que ocuparemos es **open()**"
   ]
  },
  {
   "cell_type": "markdown",
   "metadata": {},
   "source": [
    "-------------------------------------------------------------------------------------------------------------------------\n",
    "\n",
    "                               open(\"Nombre del archivo.txt\", \"Permisos asignados\")\n",
    "\n",
    "-------------------------------------------------------------------------------------------------------------------------"
   ]
  },
  {
   "cell_type": "markdown",
   "metadata": {},
   "source": [
    "El primer argumento representa el archivo que estamos tratando de abrir, mientras que el segundo representa el tipo de permiso u operación que queremos realizar en el archivo. Usando una letra **\"w\"** indica que queremos realizar una escritura en el documento. **\"w+\"** implica que además de la escritura, le pedimos a Python que genere el documento en caso de no existir. Vamos a ver como funciona:"
   ]
  },
  {
   "cell_type": "code",
   "execution_count": null,
   "metadata": {},
   "outputs": [],
   "source": [
    "f= open(\"Texto_prueba.txt\",\"w+\")"
   ]
  },
  {
   "cell_type": "markdown",
   "metadata": {},
   "source": [
    "Con esta instrucción, hemos creado un archivo con extensión txt en la misma carpeta en la que se encuentra almacenado el presente cuaderno Jupyter. En caso de querer utilizar algún otro permiso, los disponibles son: **\"r\"** para lectura y **\"a\"** para agregar."
   ]
  },
  {
   "cell_type": "code",
   "execution_count": null,
   "metadata": {},
   "outputs": [],
   "source": [
    "for i in range(10):\n",
    "     f.write(\"Esta es la linea \" + str(i+1) + \"\\r\\n\")"
   ]
  },
  {
   "cell_type": "markdown",
   "metadata": {},
   "source": [
    "El ciclo anterior generó 10 lineas en nuestro archivo txt, cada una de esas lineas cuenta con su número correspondiente del ciclo. **\\n** es para dar un salto de linea al termino del enunciado, y **\\r** es para crear un espacio entre lineas. Por último, para que los cambios se efectuen, es necesario cerrar el documento en Python. Esto se consigue con el método **close()**:"
   ]
  },
  {
   "cell_type": "code",
   "execution_count": null,
   "metadata": {},
   "outputs": [],
   "source": [
    "f.close()"
   ]
  },
  {
   "cell_type": "markdown",
   "metadata": {},
   "source": [
    "Es posible agregar información al archivo, para ello utilizaremos otro modificador de permiso:"
   ]
  },
  {
   "cell_type": "code",
   "execution_count": null,
   "metadata": {},
   "outputs": [],
   "source": [
    "f= open(\"Texto_prueba.txt\",\"a\")"
   ]
  },
  {
   "cell_type": "code",
   "execution_count": null,
   "metadata": {},
   "outputs": [],
   "source": [
    "for i in range(2):\n",
    "     f.write(\"Esta linea fue agregada después \" + str(i+1) + \"\\r\\n\")"
   ]
  },
  {
   "cell_type": "code",
   "execution_count": null,
   "metadata": {},
   "outputs": [],
   "source": [
    "f.close()"
   ]
  },
  {
   "cell_type": "markdown",
   "metadata": {},
   "source": [
    "Finalmente, otra de las opciones para la manipulación de textos es la lectura. Para ello recurrimos al último modificador de permiso:"
   ]
  },
  {
   "cell_type": "code",
   "execution_count": null,
   "metadata": {},
   "outputs": [],
   "source": [
    "f= open(\"Texto_prueba.txt\",\"r\")"
   ]
  },
  {
   "cell_type": "markdown",
   "metadata": {},
   "source": [
    "Verificamos el status del documento mediante el atributo **mode()**:"
   ]
  },
  {
   "cell_type": "code",
   "execution_count": null,
   "metadata": {},
   "outputs": [],
   "source": [
    "f.mode"
   ]
  },
  {
   "cell_type": "markdown",
   "metadata": {},
   "source": [
    "Ya que nuestro documento efectivamente está en modo lectura, procedemos a hacer la lectura del mismo. Para ello usaremos el método **read()**. Por último almacenaremos en contenido en una variable para poder llamarla en cualquier momento:"
   ]
  },
  {
   "cell_type": "code",
   "execution_count": null,
   "metadata": {},
   "outputs": [],
   "source": [
    "contenido=f.read()"
   ]
  },
  {
   "cell_type": "code",
   "execution_count": null,
   "metadata": {
    "scrolled": true
   },
   "outputs": [],
   "source": [
    "print(contenido)"
   ]
  },
  {
   "cell_type": "markdown",
   "metadata": {},
   "source": [
    "Si revisamos la variable contenido, veremos que el formato que tiene es diferente al que se nos presenta en Python:"
   ]
  },
  {
   "cell_type": "code",
   "execution_count": null,
   "metadata": {},
   "outputs": [],
   "source": [
    "contenido"
   ]
  },
  {
   "cell_type": "markdown",
   "metadata": {},
   "source": [
    "Al tener el texto del archivo almacenado dentro de una variable, nos permite hacer uso de diferentes métodos para poderlo manipular. Un ejemplo de esto es el uso del método **split()**, el cual nos permite crear una lista de elementos al partir el texto en secciones de acuerdo al separador que le indiquemos:"
   ]
  },
  {
   "cell_type": "code",
   "execution_count": null,
   "metadata": {},
   "outputs": [],
   "source": [
    "# El ciclo separá el contenido del texto cada que encuentre \\n en él:\n",
    "\n",
    "for i in contenido:\n",
    "    lista_lineas = contenido.split(\"\\n\")\n",
    "print (lista_lineas)"
   ]
  },
  {
   "cell_type": "code",
   "execution_count": null,
   "metadata": {},
   "outputs": [],
   "source": [
    "len(lista_lineas)"
   ]
  },
  {
   "cell_type": "markdown",
   "metadata": {},
   "source": [
    "La lista resultante tambien trajo los espacios generados por \\r. Lo que podemos hacer ahora es filtrarlos de la lista resultante mediante el uso del método **remove()**:"
   ]
  },
  {
   "cell_type": "code",
   "execution_count": null,
   "metadata": {},
   "outputs": [],
   "source": [
    "for i in lista_lineas:\n",
    "    if i=='':\n",
    "        lista_lineas.remove(i)\n",
    "\n",
    "print (lista_lineas)"
   ]
  },
  {
   "cell_type": "code",
   "execution_count": null,
   "metadata": {},
   "outputs": [],
   "source": [
    "lista_lineas.remove('')"
   ]
  },
  {
   "cell_type": "code",
   "execution_count": null,
   "metadata": {
    "scrolled": true
   },
   "outputs": [],
   "source": [
    "lista_lineas"
   ]
  },
  {
   "cell_type": "code",
   "execution_count": null,
   "metadata": {},
   "outputs": [],
   "source": [
    "len(lista_lineas)"
   ]
  },
  {
   "cell_type": "markdown",
   "metadata": {},
   "source": [
    "Podemos usar nuevamente el método **split()** pero ahora para crear una lista de las palabras contenidas en el texto:"
   ]
  },
  {
   "cell_type": "code",
   "execution_count": null,
   "metadata": {},
   "outputs": [],
   "source": [
    "for i in contenido:\n",
    "    lista_palabras = contenido.split(\" \")\n",
    "print (lista_palabras)"
   ]
  },
  {
   "cell_type": "code",
   "execution_count": null,
   "metadata": {},
   "outputs": [],
   "source": [
    "len(lista_palabras)"
   ]
  },
  {
   "cell_type": "markdown",
   "metadata": {},
   "source": [
    "### Actividad"
   ]
  },
  {
   "cell_type": "markdown",
   "metadata": {},
   "source": [
    "Crea un documento txt, cuyo nombre sea Pangramas. Posteriormente, escribe cada una de las siguientes frases en líneas diferentes:\n",
    "\n",
    "* Whisky bueno: ¡excitad mi frágil pequeña vejez!\n",
    "* Quiere la boca exhausta vid, kiwi, piña y fugaz jamón\n",
    "* Jovencillo emponzoñado de whisky: ¡qué figurota exhibe! (para la fuentes tipográficas bajo las distribuciones GNU/Linux)\n",
    "* El viejo Señor Gómez pedía queso, kiwi y habas, pero le ha tocado un saxofón\n",
    "* Mi hijo degustó en el festival de bayas una extraña pizza de kiwi con queso\n",
    "* José compró una vieja zampoña en Perú. Excusándose, Sofía tiró su whisky al desagüe de la banqueta\n",
    "* El cadáver de Wamba, rey godo de España, fue exhumado y trasladado en una caja de zinc que pesó un kilo\n",
    "* El pingüino Wenceslao hizo kilómetros bajo exhaustiva lluvia y frío, añoraba a su querido cachorro\n",
    "* El veloz murciélago hindú comía feliz cardillo y kiwi. La cigüeña tocaba el saxofón detrás del palenque de paja\n",
    "* The quick brown fox jumps over the lazy dog\n",
    "\n",
    "Posteriormente cierra el documento. \n",
    "Vuelve a abrir el archivo mediante el uso del bloque **with**, y agrega las siguientes 3 líneas al final del documento:\n",
    "\n",
    "    (Salto de línea)\n",
    "\n",
    "    (Salto de línea)\n",
    "\n",
    "    \"Un pangrama es un texto que usa todas las letras posibles del alfabeto de un idioma.\"\n",
    "\n",
    "\n",
    "Despúes, indicar el número de bytes del documento mediante el uso del método **tell()**\n",
    "\n",
    "Nuevamente abra el archivo en modo de lectura, y cuente el número de caracteres por renglón en el archivo. El resultado de cada renglon será imprimeso en python así como la suma total.\n",
    "\n",
    "Obtenga la diferencia entre el número de bytes del archivo, y el número de caracteres obtenidos por renglon. **¿Porqué son diferentes?**"
   ]
  },
  {
   "cell_type": "markdown",
   "metadata": {},
   "source": [
    "<img src=\"img/spyder.png\" alt=\"Spyder\" width=\"300\"/>"
   ]
  },
  {
   "cell_type": "code",
   "execution_count": 5,
   "metadata": {},
   "outputs": [],
   "source": [
    "actividad=f= open(\"Pangramas.txt\",\"w+\")"
   ]
  },
  {
   "cell_type": "code",
   "execution_count": 6,
   "metadata": {},
   "outputs": [
    {
     "data": {
      "text/plain": [
       "44"
      ]
     },
     "execution_count": 6,
     "metadata": {},
     "output_type": "execute_result"
    }
   ],
   "source": [
    "actividad.write(\"Whisky bueno: ¡excitad mi frágil pequeña vejez!\\n\")\n",
    "actividad.write(\"Quiere la boca exhausta vid, kiwi, piña y fugaz jamón\\n\")\n",
    "actividad.write(\"Jovencillo emponzoñado de whisky: ¡qué figurota exhibe! (para la fuentes tipográficas bajo las distribuciones GNU/Linux)\\n\")\n",
    "actividad.write(\"El viejo Señor Gómez pedía queso, kiwi y habas, pero le ha tocado un saxofón\\n\")\n",
    "actividad.write(\"Mi hijo degustó en el festival de bayas una extraña pizza de kiwi con queso\\n\")\n",
    "actividad.write(\"José compró una vieja zampoña en Perú. Excusándose, Sofía tiró su whisky al desagüe de la banqueta\\n\")\n",
    "actividad.write(\"El cadáver de Wamba, rey godo de España, fue exhumado y trasladado en una caja de zinc que pesó un kilo\\n\")\n",
    "actividad.write(\"El pingüino Wenceslao hizo kilómetros bajo exhaustiva lluvia y frío, añoraba a su querido cachorro\\n\")\n",
    "actividad.write(\"El veloz murciélago hindú comía feliz cardillo y kiwi. La cigüeña tocaba el saxofón detrás del palenque de paja\\n\")\n",
    "actividad.write(\"The quick brown fox jumps over the lazy dog\\n\")"
   ]
  },
  {
   "cell_type": "code",
   "execution_count": 7,
   "metadata": {},
   "outputs": [],
   "source": [
    "actividad.close()"
   ]
  },
  {
   "cell_type": "code",
   "execution_count": 19,
   "metadata": {},
   "outputs": [],
   "source": [
    "with open(\"Pangramas.txt\",'a') as actividad:\n",
    "    actividad.write(\"\\n\\n'Un pangrama es un texto que usa todas las letras posibles del alfabeto de un idioma.'\")\n",
    "    a=actividad.tell()"
   ]
  },
  {
   "cell_type": "code",
   "execution_count": 20,
   "metadata": {},
   "outputs": [
    {
     "data": {
      "text/plain": [
       "932"
      ]
     },
     "execution_count": 20,
     "metadata": {},
     "output_type": "execute_result"
    }
   ],
   "source": [
    "a"
   ]
  },
  {
   "cell_type": "code",
   "execution_count": 22,
   "metadata": {},
   "outputs": [
    {
     "data": {
      "text/plain": [
       "\"Whisky bueno: ¡excitad mi frágil pequeña vejez!\\nQuiere la boca exhausta vid, kiwi, piña y fugaz jamón\\nJovencillo emponzoñado de whisky: ¡qué figurota exhibe! (para la fuentes tipográficas bajo las distribuciones GNU/Linux)\\nEl viejo Señor Gómez pedía queso, kiwi y habas, pero le ha tocado un saxofón\\nMi hijo degustó en el festival de bayas una extraña pizza de kiwi con queso\\nJosé compró una vieja zampoña en Perú. Excusándose, Sofía tiró su whisky al desagüe de la banqueta\\nEl cadáver de Wamba, rey godo de España, fue exhumado y trasladado en una caja de zinc que pesó un kilo\\nEl pingüino Wenceslao hizo kilómetros bajo exhaustiva lluvia y frío, añoraba a su querido cachorro\\nEl veloz murciélago hindú comía feliz cardillo y kiwi. La cigüeña tocaba el saxofón detrás del palenque de paja\\nThe quick brown fox jumps over the lazy dog\\n\\n'Un pangrama es un texto que usa todas las letras posibles del alfabeto de un idioma.'\""
      ]
     },
     "execution_count": 22,
     "metadata": {},
     "output_type": "execute_result"
    }
   ],
   "source": [
    "actividad= open(\"Pangramas.txt\",\"r\")\n",
    "contenido=actividad.read()\n",
    "contenido"
   ]
  },
  {
   "cell_type": "code",
   "execution_count": 23,
   "metadata": {},
   "outputs": [
    {
     "name": "stdout",
     "output_type": "stream",
     "text": [
      "['Whisky bueno: ¡excitad mi frágil pequeña vejez!', 'Quiere la boca exhausta vid, kiwi, piña y fugaz jamón', 'Jovencillo emponzoñado de whisky: ¡qué figurota exhibe! (para la fuentes tipográficas bajo las distribuciones GNU/Linux)', 'El viejo Señor Gómez pedía queso, kiwi y habas, pero le ha tocado un saxofón', 'Mi hijo degustó en el festival de bayas una extraña pizza de kiwi con queso', 'José compró una vieja zampoña en Perú. Excusándose, Sofía tiró su whisky al desagüe de la banqueta', 'El cadáver de Wamba, rey godo de España, fue exhumado y trasladado en una caja de zinc que pesó un kilo', 'El pingüino Wenceslao hizo kilómetros bajo exhaustiva lluvia y frío, añoraba a su querido cachorro', 'El veloz murciélago hindú comía feliz cardillo y kiwi. La cigüeña tocaba el saxofón detrás del palenque de paja', 'The quick brown fox jumps over the lazy dog', '', \"'Un pangrama es un texto que usa todas las letras posibles del alfabeto de un idioma.'\"]\n"
     ]
    }
   ],
   "source": [
    "for i in contenido:\n",
    "    lista_lineas_pan = contenido.split(\"\\n\")\n",
    "print (lista_lineas_pan)"
   ]
  },
  {
   "cell_type": "code",
   "execution_count": 26,
   "metadata": {},
   "outputs": [
    {
     "name": "stdout",
     "output_type": "stream",
     "text": [
      "47\n",
      "53\n",
      "120\n",
      "76\n",
      "75\n",
      "98\n",
      "103\n",
      "98\n",
      "111\n",
      "43\n",
      "0\n",
      "86\n"
     ]
    }
   ],
   "source": [
    "caracteres=0\n",
    "for i in lista_lineas_pan:\n",
    "    print(len(i))\n",
    "    caracteres=caracteres+(len(i))"
   ]
  },
  {
   "cell_type": "code",
   "execution_count": 27,
   "metadata": {},
   "outputs": [
    {
     "data": {
      "text/plain": [
       "910"
      ]
     },
     "execution_count": 27,
     "metadata": {},
     "output_type": "execute_result"
    }
   ],
   "source": [
    "caracteres"
   ]
  },
  {
   "cell_type": "code",
   "execution_count": 30,
   "metadata": {},
   "outputs": [
    {
     "data": {
      "text/plain": [
       "22"
      ]
     },
     "execution_count": 30,
     "metadata": {},
     "output_type": "execute_result"
    }
   ],
   "source": [
    "# La diferencia entre el número de bytes y el número de caracteres es porque en total hay 11 renglones.\n",
    "# Saltar de una línea a otra implica el uso de 2 bytes (\\n). Esta situación no aplica para los rengones\n",
    "# vacios.\n",
    "\n",
    "diferencia=a-caracteres\n",
    "diferencia"
   ]
  },
  {
   "cell_type": "markdown",
   "metadata": {},
   "source": [
    "## 5.3 Archivos binarios"
   ]
  },
  {
   "cell_type": "markdown",
   "metadata": {},
   "source": [
    "En cualquier computadora, un archivo es una larga cadena de unos y ceros. En otras palabras, cada archivo es una secuencia finita de bytes. Cada byte es un entero entre 0 y 255 (00000000 y 11111111 en binario). Un archivo binario es diferente a uno de texto porque primero, para poder abrirlo es necesario un programa que sea apropiado al formato, mientras que los archivos de texto se pueden modificar en cualquier editor. En la gran mayoría de los casos, la gente utiliza archivos de tipo binario."
   ]
  },
  {
   "cell_type": "markdown",
   "metadata": {},
   "source": [
    "En su escala más pequeña, la información en la computadora es almacenada en bits y bytes. Un **bit** corresponde a la unidad más chica de almacenamiento. Un bit solo puede almacenar un 1 o un 0. Cualquier cosa que tenga 2 estados diferentes se puede almacenar en bits: La carga eléctrica de un chip (0/1), puntos en el disco duro (Norte/Sur). \n",
    "Un bit es muy pequeño para poder ser útil por si solo, es por ello que se agrupan 8 de estos para formar **1 byte**."
   ]
  },
  {
   "cell_type": "markdown",
   "metadata": {},
   "source": [
    "Un **byte** es una colección de 8 bits. Esto da como resultado expresiones como la siguiente: 01011010. Un byte puede almacenar un caracter; e.g. \"A\" o \"X\" o \"&\". Vamos a analizar como se comportan los bits al agruparlos; consideremos los primeros 3 casos, las combinaciones posibles son las siguientes:"
   ]
  },
  {
   "cell_type": "markdown",
   "metadata": {},
   "source": [
    "<table>\n",
    "  <tr>\n",
    "    <th># de bits</th>\n",
    "    <th>Combinaciones</th>\n",
    "    <th>Total</th>\n",
    "  </tr>\n",
    "  <tr>\n",
    "    <td> 1 </td>\n",
    "    <td> 0  <br><br>  1 </td>\n",
    "    <td> 2 Combinaciones </td>\n",
    "  </tr>\n",
    "  <tr>\n",
    "    <td> 2 </td>\n",
    "    <td> 00  <br><br>  01  <br><br>  10  <br><br>  11 </td>\n",
    "    <td> 4 Combinaciones </td>\n",
    "  </tr>\n",
    "  <tr>\n",
    "    <td> 3 </td>\n",
    "    <td> 000 . 001  <br><br>  010 . 011  <br><br>  100 . 101  <br><br>  110 . 111 </td>\n",
    "    <td> 8 Combinaciones </td>\n",
    "  </tr>\n",
    "</table>"
   ]
  },
  {
   "cell_type": "markdown",
   "metadata": {},
   "source": [
    "El número de combinaciones aumenta al doble, por cada bit agregado al conjunto; i.e. 4 bits=16 combinaciones, 5 bits=32 combinaciones,...,etc. Matemáticamente, n bits creará la siguiente cantidad de combinaciones:"
   ]
  },
  {
   "cell_type": "markdown",
   "metadata": {},
   "source": [
    "$$combinaciones=2^{n bits}$$"
   ]
  },
  {
   "cell_type": "markdown",
   "metadata": {},
   "source": [
    "Por lo tanto, 1 byte = 8 bits; lo que generará un total de 256 combinaciones. Si a la primera combinación se le asigna una posición de 0, la última combinación tendra una posición de 255. Cada byte servirá para almacenar un caracter diferente. La información generada se almacenará en bytes sin importar el origen o tipo de archivo. Al acumular mil bytes se creará un **Kilobyte (KB)**, un millon de bytes, o lo que es lo mismo, mil KB será un **Megabyte (MB)**, y así sucesivamente."
   ]
  },
  {
   "cell_type": "markdown",
   "metadata": {},
   "source": [
    "Los bytes utilizan el código ASCII para representar los diferentes caracteres por un número. Cada número es almacenado en un byte. Por lo tanto, si presionamos **alt+65** obtendremos la letra **\"A\"**. Eso quiere decir que la letra A está almacenada en el byte 65 en código decimal, o en código binario sería 1000001"
   ]
  },
  {
   "cell_type": "markdown",
   "metadata": {},
   "source": [
    "La tabla completa de valores **ASCII** se presenta a continuación:"
   ]
  },
  {
   "cell_type": "markdown",
   "metadata": {},
   "source": [
    "<img src=\"img\\ASCII.png\" alt=\"Python\" width=\"1000\"/>"
   ]
  },
  {
   "cell_type": "markdown",
   "metadata": {},
   "source": [
    "### Actividad"
   ]
  },
  {
   "cell_type": "markdown",
   "metadata": {},
   "source": [
    "Desarrole una función recursiva para pasar de números decimales a números binarios."
   ]
  },
  {
   "cell_type": "markdown",
   "metadata": {},
   "source": [
    "<img src=\"img/decimal-a-binario.png\" alt=\"Spyder\" width=\"300\"/>"
   ]
  },
  {
   "cell_type": "markdown",
   "metadata": {},
   "source": [
    "<img src=\"img/spyder.png\" alt=\"Spyder\" width=\"300\"/>"
   ]
  },
  {
   "cell_type": "code",
   "execution_count": 91,
   "metadata": {},
   "outputs": [],
   "source": [
    "def decimal_a_binario(num):\n",
    "    if num < 2:\n",
    "        return str(num)\n",
    "    else:\n",
    "        return decimal_a_binario(num//2) + str(num % 2)"
   ]
  },
  {
   "cell_type": "code",
   "execution_count": 106,
   "metadata": {},
   "outputs": [
    {
     "data": {
      "text/plain": [
       "'11100'"
      ]
     },
     "execution_count": 106,
     "metadata": {},
     "output_type": "execute_result"
    }
   ],
   "source": [
    "decimal_a_binario(28)"
   ]
  },
  {
   "cell_type": "markdown",
   "metadata": {},
   "source": [
    "### Clases Byte y Bytearray"
   ]
  },
  {
   "cell_type": "markdown",
   "metadata": {},
   "source": [
    "Para crear un archivo de bytes desde Python, es necesario utilizar las clases Byte y Bytearray. La primera nos sirve para crear bytes. Un byte servira para almacenar una secuencia entre 0 y 255 (8-bits por su valor en binario)."
   ]
  },
  {
   "cell_type": "code",
   "execution_count": null,
   "metadata": {},
   "outputs": [],
   "source": [
    "# Creamos 4 bytes mediante la instancia de la clase Byte():\n",
    "cuatro_bytes = bytes(4)\n",
    "\n",
    "# Revisamos el tipo de objeto creado:\n",
    "print(type(cuatro_bytes))\n",
    "print()\n",
    "\n",
    "# Revisamos el contenido del objeto:\n",
    "print(cuatro_bytes)"
   ]
  },
  {
   "cell_type": "markdown",
   "metadata": {},
   "source": [
    "El objeto **cuatro_bytes** equivale a 32 bits de información. La b nos indica que se trata de data de tipo binario. La diagonal invertida junto con la x nos indica que el siguiente valor está en formato hexadecimal. Existen 2 números (00) por byte. Para poder continuar, será necesario utilizar los métodos de conversión entre sistemas decimal-binario-hexadecimal. Para ellos se utilizan los métodos **int(), bin(), hex()** "
   ]
  },
  {
   "cell_type": "code",
   "execution_count": null,
   "metadata": {},
   "outputs": [],
   "source": [
    "bin(0)"
   ]
  },
  {
   "cell_type": "code",
   "execution_count": null,
   "metadata": {},
   "outputs": [],
   "source": [
    "bin(255)"
   ]
  },
  {
   "cell_type": "code",
   "execution_count": null,
   "metadata": {},
   "outputs": [],
   "source": [
    "bin(100)"
   ]
  },
  {
   "cell_type": "code",
   "execution_count": null,
   "metadata": {},
   "outputs": [],
   "source": [
    "lista_binarios=[]\n",
    "\n",
    "for i in range(256):\n",
    "    x=bin(i)\n",
    "    lista_binarios.append(x)\n",
    "\n",
    "lista_binarios"
   ]
  },
  {
   "cell_type": "code",
   "execution_count": null,
   "metadata": {},
   "outputs": [],
   "source": [
    "hex(255)"
   ]
  },
  {
   "cell_type": "code",
   "execution_count": null,
   "metadata": {},
   "outputs": [],
   "source": [
    "lista_hexadecimal=[]\n",
    "\n",
    "for i in range(256):\n",
    "    x=hex(i)\n",
    "    lista_hexadecimal.append(x)\n",
    "\n",
    "lista_hexadecimal"
   ]
  },
  {
   "cell_type": "markdown",
   "metadata": {},
   "source": [
    "Para poder convertir de binario o hexadecimal a decimal, será necesario usar el método **int()** acompañado de la base del número a convertir:"
   ]
  },
  {
   "cell_type": "code",
   "execution_count": null,
   "metadata": {},
   "outputs": [],
   "source": [
    "binario=bin(10)\n",
    "print(binario)\n",
    "print(int(binario,2))"
   ]
  },
  {
   "cell_type": "code",
   "execution_count": null,
   "metadata": {},
   "outputs": [],
   "source": [
    "print(lista_hexadecimal[100])\n",
    "print(int(lista_hexadecimal[100],16))"
   ]
  },
  {
   "cell_type": "markdown",
   "metadata": {},
   "source": [
    "Los bytes que sean creados por medio de la clase bytes son **inmutables**. Para poder crear bytes con valor diferente a cero, es necesario seguir la sintaxis que se recibio del contenido de los bytes vacios que se crearon y con valores hexadecimales:"
   ]
  },
  {
   "cell_type": "code",
   "execution_count": null,
   "metadata": {},
   "outputs": [],
   "source": [
    "dos_bytes = bytes(b'\\xff\\xff')\n",
    "print(dos_bytes)"
   ]
  },
  {
   "cell_type": "markdown",
   "metadata": {},
   "source": [
    "Ambos ejemplos, los objetos creados son inmutables. Para crear un objeto mutable, es necesario usar la clase Bytearray:"
   ]
  },
  {
   "cell_type": "code",
   "execution_count": null,
   "metadata": {},
   "outputs": [],
   "source": [
    "# Creamos un arreglo de bytes ya que esto le da la cualidad de ser mutable:\n",
    "bytes_mutables=bytearray()\n",
    "\n",
    "# Revisamos el tipo de objeto creado:\n",
    "print(type(bytes_mutables))\n",
    "print()\n",
    "\n",
    "# Revisamos el contenido del objeto:\n",
    "print(bytes_mutables)"
   ]
  },
  {
   "cell_type": "markdown",
   "metadata": {},
   "source": [
    "Igual que en el caso anterior, si agregamos un entero a la clase bytearray, nos creará ese número de bytes vacios:"
   ]
  },
  {
   "cell_type": "code",
   "execution_count": null,
   "metadata": {},
   "outputs": [],
   "source": [
    "bytes_mutables=bytearray(3)\n",
    "\n",
    "print(type(bytes_mutables))\n",
    "print()\n",
    "\n",
    "print(bytes_mutables)"
   ]
  },
  {
   "cell_type": "code",
   "execution_count": null,
   "metadata": {},
   "outputs": [],
   "source": [
    "bytes_mutables=bytearray(b'\\xAA\\xBB\\xCC')\n",
    "\n",
    "print(type(bytes_mutables))\n",
    "print()\n",
    "\n",
    "print(bytes_mutables)"
   ]
  },
  {
   "cell_type": "markdown",
   "metadata": {},
   "source": [
    "Al modificar un arreglo de bytes, es necesario utilizar el valor decimal de nuevo valor que se piensa agregar:"
   ]
  },
  {
   "cell_type": "code",
   "execution_count": null,
   "metadata": {},
   "outputs": [],
   "source": [
    "bytes_mutables[0]=0"
   ]
  },
  {
   "cell_type": "code",
   "execution_count": null,
   "metadata": {},
   "outputs": [],
   "source": [
    "bytes_mutables"
   ]
  },
  {
   "cell_type": "code",
   "execution_count": null,
   "metadata": {},
   "outputs": [],
   "source": [
    "bytes_mutables.append(255)\n",
    "bytes_mutables"
   ]
  },
  {
   "cell_type": "code",
   "execution_count": null,
   "metadata": {},
   "outputs": [],
   "source": [
    "bytes_mutables[0:2]"
   ]
  },
  {
   "cell_type": "code",
   "execution_count": null,
   "metadata": {},
   "outputs": [],
   "source": [
    "bytes_mutables[3:4]"
   ]
  },
  {
   "cell_type": "markdown",
   "metadata": {},
   "source": [
    "### Convertir Texto a bytes y viceversa"
   ]
  },
  {
   "cell_type": "markdown",
   "metadata": {},
   "source": [
    "Para poder convertir texto a bytes y viceversa, se utilizan los métodos **enconde()** y **decode()**."
   ]
  },
  {
   "cell_type": "code",
   "execution_count": 116,
   "metadata": {},
   "outputs": [],
   "source": [
    "texto=\"Edgar\"\n",
    "t=texto.encode()"
   ]
  },
  {
   "cell_type": "code",
   "execution_count": 126,
   "metadata": {},
   "outputs": [
    {
     "name": "stdout",
     "output_type": "stream",
     "text": [
      "<class 'str'>\n",
      "<class 'bytes'>\n"
     ]
    }
   ],
   "source": [
    "print(type(texto))\n",
    "print(type(t))"
   ]
  },
  {
   "cell_type": "code",
   "execution_count": 127,
   "metadata": {},
   "outputs": [
    {
     "name": "stdout",
     "output_type": "stream",
     "text": [
      "Edgar\n",
      "b'Edgar'\n"
     ]
    }
   ],
   "source": [
    "print(texto)\n",
    "print(t)"
   ]
  },
  {
   "cell_type": "markdown",
   "metadata": {},
   "source": [
    "el método **encode()** permite transformar el contenido de un objeto string de una codificación en otra. El resultado de la transformación es un objetos tipo bytes. El valor por defecto de encoding es **\"utf-8\"**. Existen diferentes tipos de encodings para utilizar. Un ejemplo es el código **ascii**. Si se trata de codificar un texto, que utilice caracteres que no esten el la lista ascii, generará un error como se muestra a continuación:"
   ]
  },
  {
   "cell_type": "code",
   "execution_count": 125,
   "metadata": {},
   "outputs": [
    {
     "data": {
      "text/plain": [
       "b'Ni?o'"
      ]
     },
     "execution_count": 125,
     "metadata": {},
     "output_type": "execute_result"
    }
   ],
   "source": [
    "#nuevo_texto=\"Niño\".encode(encoding=\"ascii\")\n",
    "#nuevo_texto"
   ]
  },
  {
   "cell_type": "code",
   "execution_count": 130,
   "metadata": {},
   "outputs": [
    {
     "data": {
      "text/plain": [
       "b'Nio'"
      ]
     },
     "execution_count": 130,
     "metadata": {},
     "output_type": "execute_result"
    }
   ],
   "source": [
    "# Para manejar ese y otros errores al usar encoding, podemos usar el kwarg errors:\n",
    "nuevo_texto=\"Niño\".encode(encoding=\"ascii\", errors=\"ignore\")\n",
    "nuevo_texto"
   ]
  },
  {
   "cell_type": "markdown",
   "metadata": {},
   "source": [
    "Existen diferentes opciones para el **kwarg errors**. Las más comunes son:\n",
    "* strict: Forma por defento de encode, generará error si no puede manejar el encoding\n",
    "* ignore: Ignora el caracter en cuestión y prosigue al siguiente\n",
    "* replace: Sustituye al caracter por un signo de interrogación\n",
    "* xmlcharrefreplace: Sustituye al caracter por el valor correspondiente XML"
   ]
  },
  {
   "cell_type": "code",
   "execution_count": 131,
   "metadata": {},
   "outputs": [
    {
     "data": {
      "text/plain": [
       "b'Ni?o'"
      ]
     },
     "execution_count": 131,
     "metadata": {},
     "output_type": "execute_result"
    }
   ],
   "source": [
    "nuevo_texto=\"Niño\".encode(encoding=\"ascii\", errors=\"replace\")\n",
    "nuevo_texto"
   ]
  },
  {
   "cell_type": "markdown",
   "metadata": {},
   "source": [
    "Si mandamos a llamar byte por byte, obtendremos su valor en código ascii:"
   ]
  },
  {
   "cell_type": "code",
   "execution_count": 133,
   "metadata": {},
   "outputs": [
    {
     "data": {
      "text/plain": [
       "78"
      ]
     },
     "execution_count": 133,
     "metadata": {},
     "output_type": "execute_result"
    }
   ],
   "source": [
    "nuevo_texto[0]"
   ]
  },
  {
   "cell_type": "code",
   "execution_count": 134,
   "metadata": {},
   "outputs": [
    {
     "data": {
      "text/plain": [
       "111"
      ]
     },
     "execution_count": 134,
     "metadata": {},
     "output_type": "execute_result"
    }
   ],
   "source": [
    "nuevo_texto[3]"
   ]
  },
  {
   "cell_type": "code",
   "execution_count": 135,
   "metadata": {},
   "outputs": [
    {
     "data": {
      "text/plain": [
       "63"
      ]
     },
     "execution_count": 135,
     "metadata": {},
     "output_type": "execute_result"
    }
   ],
   "source": [
    "nuevo_texto[2]"
   ]
  },
  {
   "cell_type": "code",
   "execution_count": 136,
   "metadata": {},
   "outputs": [
    {
     "data": {
      "text/plain": [
       "'Ni?o'"
      ]
     },
     "execution_count": 136,
     "metadata": {},
     "output_type": "execute_result"
    }
   ],
   "source": [
    "#El método decode funciona exactamente igual que el método encode. En este caso damos el valor utf-8\n",
    "string=nuevo_texto.decode(encoding=\"utf-8\")\n",
    "string"
   ]
  },
  {
   "cell_type": "code",
   "execution_count": 140,
   "metadata": {},
   "outputs": [
    {
     "data": {
      "text/plain": [
       "'4e693f6f'"
      ]
     },
     "execution_count": 140,
     "metadata": {},
     "output_type": "execute_result"
    }
   ],
   "source": [
    "# Tambien es posible convertir un objeto de bytes a formato hexadecimal:\n",
    "nuevo_texto.hex()"
   ]
  },
  {
   "cell_type": "code",
   "execution_count": 143,
   "metadata": {},
   "outputs": [
    {
     "data": {
      "text/plain": [
       "b'Ni?o'"
      ]
     },
     "execution_count": 143,
     "metadata": {},
     "output_type": "execute_result"
    }
   ],
   "source": [
    "# La sintaxis inversa se presenta a continuación:\n",
    "b\"\".fromhex(\"4e693f6f\")"
   ]
  },
  {
   "cell_type": "code",
   "execution_count": null,
   "metadata": {},
   "outputs": [],
   "source": []
  }
 ],
 "metadata": {
  "kernelspec": {
   "display_name": "Python 3",
   "language": "python",
   "name": "python3"
  },
  "language_info": {
   "codemirror_mode": {
    "name": "ipython",
    "version": 3
   },
   "file_extension": ".py",
   "mimetype": "text/x-python",
   "name": "python",
   "nbconvert_exporter": "python",
   "pygments_lexer": "ipython3",
   "version": "3.7.3"
  }
 },
 "nbformat": 4,
 "nbformat_minor": 2
}
