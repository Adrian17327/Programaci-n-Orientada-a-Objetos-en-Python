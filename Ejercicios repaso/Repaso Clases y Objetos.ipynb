{
 "cells": [
  {
   "cell_type": "markdown",
   "metadata": {},
   "source": [
    "# Ejercicios de repaso, Clases, objetos, métodos y atributos:"
   ]
  },
  {
   "cell_type": "code",
   "execution_count": null,
   "metadata": {},
   "outputs": [],
   "source": [
    "# Crear 5 clases vacias, cuyos nombres sean: Luz, Agua, Persona, Animal, Mueble.\n",
    "# Instanciar\n"
   ]
  },
  {
   "cell_type": "code",
   "execution_count": null,
   "metadata": {},
   "outputs": [],
   "source": [
    "# Modificar las 5 clases, agregando de 2 a 3 atributos por clase. Los atributos deberáne star inicializados:\n",
    "# Instanciar\n"
   ]
  },
  {
   "cell_type": "code",
   "execution_count": null,
   "metadata": {},
   "outputs": [],
   "source": [
    "# Crear una clase de nombre Casa, la cual reciba por medio de la composición, \n",
    "# los atributos de las 5 clases previas\n",
    "# Instanciar\n"
   ]
  },
  {
   "cell_type": "code",
   "execution_count": null,
   "metadata": {},
   "outputs": [],
   "source": [
    "# Hacer una clase de nombre Television, la cual se creará por medio de un constructor (3 atributos). \n",
    "# Además contará con dos métodos, el primero será encender_apagar. Indicando su status.\n",
    "# El segundo será pasar o no a la entrada HDMI. Mandará mensaje del status actual.\n"
   ]
  },
  {
   "cell_type": "code",
   "execution_count": null,
   "metadata": {},
   "outputs": [],
   "source": [
    "# Defina la clase Automovil. Utilice la información que se presenta.\n",
    "____ ____:\n",
    "\n",
    "    def ____:\n",
    "        ____.____ = ____  # de [60]\n",
    "        ____.____ = ____  # de [190]\n",
    "        ____.____ = ____  # de [5]\n",
    "        ____.____ = ____\n",
    "\n",
    "    def ____\n",
    "        ____\n",
    "\n",
    "    def ____\n",
    "        ____\n",
    "\n",
    "    def ____\n",
    "        ____\n",
    "\n",
    "    def ____\n",
    "        ____\n",
    "\n",
    "    def probar_clase(self):\n",
    "        print(\"El carro tiene:\")\n",
    "        print(\"Atributos:\", self.tanque, self.velocidad, self.ocupantes)\n",
    "        print(\"Encendido:\", self.encendido)\n",
    "\n",
    "\n",
    "# No modifique las siguientes líneas\n",
    "carro = Automovil()\n",
    "\n",
    "carro.probar_clase()\n",
    "print(carro.encender_apagar())\n",
    "print(carro.cargar_gasolina())\n",
    "print(carro.conducir())\n",
    "print(carro.dar_un_ray())"
   ]
  },
  {
   "cell_type": "markdown",
   "metadata": {},
   "source": [
    "### Redefina la clase automovil, para que las instrucciones de abajo se cumplan:\n",
    "\n",
    "\n",
    "1. En el constructor se agregarán dos nuevos atributos, conductor y pasajeros. Ambos atributos deberán estar inicializados. El usuario, además de indicar los otros atributos(tanque, velocidad); indicará también el número de ocupantes (El número máximo de personas que cabrán en el carro). Opcionalmente podrá indicar si hay conductor o no. Finalmente el número de pasajeros cera de 0 ya que aun no se há subido gente al carro.\n",
    "\n",
    "\n",
    "2. El método encender_apagar se ejecutará solo si el carro cuenta con conductor y con gasolina. Modificará el estatus de las variables encendido, y pasajeros. Si el carro se enciende, encendido va a ser True, y pasajeros va a ser igual a 1 (El conductor). Si el carro se apaga, encendido se convierte a False, y pasajeros es igual a 0.\n",
    "\n",
    "\n",
    "3. El método conducir, deberá recibir 2 parámetros, velocidad y tiempo. Por cada 10 km recorridos, el tanque va a perder 1 lt de gasolina. Si el carro se queda sin gasolina deberá de mandar un mensaje avisando de la situación. Además indicará el tiempo de viaje que falta e interrumpirá la ejecución. Para el caso contrario mandará un mensaje informando de la cantidad de gasolina que le queda al carro.\n",
    "\n",
    "\n",
    "4. El método cargar_gasolina recibirá como dato el número de litros que se le den al carro. Solamente podrá recibir una cantidad de litros igual a la capacidad del tanque. En caso de que se le suministre mas gasolina, mandará un mensaje diciendo la gasolina que sobro en el proceso. Por otro lado, si despues de cargar gasolina queda espacio, deberá mandar un mensaje indicando el nivel de gasolina en el tanque.\n",
    "\n",
    "\n",
    "5. El método dar_un_ray recibirá como parametro el número de personas que se quieran subir al carro. Debe considerar la capacidad máxima del carro (ocupantes), y que un lugar ya está siendo usado por el conductor. Si la capacidad se supera, mandará un mensaje de alerta.\n"
   ]
  },
  {
   "cell_type": "code",
   "execution_count": null,
   "metadata": {},
   "outputs": [],
   "source": []
  }
 ],
 "metadata": {
  "kernelspec": {
   "display_name": "Python 3",
   "language": "python",
   "name": "python3"
  },
  "language_info": {
   "codemirror_mode": {
    "name": "ipython",
    "version": 3
   },
   "file_extension": ".py",
   "mimetype": "text/x-python",
   "name": "python",
   "nbconvert_exporter": "python",
   "pygments_lexer": "ipython3",
   "version": "3.7.3"
  }
 },
 "nbformat": 4,
 "nbformat_minor": 2
}
