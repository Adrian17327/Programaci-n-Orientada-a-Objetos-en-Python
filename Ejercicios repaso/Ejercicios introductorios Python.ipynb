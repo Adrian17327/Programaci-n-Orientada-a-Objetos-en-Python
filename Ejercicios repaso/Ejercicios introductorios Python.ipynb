{
 "cells": [
  {
   "cell_type": "markdown",
   "metadata": {},
   "source": [
    "# Ejercicios de introducción"
   ]
  },
  {
   "cell_type": "markdown",
   "metadata": {},
   "source": [
    "El siguiente grupo de ejercicios corresponde al uso de varios comandos o sintaxis básicas en Pyhon. Las instrucciones de cada ejercicio apareceran en forma de comentario."
   ]
  },
  {
   "cell_type": "markdown",
   "metadata": {},
   "source": [
    "## Ejercicio 1"
   ]
  },
  {
   "cell_type": "code",
   "execution_count": null,
   "metadata": {},
   "outputs": [],
   "source": [
    "# Ejemplo de asignación de valor a una variable\n",
    "cadena = \"cadena\"\n",
    "print(cadena)"
   ]
  },
  {
   "cell_type": "code",
   "execution_count": null,
   "metadata": {},
   "outputs": [],
   "source": [
    "# Asigne a la variable cadena con comillas simples 'Esta es una cadena'\n",
    "# Debe sustituir los guiones por el nuevo valor de cadena.\n",
    "cadena = ____"
   ]
  },
  {
   "cell_type": "code",
   "execution_count": null,
   "metadata": {},
   "outputs": [],
   "source": [
    "# En la siguiente línea, imprima la variable cadena\n"
   ]
  },
  {
   "cell_type": "code",
   "execution_count": null,
   "metadata": {},
   "outputs": [],
   "source": [
    "# Verifique usando el comando type() el tipo de dato de cadena\n",
    "type(cadena)"
   ]
  },
  {
   "cell_type": "code",
   "execution_count": null,
   "metadata": {},
   "outputs": [],
   "source": [
    "# Asigne el número 5 a la variable numero e imprima su valor\n",
    "numero = ____"
   ]
  },
  {
   "cell_type": "code",
   "execution_count": null,
   "metadata": {},
   "outputs": [],
   "source": [
    "# Verifique usando el comando type() el tipo de dato de cadena\n",
    "type(numero)"
   ]
  },
  {
   "cell_type": "markdown",
   "metadata": {},
   "source": [
    "## Ejercicio 2"
   ]
  },
  {
   "cell_type": "code",
   "execution_count": null,
   "metadata": {},
   "outputs": [],
   "source": [
    "\"\"\"\n",
    "Usted tiene 50 pesos en el bolsillo, necesita comprar 3 artículos\n",
    "Un café, galletas y papas para soportar el hambre\n",
    "\"\"\"\n",
    "mi_dinero = 50\n",
    "\n",
    "# Asigne el valor de 24 pesos al café, 12 a las galletas y 13 a las papas\n",
    "cafe, papas, galletas = _______________"
   ]
  },
  {
   "cell_type": "code",
   "execution_count": null,
   "metadata": {},
   "outputs": [],
   "source": [
    "# Imprima el valor de los 3 artículos de la forma \n",
    "# print('artículo=', variable)\n"
   ]
  },
  {
   "cell_type": "code",
   "execution_count": null,
   "metadata": {},
   "outputs": [],
   "source": [
    "# Imprima la resta de los artículos al dinero que tiene\n"
   ]
  },
  {
   "cell_type": "code",
   "execution_count": null,
   "metadata": {},
   "outputs": [],
   "source": [
    "# Imprima cuanto le quedaría si solo compra café y galletas\n"
   ]
  },
  {
   "cell_type": "markdown",
   "metadata": {},
   "source": [
    "## Ejercicio 3"
   ]
  },
  {
   "cell_type": "code",
   "execution_count": null,
   "metadata": {},
   "outputs": [],
   "source": [
    "# Concatenación:\n",
    "\n",
    "cad = \"Vehículo\"\n",
    "num = 250\n",
    "\n",
    "print(cad + num)  # Corrija la línea para imprimir una cadena, usar el método str()"
   ]
  },
  {
   "cell_type": "code",
   "execution_count": null,
   "metadata": {},
   "outputs": [],
   "source": [
    "# A una variable se le puede asignar otro tipo de dato sin especificar de qué tipo es\n",
    "variable = \"Juan Carlos\"\n",
    "print(\"variable:\"+ variable, \"tipo:\"+ type(variable))  # Corrija la línea"
   ]
  },
  {
   "cell_type": "code",
   "execution_count": null,
   "metadata": {},
   "outputs": [],
   "source": [
    "variable = 2.5 + 3\n",
    "print(variable:, variable+ \"tipo:\", type variable )  # Corrija la línea"
   ]
  },
  {
   "cell_type": "markdown",
   "metadata": {},
   "source": [
    "## Ejercicio 4"
   ]
  },
  {
   "cell_type": "code",
   "execution_count": null,
   "metadata": {},
   "outputs": [],
   "source": [
    "# Concatenación, ejecute esta celda y prosiga a realizar las actividades\n",
    "# de las celdas siguientes:\n",
    "\n",
    "cadena_1 = \"El oso come \"\n",
    "cadena_2 = 'mucha miel'\n",
    "\n",
    "PI = 3.141592\n",
    "a, b, c = 25, 8.3, 12"
   ]
  },
  {
   "cell_type": "code",
   "execution_count": null,
   "metadata": {},
   "outputs": [],
   "source": [
    "# Defina la variable concat y en ella concatene las cadenas 1 y 2\n",
    "\n",
    "\n",
    "# Imprima concat\n"
   ]
  },
  {
   "cell_type": "code",
   "execution_count": null,
   "metadata": {},
   "outputs": [],
   "source": [
    "# Calcule el área de un círculo de radio 3.33 e imprima su valor\n",
    "area = ____\n",
    "print(\"El área es:\", )"
   ]
  },
  {
   "cell_type": "code",
   "execution_count": null,
   "metadata": {},
   "outputs": [],
   "source": [
    "# Calcule la ecuación \"(a x b)^2 / c\" y el resultado guárdelo en x\n"
   ]
  },
  {
   "cell_type": "code",
   "execution_count": null,
   "metadata": {},
   "outputs": [],
   "source": [
    "# Incremente x en 1, con la expresión reducida de x = x + 1\n",
    "\n",
    "print(x)"
   ]
  },
  {
   "cell_type": "markdown",
   "metadata": {},
   "source": [
    "## Ejercicio 5"
   ]
  },
  {
   "cell_type": "code",
   "execution_count": null,
   "metadata": {},
   "outputs": [],
   "source": [
    "# Listas\n",
    "\n",
    "list_1 = [0, 1, 2]\n",
    "list_2 = [\"3\", \"4\", \"5\"]\n",
    "list_3 = [6.0, 7.0, 8.0]\n",
    "matriz = []"
   ]
  },
  {
   "cell_type": "code",
   "execution_count": null,
   "metadata": {},
   "outputs": [],
   "source": [
    "\"\"\"\n",
    "Cree una matriz de enteros de la forma\n",
    "|2   1   0|\n",
    "|3   4   5|\n",
    "|8   7   6|\n",
    "utilizando como base las listas 1 a 3\n",
    "utilize la sentencia append() para crear la matriz\n",
    "\"\"\"\n",
    "# Crear matriz\n"
   ]
  },
  {
   "cell_type": "code",
   "execution_count": null,
   "metadata": {},
   "outputs": [],
   "source": [
    "# Convertir a enteros, usar el siguiente ejemplo:\n",
    "matriz[1][0] = int(matriz[1][0])\n",
    "\n",
    "# Convertir:\n",
    "matriz____\n",
    "matriz____\n",
    "matriz____\n",
    "matriz____\n",
    "matriz[2][2] = ____"
   ]
  },
  {
   "cell_type": "code",
   "execution_count": null,
   "metadata": {},
   "outputs": [],
   "source": [
    "# Imprima la matriz con un print\n"
   ]
  },
  {
   "cell_type": "markdown",
   "metadata": {},
   "source": [
    "## Ejercicio 6"
   ]
  },
  {
   "cell_type": "code",
   "execution_count": null,
   "metadata": {},
   "outputs": [],
   "source": [
    "# Tuplas:\n",
    "tupla = (1, 2, 3, \"xyz\", True, [0.1, 1.0])\n",
    "lista = [\"gallina\", \"pavo\", \"avestruz\"]"
   ]
  },
  {
   "cell_type": "code",
   "execution_count": null,
   "metadata": {},
   "outputs": [],
   "source": [
    "# Cree una tupla de nombre otra_tupla, cuyos valores sean tupla y lista.\n"
   ]
  },
  {
   "cell_type": "code",
   "execution_count": null,
   "metadata": {},
   "outputs": [],
   "source": [
    "# Verifique que otra_tupla funciona accediendo a sus valores mediante la posición indexada:\n",
    "print(otra_tupla)\n",
    "print(otra_tupla[0])\n",
    "print(otra_tupla[1][-1])"
   ]
  },
  {
   "cell_type": "code",
   "execution_count": null,
   "metadata": {},
   "outputs": [],
   "source": [
    "# Una tupla de un elemento se escribe así:\n",
    "uni_tupla = (1, )  # Sin la coma seria un variable normal\n",
    "print(uni_tupla, type(uni_tupla))"
   ]
  },
  {
   "cell_type": "code",
   "execution_count": null,
   "metadata": {},
   "outputs": [],
   "source": [
    "# La siguiente linea marca error, por que no se puede modificar una tupla.\n",
    "# Para corroborar esto, elimine el # de la siguiente linea y ejecute la celda.\n",
    "# otra_tupla[0] = \"variable\""
   ]
  },
  {
   "cell_type": "markdown",
   "metadata": {},
   "source": [
    "## Ejercicio 7"
   ]
  },
  {
   "cell_type": "code",
   "execution_count": null,
   "metadata": {},
   "outputs": [],
   "source": [
    "# Diccionarios:\n",
    "diccionario = {\"1\":\"primer elemento\",\n",
    "              \"llave2\":[3.5, \"B\"],\n",
    "              100:(\"jugo\",\"fruta\", \"pan\")}\n",
    "\n",
    "print(diccionario)"
   ]
  },
  {
   "cell_type": "code",
   "execution_count": null,
   "metadata": {},
   "outputs": [],
   "source": [
    "# Obtener las llaves en el diccionario\n",
    "var_llaves = _____\n",
    "print(\"Imprimimos las llaves\")\n",
    "print( _____)\n"
   ]
  },
  {
   "cell_type": "code",
   "execution_count": null,
   "metadata": {},
   "outputs": [],
   "source": [
    "# Obtener solamente los valores del diccionario\n",
    "var_valores =  _____\n",
    "\n",
    "# Imprimimos los valores\n",
    "print(\"\\nImprimimos los contenidos\")\n",
    "print( _____)"
   ]
  },
  {
   "cell_type": "code",
   "execution_count": null,
   "metadata": {},
   "outputs": [],
   "source": [
    "# Obtener el contenido de la segunda llave\n",
    "elemento = \n",
    "print(\"\\nEl contenido de llave 2 es:\")\n",
    "print(elemento)"
   ]
  },
  {
   "cell_type": "code",
   "execution_count": null,
   "metadata": {},
   "outputs": [],
   "source": [
    "# Modifica el contenido del segundo elemento\n",
    "diccionario[ _____] =  _____\n",
    "print(diccionario)"
   ]
  },
  {
   "cell_type": "markdown",
   "metadata": {},
   "source": [
    "## Ejercicio 8"
   ]
  },
  {
   "cell_type": "code",
   "execution_count": null,
   "metadata": {},
   "outputs": [],
   "source": [
    "# Ciclo For\n",
    "\n",
    "# Defina la tupla con 10 elementos\n",
    "tupla =\n",
    "lista = []  # No modificar\n",
    "diccionario = {}  # No modificar"
   ]
  },
  {
   "cell_type": "code",
   "execution_count": null,
   "metadata": {},
   "outputs": [],
   "source": [
    "# Recorra la tupla con ciclo for y cada 2 elementos,\n",
    "# Complete el código del ciclo for para poder hacer \n",
    "# las copias en la lista usando append()\n",
    "cont = \n",
    "for  in ____:\n",
    "    if cont %  == ____:\n",
    "        lista____\n",
    "    cont ____ "
   ]
  },
  {
   "cell_type": "code",
   "execution_count": null,
   "metadata": {},
   "outputs": [],
   "source": [
    "# Imprima la lista  y con un for imprima su contenido\n",
    "print()\n",
    "\n",
    "for  in ____:\n",
    "    print()"
   ]
  },
  {
   "cell_type": "code",
   "execution_count": null,
   "metadata": {},
   "outputs": [],
   "source": [
    "# Guarde los elementos de la lista con\n",
    "# las llaves “uno”, “dos”, “tres”, “cuatro”, “cinco”\n",
    "llaves = [____, ____, ____, ____, ____]\n",
    "cont = \n",
    "for i in lista:\n",
    "    diccionario[____] = \n",
    "\n",
    "# Imprimir el diccionario\n",
    "print(____)"
   ]
  },
  {
   "cell_type": "markdown",
   "metadata": {},
   "source": [
    "## Ejercicio 9"
   ]
  },
  {
   "cell_type": "code",
   "execution_count": null,
   "metadata": {},
   "outputs": [],
   "source": [
    "# Importando librerias, ciclo For\n",
    "\n",
    "import random\n",
    "import math\n",
    "\n",
    "lista = []\n",
    "pares = []\n",
    "\n",
    "# Ciclo for\n",
    "____ n in range(50):\n",
    "    # Agregue un número aleatorio de {0 a 49]\n",
    "    lista.____(random.randint(____, ____))"
   ]
  },
  {
   "cell_type": "code",
   "execution_count": null,
   "metadata": {},
   "outputs": [],
   "source": [
    "# Ciclo for para obtener los pares\n"
   ]
  },
  {
   "cell_type": "code",
   "execution_count": null,
   "metadata": {},
   "outputs": [],
   "source": [
    "print(lista)\n",
    "print(pares)"
   ]
  },
  {
   "cell_type": "markdown",
   "metadata": {},
   "source": [
    "## Ejercicio 10"
   ]
  },
  {
   "cell_type": "code",
   "execution_count": null,
   "metadata": {},
   "outputs": [],
   "source": [
    "# Definiendo funciones"
   ]
  },
  {
   "cell_type": "markdown",
   "metadata": {},
   "source": [
    "## Piramide rectangular\n",
    "### $Volumen = \\frac{Abase * h}{3}$\n",
    "### $Abase = a * b$\n",
    "Valores de prueba: a=3 b=5 h=2.1\n",
    "## Cilindro\n",
    "### $Volumen = \\pi * r^{2} * h $\n",
    "Valores de prueba: r=1.5 h=2"
   ]
  },
  {
   "cell_type": "code",
   "execution_count": null,
   "metadata": {},
   "outputs": [],
   "source": [
    "# Piramide\n",
    "a, b, p_h = ___, ___, ___\n",
    "\n",
    "# Cilindro\n",
    "r, PI, c_h = ___, ___, ___\n",
    "\n",
    "def ____ (a, b, h):\n",
    "    pass  # Modificar para que realice la operación\n",
    "\n",
    "\n",
    "def ____ (____, pi, ____):\n",
    "    pass  # Modificar para que realice la operación\n",
    "\n",
    "\n",
    "# Llame las funciones e imprima los valores\n",
    "____(\"Voúmen de la piramide:\", ____)\n",
    "____"
   ]
  },
  {
   "cell_type": "code",
   "execution_count": null,
   "metadata": {},
   "outputs": [],
   "source": []
  }
 ],
 "metadata": {
  "kernelspec": {
   "display_name": "Python 3",
   "language": "python",
   "name": "python3"
  },
  "language_info": {
   "codemirror_mode": {
    "name": "ipython",
    "version": 3
   },
   "file_extension": ".py",
   "mimetype": "text/x-python",
   "name": "python",
   "nbconvert_exporter": "python",
   "pygments_lexer": "ipython3",
   "version": "3.7.3"
  }
 },
 "nbformat": 4,
 "nbformat_minor": 2
}
