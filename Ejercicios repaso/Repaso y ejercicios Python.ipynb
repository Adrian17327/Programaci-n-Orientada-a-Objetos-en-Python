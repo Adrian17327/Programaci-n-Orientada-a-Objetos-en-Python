{
 "cells": [
  {
   "cell_type": "markdown",
   "metadata": {},
   "source": [
    "# Estructuras de datos"
   ]
  },
  {
   "cell_type": "markdown",
   "metadata": {},
   "source": [
    "## Listas"
   ]
  },
  {
   "cell_type": "markdown",
   "metadata": {},
   "source": [
    "Crear una lista vacia:"
   ]
  },
  {
   "cell_type": "code",
   "execution_count": 1,
   "metadata": {},
   "outputs": [],
   "source": [
    "lista=[]"
   ]
  },
  {
   "cell_type": "markdown",
   "metadata": {},
   "source": [
    "Crear una lista con diferentes tipos de variables:"
   ]
  },
  {
   "cell_type": "code",
   "execution_count": 2,
   "metadata": {},
   "outputs": [],
   "source": [
    "#Solo strings\n",
    "lista_strings=[\"hola\", \"esta\", \"es\", \"una\", \"lista\"]\n",
    "\n",
    "#Solo enteros\n",
    "lista_int=[1,2,3,4,5]\n",
    "\n",
    "#Solo float\n",
    "lista_float=[1.5,3.14,9.7]\n",
    "\n",
    "#Lista, variables combinadas\n",
    "lista_all=[\"hola\", 1, 3.14]"
   ]
  },
  {
   "cell_type": "markdown",
   "metadata": {},
   "source": [
    "Formas de obtener la información dentro de una lista:"
   ]
  },
  {
   "cell_type": "code",
   "execution_count": 3,
   "metadata": {},
   "outputs": [
    {
     "data": {
      "text/plain": [
       "['hola', 'esta', 'es', 'una', 'lista']"
      ]
     },
     "execution_count": 3,
     "metadata": {},
     "output_type": "execute_result"
    }
   ],
   "source": [
    "#Directamente por su nombre\n",
    "lista_strings"
   ]
  },
  {
   "cell_type": "code",
   "execution_count": 4,
   "metadata": {},
   "outputs": [
    {
     "name": "stdout",
     "output_type": "stream",
     "text": [
      "[1, 2, 3, 4, 5]\n"
     ]
    }
   ],
   "source": [
    "#Método print()\n",
    "print(lista_int)"
   ]
  },
  {
   "cell_type": "code",
   "execution_count": 5,
   "metadata": {},
   "outputs": [
    {
     "data": {
      "text/plain": [
       "3.14"
      ]
     },
     "execution_count": 5,
     "metadata": {},
     "output_type": "execute_result"
    }
   ],
   "source": [
    "#Elemento específico de una lista a partir de su posición indexada:\n",
    "lista_all[2]"
   ]
  },
  {
   "cell_type": "markdown",
   "metadata": {},
   "source": [
    "## Tuplas"
   ]
  },
  {
   "cell_type": "markdown",
   "metadata": {},
   "source": [
    "Crear una tupla vacia"
   ]
  },
  {
   "cell_type": "code",
   "execution_count": 6,
   "metadata": {},
   "outputs": [],
   "source": [
    "tupla=()"
   ]
  },
  {
   "cell_type": "markdown",
   "metadata": {},
   "source": [
    "Creando tuplas con diferentes tipos de variables"
   ]
  },
  {
   "cell_type": "code",
   "execution_count": 13,
   "metadata": {},
   "outputs": [],
   "source": [
    "#Solo strings\n",
    "tupla_strings=(\"Una\", \"Tupla\", \"es\", \"INMUTABLE\")\n",
    "\n",
    "#Solo enteros\n",
    "tupla_int=(1,2,3)\n",
    "\n",
    "#Solo float\n",
    "tupla_float=(10.1,20.2,30.3)\n",
    "\n",
    "#Tupla, variables combinadas\n",
    "tupla_all=(\"hola\", True, 9.9)"
   ]
  },
  {
   "cell_type": "markdown",
   "metadata": {},
   "source": [
    "Formas de obtener la información dentro de una tupla:"
   ]
  },
  {
   "cell_type": "code",
   "execution_count": 14,
   "metadata": {},
   "outputs": [
    {
     "data": {
      "text/plain": [
       "('Una', 'Tupla', 'es', 'INMUTABLE')"
      ]
     },
     "execution_count": 14,
     "metadata": {},
     "output_type": "execute_result"
    }
   ],
   "source": [
    "#Directamente por su nombre\n",
    "tupla_strings"
   ]
  },
  {
   "cell_type": "code",
   "execution_count": 11,
   "metadata": {},
   "outputs": [
    {
     "name": "stdout",
     "output_type": "stream",
     "text": [
      "(10.1, 20.2, 30.3)\n"
     ]
    }
   ],
   "source": [
    "#Método print()\n",
    "print(tupla_float)"
   ]
  },
  {
   "cell_type": "code",
   "execution_count": 15,
   "metadata": {},
   "outputs": [
    {
     "data": {
      "text/plain": [
       "True"
      ]
     },
     "execution_count": 15,
     "metadata": {},
     "output_type": "execute_result"
    }
   ],
   "source": [
    "#Elemento específico de una lista a partir de su posición indexada:\n",
    "tupla_all[1]"
   ]
  },
  {
   "cell_type": "markdown",
   "metadata": {},
   "source": [
    "Una tupla es **INMUTABLE** ya que:\n",
    "\n",
    "1. **No puedes** agregar elementos\n",
    "1. **No puedes** eliminar elementos\n",
    "1. **No puedes** reasignar elementos"
   ]
  },
  {
   "cell_type": "markdown",
   "metadata": {},
   "source": [
    "## Diccionarios"
   ]
  },
  {
   "cell_type": "markdown",
   "metadata": {},
   "source": [
    "Diccionario vacio:"
   ]
  },
  {
   "cell_type": "code",
   "execution_count": 18,
   "metadata": {},
   "outputs": [],
   "source": [
    "diccionario={}"
   ]
  },
  {
   "cell_type": "markdown",
   "metadata": {},
   "source": [
    "Crear una lista con diferentes tipos de variables:"
   ]
  },
  {
   "cell_type": "code",
   "execution_count": 21,
   "metadata": {},
   "outputs": [],
   "source": [
    "#Solo strings de contenido\n",
    "dict_strings={1:\"Hola\", 2:\"esto\", 3:\"es\", 4:\"un\", 5:\"diccionario\"}\n",
    "\n",
    "#Solo strings llaves y contenido\n",
    "dict_strings2={\"Primera\":\"Hola\", \"Segunda\":\"esto\", \"Tercera\":\"es\", \"Cuarta\":\"un\", \"Quinta\":\"diccionario\"}\n",
    "\n",
    "#Diccionario combinando llaves y contenido con enteros y strings\n",
    "dict_int={1:\"Hola\",\"Segundo\":2,\"Tercero\":\"Mundo\",4:4,5:\"!\"}\n",
    "\n",
    "\"Diccionario con listas y tuplas de contenido\"\n",
    "lista_all={1:[1,2,3,4,5], 2:(10,20,30), 3:[(\"a\",\"b\"),(\"c\",\"d\")]}"
   ]
  },
  {
   "cell_type": "markdown",
   "metadata": {},
   "source": [
    "Formas de obtener la información dentro de un diccionario:"
   ]
  },
  {
   "cell_type": "code",
   "execution_count": 22,
   "metadata": {},
   "outputs": [
    {
     "data": {
      "text/plain": [
       "{1: 'Hola', 2: 'esto', 3: 'es', 4: 'un', 5: 'diccionario'}"
      ]
     },
     "execution_count": 22,
     "metadata": {},
     "output_type": "execute_result"
    }
   ],
   "source": [
    "#Directamente por su nombre\n",
    "dict_strings"
   ]
  },
  {
   "cell_type": "code",
   "execution_count": 23,
   "metadata": {},
   "outputs": [
    {
     "name": "stdout",
     "output_type": "stream",
     "text": [
      "{'Primera': 'Hola', 'Segunda': 'esto', 'Tercera': 'es', 'Cuarta': 'un', 'Quinta': 'diccionario'}\n"
     ]
    }
   ],
   "source": [
    "#Método print()\n",
    "print(dict_strings2)"
   ]
  },
  {
   "cell_type": "code",
   "execution_count": 25,
   "metadata": {},
   "outputs": [
    {
     "data": {
      "text/plain": [
       "'Hola'"
      ]
     },
     "execution_count": 25,
     "metadata": {},
     "output_type": "execute_result"
    }
   ],
   "source": [
    "#Elemento específico de una lista a partir de su posición indexada:\n",
    "dict_int[1]"
   ]
  },
  {
   "cell_type": "code",
   "execution_count": 26,
   "metadata": {},
   "outputs": [
    {
     "data": {
      "text/plain": [
       "2"
      ]
     },
     "execution_count": 26,
     "metadata": {},
     "output_type": "execute_result"
    }
   ],
   "source": [
    "dict_int[\"Segundo\"]"
   ]
  },
  {
   "cell_type": "markdown",
   "metadata": {},
   "source": [
    "# Funciones preprogramadas en Python"
   ]
  },
  {
   "cell_type": "markdown",
   "metadata": {},
   "source": [
    "Python contiene en total 68 funciones preprogramadas listas para ser utilizadas en cualquier tipo de código. El listado completo se presenta a continuación, las funciones marcadas en **rojo** son aquellas funciones que ya se trabajaron o que se utilizarán en el curso:"
   ]
  },
  {
   "cell_type": "markdown",
   "metadata": {},
   "source": [
    "<H1 align=\"center\"> Built - in Fucntions </H1>\n",
    "<table>\n",
    "  <tr>\n",
    "    <td><p style=\"color:#17202A  \";>abs()</td>\n",
    "    <td><p style=\"color:#17202A  \";>dict()</td>\n",
    "    <td><b><p style=\"color:#FF0000 \";>help()</p></b></td>\n",
    "    <td><p style=\"color:#17202A  \";>min()</td>\n",
    "    <td><b><p style=\"color:#FF0000\";>setattr()</p></b></td>\n",
    "  </tr>\n",
    "  <tr>\n",
    "    <td><p style=\"color:#17202A  \";>all()</td>\n",
    "    <td><b><p style=\"color:#FF0000\";>dir()</p></b></td>\n",
    "    <td><p style=\"color:#17202A  \";>hex()</td>\n",
    "    <td><p style=\"color:#17202A  \";>next()</td>\n",
    "    <td><b><p style=\"color:#FF0000\";>slice()</p></b></td>\n",
    "  </tr>\n",
    "  <tr>\n",
    "    <td><p style=\"color:#17202A  \";>any()</td>\n",
    "    <td><p style=\"color:#17202A  \";>divmon()</td>\n",
    "    <td><p style=\"color:#17202A  \";>id()</td>\n",
    "    <td><b><p style=\"color:#FF0000\";>object()</p></b></td>\n",
    "    <td><b><p style=\"color:#FF0000\";>sorted()</p></b></td>\n",
    "  </tr>\n",
    "  <tr>\n",
    "    <td><p style=\"color:#17202A  \";>ascii()</td>\n",
    "    <td><p style=\"color:#17202A  \";>enumerate()</td>\n",
    "    <td><b><p style=\"color:#FF0000\";>input()</p></b></td>\n",
    "    <td><p style=\"color:#17202A  \";>oct()</td>\n",
    "    <td>staticmethod()</td>\n",
    "  </tr>\n",
    "  <tr>\n",
    "    <td><p style=\"color:#17202A  \";>bin()</td>\n",
    "    <td><p style=\"color:#17202A  \";>eval()</td>\n",
    "    <td><b><p style=\"color:#FF0000\";>int()</p></b></td>\n",
    "    <td><p style=\"color:#17202A  \";>open()</td>\n",
    "    <td><b><p style=\"color:#FF0000\";>str()</p></b></td>\n",
    "  </tr>\n",
    "  <tr>\n",
    "    <td><b><p style=\"color:#FF0000\";>bool()</p></b></td>\n",
    "    <td><p style=\"color:#17202A  \";>exec()</td>\n",
    "    <td><b><p style=\"color:#FF0000\";>isinstance()</p></b></td>\n",
    "    <td><p style=\"color:#17202A  \";>ord()</td>\n",
    "    <td><b><p style=\"color:#FF0000\";>sum()</p></b></td>\n",
    "  </tr>\n",
    "  <tr>\n",
    "    <td><p style=\"color:#17202A  \";>bytearray()</td>\n",
    "    <td><p style=\"color:#17202A  \";>filter()</td>\n",
    "    <td><b><p style=\"color:#FF0000\";>issubclass()</p></b></td>\n",
    "    <td><p style=\"color:#17202A  \";>pow()</td>\n",
    "    <td><b><p style=\"color:#FF0000\";>super()</p></b></td>\n",
    "  </tr>\n",
    "  <tr>\n",
    "    <td><p style=\"color:#17202A  \";>bytes()</td>\n",
    "    <td><b><p style=\"color:#FF0000\";>float()</p></b></td>\n",
    "    <td><p style=\"color:#17202A  \";>iter()</td>\n",
    "    <td><b><p style=\"color:#FF0000\";>print()</p></b></td>\n",
    "    <td><p style=\"color:#17202A  \";>tuple()</td>\n",
    "  </tr>\n",
    "  <tr>\n",
    "    <td><p style=\"color:#17202A  \";>callable()</td>\n",
    "    <td><p style=\"color:#17202A  \";>format()</td>\n",
    "    <td><b><p style=\"color:#FF0000\";>len()</p></b></td>\n",
    "    <td><p style=\"color:#17202A  \";>property()</td>\n",
    "    <td><b><p style=\"color:#FF0000\";>type()</p></b></td>\n",
    "  </tr>\n",
    "  <tr>\n",
    "    <td><p style=\"color:#17202A  \";>chr()</td>\n",
    "    <td><p style=\"color:#17202A  \";>frozenset()</td>\n",
    "    <td><p style=\"color:#17202A  \";>list()</td>\n",
    "    <td><b><p style=\"color:#FF0000\";>range()</p></b></td>\n",
    "    <td><b><p style=\"color:#FF0000\";>vars()</p></b></td>\n",
    "  </tr>\n",
    "  <tr>\n",
    "    <td><p style=\"color:#17202A  \";>classmethod()</td>\n",
    "    <td><b><p style=\"color:#FF0000\";>getattr()</p></b></td>\n",
    "    <td><p style=\"color:#17202A  \";>locals()</td>\n",
    "    <td><p style=\"color:#17202A  \";>repr()</td>\n",
    "    <td><p style=\"color:#17202A  \";>zip()</td>\n",
    "  </tr>\n",
    "  <tr>\n",
    "    <td><p style=\"color:#17202A  \";>compile()</td>\n",
    "    <td><p style=\"color:#17202A  \";>globals()</td>\n",
    "    <td><p style=\"color:#17202A  \";>map()</td>\n",
    "    <td><b><p style=\"color:#FF0000\";>reversed()</p></b></td>\n",
    "    <td><p style=\"color:#17202A  \";>__import__()</td>\n",
    "  </tr>\n",
    "  <tr>\n",
    "    <td><p style=\"color:#17202A  \";>complex()</td>\n",
    "    <td><b><p style=\"color:#FF0000\";>hasattr()</p></b></td>\n",
    "    <td><b><p style=\"color:#FF0000\";>max()</p></b></td>\n",
    "    <td><b><p style=\"color:#FF0000\";>round()</p></b></td>\n",
    "    <td></td>\n",
    "  </tr>\n",
    "  <tr>\n",
    "    <td><b><p style=\"color:#FF0000\";>delattr()</p></b></td>\n",
    "    <td><p style=\"color:#17202A  \";>hash()</td>\n",
    "    <td><p style=\"color:#17202A  \";>memoryview()</td>\n",
    "    <td><b><p style=\"color:#FF0000\";>set()</p></b></td>\n",
    "    <td></td>\n",
    "  </tr>\n",
    "</table>"
   ]
  },
  {
   "cell_type": "markdown",
   "metadata": {},
   "source": [
    "# If, Elif, Else"
   ]
  },
  {
   "cell_type": "markdown",
   "metadata": {},
   "source": [
    "--------------------------------------------------------------------------------------------------------------------------\n",
    "\n",
    "                                 If Condición_1:\n",
    "                                     instrucion(es)\n",
    "                                     print ó return\n",
    "                                 elif Condición_2:     \"Todos los elif son opcionales\"\n",
    "                                     instrucion(es)\n",
    "                                     print ó return\n",
    "                                 elif Condición_n:\n",
    "                                     ...........\n",
    "                                     ...........\n",
    "                                 else:\n",
    "                                     instrucciones para el resto de posibilidades\n",
    "                                 \n",
    "\n",
    "--------------------------------------------------------------------------------------------------------------------------"
   ]
  },
  {
   "cell_type": "markdown",
   "metadata": {},
   "source": [
    "Programa que solicita 2 números y determina cual es mayor:"
   ]
  },
  {
   "cell_type": "code",
   "execution_count": 38,
   "metadata": {},
   "outputs": [
    {
     "name": "stdout",
     "output_type": "stream",
     "text": [
      "5\n",
      "6\n",
      "El segundo número es mayor\n"
     ]
    }
   ],
   "source": [
    "a=int(input())\n",
    "b=int(input())\n",
    "if a>b:\n",
    "    print(\"El primero número es mayor\")\n",
    "else:\n",
    "    print(\"El segundo número es mayor\")"
   ]
  },
  {
   "cell_type": "markdown",
   "metadata": {},
   "source": [
    "Programa que solicita 2 números y determina cual es mayor, tambien considerando que puedan ser iguales:"
   ]
  },
  {
   "cell_type": "code",
   "execution_count": 43,
   "metadata": {},
   "outputs": [
    {
     "name": "stdout",
     "output_type": "stream",
     "text": [
      "5\n",
      "6\n",
      "El segundo número es mayor\n"
     ]
    }
   ],
   "source": [
    "a=int(input())\n",
    "b=int(input())\n",
    "if a>b:\n",
    "    print(\"El primero número es mayor\")\n",
    "elif a==b:\n",
    "    print(\"Los dos números son iguales\")\n",
    "else:\n",
    "    print(\"El segundo número es mayor\")"
   ]
  },
  {
   "cell_type": "markdown",
   "metadata": {},
   "source": [
    "Programa que solicita 3 números y los ordena:"
   ]
  },
  {
   "cell_type": "code",
   "execution_count": 44,
   "metadata": {},
   "outputs": [
    {
     "name": "stdout",
     "output_type": "stream",
     "text": [
      "6\n",
      "5\n",
      "4\n",
      "De mayor a menor son:  6 5 4\n"
     ]
    }
   ],
   "source": [
    "a=int(input())\n",
    "b=int(input())\n",
    "c=int(input())\n",
    "\n",
    "if a>b and b>c:\n",
    "    print(\"De mayor a menor son: \",a,b,c)\n",
    "elif a>b and c>b:\n",
    "    print(\"De mayor a menor son: \",a,c,b)\n",
    "elif b>c and c>a:\n",
    "    print(\"De mayor a menor son: \",b,c,a)\n",
    "else:\n",
    "    print(\"El segundo número es mayor\")"
   ]
  },
  {
   "cell_type": "markdown",
   "metadata": {},
   "source": [
    "### Actividad"
   ]
  },
  {
   "cell_type": "markdown",
   "metadata": {},
   "source": [
    "Desarrolle los siguientes programas:\n",
    "\n",
    "1. Un programa que solicite 3 números enteros, verifique si son diferentes entre ellos. Los ordene de menor a mayor, y calcule su promedio.\n",
    "\n",
    "\n",
    "2. Crear un programa que solicite al alumno la siguiente información:\n",
    "\n",
    "\n",
    "        a.\tCalificación final Física (double)\n",
    "        b.\tCalificación final laboratorio de Física (double)\n",
    "        c.\tNúmero de inasistencias Física (int)\n",
    "        d.\tNúmero de inasistencias laboratorio de Física (int)\n",
    "        \n",
    "        \n",
    "    El programa deberá de promediar ambas calificaciones siempre y cuando el alumno tenga el 80% de asistencia en ambos aspectos. Para ello considerar que la clase es de 30 sesiones, mientras que el laboratorio es de 5. El resultado final deberá de imprimirse en pantalla, siendo las posibles opciones:\n",
    "    \n",
    "        a.\tSi el alumno reprobó por inasistencias en laboratorio\n",
    "        b.\tSi el alumno reprobó por inasistencias en clase\n",
    "        c.\tSi el alumno reprobó por sacar un promedio menor a 6.\n",
    "        d.\tSi el alumno aprobó (indicar promedio).\n",
    "        e.\tSi el alumno fue de excelencia (promedio mayor a 9.5)\n",
    "\n",
    "\n",
    "\n",
    "3. En una tienda departamental ofrecen descuentos a los clientes en la Navidad, de acuerdo con el monto de su compra. El criterio para establecer el descuento se muestra abajo. Construye un algoritmo que al recibir como dato el monto de la compra del cliente, obtenga el precio real que debe pagar luego de aplicar el descuento correspondiente.\n",
    "\n",
    "            * Compra < 800 mxn equivale Descuento 0%\n",
    "            * 800 mxn <= Compra < 1500 mxn equivale Descuento 10 %\n",
    "            * 1500 mxn <= Compra < 5000 mxn equivale Descuento 15 %\n",
    "            * 5000 mxn <= Compra equivale Descuento 20 %\n",
    "\n",
    "\n",
    "\n",
    "4. Una compañía se trabajan 3 turnos de manera continua. Los horarios de cada turno son: 6:00 a 11:00, de 11:00 a 16:00, y de 16:00 21:00. Cada empleado está obligado a trabajar 5 horas. Dependiendo el horario en el que inicien a trabajar, es la tarifa correspondiente. Para el primer turno es de 60 mxn la hora, segundo turno es de 50 mxn, y el tercero es de 70 mxn. Si el empleado empieza a trabajar a las 10:00 por ejemplo, su horario laboral se considerará dentro del primer turno, aunque su salida sea hasta las 15:00 hrs. Así mismo, si el empleado trabajara horas extra, estas se pagarían de acuerdo al turno en el que cayeran, teniendo como máximo 3 horas extras. Un ejemplo sería un empleado que trabajara de las 6:00 a las 14:00; las primeras 5 horas se pagarían dentro del primer turno mientras que las últimas 3 se pagarían con valor del segundo turno (En caso del tercer turno, las horas extras se pagarían a 60 mxn).  Realizar un programa que determine lo que se le debe de pagar a los empleados, de acuerdo al número de horas trabajadas y de la hora de inicio de labores.\n",
    "\n",
    "    Considerar las horas como valores double.\n",
    "    \n",
    "    Considerar las horas trabajadas como enteros.\n"
   ]
  },
  {
   "cell_type": "markdown",
   "metadata": {},
   "source": [
    "<img src=\"img/spyder.png\" alt=\"Spyder\" width=\"300\"/>"
   ]
  },
  {
   "cell_type": "code",
   "execution_count": 11,
   "metadata": {},
   "outputs": [
    {
     "name": "stdout",
     "output_type": "stream",
     "text": [
      "9\n",
      "8\n",
      "7\n",
      "\n",
      " Los números de mayor a menor son:  9 8 7 \n",
      "Su promedio es : 8.0\n"
     ]
    }
   ],
   "source": [
    "# Solicitud de los 3 números\n",
    "\n",
    "a=int(input())\n",
    "b=int(input())\n",
    "c=int(input())\n",
    "\n",
    "# Operadores lógicos\n",
    "# Verificación de que los números sean diferentes:\n",
    "\n",
    "if a==b or a==c or b==c:\n",
    "    print(\"Los 3 números deben de ser diferentes\")\n",
    "    \n",
    "# Selección de la combinación de los números:\n",
    "else:\n",
    "    # El promedio se calcula 1 vez ya que no importa el orden de los números\n",
    "    promedio=(a+b+c)/3\n",
    "    if a>b and b>c:\n",
    "        print(\"\\nLos números de mayor a menor son: \", a, b, c,\"\\nSu promedio es :\", promedio)\n",
    "    elif a>c and c>b:\n",
    "        print(\"\\nLos números de mayor a menor son: \", a, c, b,\"\\nSu promedio es :\", promedio)\n",
    "    elif b>c and c>a:\n",
    "        print(\"\\nLos números de mayor a menor son: \", b, c, a,\"\\nSu promedio es :\", promedio)\n",
    "    elif b>a and a>c:\n",
    "        print(\"\\nLos números de mayor a menor son: \", b, a, c,\"\\nSu promedio es :\", promedio)\n",
    "    elif c>a and a>b:\n",
    "        print(\"\\nLos números de mayor a menor son: \", c, a, b,\"\\nSu promedio es :\", promedio)\n",
    "    elif c>b and b>a:\n",
    "        print(\"\\nLos números de mayor a menor son: \", c, b, a,\"\\nSu promedio es :\", promedio)"
   ]
  },
  {
   "cell_type": "code",
   "execution_count": 15,
   "metadata": {},
   "outputs": [
    {
     "name": "stdout",
     "output_type": "stream",
     "text": [
      "Indica la calificación final que obtuviste en Física: \n",
      "10\n",
      "Indica la calificación final que obtuviste en el laboratorio de Física: \n",
      "10\n",
      "De las 30 sesiones de la clase de Física, Indica las inasistencias que tuviste en el semestre: \n",
      "10\n",
      "De las 5 sesiones del laboratorio de Física, Indica las inasistencias que tuviste en el semestre: \n",
      "5\n",
      "REPROBADO; El número de faltas excede las permitidas en las clases de Física\n"
     ]
    }
   ],
   "source": [
    "# Solicitud de datos:\n",
    "\n",
    "print(\"Indica la calificación final que obtuviste en Física: \")\n",
    "cal_fis=float(input())\n",
    "print(\"Indica la calificación final que obtuviste en el laboratorio de Física: \")\n",
    "cal_lab=float(input())\n",
    "print(\"De las 30 sesiones de la clase de Física, Indica las inasistencias que tuviste en el semestre: \")\n",
    "faltas_fis=int(input())\n",
    "print(\"De las 5 sesiones del laboratorio de Física, Indica las inasistencias que tuviste en el semestre: \")\n",
    "faltas_lab=int(input())\n",
    "\n",
    "# Verificar que las faltas no sean números negativos\n",
    "if faltas_fis<0 or faltas_lab<0:\n",
    "    print(\"El número de faltas no puede ser negativo\")\n",
    "    \n",
    "# Verificar que las calificaciones sean entre 0 y 10    \n",
    "elif cal_fis<0 or cal_lab<0 or cal_fis>10 or cal_lab>10:\n",
    "    print(\"Las calificaciones deben ser entre 0 y 10\")\n",
    "    \n",
    "# Selección de criteris de acuerdo a faltas y calificación:\n",
    "elif faltas_fis>(30*0.2):\n",
    "    print(\"REPROBADO; El número de faltas excede las permitidas en las clases de Física\")\n",
    "elif faltas_lab>(5*0.2):\n",
    "    print(\"REPROBADO; El número de faltas excede las permitidas en el laboratorio de Física\")\n",
    "elif ((cal_fis+cal_lab)/2)<6:\n",
    "    print(\"REPROBADO; El promedio del alumno es menor a 6\")\n",
    "elif ((cal_fis+cal_lab)/2)>=6 and ((cal_fis+cal_lab)/2)<=9.5:\n",
    "    print(\"APROBADO; El promedio del alumno es \",(cal_fis+cal_lab)/2)\n",
    "else:\n",
    "    print(\"APROBADO; El promedio del alumno es de excelencia y fue de: \",(cal_fis+cal_lab)/2)"
   ]
  },
  {
   "cell_type": "code",
   "execution_count": 18,
   "metadata": {},
   "outputs": [
    {
     "name": "stdout",
     "output_type": "stream",
     "text": [
      "Indicar la cantidad en pesos gastada: \n",
      "8000\n",
      "20% de descuento. Total a pagar=  6400.0\n"
     ]
    }
   ],
   "source": [
    "# Solicitar el monto de compra:\n",
    "\n",
    "print(\"Indicar la cantidad en pesos gastada: \")\n",
    "cantidad=float(input())\n",
    "\n",
    "# Selección de la opción de compra:\n",
    "if cantidad<800:\n",
    "    print(\"No aplica ningún descuento.\")\n",
    "    \n",
    "elif 800<=cantidad<=1500:\n",
    "    print(\"10% de descuento. Total a pagar= \", cantidad*0.9)\n",
    "    \n",
    "elif 1500<cantidad<=5000:\n",
    "    print(\"15% de descuento. Total a pagar= \", cantidad*0.85)\n",
    "    \n",
    "else:\n",
    "    print(\"20% de descuento. Total a pagar= \", cantidad*0.8)"
   ]
  },
  {
   "cell_type": "markdown",
   "metadata": {},
   "source": [
    "# For"
   ]
  },
  {
   "cell_type": "markdown",
   "metadata": {},
   "source": [
    "--------------------------------------------------------------------------------------------------------------------------\n",
    "\n",
    "                                 For variable in contador:\n",
    "                                     instrucion(es)\n",
    "                                 else (opcional):\n",
    "                                     instrucciones para realizar solo al término del ciclo\n",
    "                                 \n",
    "\n",
    "--------------------------------------------------------------------------------------------------------------------------"
   ]
  },
  {
   "cell_type": "code",
   "execution_count": 4,
   "metadata": {},
   "outputs": [
    {
     "name": "stdout",
     "output_type": "stream",
     "text": [
      "Hola Mundo!\n",
      "Hola Mundo!\n",
      "Hola Mundo!\n"
     ]
    }
   ],
   "source": [
    "# Ciclo donde el número de repeticiones está marcado por el rango:\n",
    "for i in range(3):\n",
    "    print(\"Hola Mundo!\")"
   ]
  },
  {
   "cell_type": "code",
   "execution_count": 7,
   "metadata": {},
   "outputs": [
    {
     "name": "stdout",
     "output_type": "stream",
     "text": [
      "Hola Mundo!\n",
      "Hola Mundo!\n"
     ]
    }
   ],
   "source": [
    "# Ciclo donde el número de repeticiones está marcado por un inicio(indexado), y un final (no indexado):\n",
    "for i in range(1,3):\n",
    "    print(\"Hola Mundo!\")"
   ]
  },
  {
   "cell_type": "markdown",
   "metadata": {},
   "source": [
    "En el ejemplo anterior, el rango indexado es 0, 1, 2. Solo llega hasta 2, puesto que se está pidiendo hacer la actividad 3 veces. Finalmente se pide que el ciclo empiece a escribir cuando la posición indexada sea 1, por ello solo da 2 impresiones como resultado. Esto se puede apreciar mejor si agregamos la impresión del valor indexado:"
   ]
  },
  {
   "cell_type": "code",
   "execution_count": 8,
   "metadata": {},
   "outputs": [
    {
     "name": "stdout",
     "output_type": "stream",
     "text": [
      "1 Hola Mundo!\n",
      "2 Hola Mundo!\n"
     ]
    }
   ],
   "source": [
    "for i in range(1,3):\n",
    "    print(i,\"Hola Mundo!\")"
   ]
  },
  {
   "cell_type": "code",
   "execution_count": 9,
   "metadata": {},
   "outputs": [
    {
     "name": "stdout",
     "output_type": "stream",
     "text": [
      "0 Hola Mundo!\n",
      "1 Hola Mundo!\n",
      "2 Hola Mundo!\n"
     ]
    }
   ],
   "source": [
    "for i in range(0,3):\n",
    "    print(i,\"Hola Mundo!\")"
   ]
  },
  {
   "cell_type": "code",
   "execution_count": 10,
   "metadata": {},
   "outputs": [
    {
     "name": "stdout",
     "output_type": "stream",
     "text": [
      "0 Hola Mundo!\n",
      "1 Hola Mundo!\n",
      "2 Hola Mundo!\n"
     ]
    }
   ],
   "source": [
    "# Este ciclo proporciona el mísmo resultado que el anterior, \n",
    "# ya que el parámetro de inicio es opcional, y de ser así, \n",
    "# siempre iniciará en la posición indexada de cero.\n",
    "\n",
    "for i in range(3):\n",
    "    print(i,\"Hola Mundo!\")"
   ]
  },
  {
   "cell_type": "code",
   "execution_count": 11,
   "metadata": {},
   "outputs": [
    {
     "name": "stdout",
     "output_type": "stream",
     "text": [
      "0 Hola Mundo!\n",
      "5 Hola Mundo!\n",
      "10 Hola Mundo!\n",
      "15 Hola Mundo!\n",
      "20 Hola Mundo!\n",
      "25 Hola Mundo!\n"
     ]
    }
   ],
   "source": [
    "# Ciclo for en el que se considera un salto de 5 en 5:\n",
    "for i in range(0,30,5):\n",
    "    print(i,\"Hola Mundo!\")"
   ]
  },
  {
   "cell_type": "markdown",
   "metadata": {},
   "source": [
    "--------------------------------------------------------------------------------------------------------------------------\n",
    "\n",
    "                         range( [inicio indexado opcional], repeticiones, [salto opcional])                                 \n",
    "\n",
    "--------------------------------------------------------------------------------------------------------------------------"
   ]
  },
  {
   "cell_type": "code",
   "execution_count": 15,
   "metadata": {},
   "outputs": [
    {
     "name": "stdout",
     "output_type": "stream",
     "text": [
      "0 2 4 6 8 10 12 14 16 18 20 22 24 26 28 30 32 34 36 38 40 42 44 46 48 \n",
      "\n",
      "1 3 5 7 9 11 13 15 17 19 21 23 25 27 29 31 33 35 37 39 41 43 45 47 49 "
     ]
    }
   ],
   "source": [
    "# Ejemplos ciclo for para números pares e impares:\n",
    "\n",
    "# Límite del ciclo\n",
    "a=50\n",
    "\n",
    "# Números pares\n",
    "for i in range(0,a,2):\n",
    "    print(i, end = \" \")\n",
    "\n",
    "# Espacios en la solución para distinguir ambas series\n",
    "print()\n",
    "print()\n",
    "\n",
    "# Números impares\n",
    "for i in range(1,a,2):\n",
    "    print(i, end = \" \")"
   ]
  },
  {
   "cell_type": "markdown",
   "metadata": {},
   "source": [
    "### Ejemplos"
   ]
  },
  {
   "cell_type": "markdown",
   "metadata": {},
   "source": [
    "$$\\sum_{i=1}^{n}\\dfrac{1}{n}$$"
   ]
  },
  {
   "cell_type": "code",
   "execution_count": 95,
   "metadata": {},
   "outputs": [
    {
     "name": "stdout",
     "output_type": "stream",
     "text": [
      "2.9289682539682538\n"
     ]
    }
   ],
   "source": [
    "n=10\n",
    "\n",
    "sumatoria=0\n",
    "\n",
    "for i in range(1,n+1):\n",
    "    if n==1:\n",
    "        sumatoria=1\n",
    "    else:\n",
    "        x=(1/i)\n",
    "        sumatoria=sumatoria +x\n",
    "print(sumatoria)"
   ]
  },
  {
   "cell_type": "markdown",
   "metadata": {},
   "source": [
    "$$\\sum_{i=0}^{n}x_{i}=\\dfrac{1}{2^n}=2$$"
   ]
  },
  {
   "cell_type": "code",
   "execution_count": 37,
   "metadata": {},
   "outputs": [
    {
     "name": "stdout",
     "output_type": "stream",
     "text": [
      "2.0\n"
     ]
    }
   ],
   "source": [
    "n=100\n",
    "sumatoria=0\n",
    "\n",
    "for i in range(n):\n",
    "    x=(1/(2**i))\n",
    "    sumatoria=sumatoria +x\n",
    "print(sumatoria)"
   ]
  },
  {
   "cell_type": "markdown",
   "metadata": {},
   "source": [
    "$$\\sum_{i=0}^{n}x_{i}=\\dfrac{{(-1)}^{(n)}}{2^n}=\\dfrac{2}{3}$$"
   ]
  },
  {
   "cell_type": "code",
   "execution_count": 92,
   "metadata": {},
   "outputs": [
    {
     "name": "stdout",
     "output_type": "stream",
     "text": [
      "0.6666666666666667\n"
     ]
    }
   ],
   "source": [
    "n=1000\n",
    "sumatoria=1\n",
    "\n",
    "for i in range(1,n):\n",
    "    x=(((-1)**(i))/(2**i))\n",
    "    sumatoria=sumatoria +x\n",
    "print(sumatoria)"
   ]
  },
  {
   "cell_type": "markdown",
   "metadata": {},
   "source": [
    "### Actividad"
   ]
  },
  {
   "cell_type": "markdown",
   "metadata": {},
   "source": [
    "1. Desarrolle un programa que solicite un número N. Posteriormente el programa solicitara números aleatorios al usuario N veces. Por último, imprimirá 3 resultados:\n",
    "La suma de solo los números positivos\n",
    "La suma de solo los números negativos\n",
    "Indicará cuantas veces se ingresó el valor de cero.\n",
    "\n",
    "2. Construya un algoritmo que al recibir como dato un número entero positivo, escriba una figura como la que se muestra a continuación \n",
    "(ejemplo para n=5):\n",
    "\n",
    "1\n",
    "\n",
    "1 2\n",
    "\n",
    "1 2 3\n",
    "\n",
    "1 2 3 4\n",
    "\n",
    "1 2 3 4 5\n",
    "\n",
    "3. Construya un algoritmo que al recibir como dato un número entero positivo, escriba una figura como la que se muestra a continuación \n",
    "(ejemplo para n=4):\n",
    "\n",
    "         1\n",
    "          \n",
    "          \n",
    "        1 2 1\n",
    "                \n",
    "      1 2 3 2 1\n",
    "            \n",
    "    1 2 3 4 3 2 1\n",
    "4. Los organizadores de un acto electoral solicitaron realizar un programa de cómputo para manejar el conteo de los votos. En la elección hay cinco candidatos, los cuales se representan con los valores comprendidos del 1 al 5. \n",
    "\n",
    "Construye un programa que pregunte cuantos votantes van a participar, y posteriormente solicite ese número de veces la opción a escoger de cada votante. Al final el programa mostrará el número de votos de cada candidato y el porcentaje que obtuvo respecto al total de los votantes. \n",
    "\n",
    "5. Elabora un programa que genere los datos de la serie de Ullam.  Dado un numero >0 genera los elementos según se indica a continuación: \n",
    "Empieza con el número dado. Si es par, divídelo entre 2; si es impar multiplícalo por 3 y agrégale 1. Obtén enteros sucesivamente repitiendo el proceso, hasta llegar al 1. Siempre se llega al número 1, independientemente del entero inicial. Por ejemplo, si el entero inicial fuera 26, la secuencia será:\n",
    "26\t13\t40\t20\t10\t5\t16\t8\t4\t2\t1\n"
   ]
  },
  {
   "cell_type": "markdown",
   "metadata": {},
   "source": [
    "<img src=\"img/spyder.png\" alt=\"Spyder\" width=\"300\"/>"
   ]
  },
  {
   "cell_type": "code",
   "execution_count": 1,
   "metadata": {},
   "outputs": [
    {
     "name": "stdout",
     "output_type": "stream",
     "text": [
      "El siguiente programa solicitará un número N de veces un número aleatorio\n",
      "Indica un valor N: \n",
      "5\n",
      "Introduce un valor:\n",
      "6\n",
      "Introduce un valor:\n",
      "7\n",
      "Introduce un valor:\n",
      "8\n",
      "Introduce un valor:\n",
      "9\n",
      "Introduce un valor:\n",
      "10\n",
      "\n",
      "La lista completa de números es: \n",
      " [6, 7, 8, 9, 10]\n",
      "\n",
      "La lista de números positivos es: \n",
      " [6, 7, 8, 9, 10] Su suma es:  40\n",
      "\n",
      "La lista de números negativos es: \n",
      " [] Su suma es:  0\n",
      "\n",
      "La cantidad de ceros introducida es:  0\n"
     ]
    }
   ],
   "source": [
    "# Solicitud de datos:\n",
    "print(\"El siguiente programa solicitará un número N de veces un número aleatorio\")\n",
    "print(\"Indica un valor N: \")\n",
    "N=int(input())\n",
    "\n",
    "# Listas en las que se van a almacenar los valores de acuerdo a su categoría\n",
    "numeros=[]\n",
    "positivos=[]\n",
    "negativos=[]\n",
    "cero=[]\n",
    "\n",
    "# Ciclo For\n",
    "for i in range (N):\n",
    "    print(\"Introduce un valor:\")\n",
    "    valor=int(input())\n",
    "    numeros.append(valor)\n",
    "    if valor>0:\n",
    "        positivos.append(valor)\n",
    "    elif valor<0:\n",
    "        negativos.append(valor)\n",
    "    else:\n",
    "        cero.append(valor)\n",
    "print(\"\\nLa lista completa de números es: \\n\", numeros)\n",
    "print(\"\\nLa lista de números positivos es: \\n\", positivos, \"Su suma es: \", sum(positivos))\n",
    "print(\"\\nLa lista de números negativos es: \\n\", negativos, \"Su suma es: \", sum(negativos))\n",
    "print(\"\\nLa cantidad de ceros introducida es: \", cero.count(0))"
   ]
  },
  {
   "cell_type": "code",
   "execution_count": 45,
   "metadata": {},
   "outputs": [
    {
     "name": "stdout",
     "output_type": "stream",
     "text": [
      "El siguiente programa al recibir como dato un número entero positivo, escribirá un triangulo de números.\n",
      "Indica un valor de altura del triángulo: \n",
      "3\n",
      "\n",
      "\n",
      "1 \n",
      "\n",
      "1 2 \n",
      "\n",
      "1 2 3 \n",
      "\n"
     ]
    }
   ],
   "source": [
    "# Solicitud de datos:\n",
    "print(\"El siguiente programa al recibir como dato un número entero positivo, escribirá un triangulo de números.\")\n",
    "print(\"Indica un valor de altura del triángulo: \")\n",
    "altura=int(input())\n",
    "# Dejamos 2 espacios en blanco despues de la solicitud de datos:\n",
    "print()\n",
    "print()\n",
    "\n",
    "# Ciclo for ascendente de filas:\n",
    "for i in range(altura+1): # Range maneja posiciones indexadas, por ello agregamos un valor mas\n",
    "    # Ciclo for de columnas:\n",
    "    for j in range (1, i+1):\n",
    "        print(j, end = ' ')\n",
    "        if j==i:\n",
    "            print(\"\\n\")"
   ]
  },
  {
   "cell_type": "code",
   "execution_count": 81,
   "metadata": {},
   "outputs": [
    {
     "name": "stdout",
     "output_type": "stream",
     "text": [
      "El siguiente programa al recibir como dato un número entero positivo, escribirá un triangulo de números.\n",
      "Indica un valor de altura del triángulo: \n",
      "5\n",
      "\n",
      "\n",
      "        1 \n",
      "      1 2 1 \n",
      "    1 2 3 2 1 \n",
      "  1 2 3 4 3 2 1 \n",
      "1 2 3 4 5 4 3 2 1 \n"
     ]
    }
   ],
   "source": [
    "# Solicitud de datos:\n",
    "print(\"El siguiente programa al recibir como dato un número entero positivo, escribirá un triangulo de números.\")\n",
    "print(\"Indica un valor de altura del triángulo: \")\n",
    "altura=int(input())\n",
    "# Dejamos 2 espacios en blanco despues de la solicitud de datos:\n",
    "print()\n",
    "print()\n",
    "\n",
    "# Ciclo for:\n",
    "for i in range(1, altura+1): # Range maneja posiciones indexadas, por ello agregamos un valor mas\n",
    "    valor=1\n",
    "    \n",
    "    # La variable posición, nos indica el número de espacios en blanco a escribir\n",
    "    posicion=altura-i\n",
    "    # Ciclo for de columnas:\n",
    "    for j in range (1, altura+1):\n",
    "        # Escribe en númnero de espacios en blanco\n",
    "        if j<=posicion:\n",
    "            print(\" \", end = \" \")\n",
    "        \n",
    "        # Cuando se empiezan a escribir valores, es necesario verificar si es ascendente o descendente.\n",
    "        else:\n",
    "            # Instrucciones para descendente\n",
    "            if valor==i:\n",
    "                print(valor, end = \" \")\n",
    "                # Nueva variable contadora para los valores descendentes, es igual al nivel menos 1\n",
    "                valor2=valor-1\n",
    "                if valor2==0:\n",
    "                    print()\n",
    "                    break\n",
    "                for j2 in range(1,valor):\n",
    "                    print(valor2, end = \" \")\n",
    "                    valor2-=1\n",
    "                    if valor2==0:\n",
    "                        print()\n",
    "                        break\n",
    "            # Instrucciones para ascendente\n",
    "            else:\n",
    "                print(valor, end = \" \")\n",
    "                valor+=1"
   ]
  },
  {
   "cell_type": "code",
   "execution_count": 89,
   "metadata": {},
   "outputs": [
    {
     "name": "stdout",
     "output_type": "stream",
     "text": [
      "Este programa es un ejemplo de la serie de Ullam\n",
      "Indica el inicio de la serie: \n",
      "50\n",
      "[50, 25, 76, 38, 19, 58, 29, 88, 44, 22, 11, 34, 17, 52, 26, 13, 40, 20, 10, 5, 16, 8, 4, 2, 1]\n"
     ]
    }
   ],
   "source": [
    "# Solicitud de datos\n",
    "print(\"Este programa es un ejemplo de la serie de Ullam\")\n",
    "print(\"Indica el inicio de la serie: \")\n",
    "ullam=int(input())\n",
    "serie=[ullam]\n",
    "\n",
    "#Ciclo For\n",
    "for x in range(ullam):\n",
    "    # Verificamos números pares:\n",
    "    if (ullam%2)==0:\n",
    "        ullam=int(ullam/2)\n",
    "        serie.append(ullam)\n",
    "    # Verificamos el final del ciclo, cuando el valor ingresado se convierte en 1:\n",
    "    elif ullam==1:\n",
    "        break\n",
    "    # Verificamos números impares:\n",
    "    else:\n",
    "        ullam=int(ullam*3+1)\n",
    "        serie.append(ullam)\n",
    "print(serie)"
   ]
  },
  {
   "cell_type": "markdown",
   "metadata": {},
   "source": [
    "# While"
   ]
  },
  {
   "cell_type": "markdown",
   "metadata": {},
   "source": [
    "--------------------------------------------------------------------------------------------------------------------------\n",
    "\n",
    "                                 while Condición:\n",
    "                                     instrucion(es)\n",
    "                                     print ó return\n",
    "\n",
    "--------------------------------------------------------------------------------------------------------------------------"
   ]
  },
  {
   "cell_type": "code",
   "execution_count": 15,
   "metadata": {},
   "outputs": [
    {
     "name": "stdout",
     "output_type": "stream",
     "text": [
      "1 ^2 = 1\n",
      "2 ^2 = 4\n",
      "3 ^2 = 9\n",
      "4 ^2 = 16\n",
      "5 ^2 = 25\n",
      "6 ^2 = 36\n",
      "7 ^2 = 49\n",
      "8 ^2 = 64\n",
      "9 ^2 = 81\n",
      "10 ^2 = 100\n"
     ]
    }
   ],
   "source": [
    "i = 1\n",
    "while i <= 10:\n",
    "    print(i, \"^2 =\",i ** 2)\n",
    "    i += 1"
   ]
  },
  {
   "cell_type": "code",
   "execution_count": 6,
   "metadata": {},
   "outputs": [
    {
     "name": "stdout",
     "output_type": "stream",
     "text": [
      "La suma es 3\n"
     ]
    }
   ],
   "source": [
    "suma, numero = 0, 1\n",
    "\n",
    "while numero <= 2:\n",
    "    suma = numero + suma\n",
    "    numero += 1\n",
    "print (\"La suma es\",suma)"
   ]
  },
  {
   "cell_type": "code",
   "execution_count": 8,
   "metadata": {},
   "outputs": [
    {
     "name": "stdout",
     "output_type": "stream",
     "text": [
      "Valor actual de la variable: 9\n",
      "Valor actual de la variable: 8\n",
      "Valor actual de la variable: 7\n",
      "Valor actual de la variable: 6\n",
      "Valor actual de la variable: 4\n",
      "Valor actual de la variable: 3\n",
      "Valor actual de la variable: 2\n",
      "Valor actual de la variable: 1\n",
      "Valor actual de la variable: 0\n"
     ]
    }
   ],
   "source": [
    "variable = 10\n",
    "\n",
    "while variable > 0:              \n",
    "    variable -= 1\n",
    "    if variable == 5:\n",
    "        continue\n",
    "    print (\"Valor actual de la variable:\", variable)"
   ]
  },
  {
   "cell_type": "code",
   "execution_count": 10,
   "metadata": {},
   "outputs": [
    {
     "name": "stdout",
     "output_type": "stream",
     "text": [
      "Valor actual de la variable: 10\n",
      "Valor actual de la variable: 9\n",
      "Valor actual de la variable: 8\n",
      "Valor actual de la variable: 7\n",
      "Valor actual de la variable: 6\n"
     ]
    }
   ],
   "source": [
    "variable = 10\n",
    "\n",
    "while variable > 0:              \n",
    "    if variable == 5:\n",
    "        break\n",
    "    print (\"Valor actual de la variable:\", variable)\n",
    "    variable -= 1"
   ]
  },
  {
   "cell_type": "code",
   "execution_count": 2,
   "metadata": {},
   "outputs": [
    {
     "name": "stdout",
     "output_type": "stream",
     "text": [
      "Programa que solicita un número.\n",
      "Escriba un número entero: 6.3\n",
      "\n",
      "El valor ingresado no es un número entero.\n",
      "Escriba un número entero: 70.8\n",
      "\n",
      "El valor ingresado no es un número entero.\n",
      "Escriba un número entero: hola\n",
      "\n",
      "El valor ingresado no es un número entero.\n",
      "Escriba un número entero: #\"#$!#\"\n",
      "\n",
      "El valor ingresado no es un número entero.\n",
      "Escriba un número entero: 6\n",
      "Gracias, el valor 6 es correcto.\n"
     ]
    }
   ],
   "source": [
    "# Programa que ejemplifica el manejo de excepciones, utilizando el ciclo While.\n",
    "\n",
    "print(\"Programa que solicita un número.\")\n",
    "a=input(\"Escriba un número entero: \")\n",
    "\n",
    "while True:\n",
    "    try:\n",
    "        a=int(a)\n",
    "        print(\"\\nGracias, el valor\", a, \"es correcto.\")\n",
    "        break\n",
    "    except ValueError:\n",
    "        print(\"\\nEl valor ingresado no es un número entero.\")\n",
    "        a=input(\"Escriba un número entero: \")\n"
   ]
  },
  {
   "cell_type": "markdown",
   "metadata": {},
   "source": [
    "### Actividad"
   ]
  },
  {
   "cell_type": "markdown",
   "metadata": {},
   "source": [
    "Realiza un programa de imprima un saludo de bienvenida personalizado que incluya el nombre y la edad del usuario. Para ello, el programa primero deberá solicitar el nombre (String) y la edad (Integer). Verificará que los valores introducidos correspondan al tipo de variable. En caso contrario imprimirá un mensaje indicando el error, y seguira solicitando la información hasta que los tipos sean los adecuados."
   ]
  },
  {
   "cell_type": "markdown",
   "metadata": {},
   "source": [
    "<img src=\"img/spyder.png\" alt=\"Spyder\" width=\"300\"/>"
   ]
  },
  {
   "cell_type": "markdown",
   "metadata": {},
   "source": [
    "# Definiendo funciones"
   ]
  },
  {
   "cell_type": "markdown",
   "metadata": {},
   "source": [
    "Para definir una función en Python, se utiliza la palabra reservada **def**:"
   ]
  },
  {
   "cell_type": "markdown",
   "metadata": {},
   "source": [
    "--------------------------------------------------------------------------------------------------------------------------\n",
    "\n",
    "                                 def Nombre_de_la_funcion (argumentos):\n",
    "                                     instrucion(es)\n",
    "                                     print ó return\n",
    "\n",
    "--------------------------------------------------------------------------------------------------------------------------"
   ]
  },
  {
   "cell_type": "code",
   "execution_count": 33,
   "metadata": {},
   "outputs": [],
   "source": [
    "def mi_funcion(nombre):\n",
    "    print(\"Esta función te va a saludar:\")\n",
    "    print(\"Hola\",nombre)"
   ]
  },
  {
   "cell_type": "code",
   "execution_count": 34,
   "metadata": {},
   "outputs": [
    {
     "name": "stdout",
     "output_type": "stream",
     "text": [
      "Esta función te va a saludar:\n",
      "Hola Edgar\n"
     ]
    }
   ],
   "source": [
    "mi_funcion(\"Edgar\")"
   ]
  },
  {
   "cell_type": "code",
   "execution_count": 35,
   "metadata": {},
   "outputs": [
    {
     "name": "stdout",
     "output_type": "stream",
     "text": [
      "Esta función te va a saludar:\n",
      "Hola Carolina\n"
     ]
    }
   ],
   "source": [
    "mi_funcion(\"Carolina\")"
   ]
  },
  {
   "cell_type": "code",
   "execution_count": 36,
   "metadata": {},
   "outputs": [
    {
     "name": "stdout",
     "output_type": "stream",
     "text": [
      "Esta función te va a saludar:\n",
      "Hola Jaime\n"
     ]
    }
   ],
   "source": [
    "mi_funcion(\"Jaime\")"
   ]
  },
  {
   "cell_type": "code",
   "execution_count": 37,
   "metadata": {},
   "outputs": [
    {
     "name": "stdout",
     "output_type": "stream",
     "text": [
      "Esta función te va a saludar:\n",
      "Hola Yesica\n"
     ]
    }
   ],
   "source": [
    "mi_funcion(\"Yesica\")"
   ]
  },
  {
   "cell_type": "markdown",
   "metadata": {},
   "source": [
    "### Actividad"
   ]
  },
  {
   "cell_type": "markdown",
   "metadata": {},
   "source": [
    "Crea funciones personalizadas para los siguientes ejercicios que se desarrollaron en el presente cuaderno:\n",
    "\n",
    "* Función que solicita 3 números y los ordena.\n",
    "\n",
    "* Función que imprima los números pares e impares almacenados en listas separadas hasta un valor n.\n",
    "\n",
    "* Función que imprima el triangulo de números horizontal en pantalla de acuerdo a un nivel n.\n",
    "\n",
    "* Función que utiliza el manejo de excepciones para solicitar el dato correcto."
   ]
  },
  {
   "cell_type": "markdown",
   "metadata": {},
   "source": [
    "<img src=\"img/spyder.png\" alt=\"Spyder\" width=\"300\"/>"
   ]
  },
  {
   "cell_type": "code",
   "execution_count": 1,
   "metadata": {},
   "outputs": [],
   "source": [
    "def ordenar_3_numeros(a,b,c):\n",
    "    if a==b or a==c or b==c:\n",
    "        print(\"Los 3 números deben de ser diferentes\")\n",
    "\n",
    "    # Selección de la combinación de los números:\n",
    "    else:\n",
    "        # El promedio se calcula 1 vez ya que no importa el orden de los números\n",
    "        promedio=(a+b+c)/3\n",
    "        if a>b and b>c:\n",
    "            print(\"\\nLos números de mayor a menor son: \", a, b, c,\"\\nSu promedio es :\", promedio)\n",
    "        elif a>c and c>b:\n",
    "            print(\"\\nLos números de mayor a menor son: \", a, c, b,\"\\nSu promedio es :\", promedio)\n",
    "        elif b>c and c>a:\n",
    "            print(\"\\nLos números de mayor a menor son: \", b, c, a,\"\\nSu promedio es :\", promedio)\n",
    "        elif b>a and a>c:\n",
    "            print(\"\\nLos números de mayor a menor son: \", b, a, c,\"\\nSu promedio es :\", promedio)\n",
    "        elif c>a and a>b:\n",
    "            print(\"\\nLos números de mayor a menor son: \", c, a, b,\"\\nSu promedio es :\", promedio)\n",
    "        elif c>b and b>a:\n",
    "            print(\"\\nLos números de mayor a menor son: \", c, b, a,\"\\nSu promedio es :\", promedio)"
   ]
  },
  {
   "cell_type": "code",
   "execution_count": 2,
   "metadata": {},
   "outputs": [
    {
     "name": "stdout",
     "output_type": "stream",
     "text": [
      "\n",
      "Los números de mayor a menor son:  8 5 1 \n",
      "Su promedio es : 4.666666666666667\n"
     ]
    }
   ],
   "source": [
    "ordenar_3_numeros(5,8,1)"
   ]
  },
  {
   "cell_type": "code",
   "execution_count": 7,
   "metadata": {},
   "outputs": [],
   "source": [
    "def pares_impares(n):\n",
    "    pares=[]\n",
    "    impares=[]\n",
    "    for i in range(0,n,2):\n",
    "        pares.append(i)\n",
    "\n",
    "    # Números impares\n",
    "    for i in range(1,n,2):\n",
    "        impares.append(i)\n",
    "    print(pares)\n",
    "    print()\n",
    "    print(impares)"
   ]
  },
  {
   "cell_type": "code",
   "execution_count": 8,
   "metadata": {},
   "outputs": [
    {
     "name": "stdout",
     "output_type": "stream",
     "text": [
      "[0, 2, 4, 6, 8]\n",
      "\n",
      "[1, 3, 5, 7, 9]\n"
     ]
    }
   ],
   "source": [
    "pares_impares(10)"
   ]
  },
  {
   "cell_type": "code",
   "execution_count": 9,
   "metadata": {},
   "outputs": [],
   "source": [
    "def triangulo(altura):\n",
    "    for i in range(1, altura+1): # Range maneja posiciones indexadas, por ello agregamos un valor mas\n",
    "        valor=1\n",
    "\n",
    "        # La variable posición, nos indica el número de espacios en blanco a escribir\n",
    "        posicion=altura-i\n",
    "        # Ciclo for de columnas:\n",
    "        for j in range (1, altura+1):\n",
    "            # Escribe en númnero de espacios en blanco\n",
    "            if j<=posicion:\n",
    "                print(\" \", end = \" \")\n",
    "\n",
    "            # Cuando se empiezan a escribir valores, es necesario verificar si es ascendente o descendente.\n",
    "            else:\n",
    "                # Instrucciones para descendente\n",
    "                if valor==i:\n",
    "                    print(valor, end = \" \")\n",
    "                    # Nueva variable contadora para los valores descendentes, es igual al nivel menos 1\n",
    "                    valor2=valor-1\n",
    "                    if valor2==0:\n",
    "                        print()\n",
    "                        break\n",
    "                    for j2 in range(1,valor):\n",
    "                        print(valor2, end = \" \")\n",
    "                        valor2-=1\n",
    "                        if valor2==0:\n",
    "                            print()\n",
    "                            break\n",
    "                # Instrucciones para ascendente\n",
    "                else:\n",
    "                    print(valor, end = \" \")\n",
    "                    valor+=1"
   ]
  },
  {
   "cell_type": "code",
   "execution_count": 12,
   "metadata": {},
   "outputs": [
    {
     "name": "stdout",
     "output_type": "stream",
     "text": [
      "                1 \n",
      "              1 2 1 \n",
      "            1 2 3 2 1 \n",
      "          1 2 3 4 3 2 1 \n",
      "        1 2 3 4 5 4 3 2 1 \n",
      "      1 2 3 4 5 6 5 4 3 2 1 \n",
      "    1 2 3 4 5 6 7 6 5 4 3 2 1 \n",
      "  1 2 3 4 5 6 7 8 7 6 5 4 3 2 1 \n",
      "1 2 3 4 5 6 7 8 9 8 7 6 5 4 3 2 1 \n"
     ]
    }
   ],
   "source": [
    "triangulo(9)"
   ]
  },
  {
   "cell_type": "code",
   "execution_count": 14,
   "metadata": {},
   "outputs": [],
   "source": [
    "def control_numero_entero(a):\n",
    "    while True:\n",
    "        try:\n",
    "            a=int(a)\n",
    "            print(\"\\nGracias, el valor\", a, \"es correcto.\")\n",
    "            break\n",
    "        except ValueError:\n",
    "            print(\"\\nEl valor ingresado no es un número entero.\")\n",
    "            a=input(\"Escriba un número entero: \")"
   ]
  },
  {
   "cell_type": "code",
   "execution_count": 15,
   "metadata": {},
   "outputs": [
    {
     "name": "stdout",
     "output_type": "stream",
     "text": [
      "\n",
      "El valor ingresado no es un número entero.\n",
      "Escriba un número entero: 6.3\n",
      "\n",
      "El valor ingresado no es un número entero.\n",
      "Escriba un número entero: 8\n",
      "\n",
      "Gracias, el valor 8 es correcto.\n"
     ]
    }
   ],
   "source": [
    "control_numero_entero(\"Hola\")"
   ]
  },
  {
   "cell_type": "code",
   "execution_count": null,
   "metadata": {},
   "outputs": [],
   "source": []
  }
 ],
 "metadata": {
  "kernelspec": {
   "display_name": "Python 3",
   "language": "python",
   "name": "python3"
  },
  "language_info": {
   "codemirror_mode": {
    "name": "ipython",
    "version": 3
   },
   "file_extension": ".py",
   "mimetype": "text/x-python",
   "name": "python",
   "nbconvert_exporter": "python",
   "pygments_lexer": "ipython3",
   "version": "3.7.3"
  }
 },
 "nbformat": 4,
 "nbformat_minor": 2
}
