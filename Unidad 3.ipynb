{
 "cells": [
  {
   "cell_type": "markdown",
   "metadata": {},
   "source": [
    "# Unidad 3: Interfaces Gráficas"
   ]
  },
  {
   "cell_type": "markdown",
   "metadata": {},
   "source": [
    "<img src=\"img\\unidad3.png\" alt=\"Python\" width=\"600\"/>"
   ]
  },
  {
   "cell_type": "markdown",
   "metadata": {},
   "source": [
    "<img src=\"img\\chiste.png\" alt=\"Python\" width=\"300\"/>"
   ]
  },
  {
   "cell_type": "markdown",
   "metadata": {},
   "source": [
    "# 3.1 GUI"
   ]
  },
  {
   "cell_type": "markdown",
   "metadata": {},
   "source": [
    "Una interfaz gráfica (GUI en ingles), es un intermediario entre el programa y el usuario. Están formados por un conjunto de gráficos, ventanas, botones, menús, casillas de verificación, listas, etc.\n",
    "En Python, la librería que contiene todos los módulos necesarios para crear una interfaz gráfica son:\n",
    "1. **TkInter**\n",
    "2. WxPython\n",
    "3. PyQT\n",
    "4. PyGTK"
   ]
  },
  {
   "cell_type": "markdown",
   "metadata": {},
   "source": [
    "<img src=\"img\\TK.png\" alt=\"Python\" width=\"300\"/>"
   ]
  },
  {
   "cell_type": "markdown",
   "metadata": {},
   "source": [
    "Al construir un programa de interfaz gráfica en Python, existen diferentes elementos con los que se va a tener que interactuar. Dichos elementos son:\n",
    "\n",
    "1. **Raiz**: Librería tk, instalada por defecto en Python. La raiz es la ventana que va a contener todos los elementos del programa con los que va a interactuar el usuario.\n",
    "2. **Frame**: El frame es un elemento que nos servirá para poder administrar el resto de los elementos.\n",
    "3. **Widgets**: Elementos dinámicos con los que va a interactuar el usuario."
   ]
  },
  {
   "cell_type": "code",
   "execution_count": null,
   "metadata": {},
   "outputs": [],
   "source": [
    "# Importamos la librería tkinter:\n",
    "\n",
    "from tkinter import *"
   ]
  },
  {
   "cell_type": "markdown",
   "metadata": {},
   "source": [
    "Dentro de la libreria **tkinter**, existe una clase que nos servirá para crear las raices de nuestros programas. Dicha clase es **Tk()**. A su vez, dentro de la clase Tk, existe un método que nos permitirá tener en ejecución a la ventana, hasta que el usuario terminde de interactuar con ella. Dicho método es **mainloop()**."
   ]
  },
  {
   "cell_type": "code",
   "execution_count": null,
   "metadata": {},
   "outputs": [],
   "source": [
    "# Crearemos una primera ventana:\n",
    "\n",
    "raiz=Tk()\n",
    "\n",
    "raiz.mainloop()"
   ]
  },
  {
   "cell_type": "markdown",
   "metadata": {},
   "source": [
    "Estas 2 instrucciones marcarán el inicio y el final de todas las ventanas que se generen. Para poder conocer más a fondo, sobre las funciones definidas dentro de la clase Tk, es posible consultar el sitio web de la misma:\n",
    "https://docs.python.org/3.3/library/tk.html"
   ]
  },
  {
   "cell_type": "code",
   "execution_count": null,
   "metadata": {},
   "outputs": [],
   "source": [
    "# Para poder modificar la ventana, será necesario hacerlo desde adentro del loop,\n",
    "# de lo contrario mandará un mensaje de error, \n",
    "# ya que el objeto fue destruido con el fin del loop:\n",
    "\n",
    "#raiz.title(\"Mi primer Ventana\")"
   ]
  },
  {
   "cell_type": "code",
   "execution_count": null,
   "metadata": {},
   "outputs": [],
   "source": [
    "raiz=Tk()\n",
    "raiz.title(\"Mi primer Ventana\")\n",
    "raiz.mainloop()"
   ]
  },
  {
   "cell_type": "code",
   "execution_count": null,
   "metadata": {},
   "outputs": [],
   "source": [
    "raiz=Tk()\n",
    "raiz.title(\"Mi primer Ventana\")\n",
    "# El siguiente método es para evitar que el tamaño de la venta sea modificado.\n",
    "# Utiliza parametros booleanos para el ancho y alto.\n",
    "raiz.resizable(0,0)\n",
    "raiz.mainloop()"
   ]
  },
  {
   "cell_type": "code",
   "execution_count": null,
   "metadata": {},
   "outputs": [],
   "source": [
    "raiz=Tk()\n",
    "raiz.title(\"Mi primer Ventana\")\n",
    "raiz.resizable(0,0)\n",
    "# Método para cambiar el icono en el titulo de la ventana:\n",
    "raiz.iconbitmap(\"img/Ph03nyx-Super-Mario-Mushroom-1UP.ico\")\n",
    "raiz.mainloop()"
   ]
  },
  {
   "cell_type": "code",
   "execution_count": null,
   "metadata": {},
   "outputs": [],
   "source": [
    "raiz=Tk()\n",
    "raiz.title(\"Mi primer Ventana\")\n",
    "raiz.resizable(0,0)\n",
    "raiz.iconbitmap(\"img/Ph03nyx-Super-Mario-Mushroom-1UP.ico\")\n",
    "# Establecer el ancho y el largo:\n",
    "raiz.geometry(\"450x300\")\n",
    "raiz.mainloop()"
   ]
  },
  {
   "cell_type": "code",
   "execution_count": null,
   "metadata": {},
   "outputs": [],
   "source": [
    "raiz=Tk()\n",
    "raiz.title(\"Mi primer Ventana\")\n",
    "raiz.resizable(0,0)\n",
    "raiz.iconbitmap(\"img/Ph03nyx-Super-Mario-Mushroom-1UP.ico\")\n",
    "raiz.geometry(\"450x300\")\n",
    "# Es posible configurar el color de fondo de la ventana tambien:\n",
    "raiz.config(bg=\"blue\")\n",
    "raiz.mainloop()"
   ]
  },
  {
   "cell_type": "markdown",
   "metadata": {},
   "source": [
    "Para poder generar una applicación, que se active sin la necesidad de tener activo un IDE, es necesario convertir el código a un documento de tipo **pyw**. Esto lo podremos lograr mediante Spyder:"
   ]
  },
  {
   "cell_type": "markdown",
   "metadata": {},
   "source": [
    "<img src=\"img/spyder.png\" alt=\"Spyder\" width=\"300\"/>"
   ]
  },
  {
   "cell_type": "code",
   "execution_count": null,
   "metadata": {},
   "outputs": [],
   "source": [
    "# Recuerda que en el documento que generes en Spyder, es necesario volver a importar la libreria:\n",
    "\n",
    "from tkinter import *\n",
    "raiz=Tk()\n",
    "raiz.title(\"Mi primer Ventana\")\n",
    "raiz.resizable(0,0)\n",
    "raiz.iconbitmap(\"img/Ph03nyx-Super-Mario-Mushroom-1UP.ico\")\n",
    "raiz.geometry(\"450x300\")\n",
    "raiz.config(bg=\"blue\")\n",
    "raiz.mainloop()"
   ]
  },
  {
   "cell_type": "markdown",
   "metadata": {},
   "source": [
    "# 3.2 Formas"
   ]
  },
  {
   "cell_type": "markdown",
   "metadata": {},
   "source": [
    "### Frames"
   ]
  },
  {
   "cell_type": "code",
   "execution_count": null,
   "metadata": {},
   "outputs": [],
   "source": [
    "# Continuando con el ejemplo anterior, procedemos a agregar el frame a nuestra ventana:\n",
    "\n",
    "from tkinter import *\n",
    "raiz=Tk()\n",
    "raiz.title(\"Mi primer Ventana\")\n",
    "raiz.iconbitmap(\"img/Ph03nyx-Super-Mario-Mushroom-1UP.ico\")\n",
    "raiz.geometry(\"450x300\")\n",
    "raiz.config(bg=\"blue\")\n",
    "\n",
    "# Agregamos el frame, instanciando la clase Frame()\n",
    "miFrame=Frame()\n",
    "\n",
    "# Lo empaquetamos a la ventana usando el método pack\n",
    "# El método pack nos sirve para organizar los widgets\n",
    "miFrame.pack()\n",
    "\n",
    "raiz.mainloop()"
   ]
  },
  {
   "cell_type": "code",
   "execution_count": null,
   "metadata": {},
   "outputs": [],
   "source": [
    "# Retiramos las opciones de tamaño y no redimencionamiento:\n",
    "raiz=Tk()\n",
    "raiz.title(\"Mi primer Ventana\")\n",
    "raiz.iconbitmap(\"img/Ph03nyx-Super-Mario-Mushroom-1UP.ico\")\n",
    "raiz.config(bg=\"blue\")\n",
    "\n",
    "miFrame=Frame()\n",
    "miFrame.pack()\n",
    "# Se modifica el color del frame para hecerlo visible en la ventana\n",
    "miFrame.config(bg=\"red\")\n",
    "# Es necesario agregar tamaño al frame para que sea visible\n",
    "# La raíz se adapta al tamaño del frame\n",
    "miFrame.config(width=450, height=300)\n",
    "\n",
    "raiz.mainloop()"
   ]
  },
  {
   "cell_type": "markdown",
   "metadata": {},
   "source": [
    "En el ejemplo anterior, es importante recordar que los frames no se adaptan al tamaño de la raiz. Es por ello que fue necesario indicar de manera explicita el tamaño del frame. Por otra parte, la raiz si se adapta al tamaño del frame."
   ]
  },
  {
   "cell_type": "code",
   "execution_count": null,
   "metadata": {},
   "outputs": [],
   "source": [
    "# Recuerda usar shift+tab para conocer los métodos de las clases y objetos:\n",
    "from tkinter import *\n",
    "raiz=Tk()\n",
    "raiz.title(\"Mi primer Ventana\")\n",
    "raiz.iconbitmap(\"img/Ph03nyx-Super-Mario-Mushroom-1UP.ico\")\n",
    "raiz.config(bg=\"blue\")\n",
    "\n",
    "miFrame=Frame()\n",
    "# Modificaremos el punto fijo del frame:\n",
    "miFrame.pack(side=\"right\")\n",
    "miFrame.config(bg=\"red\")\n",
    "miFrame.config(width=450, height=300)\n",
    "\n",
    "raiz.mainloop()"
   ]
  },
  {
   "cell_type": "code",
   "execution_count": null,
   "metadata": {},
   "outputs": [],
   "source": [
    "# Recuerda usar shift+tab para conocer los métodos de las clases y objetos:\n",
    "from tkinter import *\n",
    "raiz=Tk()\n",
    "raiz.title(\"Mi primer Ventana\")\n",
    "raiz.iconbitmap(\"img/Ph03nyx-Super-Mario-Mushroom-1UP.ico\")\n",
    "raiz.config(bg=\"blue\")\n",
    "\n",
    "miFrame=Frame()\n",
    "# Modificaremos el punto fijo del a la esquina inferior derecha:\n",
    "miFrame.pack(side=\"right\", anchor=\"s\")\n",
    "miFrame.config(bg=\"red\")\n",
    "miFrame.config(width=450, height=300)\n",
    "\n",
    "raiz.mainloop()"
   ]
  },
  {
   "cell_type": "code",
   "execution_count": null,
   "metadata": {},
   "outputs": [],
   "source": [
    "# Es posible tambien modificar el borde del frame\n",
    "\n",
    "from tkinter import *\n",
    "raiz=Tk()\n",
    "raiz.title(\"Mi primer Ventana\")\n",
    "raiz.iconbitmap(\"img/Ph03nyx-Super-Mario-Mushroom-1UP.ico\")\n",
    "raiz.config(bg=\"blue\")\n",
    "\n",
    "miFrame=Frame()\n",
    "miFrame.pack()\n",
    "miFrame.config(bg=\"red\")\n",
    "miFrame.config(width=450, height=300)\n",
    "# Cambiamos el tamaño del borde\n",
    "miFrame.config(bd=35)\n",
    "# Cambiamos el tipo del borde\n",
    "miFrame.config(relief=\"groove\")\n",
    "\n",
    "raiz.mainloop()"
   ]
  },
  {
   "cell_type": "markdown",
   "metadata": {},
   "source": [
    "La configuración de relief cambia la forma en la que observamos una etiqueta, a continuación se muestran todos los tipos de relieves que existen:"
   ]
  },
  {
   "cell_type": "code",
   "execution_count": null,
   "metadata": {},
   "outputs": [],
   "source": [
    "from tkinter import *\n",
    "\n",
    "ventana = Tk()\n",
    "ventana.geometry(\"200x200\")\n",
    "\n",
    "B1 = Label(ventana, text =\"FLAT\", relief=FLAT )\n",
    "B2 = Label(ventana, text =\"RAISED\", relief=RAISED )\n",
    "B3 = Label(ventana, text =\"SUNKEN\", relief=SUNKEN )\n",
    "B4 = Label(ventana, text =\"GROOVE\", relief=GROOVE )\n",
    "B5 = Label(ventana, text =\"RIDGE\", relief=RIDGE )\n",
    "\n",
    "B1.pack()\n",
    "B2.pack()\n",
    "B3.pack()\n",
    "B4.pack()\n",
    "B5.pack()\n",
    "ventana.mainloop()"
   ]
  },
  {
   "cell_type": "markdown",
   "metadata": {},
   "source": [
    "Regresando al ejemplo anterior, observemos el cambio del borde del frame al momento de seleccionar un nuevo relief:"
   ]
  },
  {
   "cell_type": "code",
   "execution_count": null,
   "metadata": {},
   "outputs": [],
   "source": [
    "# Es posible tambien modificar el borde del frame\n",
    "\n",
    "from tkinter import *\n",
    "raiz=Tk()\n",
    "raiz.title(\"Mi primer Ventana\")\n",
    "raiz.iconbitmap(\"img/Ph03nyx-Super-Mario-Mushroom-1UP.ico\")\n",
    "raiz.config(bg=\"blue\")\n",
    "\n",
    "miFrame=Frame()\n",
    "miFrame.pack()\n",
    "miFrame.config(bg=\"red\")\n",
    "miFrame.config(width=450, height=300)\n",
    "miFrame.config(bd=35)\n",
    "miFrame.config(relief=\"sunken\")\n",
    "\n",
    "raiz.mainloop()"
   ]
  },
  {
   "cell_type": "markdown",
   "metadata": {},
   "source": [
    "Las opciones para poder interactuar con los widgets son muchisimas, se recomienda revisar la documentación de la libreria tkinter en caso de acceder a mas opciones para personalizar widgets. https://docs.python.org/3/library/tk.html"
   ]
  },
  {
   "cell_type": "code",
   "execution_count": null,
   "metadata": {},
   "outputs": [],
   "source": [
    "from tkinter import *\n",
    "raiz=Tk()\n",
    "raiz.title(\"Mi primer Ventana\")\n",
    "raiz.iconbitmap(\"img/Ph03nyx-Super-Mario-Mushroom-1UP.ico\")\n",
    "raiz.config(bg=\"blue\")\n",
    "\n",
    "miFrame=Frame()\n",
    "miFrame.pack()\n",
    "miFrame.config(bg=\"red\")\n",
    "miFrame.config(width=450, height=300)\n",
    "miFrame.config(bd=35)\n",
    "miFrame.config(relief=\"sunken\")\n",
    "# Es posible modificar el cursor cuando interactua con el frame\n",
    "miFrame.config(cursor=\"hand2\")\n",
    "\n",
    "raiz.mainloop()"
   ]
  },
  {
   "cell_type": "code",
   "execution_count": null,
   "metadata": {},
   "outputs": [],
   "source": [
    "from tkinter import *\n",
    "raiz=Tk()\n",
    "raiz.title(\"Mi primer Ventana\")\n",
    "raiz.iconbitmap(\"img/Ph03nyx-Super-Mario-Mushroom-1UP.ico\")\n",
    "raiz.config(bg=\"blue\")\n",
    "\n",
    "miFrame=Frame()\n",
    "miFrame.pack()\n",
    "miFrame.config(bg=\"red\")\n",
    "miFrame.config(width=450, height=300)\n",
    "miFrame.config(bd=35)\n",
    "miFrame.config(relief=\"sunken\")\n",
    "miFrame.config(cursor=\"pirate\")\n",
    "\n",
    "raiz.mainloop()"
   ]
  },
  {
   "cell_type": "code",
   "execution_count": null,
   "metadata": {},
   "outputs": [],
   "source": [
    "# Las configuraciones se pueden usar en cualquier widget, eso incluye a la raiz:\n",
    "from tkinter import *\n",
    "raiz=Tk()\n",
    "raiz.title(\"Mi primer Ventana\")\n",
    "raiz.iconbitmap(\"img/Ph03nyx-Super-Mario-Mushroom-1UP.ico\")\n",
    "raiz.config(bg=\"blue\")\n",
    "raiz.config(bd=45)\n",
    "raiz.config(relief=\"groove\")\n",
    "raiz.config(cursor=\"hand2\")\n",
    "\n",
    "\n",
    "miFrame=Frame()\n",
    "miFrame.pack()\n",
    "miFrame.config(bg=\"red\")\n",
    "miFrame.config(width=450, height=300)\n",
    "miFrame.config(bd=35)\n",
    "miFrame.config(relief=\"sunken\")\n",
    "miFrame.config(cursor=\"pirate\")\n",
    "\n",
    "raiz.mainloop()"
   ]
  },
  {
   "cell_type": "markdown",
   "metadata": {},
   "source": [
    "### Actividad"
   ]
  },
  {
   "cell_type": "markdown",
   "metadata": {},
   "source": [
    "Crea dos ventanas con las siguientes características:\n",
    "\n",
    "* Titulo: \"Segunda ventana\", \"Tercera ventana\"\n",
    "* Dimensiones: 380x300 pixeles, 300x450\n",
    "* Cambia el ícono de las ventanas\n",
    "* Color de fondo: A escoger de la tabla que se presenta a continuación:"
   ]
  },
  {
   "cell_type": "markdown",
   "metadata": {},
   "source": [
    "<img src=\"img/tkcolors.png\" alt=\"Spyder\" width=\"1000\"/>"
   ]
  },
  {
   "cell_type": "markdown",
   "metadata": {},
   "source": [
    "<img src=\"img/spyder.png\" alt=\"Spyder\" width=\"300\"/>"
   ]
  },
  {
   "cell_type": "code",
   "execution_count": null,
   "metadata": {},
   "outputs": [],
   "source": [
    "from tkinter import *\n",
    "\n",
    "ventana=Tk()\n",
    "ventana.title(\"Segunda ventana\")\n",
    "ventana.geometry(\"380x300\")\n",
    "ventana.configure(bg=\"DeepSkyblue4\")\n",
    "ventana.iconbitmap(\"img/ph03nyx-super-mario-flower-fire.ico\")\n",
    "ventana.mainloop()"
   ]
  },
  {
   "cell_type": "code",
   "execution_count": null,
   "metadata": {},
   "outputs": [],
   "source": [
    "from tkinter import *\n",
    "\n",
    "ventana=Tk()\n",
    "ventana.title(\"Tercera ventana\")\n",
    "ventana.geometry(\"300x450\")\n",
    "ventana.configure(bg=\"darkorange\")\n",
    "ventana.iconbitmap(\"img/ph03nyx-super-mario-flower-ice.ico\")\n",
    "ventana.mainloop()"
   ]
  },
  {
   "cell_type": "markdown",
   "metadata": {},
   "source": [
    "Recuerda que el frame es un widget mas. Su única función es la de contener otros widgets. Es por ello que no hace falta crear 1 solo frame, si todos los widgets van a estar contenidos en un mismo elemento. Todos los widgets pueden estar contenidos en la raíz. Sin embargo si quieres separar los widgets en grupos, se recomienda el uso de varios frames:"
   ]
  },
  {
   "cell_type": "code",
   "execution_count": null,
   "metadata": {},
   "outputs": [],
   "source": [
    "# Las configuraciones se pueden usar en cualquier widget, eso incluye a la raiz:\n",
    "from tkinter import *\n",
    "raiz=Tk()\n",
    "raiz.title(\"Mi primer Ventana\")\n",
    "raiz.iconbitmap(\"img/Ph03nyx-Super-Mario-Mushroom-1UP.ico\")\n",
    "raiz.config(bg=\"blue\")\n",
    "raiz.config(bd=45)\n",
    "raiz.config(relief=\"groove\")\n",
    "raiz.config(cursor=\"hand2\")\n",
    "\n",
    "\n",
    "ventana1=Frame()\n",
    "ventana1.pack()\n",
    "ventana1.config(bg=\"red\")\n",
    "ventana1.config(width=450, height=300)\n",
    "ventana1.config(bd=35)\n",
    "ventana1.config(relief=\"sunken\")\n",
    "ventana1.config(cursor=\"pirate\")\n",
    "\n",
    "\n",
    "ventana2=Frame()\n",
    "ventana2.pack()\n",
    "ventana2.config(bg=\"blue\")\n",
    "ventana2.config(width=450, height=300)\n",
    "ventana2.config(bd=35)\n",
    "ventana2.config(relief=\"raised\")\n",
    "ventana2.config(cursor=\"shuttle\")\n",
    "\n",
    "raiz.mainloop()"
   ]
  },
  {
   "cell_type": "code",
   "execution_count": null,
   "metadata": {},
   "outputs": [],
   "source": []
  },
  {
   "cell_type": "markdown",
   "metadata": {},
   "source": [
    "### Labels"
   ]
  },
  {
   "cell_type": "markdown",
   "metadata": {},
   "source": [
    "Los **labels** nos sirven para colocar texto o imágenes dentro de la raiz. No se puede interactuar con ellos. Para hacer uso de ellos es necesario instanciar la clase Label:\n",
    "\n",
    "-----------------------------------------------------------------------------------------------------------------------\n",
    "\n",
    "                            variableLabel=Label(contenedor,opciones)\n",
    "\n",
    "-----------------------------------------------------------------------------------------------------------------------\n",
    "El contenedor puede ser un frame, o la misma raiz. Las opciones son a gusto del programador. Las etiquetas son estáticas, esto quiere decir que no se pueden modificar ni interactuar con ellas."
   ]
  },
  {
   "cell_type": "markdown",
   "metadata": {},
   "source": [
    "<table>\n",
    "  <tr>\n",
    "    <th>kwargs</th>\n",
    "    <th>Parámetro(s)</th>\n",
    "    <th>Descripción</th>\n",
    "  </tr>\n",
    "  <tr>\n",
    "    <td>Text</td>\n",
    "    <td>---</td>\n",
    "    <td>Texto que se muestra en el label</td>\n",
    "  </tr>\n",
    "  <tr>\n",
    "    <td>Bg</td>\n",
    "    <td>\"string\"</td>\n",
    "    <td>Color de fondo</td>\n",
    "  </tr>\n",
    "  <tr>\n",
    "    <td>Bitmap</td>\n",
    "    <td>Mapa de bits</td>\n",
    "    <td>Muestra el label como gráfico</td>\n",
    "  </tr>\n",
    "  <tr>\n",
    "    <td>Bd</td>\n",
    "    <td>Integer</td>\n",
    "    <td>Grosor del borde</td>\n",
    "  </tr>\n",
    "  <tr>\n",
    "    <td>Font</td>\n",
    "    <td>\"String\"</td>\n",
    "    <td>Tipo de fuente</td>\n",
    "  </tr>\n",
    "  <tr>\n",
    "    <td>Fg</td>\n",
    "    <td>\"String\"</td>\n",
    "    <td>Color de fuente</td>\n",
    "  </tr>\n",
    "  <tr>\n",
    "    <td>Width</td>\n",
    "    <td>Integer</td>\n",
    "    <td>Ancho de label (en caracteres)</td>\n",
    "  </tr>\n",
    "  <tr>\n",
    "    <td>Height</td>\n",
    "    <td>Integer</td>\n",
    "    <td>Alto de label (en caracteres)</td>\n",
    "  </tr>\n",
    "  <tr>\n",
    "    <td>Image</td>\n",
    "    <td>dirección</td>\n",
    "    <td>Muestra una imagen en lugar de texto en el label</td>\n",
    "  </tr>\n",
    "  <tr>\n",
    "    <td>justify</td>\n",
    "    <td>Booleano</td>\n",
    "    <td>Justificación del parrafo</td>\n",
    "  </tr>\n",
    "</table>"
   ]
  },
  {
   "cell_type": "code",
   "execution_count": null,
   "metadata": {},
   "outputs": [],
   "source": [
    "from tkinter import *\n",
    "\n",
    "root=Tk()\n",
    "\n",
    "miFrame=Frame(root, width=500, height=400)\n",
    "\n",
    "miFrame.pack()\n",
    "miLabel=Label(miFrame, text=\"¡Bienvenidos todos!\")\n",
    "miLabel.pack()\n",
    "\n",
    "root.mainloop()\n"
   ]
  },
  {
   "cell_type": "markdown",
   "metadata": {},
   "source": [
    "En el ejemplo anterior, el método pack de la etiqueta sobreescribio al método pack de frame, es por ello que las dimensiones del frame no se respetaron. Una alaternativa a esto es el uso del método **place()**"
   ]
  },
  {
   "cell_type": "code",
   "execution_count": null,
   "metadata": {},
   "outputs": [],
   "source": [
    "from tkinter import *\n",
    "\n",
    "root=Tk()\n",
    "\n",
    "miFrame=Frame(root, width=500, height=400)\n",
    "\n",
    "miFrame.pack()\n",
    "miLabel=Label(miFrame, text=\"¡Bienvenidos todos!\")\n",
    "\n",
    "miLabel.place(x=100,y=200)\n",
    "\n",
    "root.mainloop()\n"
   ]
  },
  {
   "cell_type": "markdown",
   "metadata": {},
   "source": [
    "El ejemplo anterior se puede modificar si la etiqueta **_miLabel_** solo se ocupará una vez. Esto es, que no se vuelva a utilizar en ningun otro punto del código. El código resultante sería el siguiente:"
   ]
  },
  {
   "cell_type": "code",
   "execution_count": null,
   "metadata": {},
   "outputs": [],
   "source": [
    "from tkinter import *\n",
    "\n",
    "root=Tk()\n",
    "\n",
    "miFrame=Frame(root, width=500, height=400)\n",
    "\n",
    "miFrame.pack()\n",
    "\n",
    "# Se llama a la clase Label directamente, y como el contenedor ya se especificó,\n",
    "# No hace falta instanciar el objeto miLabel:\n",
    "Label(miFrame, text=\"¡Bienvenidos todos!\").place(x=100,y=200)\n",
    "\n",
    "root.mainloop()"
   ]
  },
  {
   "cell_type": "markdown",
   "metadata": {},
   "source": [
    "Es posible utilizar todos los **kwargs (Key word arguments)** mencionados en la tabla anteriormente:"
   ]
  },
  {
   "cell_type": "code",
   "execution_count": null,
   "metadata": {},
   "outputs": [],
   "source": [
    "from tkinter import *\n",
    "\n",
    "root=Tk()\n",
    "\n",
    "miFrame=Frame(root, width=500, height=400)\n",
    "\n",
    "miFrame.pack()\n",
    "\n",
    "# Se llama a la clase Label directamente, y como el contenedor ya se especificó,\n",
    "# No hace falta instanciar el objeto miLabel:\n",
    "Label(miFrame, text=\"¡Bienvenidos todos!\",\n",
    "     fg=\"red\", font=(\"Comic Sans MS\", 18)).place(x=100,y=200)\n",
    "\n",
    "root.mainloop()"
   ]
  },
  {
   "cell_type": "markdown",
   "metadata": {},
   "source": [
    "### Ejemplos de etiquetas:"
   ]
  },
  {
   "cell_type": "code",
   "execution_count": null,
   "metadata": {},
   "outputs": [],
   "source": [
    "from tkinter import *\n",
    "\n",
    "ventana=Tk()\n",
    "ventana.title(\"Segunda ventana\")\n",
    "ventana.geometry(\"380x300\")\n",
    "ventana.configure(bg=\"DeepSkyblue4\")\n",
    "ventana.iconbitmap(\"img/ph03nyx-super-mario-flower-fire.ico\")\n",
    "\n",
    "etiqueta=Label(ventana, text=\"Esta es otra etiqueta\", bg=\"cyan\")\n",
    "etiqueta.pack()\n",
    "ventana.mainloop()"
   ]
  },
  {
   "cell_type": "code",
   "execution_count": null,
   "metadata": {},
   "outputs": [],
   "source": [
    "from tkinter import *\n",
    "\n",
    "ventana=Tk()\n",
    "ventana.title(\"Segunda ventana\")\n",
    "ventana.geometry(\"380x300\")\n",
    "ventana.configure(bg=\"DeepSkyblue4\")\n",
    "ventana.iconbitmap(\"img/ph03nyx-super-mario-flower-fire.ico\")\n",
    "\n",
    "etiqueta=Label(ventana, text=\"Esta es otra etiqueta\",\n",
    "               font=(\"Comic Sans MS\", 24), bg=\"cyan\")\n",
    "etiqueta.pack()\n",
    "ventana.mainloop()"
   ]
  },
  {
   "cell_type": "code",
   "execution_count": null,
   "metadata": {},
   "outputs": [],
   "source": [
    "from tkinter import *\n",
    "\n",
    "ventana=Tk()\n",
    "ventana.title(\"Segunda ventana\")\n",
    "ventana.geometry(\"380x300\")\n",
    "ventana.configure(bg=\"DeepSkyblue4\")\n",
    "ventana.iconbitmap(\"img/ph03nyx-super-mario-flower-fire.ico\")\n",
    "\n",
    "Label(ventana, text=\"Esta es otra etiqueta\",font=(\"Comic Sans MS\", 24), \n",
    "      bg=\"cyan\").place(x=20,y=0)\n",
    "\n",
    "Label(ventana, text=\"que se está insertando\",font=(\"Comic Sans MS\", 24), \n",
    "      bg=\"blue4\", fg=\"white\").place(x=10,y=60)\n",
    "\n",
    "Label(ventana, text=\"en nuestra nueva\",font=(\"Comic Sans MS\", 24), \n",
    "      bg=\"dodgerblue\").place(x=50,y=120)\n",
    "\n",
    "Label(ventana, text=\"ventana\",font=(\"Comic Sans MS\", 24), \n",
    "      bg=\"SlateBlue4\", fg=\"lightcyan\").place(x=120,y=180)\n",
    "\n",
    "ventana.mainloop()"
   ]
  },
  {
   "cell_type": "markdown",
   "metadata": {},
   "source": [
    "En el ejemplo anterior, hizo falta estar manipulando las posiciones de las etiquetas para ajustarlas al gusto del programador. Esto puede lograrse tambien mediante el úso de **pack** aunado a los kwargs **padx** y **pady**:"
   ]
  },
  {
   "cell_type": "code",
   "execution_count": null,
   "metadata": {},
   "outputs": [],
   "source": [
    "# Primero colocamos el método pack para observar como se comportan nuestras etiquetas:\n",
    "from tkinter import *\n",
    "\n",
    "ventana=Tk()\n",
    "ventana.title(\"Segunda ventana\")\n",
    "ventana.geometry(\"380x300\")\n",
    "ventana.configure(bg=\"DeepSkyblue4\")\n",
    "ventana.iconbitmap(\"img/ph03nyx-super-mario-flower-fire.ico\")\n",
    "\n",
    "etiqueta1=Label(ventana, text=\"Esta es otra etiqueta\",font=(\"Comic Sans MS\", 24), \n",
    "      bg=\"cyan\")\n",
    "etiqueta1.pack()\n",
    "\n",
    "etiqueta2=Label(ventana, text=\"que se está insertando\",font=(\"Comic Sans MS\", 24), \n",
    "      bg=\"blue4\", fg=\"white\")\n",
    "etiqueta2.pack()\n",
    "\n",
    "etiqueta3=Label(ventana, text=\"en nuestra nueva\",font=(\"Comic Sans MS\", 24), \n",
    "      bg=\"dodgerblue\")\n",
    "etiqueta3.pack()\n",
    "\n",
    "etiqueta4=Label(ventana, text=\"ventana\",font=(\"Comic Sans MS\", 24), \n",
    "      bg=\"SlateBlue4\", fg=\"lightcyan\")\n",
    "etiqueta4.pack()\n",
    "\n",
    "ventana.mainloop()"
   ]
  },
  {
   "cell_type": "code",
   "execution_count": null,
   "metadata": {},
   "outputs": [],
   "source": [
    "# Ahora usamos padx y pady:\n",
    "from tkinter import *\n",
    "\n",
    "ventana=Tk()\n",
    "ventana.title(\"Segunda ventana\")\n",
    "ventana.geometry(\"380x300\")\n",
    "ventana.configure(bg=\"DeepSkyblue4\")\n",
    "ventana.iconbitmap(\"img/ph03nyx-super-mario-flower-fire.ico\")\n",
    "\n",
    "etiqueta1=Label(ventana, text=\"Esta es otra etiqueta\",font=(\"Comic Sans MS\", 24), \n",
    "      bg=\"cyan\")\n",
    "etiqueta1.pack()\n",
    "\n",
    "etiqueta2=Label(ventana, text=\"que se está insertando\",font=(\"Comic Sans MS\", 24), \n",
    "      bg=\"blue4\", fg=\"white\")\n",
    "etiqueta2.pack(pady=20) # Pady dejará un espacio de 20 pixeles entre la etiqueta superior y la inferior\n",
    "\n",
    "etiqueta3=Label(ventana, text=\"en nuestra nueva\",font=(\"Comic Sans MS\", 24), \n",
    "      bg=\"dodgerblue\")\n",
    "etiqueta3.pack()\n",
    "\n",
    "etiqueta4=Label(ventana, text=\"ventana\",font=(\"Comic Sans MS\", 24), \n",
    "      bg=\"SlateBlue4\", fg=\"lightcyan\")\n",
    "etiqueta4.pack(padx=150) # Padx dejará 150 pixeles de espacio de cada lado (izquierdo y derecho) de la etiqueta\n",
    "\n",
    "ventana.mainloop()"
   ]
  },
  {
   "cell_type": "markdown",
   "metadata": {},
   "source": [
    "El siguiente ejemplo incluye una sección para entrada de datos:"
   ]
  },
  {
   "cell_type": "code",
   "execution_count": null,
   "metadata": {},
   "outputs": [],
   "source": [
    "from tkinter import *\n",
    "\n",
    "ventana=Tk()\n",
    "ventana.title(\"Ventana con entrada de datos\")\n",
    "ventana.geometry(\"380x300\")\n",
    "ventana.configure(bg=\"sea green\")\n",
    "\n",
    "etiqueta=Label(ventana, text=\"Numero 1\", bg=\"dark blue\", fg=\"white\")\n",
    "etiqueta.pack(padx=5,pady=4,fill=X) \n",
    "            # La opción fill, rellena los espacios vacios entre la etiqueta y la \n",
    "            # ventana en la dirección indicada (X o Y)\n",
    "\n",
    "entrada=Entry(ventana)\n",
    "entrada.pack(padx=5, pady=5, fill=X)\n",
    "\n",
    "ventana.mainloop()"
   ]
  },
  {
   "cell_type": "markdown",
   "metadata": {},
   "source": [
    "Para que la sección de entrada de datos funcione, es necesario declarar una variable en donde almacenar los datos.\n",
    "\n",
    "Para poder interactuar mas con los datos que se ingresan, es necesario colocar más etiquetas, un botón, y un método que los ocupe:"
   ]
  },
  {
   "cell_type": "markdown",
   "metadata": {},
   "source": [
    "### PhotoImage"
   ]
  },
  {
   "cell_type": "markdown",
   "metadata": {},
   "source": [
    "Para poder hacer uso de imagenes mediante la librería tkinter, es necesario que las imagenes estén en formato **.gif** o **.png**:"
   ]
  },
  {
   "cell_type": "code",
   "execution_count": null,
   "metadata": {},
   "outputs": [],
   "source": [
    "from tkinter import *\n",
    "\n",
    "ventana=Tk()\n",
    "\n",
    "marco=Frame(ventana, width=725, height=450)\n",
    "marco.pack()\n",
    "\n",
    "# Creamos una instancia de PhotoImage:\n",
    "miImagen=PhotoImage(file=\"img/palindrome.png\")\n",
    "\n",
    "# Usamos el kwarg image para agregar la imagen:\n",
    "Label(marco, image=miImagen).pack()\n",
    "\n",
    "ventana.mainloop()"
   ]
  },
  {
   "cell_type": "code",
   "execution_count": null,
   "metadata": {},
   "outputs": [],
   "source": [
    "from tkinter import *\n",
    "\n",
    "ventana=Tk()\n",
    "\n",
    "marco=Frame(ventana, width=725, height=450)\n",
    "marco.pack()\n",
    "\n",
    "# Creamos una instancia de PhotoImage:\n",
    "miImagen=PhotoImage(file=\"img/cubos.png\")\n",
    "\n",
    "# Usamos el kwarg image para agregar la imagen:\n",
    "Label(marco, image=miImagen).pack()\n",
    "\n",
    "ventana.mainloop()"
   ]
  },
  {
   "cell_type": "code",
   "execution_count": null,
   "metadata": {},
   "outputs": [],
   "source": [
    "from tkinter import *\n",
    "\n",
    "ventana=Tk()\n",
    "\n",
    "marco=Frame(ventana, width=725, height=450)\n",
    "marco.pack()\n",
    "\n",
    "imagen1=PhotoImage(file=\"img/palindrome.png\")\n",
    "Label(marco, image=imagen1).pack(side=LEFT)\n",
    "\n",
    "imagen2=PhotoImage(file=\"img/cubos.png\")\n",
    "Label(marco, image=imagen2).pack(side=RIGHT)\n",
    "\n",
    "ventana.mainloop()"
   ]
  },
  {
   "cell_type": "markdown",
   "metadata": {},
   "source": [
    "Usar PhotoImage es un poco mas delicado que con los demás widgets; si uno se equivoca y trata de ejecutar el código, este seguirá mandando mensajes de error, incluso si el código es corregido. Esto debido al hecho de que tkinter sigue tratando de abrir las ventanas erroneas. Para solucionar esto, será necesario activar alguna ventana que no contenga imagenes para poder entonces volver a intentar con la ventana que si tiene imagenes."
   ]
  },
  {
   "cell_type": "markdown",
   "metadata": {},
   "source": [
    "### Entradas de texto"
   ]
  },
  {
   "cell_type": "markdown",
   "metadata": {},
   "source": [
    "Muchos de los elementos presentes en las etiquetas, están presentes tambien en las entradas de texto. Los más comunes son los siguientes:"
   ]
  },
  {
   "cell_type": "markdown",
   "metadata": {},
   "source": [
    "<table>\n",
    "  <tr>\n",
    "    <th>kwargs</th>\n",
    "    <th>Parámetro(s)</th>\n",
    "    <th>Descripción</th>\n",
    "  </tr>\n",
    "  <tr>\n",
    "    <td>Bd</td>\n",
    "    <td>Integer</td>\n",
    "    <td>Grosor del borde</td>\n",
    "  </tr>\n",
    "  <tr>\n",
    "    <td>Bg</td>\n",
    "    <td>\"string\"</td>\n",
    "    <td>Color de fondo</td>\n",
    "  </tr>\n",
    "  <tr>\n",
    "    <td>command</td>\n",
    "    <td>---</td>\n",
    "    <td>Procedimiento o función a llamar cada que \n",
    "        se cambie el valor de la caja</td>\n",
    "  </tr>\n",
    "  <tr>\n",
    "    <td>Font</td>\n",
    "    <td>\"String\"</td>\n",
    "    <td>Tipo de fuente</td>\n",
    "  </tr>\n",
    "  <tr>\n",
    "    <td>Fg</td>\n",
    "    <td>\"String\"</td>\n",
    "    <td>Color de fuente</td>\n",
    "  </tr>\n",
    "  <tr>\n",
    "    <td>Width</td>\n",
    "    <td>Integer</td>\n",
    "    <td>Ancho de label (en caracteres)</td>\n",
    "  </tr>\n",
    "  <tr>\n",
    "    <td>justify</td>\n",
    "    <td>Booleano</td>\n",
    "    <td>Justificación del parrafo</td>\n",
    "  </tr>\n",
    "</table>"
   ]
  },
  {
   "cell_type": "code",
   "execution_count": null,
   "metadata": {},
   "outputs": [],
   "source": [
    "from tkinter import *\n",
    "\n",
    "ventana = Tk()\n",
    "L1 = Label(ventana, text=\"Nombre de usuario\")\n",
    "L1.pack( side = LEFT)\n",
    "E1 = Entry(ventana, bd =5)\n",
    "E1.pack(side = RIGHT)\n",
    "\n",
    "ventana.mainloop()"
   ]
  },
  {
   "cell_type": "markdown",
   "metadata": {},
   "source": [
    "Además de las configuraciones clásicas, tambien existen varios métodos que nos permitirán interactuar con los widgets:"
   ]
  },
  {
   "cell_type": "markdown",
   "metadata": {},
   "source": [
    "<table>\n",
    "  <tr>\n",
    "    <th>Método</th>\n",
    "    <th>Parámetro(s)</th>\n",
    "    <th>Descripción</th>\n",
    "  </tr>\n",
    "  <tr>\n",
    "    <td>get</td>\n",
    "    <td>()</td>\n",
    "    <td>Devuelve el texto dentro del widget como un string</td>\n",
    "  </tr>\n",
    "  <tr>\n",
    "    <td>set</td>\n",
    "    <td>()</td>\n",
    "    <td>Establece un valor para específico</td>\n",
    "  </tr>\n",
    "  <tr>\n",
    "    <td>grid</td>\n",
    "    <td>(row,column)</td>\n",
    "    <td>Crea una retícula imaginaria</td>\n",
    "  </tr>\n",
    "  <tr>\n",
    "    <td>insert</td>\n",
    "    <td>(index,string)</td>\n",
    "    <td>Inserta un texto en la posición indexada indicada</td>\n",
    "  </tr> \n",
    "</table>"
   ]
  },
  {
   "cell_type": "markdown",
   "metadata": {},
   "source": [
    "En el siguiente ejemplo, utilizaremos el método **grid()**, en lugar de pack() o place():"
   ]
  },
  {
   "cell_type": "code",
   "execution_count": null,
   "metadata": {},
   "outputs": [],
   "source": [
    "from tkinter import *\n",
    "\n",
    "ventana = Tk()\n",
    "\n",
    "for i in range(0, 5):\n",
    "    for j in range(0, 5):\n",
    "        cell = Entry(ventana, width=10)\n",
    "        cell.grid(row=i, column=j)\n",
    "        cell.insert(0, (i,j))\n",
    "\n",
    "ventana.mainloop()"
   ]
  },
  {
   "cell_type": "code",
   "execution_count": null,
   "metadata": {},
   "outputs": [],
   "source": [
    "from tkinter import *\n",
    "\n",
    "ventana = Tk()\n",
    "\n",
    "for i in range(0, 5):\n",
    "    for j in range(0, 5):\n",
    "        cell = Entry(ventana, width=10)\n",
    "        cell.grid(padx=5, pady=5, row=i, column=j)\n",
    "        cell.insert(0, (i,j))\n",
    "\n",
    "ventana.mainloop()"
   ]
  },
  {
   "cell_type": "markdown",
   "metadata": {},
   "source": [
    "Ejemplo usando los diferentes kwargs dentro del método grid():"
   ]
  },
  {
   "cell_type": "code",
   "execution_count": null,
   "metadata": {},
   "outputs": [],
   "source": [
    "from tkinter import *\n",
    "ventana = Tk()\n",
    "L1 = Label(ventana, text=\"Yo estoy en la columna 3\", bg=\"white\")\n",
    "L1.grid(column=3)\n",
    "\n",
    "L2 = Label(ventana, text=\"Yo tengo un columnspan de 3\", bg=\"light green\")\n",
    "L2.grid(columnspan=3)\n",
    "\n",
    "L3 = Label(ventana, text=\"ipadx de 4\", bg=\"white\")\n",
    "L3.grid(ipadx=4)\n",
    "\n",
    "L4 = Label(ventana, text=\"ipady de 4\", bg=\"light green\")\n",
    "L4.grid(ipady=4)\n",
    "\n",
    "L5 = Label(ventana, text=\"padx de 4\", bg=\"white\")\n",
    "L5.grid(padx=4)\n",
    "\n",
    "L6 = Label(ventana, text=\"pady de 4\", bg=\"light green\")\n",
    "L6.grid(pady=4)\n",
    "\n",
    "L7 = Label(ventana, text=\"Yo estoy en la fila 2\", bg=\"white\")\n",
    "L7.grid(row=2)\n",
    "\n",
    "L8 = Label(ventana, text=\"Rowspan de 2\", bg=\"light green\")\n",
    "L8.grid(rowspan=2)\n",
    "\n",
    "L9 = Label(ventana, text=\"Yo estoy pegado al Noreste\", bg=\"white\")\n",
    "L9.grid(sticky=NE)\n",
    "\n",
    "ventana.mainloop()"
   ]
  },
  {
   "cell_type": "code",
   "execution_count": null,
   "metadata": {},
   "outputs": [],
   "source": [
    "from tkinter import *\n",
    "\n",
    "ventana = Tk()\n",
    "L1= Label(ventana, text=\"Nombre\").grid(row=0)\n",
    "L2= Label(ventana, text=\"Apellido\").grid(row=1)\n",
    "\n",
    "E1 = Entry(ventana).grid(row=0, column=1)\n",
    "E2 = Entry(ventana).grid(row=1, column=1)\n",
    "\n",
    "ventana.mainloop()"
   ]
  },
  {
   "cell_type": "code",
   "execution_count": null,
   "metadata": {},
   "outputs": [],
   "source": [
    "from tkinter import *\n",
    "\n",
    "ventana = Tk()\n",
    "L1= Label(ventana, text=\"Nombre\").grid(row=0)\n",
    "L2= Label(ventana, text=\"Apellido\").grid(row=1)\n",
    "L3= Label(ventana, text=\"Ejemplo 1\").grid(row=0, column=2)\n",
    "L4= Label(ventana, text=\"Ejemplo 2\").grid(row=1, column=2)\n",
    "\n",
    "E1 = Entry(ventana).grid(row=0, column=1)\n",
    "E2 = Entry(ventana).grid(row=1, column=1)\n",
    "\n",
    "\n",
    "\n",
    "ventana.mainloop()"
   ]
  },
  {
   "cell_type": "code",
   "execution_count": null,
   "metadata": {},
   "outputs": [],
   "source": [
    "from tkinter import *\n",
    "\n",
    "\n",
    "def cerrar():\n",
    "    ventana.destroy()\n",
    "\n",
    "ventana = Tk()\n",
    "L1= Label(ventana,text=\"Nombre\").grid(row=0)\n",
    "L2= Label(ventana,text=\"Apellido\").grid(row=1)\n",
    "\n",
    "E1 = Entry(ventana).grid(row=0, column=1)\n",
    "E2 = Entry(ventana).grid(row=1, column=1)\n",
    "\n",
    "B1= Button(ventana, text='Salir', command=cerrar).grid(row=3, column=0, pady=4)\n",
    "\n",
    "ventana.mainloop()"
   ]
  },
  {
   "cell_type": "markdown",
   "metadata": {},
   "source": [
    "### Button"
   ]
  },
  {
   "cell_type": "code",
   "execution_count": null,
   "metadata": {},
   "outputs": [],
   "source": [
    "from tkinter import *\n",
    "\n",
    "# Creamos una nueva ventana, un nuevo frame y los empaquetamos:\n",
    "root = Tk()\n",
    "\n",
    "topframe = Frame(root)\n",
    "topframe.pack()\n",
    "\n",
    "bottomframe = Frame(root)\n",
    "bottomframe.pack( side = BOTTOM )\n",
    "\n",
    "redbutton = Button(topframe, text=\"Red\", fg=\"red\")\n",
    "redbutton.pack( side = LEFT)\n",
    "\n",
    "greenbutton = Button(topframe, text=\"green\", fg=\"green\")\n",
    "greenbutton.pack( side = LEFT )\n",
    "\n",
    "bluebutton = Button(topframe, text=\"Blue\", fg=\"blue\")\n",
    "bluebutton.pack( side = LEFT )\n",
    "\n",
    "blackbutton = Button(bottomframe, text=\"Black\", fg=\"black\")\n",
    "blackbutton.pack( side = BOTTOM)\n",
    "\n",
    "root.mainloop()"
   ]
  },
  {
   "cell_type": "markdown",
   "metadata": {},
   "source": [
    "Para que un boton pueda funcionar, es necesario usar el kwarg **command**. command llamará a alguna función definida previamente dentro del código de la ventana:"
   ]
  },
  {
   "cell_type": "code",
   "execution_count": null,
   "metadata": {},
   "outputs": [],
   "source": [
    "from tkinter import *\n",
    "\n",
    "ventana=Tk()\n",
    "ventana.title(\"Sumadora\")\n",
    "ventana.geometry(\"380x300\")\n",
    "ventana.config(bg=\"linen\")\n",
    "\n",
    "E1=Label(ventana,text=\"Número 1\", bg=\"light green\", font=(\"Courier New\",15, \"bold\"))\n",
    "E1.pack(padx=5, pady=5, fill=X)\n",
    "\n",
    "entrada1=Entry(ventana)\n",
    "entrada1.pack(padx=5, pady=5, ipadx=5, ipady=5, fill=X)\n",
    "\n",
    "E2=Label(ventana,text=\"Número 2\", bg=\"dark slate grey\", fg=\"white\", font=(\"Courier New\",15, \"bold\"))\n",
    "E2.pack(padx=5, pady=5, fill=X)\n",
    "\n",
    "entrada2=Entry(ventana)\n",
    "entrada2.pack(padx=5, pady=5, ipadx=5, ipady=5, fill=X)\n",
    "\n",
    "ventana.mainloop()"
   ]
  },
  {
   "cell_type": "code",
   "execution_count": null,
   "metadata": {},
   "outputs": [],
   "source": [
    "from tkinter import *\n",
    "\n",
    "# Creamos la función que interactuará con las entradas que se hagan en la ventana:\n",
    "def suma():\n",
    "    a=int(entrada1.get())\n",
    "    b=int(entrada2.get())\n",
    "    c=a+b\n",
    "    return var.set(c)\n",
    "\n",
    "\n",
    "ventana=Tk()\n",
    "ventana.title(\"Sumadora\")\n",
    "ventana.geometry(\"380x300\")\n",
    "ventana.config(bg=\"linen\")\n",
    "\n",
    "# Creamos una variable por medio de una isntancia, que almacenará el resultado de la función:\n",
    "var=StringVar()\n",
    "\n",
    "\n",
    "E1=Label(ventana,text=\"Número 1\", bg=\"light green\", font=(\"Courier New\",15, \"bold\"))\n",
    "E1.pack(padx=5, pady=5, fill=X)\n",
    "\n",
    "entrada1=Entry(ventana)\n",
    "entrada1.pack(padx=5, pady=5, ipadx=5, ipady=5, fill=X)\n",
    "\n",
    "E2=Label(ventana,text=\"Número 2\", bg=\"dark slate grey\", fg=\"white\", font=(\"Courier New\",15, \"bold\"))\n",
    "E2.pack(padx=5, pady=5, fill=X)\n",
    "\n",
    "entrada2=Entry(ventana)\n",
    "entrada2.pack(padx=5, pady=5, ipadx=5, ipady=5, fill=X)\n",
    "\n",
    "# Boton para activar la función suma:\n",
    "B1 = Button(ventana, text=\"Sumar\", command=suma, font=(\"Courier New\",15, \"bold\"))\n",
    "B1.pack(side=TOP)\n",
    "\n",
    "# Creamos una nueva etiqueta que va a recibir el valor que se almacene en var, para ello se debe\n",
    "# usar el kwarg textvariable:\n",
    "E3=Label(ventana,textvariable=var, bg=\"white\", fg=\"black\", font=(\"Courier New\",15, \"bold\"))\n",
    "E3.pack(padx=5, pady=5, fill=X)\n",
    "\n",
    "ventana.mainloop()"
   ]
  },
  {
   "cell_type": "markdown",
   "metadata": {},
   "source": [
    "Las **variables de control** son objetos especiales que se asocian a los widgets para almacenar sus valores y facilitar su disponibilidad en otras partes del programa. En el ejemplo anterior, se creo una variable de control de tipo string la cuál fue asociada a la función suma definida para los entries de la ventana. Las variables de control pueden ser de tipo numérico, de cadena y booleano. "
   ]
  },
  {
   "cell_type": "code",
   "execution_count": null,
   "metadata": {},
   "outputs": [],
   "source": [
    "from tkinter import *\n",
    "from tkinter import messagebox\n",
    "\n",
    "def cerrarventana():\n",
    "    ventana.destroy()\n",
    "    \n",
    "ventana=Tk()\n",
    "ventana.title(\"Ventana 1\")\n",
    "ventana.geometry(\"380x300\")\n",
    "ventana.config(bg=\"dark turquoise\")\n",
    "e1=Label(ventana, text=\"Password: \", bg=\"dark salmon\", fg=\"white\")\n",
    "e1.pack(padx=5, pady=5, fill=X)\n",
    "entrada1=Entry(ventana)\n",
    "entrada1.pack(padx=5, pady=5, fill=X)\n",
    "B1 = Button(ventana, text=\"Verificar\", command=validar, font=(\"Courier New\",12, \"bold\"))\n",
    "B1.pack(side=TOP)\n",
    "B2 = Button(ventana, text=\"Salir\", command=cerrarventana, font=(\"Courier New\",12, \"bold\"))\n",
    "B2.pack(side=TOP)\n",
    "\n",
    "def validar():\n",
    "    if entrada1.get()==\"Edgar\":\n",
    "        abrirventana2()\n",
    "    else:\n",
    "        messagebox.showwarning(\"Cuidado\", \"Password incorrecto\")\n",
    "\n",
    "def abrirventana2():\n",
    "    ventana.withdraw()\n",
    "    win=Toplevel()\n",
    "    win.title(\"Ventana 2\")\n",
    "    win.geometry(\"380x300+190+100\")\n",
    "    win.config(bg=\"dark turquoise\")\n",
    "    e3=Label(win, text=\"Bienvenido a la segunda ventana\", bg=\"NavajoWhite2\", fg=\"white\")\n",
    "    e3.pack(padx=5, pady=5, fill=X)\n",
    "    B3 = Button(win, text=\"Ok\", command=win.destroy, font=(\"Courier New\",12, \"bold\"))\n",
    "    B3.pack(side=TOP)\n",
    "\n",
    "\n",
    "ventana.mainloop()"
   ]
  },
  {
   "cell_type": "markdown",
   "metadata": {},
   "source": [
    "### Otras aplicaciones"
   ]
  },
  {
   "cell_type": "markdown",
   "metadata": {},
   "source": [
    "En tkinter existen muchos otros widgets y métodos con los que uno puede crear diversas aplicaciones. En la presente sección se abordarán algunos de estos."
   ]
  },
  {
   "cell_type": "markdown",
   "metadata": {},
   "source": [
    "Las **listas desplegables** son una herramienta que nos permite visualizar los elementos dentro de una lista al momento de activar la flecha, y una vez activo podremos seleccionar la opción que necesitemos. Para poder hacer uso de las listas desplegables, es necesario haer una instancia de la clase **OptionMenu()**:"
   ]
  },
  {
   "cell_type": "code",
   "execution_count": 8,
   "metadata": {},
   "outputs": [],
   "source": [
    "from tkinter import *\n",
    "\n",
    "ventana=Tk()\n",
    "ventana.title(\"Lista desplegable\")\n",
    "ventana.geometry(\"380x300+600+400\")\n",
    "ventana.config(bg=\"steel blue\")\n",
    "\n",
    "# Creamos una variable de control que almacenará el resultado de la función:\n",
    "var=StringVar()\n",
    "opciones=[\"Azul\", \"Rosa\", \"Verde\", \"Morado\", \"Amarillo\", \"Rojo\"]\n",
    "\n",
    "# Creamos el menú desplegable:\n",
    "lista=OptionMenu(ventana, var, *opciones)\n",
    "lista.pack(fill=X)\n",
    "\n",
    "# Creamos una etiqueta que mostrará el valor selccionado:\n",
    "e1=Label(ventana, textvariable=var, bg=\"dark salmon\", fg=\"white\")\n",
    "e1.pack(padx=5, pady=5, fill=X)\n",
    "\n",
    "\n",
    "ventana.mainloop()"
   ]
  },
  {
   "cell_type": "markdown",
   "metadata": {},
   "source": [
    "Por medio de esta técnica, es posible generar aplicaciones mas complejas. El siguiente ejemplo hace uso del método **after()**, incluido en tkinter. After genera un llamado a una función de acuerdo a un intervalo de tiempo dado en milisegundos."
   ]
  },
  {
   "cell_type": "code",
   "execution_count": null,
   "metadata": {},
   "outputs": [],
   "source": [
    "from tkinter import *\n",
    "import time\n",
    "\n",
    "class Reloj(Frame):\n",
    "    def __init__(self,root=None):\n",
    "        Frame.__init__(self, root)\n",
    "        self.root = root\n",
    "        self.label = Label(text=\"\", fg=\"Red\", font=(\"Helvetica\", 18))\n",
    "        self.label.place(x=75,y=80)\n",
    "        self.update_clock()\n",
    "\n",
    "    \n",
    "    def update_clock(self):\n",
    "        now = time.strftime(\"%H:%M:%S\")\n",
    "        self.label.configure(text=now)\n",
    "        self.after(1000,self.update_clock)\n",
    "\n",
    "root = Tk()\n",
    "app=Reloj(root)\n",
    "root.wm_title(\"Tkinter clock\")\n",
    "root.geometry(\"250x200\")\n",
    "root.mainloop()"
   ]
  },
  {
   "cell_type": "markdown",
   "metadata": {},
   "source": [
    "Otra de las aplicaciones de tkinter, es la creación de un **canvas**, en el cual se pueden realizar dibujos de diferente índole:"
   ]
  },
  {
   "cell_type": "code",
   "execution_count": 20,
   "metadata": {},
   "outputs": [],
   "source": [
    "# Canvas\n",
    "\n",
    "from tkinter import *\n",
    "\n",
    "ventana=Tk()\n",
    "canvas = Canvas(ventana, width=300, height=400)\n",
    "canvas.pack(side=RIGHT)\n",
    "\n",
    "oval = canvas.create_oval(125, 100, 175, 150)\n",
    "line = canvas.create_line(125, 100, 175, 150)\n",
    "box = canvas.create_rectangle(50, 25, 150, 75, fill=\"blue\")\n",
    "\n",
    "ventana.mainloop()"
   ]
  },
  {
   "cell_type": "code",
   "execution_count": 1,
   "metadata": {},
   "outputs": [],
   "source": [
    "from tkinter import *\n",
    "\n",
    "ventana=Tk()\n",
    "canvas = Canvas(ventana, width=300, height=400)\n",
    "canvas.config(bg=\"white\")\n",
    "canvas.pack(side=RIGHT)\n",
    "\n",
    "oval1 = canvas.create_oval(70, 200, 120, 250, width=15, outline=\"black\")\n",
    "oval2 = canvas.create_oval(180, 200, 230, 250, width=15, outline=\"black\")\n",
    "line1 = canvas.create_line(120, 225, 150, 210, width=15, fill=\"black\")\n",
    "line2 = canvas.create_line(180, 225, 150, 210, width=15, fill=\"black\")\n",
    "line3 = canvas.create_line(70, 225, 50, 175, width=15, fill=\"black\")\n",
    "line4 = canvas.create_line(230, 225, 210, 175, width=15, fill=\"black\")\n",
    "\n",
    "\n",
    "ventana.mainloop()"
   ]
  },
  {
   "cell_type": "markdown",
   "metadata": {},
   "source": [
    "Crearemos un **app** diccionario de algunos de los términos vistos en el curso:"
   ]
  },
  {
   "cell_type": "code",
   "execution_count": 35,
   "metadata": {},
   "outputs": [],
   "source": [
    "from tkinter import *\n",
    "\n",
    "# Definimos la función para buscar las palabras:\n",
    "def buscar():\n",
    "    a=texto.get()\n",
    "    a=a.upper()\n",
    "    while True:\n",
    "        try:\n",
    "            b=diccionario[a]\n",
    "            break\n",
    "        except:\n",
    "            b=\"No existe la palabra en el diccionario\"\n",
    "            break\n",
    "    return var.set(b)\n",
    "\n",
    "diccionario={\"CLASE\":\n",
    "            \"Plantilla para la creación de objetos de datos según un modelo \\n\" +\n",
    "             \"predefinido\", \n",
    "             \"OBJETO\":\n",
    "             \"Agrupaciones heterogéneas de datos simples (Atributos), con sus \\n\"\n",
    "             \"operaciones (Métodos)\",\n",
    "            \"HERENCIA\":\n",
    "             \"Proceso mediante el cual los diseñadores pueden crear nuevas \\n\" +\n",
    "             \" clases partiendo de una clase o de una jerarquía de clases \\n\" +\n",
    "             \"preexistentes (ya comprobadas y verificadas) evitando con ello el \\n\" +\n",
    "             \"rediseño, la modificación y verificación de la parte ya implementada.\",\n",
    "            \"POLIMORFISMO\":\n",
    "             \"Propiedad por la que es posible enviar mensajes sintácticamente \\n\" +\n",
    "             \"iguales a objetos de tipos distintos\"}\n",
    "\n",
    "# GUI\n",
    "\n",
    "# Creamos la ventana:\n",
    "ventana=Tk()\n",
    "ventana.title(\"Diccionario\")\n",
    "ventana.geometry(\"470x450\")\n",
    "ventana.config(bg=\"black\")\n",
    "\n",
    "\n",
    "# Colocamos la imagen de un diccionario:\n",
    "miImagen=PhotoImage(file=\"img/dicc.png\")\n",
    "L1=Label(ventana, image=miImagen, bg=\"black\").grid(row=0,column=0)\n",
    "\n",
    "# Creamos otra etiqueta para dar un mensaje al usuario:\n",
    "L2=Label(ventana, text=\"Ingrese la palabra de la que dessee su definición: \", bg=\"black\", fg=\"white\", font=(\"Arial\", 14, \"bold\")).grid(row=1,column=0)\n",
    "\n",
    "# Creamos una entrada de datos junto con la variable:\n",
    "texto=Entry(ventana, bg=\"white\", width=40)\n",
    "texto.grid(row=2, column=0)\n",
    "\n",
    "var=StringVar()\n",
    "\n",
    "# Agregamos un boton para iniciar la busqueda:\n",
    "B1=Button(ventana, text=\"Buscar\", width=10, command=buscar).grid(row=3, column=0)\n",
    "\n",
    "# Agregamos otra etiqueta para el titulo de Definición:\n",
    "L3=Label(ventana, text=\"DEFINICIÓN: \", bg=\"black\", fg=\"white\", font=(\"Arial\", 14, \"bold\")).grid(row=4,column=0)\n",
    "\n",
    "# Caja de texto en la que se imprimirá la definición:\n",
    "L4=Label(ventana, textvariable=var, width=50, height= 5, bg=\"white\", fg=\"black\", font=(\"Arial\", 11)).grid(row=5,column=0)\n",
    "\n",
    "ventana.mainloop()"
   ]
  },
  {
   "cell_type": "markdown",
   "metadata": {},
   "source": [
    "### Lista de widgets"
   ]
  },
  {
   "cell_type": "markdown",
   "metadata": {},
   "source": [
    "Existen muchos widgets en tkinter. Los más comunes se presentan a continuación. Varios de ellos no es posible importarlos mediante la instrucción **from tkinter import ***"
   ]
  },
  {
   "cell_type": "markdown",
   "metadata": {},
   "source": [
    "Para poder acceder a ellos es necesario hacer una importación especial. La información para realizar esto se encuentra en la siguiente tabla:"
   ]
  },
  {
   "cell_type": "markdown",
   "metadata": {},
   "source": [
    "<table>\n",
    "  <tr>\n",
    "    <th>Clase</th>\n",
    "    <th>Librería</th>\n",
    "    <th>Descripción</th>\n",
    "  </tr>\n",
    "  <tr>\n",
    "    <td>Tk()</td>\n",
    "    <td>from tkinter import *</td>\n",
    "    <td>Clase para crear una ventana</td>\n",
    "  </tr>\n",
    "  <tr>\n",
    "    <td>Label(master, kwargs)</td>\n",
    "    <td>from tkinter import *</td>\n",
    "    <td>Clase para crear una etiqueta</td>\n",
    "  </tr>\n",
    "  <tr>\n",
    "    <td>Button(master, kwargs)</td>\n",
    "    <td>from tkinter import *</td>\n",
    "    <td>Clase para crear un botón</td>\n",
    "  </tr>\n",
    "  <tr>\n",
    "    <td>Entry(master, kwargs)</td>\n",
    "    <td>from tkinter import *</td>\n",
    "    <td>Clase para crear una caja de entrada de datos</td>\n",
    "  </tr>\n",
    "  <tr>\n",
    "    <td>Combobox(master)</td>\n",
    "    <td>from tkinter.ttk import *</td>\n",
    "    <td>Clase para crear una ventana de eventos</td>\n",
    "  </tr>\n",
    "  <tr>\n",
    "    <td>Checkbutton(master, kwargs)</td>\n",
    "    <td>from tkinter.ttk import *</td>\n",
    "    <td>Clase para crear una casilla de verificación</td>\n",
    "  </tr>\n",
    "  <tr>\n",
    "    <td>Radiobutton(master, kwargs)</td>\n",
    "    <td>from tkinter.ttk import *</td>\n",
    "    <td>Clase para crear botones de opción</td>\n",
    "  </tr>\n",
    "  <tr>\n",
    "    <td>scrolledtext.ScrolledText(master, kwargs)</td>\n",
    "    <td>from tkinter import scrolledtext</td>\n",
    "    <td>Clase para crear una caja de texto con barra de desplazamiento</td>\n",
    "  </tr>\n",
    "  <tr>\n",
    "    <td>messagebox.showinfo(\"Título del mensaje\", \"Contenido del mensaje\")</td>\n",
    "    <td>from tkinter import messagebox</td>\n",
    "    <td>Clase para crear una ventana de mensaje</td>\n",
    "  </tr>\n",
    "  <tr>\n",
    "    <td>Spinbox(master, kwargs)</td>\n",
    "    <td>from tkinter import *</td>\n",
    "    <td>Clase para crear una caja de entrada de datos con flechas de selección</td>\n",
    "  </tr>\n",
    "  <tr>\n",
    "    <td>Progressbar(master, kwargs)</td>\n",
    "    <td>from tkinter.ttk import Progressbar</td>\n",
    "    <td>Clase para crear una barra de progreso</td>\n",
    "  </tr>\n",
    "  <tr>\n",
    "    <td>Menu(master, kwargs)</td>\n",
    "    <td>from tkinter import Menu</td>\n",
    "    <td>Clase para crear un Menu en la parte superior de la ventana</td>\n",
    "  </tr>\n",
    "</table>"
   ]
  },
  {
   "cell_type": "code",
   "execution_count": 19,
   "metadata": {},
   "outputs": [],
   "source": [
    "from tkinter import * \n",
    "from tkinter.ttk import *\n",
    "  \n",
    "# Creando la ventana\n",
    "ventana = Tk() \n",
    "  \n",
    "# Creando la barra de progreso\n",
    "barra = Progressbar(ventana, orient = HORIZONTAL, \n",
    "              length = 180, mode = \"determinate\") \n",
    "barra.pack(pady = 10)\n",
    "\n",
    "# Función responsable de actualizar el estado \n",
    "# de la barra \n",
    "def bar(): \n",
    "    import time\n",
    "    for i in range(0,101,10):\n",
    "        barra[\"value\"] = i\n",
    "        ventana.update_idletasks() \n",
    "        time.sleep(1) \n",
    " \n",
    "  \n",
    "# Botones para inicializar y finalizar \n",
    "# la actividad en la ventana\n",
    "B1=Button(ventana, text = \"Iniciar\", command = bar).pack(side=LEFT, padx=10, pady = 10) \n",
    "B2=Button(ventana, text = \"Salir\", command = ventana.destroy).pack(side=RIGHT, padx=10, pady = 10)\n",
    "\n",
    "ventana.mainloop() "
   ]
  },
  {
   "cell_type": "code",
   "execution_count": 3,
   "metadata": {},
   "outputs": [],
   "source": [
    "from tkinter import *\n",
    " \n",
    "from tkinter import Menu\n",
    " \n",
    "ventana = Tk()\n",
    " \n",
    "ventana.title(\"Bienvenidos\")\n",
    "\n",
    "# Instancia para crear el menu\n",
    "menu = Menu(ventana)\n",
    "\n",
    "# Adición de elemento al menu\n",
    "new_item = Menu(menu)\n",
    "new_item.add_command(label='Nuevo')\n",
    "menu.add_cascade(label='Archivo', menu=new_item)\n",
    "\n",
    "# Adición del menu a la ventana\n",
    "ventana.config(menu=menu)\n",
    " \n",
    "ventana.mainloop()"
   ]
  },
  {
   "cell_type": "code",
   "execution_count": null,
   "metadata": {},
   "outputs": [],
   "source": []
  }
 ],
 "metadata": {
  "kernelspec": {
   "display_name": "Python 3",
   "language": "python",
   "name": "python3"
  },
  "language_info": {
   "codemirror_mode": {
    "name": "ipython",
    "version": 3
   },
   "file_extension": ".py",
   "mimetype": "text/x-python",
   "name": "python",
   "nbconvert_exporter": "python",
   "pygments_lexer": "ipython3",
   "version": "3.7.3"
  }
 },
 "nbformat": 4,
 "nbformat_minor": 2
}
