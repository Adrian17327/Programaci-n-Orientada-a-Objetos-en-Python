{
 "cells": [
  {
   "cell_type": "markdown",
   "metadata": {},
   "source": [
    "# Unidad 4 Funciones avanzadas"
   ]
  },
  {
   "cell_type": "markdown",
   "metadata": {},
   "source": [
    "### Lambda functions"
   ]
  },
  {
   "cell_type": "markdown",
   "metadata": {},
   "source": [
    "Similar al método def, en Python existe otra manera para poder declarar funciones que se conocen como funciones de tipo anónimas. Estas funciones anónimas son comunmente conocidas como funciones lambda. Se les da el caracter de anónima porque no hace falta asignrales un nombre. Las funciones lambda crean un objeto de tipo función."
   ]
  },
  {
   "cell_type": "markdown",
   "metadata": {},
   "source": [
    "La sintaxis para poder usar una función lamdba es la siguiente:"
   ]
  },
  {
   "cell_type": "markdown",
   "metadata": {},
   "source": [
    "---------------------------------------------------------------------------------------------------------------------\n",
    "\n",
    "                            lambda arg1, arg2,..., argN : expresión_que_usará_los_argumentos\n",
    "\n",
    "---------------------------------------------------------------------------------------------------------------------"
   ]
  },
  {
   "cell_type": "markdown",
   "metadata": {},
   "source": [
    "Una función lambda debe cumplir 2 características, la primera es que **la expresión que emplea es sencilla**, y no utilizará todo un bloque como en el caso del método def. Escrito en otros términos, la función lambda es de 1 solo renglón. La segunda característica es que debido a su sintaxis, **la función lambda se puede utilizar en puntos en donde la sintaxis def no está permitida**. Para poder entender esto mejor veamos algunos ejemplos para poder distinguir los 2 métodos:"
   ]
  },
  {
   "cell_type": "code",
   "execution_count": null,
   "metadata": {},
   "outputs": [],
   "source": [
    "# Creando una función suma por medio del método def:\n",
    "\n",
    "def suma(a,b,c):\n",
    "    return a+b+c"
   ]
  },
  {
   "cell_type": "code",
   "execution_count": null,
   "metadata": {},
   "outputs": [],
   "source": [
    "suma(5,6,7)"
   ]
  },
  {
   "cell_type": "code",
   "execution_count": null,
   "metadata": {},
   "outputs": [],
   "source": [
    "type(suma)"
   ]
  },
  {
   "cell_type": "code",
   "execution_count": null,
   "metadata": {},
   "outputs": [],
   "source": [
    "# Creando una función lambda para sumar:\n",
    "\n",
    "f=lambda a,b,c:a+b+c\n",
    "f(5,6,7)"
   ]
  },
  {
   "cell_type": "code",
   "execution_count": null,
   "metadata": {},
   "outputs": [],
   "source": [
    "type(f)"
   ]
  },
  {
   "cell_type": "markdown",
   "metadata": {},
   "source": [
    "#### Ejemplo de error de sintaxis:"
   ]
  },
  {
   "cell_type": "code",
   "execution_count": null,
   "metadata": {},
   "outputs": [],
   "source": [
    "# El siguiente es un ejemplo de como la sintaxis de una función def, no está permitido\n",
    "# ser declara dentro de una lista:\n",
    "\n",
    "#lista=[def resta(a,b): return a-b]"
   ]
  },
  {
   "cell_type": "markdown",
   "metadata": {},
   "source": [
    "Para poder resolver el problema anterior, sería necesario declararlas en partes separadas:"
   ]
  },
  {
   "cell_type": "code",
   "execution_count": null,
   "metadata": {},
   "outputs": [],
   "source": [
    "def resta(a,b): return a-b\n",
    "lista=[resta]"
   ]
  },
  {
   "cell_type": "code",
   "execution_count": null,
   "metadata": {},
   "outputs": [],
   "source": [
    "lista[0](5,4)"
   ]
  },
  {
   "cell_type": "markdown",
   "metadata": {},
   "source": [
    "Este problema no se genera cuando se realiza la misma operación, pero usando funciones lambda:"
   ]
  },
  {
   "cell_type": "code",
   "execution_count": null,
   "metadata": {},
   "outputs": [],
   "source": [
    "lista2=[lambda x: x**2]"
   ]
  },
  {
   "cell_type": "code",
   "execution_count": null,
   "metadata": {},
   "outputs": [],
   "source": [
    "lista2[0](3)"
   ]
  },
  {
   "cell_type": "markdown",
   "metadata": {},
   "source": [
    "### ¿Porqué usar lambda?"
   ]
  },
  {
   "cell_type": "markdown",
   "metadata": {},
   "source": [
    "Una de las principales razones es por la sencilles al momento de declarar una función con una sola sentencia. Además de que si la función que se va a crear solo se piensa ejecutar 1 vez, es mas conveniente crearla por medio de lambda. Cabe señalar que el uso de lambda es opcional, y que al final es la decisión del diseñador si la utiliza o no."
   ]
  },
  {
   "cell_type": "code",
   "execution_count": null,
   "metadata": {},
   "outputs": [],
   "source": [
    "L=[lambda x: x**2,\n",
    "   lambda x: x**3,\n",
    "   lambda x: x**4]"
   ]
  },
  {
   "cell_type": "code",
   "execution_count": null,
   "metadata": {},
   "outputs": [],
   "source": [
    "# El siguiente ciclo evaluará cada una de las funciones Lambda dentro\n",
    "# de la lista L.\n",
    "# El valor que asignará a cada función Lambda será de 3:\n",
    "\n",
    "for i in L:\n",
    "    print(i(3))"
   ]
  },
  {
   "cell_type": "code",
   "execution_count": null,
   "metadata": {},
   "outputs": [],
   "source": [
    "# Lo anterior se puede ver al llamar la posición indexada de la función en la lista:\n",
    "\n",
    "L[1](3)"
   ]
  },
  {
   "cell_type": "markdown",
   "metadata": {},
   "source": [
    "Es posible utilizar una función lambda sin la necesidad de almacenarla en alguna variable, solamente hace falta encerrarla entre parentesis, de ahí que se considere como una función anónima:"
   ]
  },
  {
   "cell_type": "code",
   "execution_count": null,
   "metadata": {},
   "outputs": [],
   "source": [
    "(lambda x: x+1)(2)"
   ]
  },
  {
   "cell_type": "markdown",
   "metadata": {},
   "source": [
    "Una función lambda puede ser de orden superior si esta toma otra función como argumento:"
   ]
  },
  {
   "cell_type": "code",
   "execution_count": null,
   "metadata": {},
   "outputs": [],
   "source": [
    "ord_sup=lambda x, func:x+func(x)"
   ]
  },
  {
   "cell_type": "markdown",
   "metadata": {},
   "source": [
    "La funcón anterior, necesita un valor x y una función de un argumento (que también es x) para poder ejecutarse de forma correcta. Una forma para poder emplearla sería la siguiente:"
   ]
  },
  {
   "cell_type": "code",
   "execution_count": null,
   "metadata": {},
   "outputs": [],
   "source": [
    "ord_sup(2,lambda x:x*x)"
   ]
  },
  {
   "cell_type": "code",
   "execution_count": null,
   "metadata": {},
   "outputs": [],
   "source": [
    "ord_sup(\"Edgar\", lambda x: \" \" + x.upper())"
   ]
  },
  {
   "cell_type": "markdown",
   "metadata": {},
   "source": [
    "Una función lambda, puede recibir los argumentos de muchas diferentes formas, a continuación se presentan varios ejemplos con una lambda similar:"
   ]
  },
  {
   "cell_type": "code",
   "execution_count": null,
   "metadata": {},
   "outputs": [],
   "source": [
    "# Lambda con argumentos variables:\n",
    "\n",
    "(lambda x, y, z: x + y + z)(1, 2, 3)"
   ]
  },
  {
   "cell_type": "code",
   "execution_count": null,
   "metadata": {},
   "outputs": [],
   "source": [
    "# Lambda con 1 de sus argumentos inicializado:\n",
    "\n",
    "(lambda x, y, z=3: x + y + z)(1, 2)"
   ]
  },
  {
   "cell_type": "code",
   "execution_count": null,
   "metadata": {},
   "outputs": [],
   "source": [
    "# Lambda con solicitud específica de argumento:\n",
    "\n",
    "(lambda x, y, z=3: x + y + z)(y=2, x=1)"
   ]
  },
  {
   "cell_type": "code",
   "execution_count": null,
   "metadata": {},
   "outputs": [],
   "source": [
    "# Lambda con argumentos infinitos:\n",
    "\n",
    "(lambda *args: sum(args))(1,2,3)"
   ]
  },
  {
   "cell_type": "code",
   "execution_count": null,
   "metadata": {},
   "outputs": [],
   "source": [
    "# Lambda con kwargs infinitos:\n",
    "(lambda **kwargs: sum(kwargs.values()))(one=1, two=2, three=3)"
   ]
  },
  {
   "cell_type": "markdown",
   "metadata": {},
   "source": [
    "### Usos de Lambda"
   ]
  },
  {
   "cell_type": "markdown",
   "metadata": {},
   "source": [
    "#### filter(función, serie)"
   ]
  },
  {
   "cell_type": "markdown",
   "metadata": {},
   "source": [
    "El método **filter()** se puede ocupar para poder filtrar los elementos de una lista, mediante el uso de una función. En el siguiente ejemplo filtraremos los números pares para solo obtener los nones:"
   ]
  },
  {
   "cell_type": "code",
   "execution_count": null,
   "metadata": {},
   "outputs": [],
   "source": [
    "lista_num = [5, 7, 22, 97, 54, 62, 77, 23, 73, 61] \n",
    "filter(lambda x: (x%2 != 0) , lista_num)"
   ]
  },
  {
   "cell_type": "markdown",
   "metadata": {},
   "source": [
    "Para que el filtrado funcione, hace falta almacenarlo en una nueva lista destino. Es por ello que crearemos un nuevo objeto lista instanciando directamente desde la clase **list()**:"
   ]
  },
  {
   "cell_type": "code",
   "execution_count": null,
   "metadata": {},
   "outputs": [],
   "source": [
    "lista_nones = list(filter(lambda x: (x%2 != 0) , lista_num)) \n",
    "lista_nones"
   ]
  },
  {
   "cell_type": "code",
   "execution_count": null,
   "metadata": {},
   "outputs": [],
   "source": [
    "lista_mayores_50 = list(filter(lambda x: (x>50) , lista_num)) \n",
    "lista_mayores_50"
   ]
  },
  {
   "cell_type": "code",
   "execution_count": null,
   "metadata": {},
   "outputs": [],
   "source": [
    "lista_filtrada = list(filter(lambda x:(x>10 and x<60 ) , lista_num)) \n",
    "lista_filtrada"
   ]
  },
  {
   "cell_type": "markdown",
   "metadata": {},
   "source": [
    "#### map(función, serie)"
   ]
  },
  {
   "cell_type": "markdown",
   "metadata": {},
   "source": [
    "El método **map()** modifica los elementos de una serie, de acuerdo a la función que reciba como argumento. Finalmente genera un nuevo arreglo de datos con la modificación establecida:"
   ]
  },
  {
   "cell_type": "code",
   "execution_count": null,
   "metadata": {},
   "outputs": [],
   "source": [
    "lista_o = [5, 7, 22, 97, 54, 62, 77, 23, 73, 61] \n",
    "lista_final = list(map(lambda x: x*2 , lista_o)) \n",
    "lista_final"
   ]
  },
  {
   "cell_type": "code",
   "execution_count": null,
   "metadata": {},
   "outputs": [],
   "source": [
    "lista_filtrada_cuadrado = list(map(lambda x: x**2 , lista_filtrada)) \n",
    "lista_filtrada_cuadrado"
   ]
  },
  {
   "cell_type": "markdown",
   "metadata": {},
   "source": [
    "#### reduce(función, serie)"
   ]
  },
  {
   "cell_type": "markdown",
   "metadata": {},
   "source": [
    "El método **reduce()** funciona de una forma muy similar a map. La diferencia radica en el como lo hace; la manera en la que reduce opera sobre los elementos de la serie es la siguiente:\n",
    "\n",
    "1. Realiza la operacion en los 2 primeros elementos de la secuencia.\n",
    "\n",
    "2. Almacena temporalmente el resultado.\n",
    "\n",
    "3. Realiza la operación con el resultado almacenado y con el siguiente elemento de la secuencia.\n",
    "\n",
    "4. Repite el proceso hasta que no quedan más elementos de la secuencia.\n",
    "\n",
    "El método reduce no se encuenta disponible directamente. Es necesario importarlo desde la libreria **functools**:"
   ]
  },
  {
   "cell_type": "code",
   "execution_count": null,
   "metadata": {},
   "outputs": [],
   "source": [
    "from functools import reduce\n",
    "\n",
    "secuencia = [1,2,3,4,5]\n",
    "factorial = reduce(lambda x, y: x*y, secuencia)\n",
    "factorial"
   ]
  },
  {
   "cell_type": "code",
   "execution_count": null,
   "metadata": {},
   "outputs": [],
   "source": [
    "secuencia = [ 1 , 3, 5, 6, 2, ]\n",
    "\n",
    "print (\"El elemento mayor en la serie es: \",end=\"\") \n",
    "print (reduce(lambda a,b : a if a > b else b,secuencia))"
   ]
  },
  {
   "cell_type": "markdown",
   "metadata": {},
   "source": [
    "## 4.1 Colecciones Arraylist"
   ]
  },
  {
   "cell_type": "markdown",
   "metadata": {},
   "source": [
    "En Python, las listas son muy semejantes a los arreglos de otros lenguajes, e incluso a los Arraylist de Java o C#. Las lsitas en Python no deben de ser homogeneas con respecto a su contenido. Tampoco son estáticas, por el contrario pueden cambiar tanto en contenido como de tamaño. Las listas en Python se encuentran ordenadas de acuerdo a su posición indexada de los elementos. Las listas también permiten la aparición de elementos duplicados dentro de su contenido."
   ]
  },
  {
   "cell_type": "markdown",
   "metadata": {},
   "source": [
    "Para crear una lista en Python se utilizan los corchetes [], los elementos de la lista pueden ser accesados mediante su posición indexada. Para mas información al respecto, referirse al documento de introducción a Python que se encuentra en este mismo repositorio"
   ]
  },
  {
   "cell_type": "markdown",
   "metadata": {},
   "source": [
    "<table>\n",
    "  <tr>\n",
    "    <td>append(elemento)</td>\n",
    "    <td>insert([posición], elemento)</td>\n",
    "    <td>sum(lista)</td>\n",
    "    <td>count(elemento)</td>\n",
    "    <td>len(lista)</td>\n",
    "  </tr>\n",
    "  <tr>\n",
    "    <td>index(elemento)</td>\n",
    "    <td>min(lista)</td>\n",
    "    <td>max(lista)</td>\n",
    "    <td>sort([key])</td>\n",
    "    <td>pop([index])</td>\n",
    "  </tr>\n",
    "  <tr>\n",
    "    <td>remove(elemento)</td>\n",
    "  </tr>\n",
    "</table>"
   ]
  },
  {
   "cell_type": "markdown",
   "metadata": {},
   "source": [
    "Una herramienta útil al trabajar listas, es tambien el poder crear una sublista a partir de la posición indexada de los elementos. Para lograr esto es necesario utilizar la notación de sintaxis de rango:"
   ]
  },
  {
   "cell_type": "code",
   "execution_count": 88,
   "metadata": {},
   "outputs": [],
   "source": [
    "original=[1,3,5,7,9,2,4,6,8]"
   ]
  },
  {
   "cell_type": "markdown",
   "metadata": {},
   "source": [
    "Para generar la sublista a partir del segundo elemento usamos la notación indexada:"
   ]
  },
  {
   "cell_type": "code",
   "execution_count": 89,
   "metadata": {},
   "outputs": [
    {
     "data": {
      "text/plain": [
       "[3, 5, 7, 9, 2, 4, 6, 8]"
      ]
     },
     "execution_count": 89,
     "metadata": {},
     "output_type": "execute_result"
    }
   ],
   "source": [
    "sub_lista=original[1:]\n",
    "sub_lista"
   ]
  },
  {
   "cell_type": "markdown",
   "metadata": {},
   "source": [
    "Al no contar con un número de elementos a considerar, únicamente se considera la posición indexada como el inicio del subgrupo."
   ]
  },
  {
   "cell_type": "code",
   "execution_count": 92,
   "metadata": {},
   "outputs": [
    {
     "data": {
      "text/plain": [
       "[1, 3, 5, 7]"
      ]
     },
     "execution_count": 92,
     "metadata": {},
     "output_type": "execute_result"
    }
   ],
   "source": [
    "sub_lista2=original[:4]\n",
    "sub_lista2"
   ]
  },
  {
   "cell_type": "markdown",
   "metadata": {},
   "source": [
    "Al no indicar la posición indexada, y dar como valor 4, le pedimos a Python crear un subgrupo que contenga los primeros 4 elementos de la lista. A partir de estos 2 ejemplos podemos llegar a la siguiente conclusión:"
   ]
  },
  {
   "cell_type": "markdown",
   "metadata": {},
   "source": [
    "---------------------------------------------------------------------------------------------------------------------------\n",
    "\n",
    "                                     lista[posición indexada : número de elementos] \n",
    "\n",
    "---------------------------------------------------------------------------------------------------------------------------"
   ]
  },
  {
   "cell_type": "code",
   "execution_count": 93,
   "metadata": {},
   "outputs": [
    {
     "data": {
      "text/plain": [
       "[7]"
      ]
     },
     "execution_count": 93,
     "metadata": {},
     "output_type": "execute_result"
    }
   ],
   "source": [
    "# En el siguiente ejemplo, se combinan ambos aspectos:\n",
    "sub_lista3=original[3:4]\n",
    "sub_lista3"
   ]
  },
  {
   "cell_type": "markdown",
   "metadata": {},
   "source": [
    "El ejemplo anterior pide traer los 4 primeros elementos de la lista, sin embargo también pide que se inicie en la posición indexada 3. Esto hace que los elementos 1,3,5 sean descartados por sus posiciones indexadas y solamente se traiga al 7 que es el cuarto elemento."
   ]
  },
  {
   "cell_type": "markdown",
   "metadata": {},
   "source": [
    "### Actividad"
   ]
  },
  {
   "cell_type": "markdown",
   "metadata": {},
   "source": [
    "A modo de recordatorio, revisemos el siguiente código para generar números aleatorios:"
   ]
  },
  {
   "cell_type": "code",
   "execution_count": 3,
   "metadata": {},
   "outputs": [],
   "source": [
    "# Importamos la librrería random para generar números aleatorios.\n",
    "import random\n",
    "\n",
    "# Creamos una función que generará una lista con los números aleatorios creados\n",
    "def listaAleatorios(n):\n",
    "    '''\n",
    "    El método creará una lista vacia, posteriormente usará la librería random\n",
    "    para crear números aleatoriso entre 2 límites. Para ello se usa el método\n",
    "    randint. Finalmente mediante el método append, cada elemento aleatorio\n",
    "    generado, es agregado al final de la lista.\n",
    "    '''\n",
    "    lista = []\n",
    "    for i in range(n):\n",
    "        x=random.randint(0, 100)\n",
    "        lista.append(x)\n",
    "    return lista"
   ]
  },
  {
   "cell_type": "markdown",
   "metadata": {},
   "source": [
    "Utilizando la función **listaAleatorios(n)**, Genera una lista de 100 valores aleatorios, y resuelve las siguientes solicitudes en Spyder:"
   ]
  },
  {
   "cell_type": "markdown",
   "metadata": {},
   "source": [
    "1. La suma de todos los elementos en la lista\n",
    "2. El valor máximo de la lista\n",
    "3. El valor mínimo de la lista\n",
    "4. La posición indexada de los valores máximo y mínimo de la lista.\n",
    "5. Crear una lista con los valores filtrados menores a 30\n",
    "6. Crear una lista con los valores filtrados entre 30 y 65.\n",
    "7. Crear una lista con los valores filtrados mayores a 65.\n",
    "8. Determinar el número de elementos de las 3 nuevas listas.\n",
    "9. Determinar el máximo y el mínimo de las 3 nuevas listas. \n",
    "10. Eliminar los valores máximo y mínimo de las 3 nuevas listas.\n",
    "11. Contar el número de apariciones independientes de cada número en las 4 listas actuales.\n",
    "12. Elevar al cubo los elementos de la lista de valores menores a 30\n",
    "13. Elvar al cuadrado los elementos de la lista de valores entre 30 y 65.\n",
    "14. Sumar el contenido de las listas al cubo y al cuadrado.\n",
    "15. Crear una lista superior que contenga la lista original, la lista al cuadrado y la lista al cubo."
   ]
  },
  {
   "cell_type": "markdown",
   "metadata": {},
   "source": [
    "<img src=\"img/spyder.png\" alt=\"Spyder\" width=\"300\"/>"
   ]
  },
  {
   "cell_type": "code",
   "execution_count": 5,
   "metadata": {},
   "outputs": [],
   "source": [
    "ejemplo=listaAleatorios(100)"
   ]
  },
  {
   "cell_type": "code",
   "execution_count": 7,
   "metadata": {},
   "outputs": [
    {
     "data": {
      "text/plain": [
       "5269"
      ]
     },
     "execution_count": 7,
     "metadata": {},
     "output_type": "execute_result"
    }
   ],
   "source": [
    "sum(ejemplo)"
   ]
  },
  {
   "cell_type": "code",
   "execution_count": 15,
   "metadata": {},
   "outputs": [
    {
     "data": {
      "text/plain": [
       "100"
      ]
     },
     "execution_count": 15,
     "metadata": {},
     "output_type": "execute_result"
    }
   ],
   "source": [
    "max(ejemplo)"
   ]
  },
  {
   "cell_type": "code",
   "execution_count": 16,
   "metadata": {},
   "outputs": [
    {
     "data": {
      "text/plain": [
       "0"
      ]
     },
     "execution_count": 16,
     "metadata": {},
     "output_type": "execute_result"
    }
   ],
   "source": [
    "min(ejemplo)"
   ]
  },
  {
   "cell_type": "code",
   "execution_count": 18,
   "metadata": {},
   "outputs": [
    {
     "data": {
      "text/plain": [
       "24"
      ]
     },
     "execution_count": 18,
     "metadata": {},
     "output_type": "execute_result"
    }
   ],
   "source": [
    "ejemplo.index(0)"
   ]
  },
  {
   "cell_type": "code",
   "execution_count": 19,
   "metadata": {},
   "outputs": [
    {
     "data": {
      "text/plain": [
       "45"
      ]
     },
     "execution_count": 19,
     "metadata": {},
     "output_type": "execute_result"
    }
   ],
   "source": [
    "ejemplo.index(100)"
   ]
  },
  {
   "cell_type": "code",
   "execution_count": 22,
   "metadata": {},
   "outputs": [
    {
     "name": "stdout",
     "output_type": "stream",
     "text": [
      "[16, 3, 24, 6, 24, 23, 20, 11, 0, 10, 4, 24, 0, 11, 21, 27, 25, 29, 9, 6, 22, 10, 17, 3, 26, 6, 10, 24, 4, 12, 21, 7]\n"
     ]
    }
   ],
   "source": [
    "lista_menores_30 = list(filter(lambda x: (x<30) , ejemplo))\n",
    "print(lista_menores_30)"
   ]
  },
  {
   "cell_type": "code",
   "execution_count": 23,
   "metadata": {},
   "outputs": [
    {
     "name": "stdout",
     "output_type": "stream",
     "text": [
      "[43, 41, 54, 32, 57, 47, 55, 50, 51, 30, 30, 37, 59, 60, 37, 60, 42, 40, 53, 44, 51, 39, 61, 60, 47, 63]\n"
     ]
    }
   ],
   "source": [
    "lista_2_limites = list(filter(lambda x: (x>=30 and x<=65) , ejemplo))\n",
    "print(lista_2_limites)"
   ]
  },
  {
   "cell_type": "code",
   "execution_count": 24,
   "metadata": {},
   "outputs": [
    {
     "name": "stdout",
     "output_type": "stream",
     "text": [
      "[66, 87, 79, 94, 98, 96, 81, 99, 92, 81, 91, 76, 86, 72, 67, 93, 80, 100, 69, 90, 92, 97, 88, 98, 73, 67, 100, 79, 79, 89, 88, 76, 81, 81, 80, 100, 78, 82, 79, 94, 80, 93]\n"
     ]
    }
   ],
   "source": [
    "lista_mayores_65 = list(filter(lambda x: (x>65) , ejemplo))\n",
    "print(lista_mayores_65)"
   ]
  },
  {
   "cell_type": "code",
   "execution_count": 26,
   "metadata": {},
   "outputs": [
    {
     "data": {
      "text/plain": [
       "32"
      ]
     },
     "execution_count": 26,
     "metadata": {},
     "output_type": "execute_result"
    }
   ],
   "source": [
    "len(lista_menores_30)"
   ]
  },
  {
   "cell_type": "code",
   "execution_count": 27,
   "metadata": {},
   "outputs": [
    {
     "data": {
      "text/plain": [
       "26"
      ]
     },
     "execution_count": 27,
     "metadata": {},
     "output_type": "execute_result"
    }
   ],
   "source": [
    "len(lista_2_limites)"
   ]
  },
  {
   "cell_type": "code",
   "execution_count": 28,
   "metadata": {},
   "outputs": [
    {
     "data": {
      "text/plain": [
       "42"
      ]
     },
     "execution_count": 28,
     "metadata": {},
     "output_type": "execute_result"
    }
   ],
   "source": [
    "len(lista_mayores_65)"
   ]
  },
  {
   "cell_type": "code",
   "execution_count": 30,
   "metadata": {},
   "outputs": [
    {
     "name": "stdout",
     "output_type": "stream",
     "text": [
      "0\n",
      "29\n",
      "30\n",
      "63\n",
      "66\n",
      "100\n"
     ]
    }
   ],
   "source": [
    "print(min(lista_menores_30))\n",
    "print(max(lista_menores_30))\n",
    "print(min(lista_2_limites))\n",
    "print(max(lista_2_limites))\n",
    "print(min(lista_mayores_65))\n",
    "print(max(lista_mayores_65))"
   ]
  },
  {
   "cell_type": "code",
   "execution_count": 31,
   "metadata": {},
   "outputs": [],
   "source": [
    "lista_menores_30.remove(0)\n",
    "lista_menores_30.remove(29)\n",
    "lista_2_limites.remove(30)\n",
    "lista_2_limites.remove(63)\n",
    "lista_mayores_65.remove(66)\n",
    "lista_mayores_65.remove(100)"
   ]
  },
  {
   "cell_type": "code",
   "execution_count": 34,
   "metadata": {},
   "outputs": [],
   "source": [
    "def contar(func):\n",
    "    a=min(func)\n",
    "    b=max(func)\n",
    "    for i in range(a,b+1):\n",
    "        x=func.count(i)\n",
    "        print(i,\"No. apariciones:\",x)"
   ]
  },
  {
   "cell_type": "code",
   "execution_count": 35,
   "metadata": {},
   "outputs": [
    {
     "name": "stdout",
     "output_type": "stream",
     "text": [
      "0 No. apariciones: 1\n",
      "1 No. apariciones: 0\n",
      "2 No. apariciones: 0\n",
      "3 No. apariciones: 2\n",
      "4 No. apariciones: 2\n",
      "5 No. apariciones: 0\n",
      "6 No. apariciones: 3\n",
      "7 No. apariciones: 1\n",
      "8 No. apariciones: 0\n",
      "9 No. apariciones: 1\n",
      "10 No. apariciones: 3\n",
      "11 No. apariciones: 2\n",
      "12 No. apariciones: 1\n",
      "13 No. apariciones: 0\n",
      "14 No. apariciones: 0\n",
      "15 No. apariciones: 0\n",
      "16 No. apariciones: 1\n",
      "17 No. apariciones: 1\n",
      "18 No. apariciones: 0\n",
      "19 No. apariciones: 0\n",
      "20 No. apariciones: 1\n",
      "21 No. apariciones: 2\n",
      "22 No. apariciones: 1\n",
      "23 No. apariciones: 1\n",
      "24 No. apariciones: 4\n",
      "25 No. apariciones: 1\n",
      "26 No. apariciones: 1\n",
      "27 No. apariciones: 1\n"
     ]
    }
   ],
   "source": [
    "contar(lista_menores_30)"
   ]
  },
  {
   "cell_type": "code",
   "execution_count": 37,
   "metadata": {},
   "outputs": [
    {
     "name": "stdout",
     "output_type": "stream",
     "text": [
      "30 No. apariciones: 1\n",
      "31 No. apariciones: 0\n",
      "32 No. apariciones: 1\n",
      "33 No. apariciones: 0\n",
      "34 No. apariciones: 0\n",
      "35 No. apariciones: 0\n",
      "36 No. apariciones: 0\n",
      "37 No. apariciones: 2\n",
      "38 No. apariciones: 0\n",
      "39 No. apariciones: 1\n",
      "40 No. apariciones: 1\n",
      "41 No. apariciones: 1\n",
      "42 No. apariciones: 1\n",
      "43 No. apariciones: 1\n",
      "44 No. apariciones: 1\n",
      "45 No. apariciones: 0\n",
      "46 No. apariciones: 0\n",
      "47 No. apariciones: 2\n",
      "48 No. apariciones: 0\n",
      "49 No. apariciones: 0\n",
      "50 No. apariciones: 1\n",
      "51 No. apariciones: 2\n",
      "52 No. apariciones: 0\n",
      "53 No. apariciones: 1\n",
      "54 No. apariciones: 1\n",
      "55 No. apariciones: 1\n",
      "56 No. apariciones: 0\n",
      "57 No. apariciones: 1\n",
      "58 No. apariciones: 0\n",
      "59 No. apariciones: 1\n",
      "60 No. apariciones: 3\n",
      "61 No. apariciones: 1\n"
     ]
    }
   ],
   "source": [
    "contar(lista_2_limites)"
   ]
  },
  {
   "cell_type": "code",
   "execution_count": 38,
   "metadata": {},
   "outputs": [
    {
     "name": "stdout",
     "output_type": "stream",
     "text": [
      "67 No. apariciones: 2\n",
      "68 No. apariciones: 0\n",
      "69 No. apariciones: 1\n",
      "70 No. apariciones: 0\n",
      "71 No. apariciones: 0\n",
      "72 No. apariciones: 1\n",
      "73 No. apariciones: 1\n",
      "74 No. apariciones: 0\n",
      "75 No. apariciones: 0\n",
      "76 No. apariciones: 2\n",
      "77 No. apariciones: 0\n",
      "78 No. apariciones: 1\n",
      "79 No. apariciones: 4\n",
      "80 No. apariciones: 3\n",
      "81 No. apariciones: 4\n",
      "82 No. apariciones: 1\n",
      "83 No. apariciones: 0\n",
      "84 No. apariciones: 0\n",
      "85 No. apariciones: 0\n",
      "86 No. apariciones: 1\n",
      "87 No. apariciones: 1\n",
      "88 No. apariciones: 2\n",
      "89 No. apariciones: 1\n",
      "90 No. apariciones: 1\n",
      "91 No. apariciones: 1\n",
      "92 No. apariciones: 2\n",
      "93 No. apariciones: 2\n",
      "94 No. apariciones: 2\n",
      "95 No. apariciones: 0\n",
      "96 No. apariciones: 1\n",
      "97 No. apariciones: 1\n",
      "98 No. apariciones: 2\n",
      "99 No. apariciones: 1\n",
      "100 No. apariciones: 2\n"
     ]
    }
   ],
   "source": [
    "contar(lista_mayores_65)"
   ]
  },
  {
   "cell_type": "code",
   "execution_count": 39,
   "metadata": {},
   "outputs": [
    {
     "name": "stdout",
     "output_type": "stream",
     "text": [
      "0 No. apariciones: 2\n",
      "1 No. apariciones: 0\n",
      "2 No. apariciones: 0\n",
      "3 No. apariciones: 2\n",
      "4 No. apariciones: 2\n",
      "5 No. apariciones: 0\n",
      "6 No. apariciones: 3\n",
      "7 No. apariciones: 1\n",
      "8 No. apariciones: 0\n",
      "9 No. apariciones: 1\n",
      "10 No. apariciones: 3\n",
      "11 No. apariciones: 2\n",
      "12 No. apariciones: 1\n",
      "13 No. apariciones: 0\n",
      "14 No. apariciones: 0\n",
      "15 No. apariciones: 0\n",
      "16 No. apariciones: 1\n",
      "17 No. apariciones: 1\n",
      "18 No. apariciones: 0\n",
      "19 No. apariciones: 0\n",
      "20 No. apariciones: 1\n",
      "21 No. apariciones: 2\n",
      "22 No. apariciones: 1\n",
      "23 No. apariciones: 1\n",
      "24 No. apariciones: 4\n",
      "25 No. apariciones: 1\n",
      "26 No. apariciones: 1\n",
      "27 No. apariciones: 1\n",
      "28 No. apariciones: 0\n",
      "29 No. apariciones: 1\n",
      "30 No. apariciones: 2\n",
      "31 No. apariciones: 0\n",
      "32 No. apariciones: 1\n",
      "33 No. apariciones: 0\n",
      "34 No. apariciones: 0\n",
      "35 No. apariciones: 0\n",
      "36 No. apariciones: 0\n",
      "37 No. apariciones: 2\n",
      "38 No. apariciones: 0\n",
      "39 No. apariciones: 1\n",
      "40 No. apariciones: 1\n",
      "41 No. apariciones: 1\n",
      "42 No. apariciones: 1\n",
      "43 No. apariciones: 1\n",
      "44 No. apariciones: 1\n",
      "45 No. apariciones: 0\n",
      "46 No. apariciones: 0\n",
      "47 No. apariciones: 2\n",
      "48 No. apariciones: 0\n",
      "49 No. apariciones: 0\n",
      "50 No. apariciones: 1\n",
      "51 No. apariciones: 2\n",
      "52 No. apariciones: 0\n",
      "53 No. apariciones: 1\n",
      "54 No. apariciones: 1\n",
      "55 No. apariciones: 1\n",
      "56 No. apariciones: 0\n",
      "57 No. apariciones: 1\n",
      "58 No. apariciones: 0\n",
      "59 No. apariciones: 1\n",
      "60 No. apariciones: 3\n",
      "61 No. apariciones: 1\n",
      "62 No. apariciones: 0\n",
      "63 No. apariciones: 1\n",
      "64 No. apariciones: 0\n",
      "65 No. apariciones: 0\n",
      "66 No. apariciones: 1\n",
      "67 No. apariciones: 2\n",
      "68 No. apariciones: 0\n",
      "69 No. apariciones: 1\n",
      "70 No. apariciones: 0\n",
      "71 No. apariciones: 0\n",
      "72 No. apariciones: 1\n",
      "73 No. apariciones: 1\n",
      "74 No. apariciones: 0\n",
      "75 No. apariciones: 0\n",
      "76 No. apariciones: 2\n",
      "77 No. apariciones: 0\n",
      "78 No. apariciones: 1\n",
      "79 No. apariciones: 4\n",
      "80 No. apariciones: 3\n",
      "81 No. apariciones: 4\n",
      "82 No. apariciones: 1\n",
      "83 No. apariciones: 0\n",
      "84 No. apariciones: 0\n",
      "85 No. apariciones: 0\n",
      "86 No. apariciones: 1\n",
      "87 No. apariciones: 1\n",
      "88 No. apariciones: 2\n",
      "89 No. apariciones: 1\n",
      "90 No. apariciones: 1\n",
      "91 No. apariciones: 1\n",
      "92 No. apariciones: 2\n",
      "93 No. apariciones: 2\n",
      "94 No. apariciones: 2\n",
      "95 No. apariciones: 0\n",
      "96 No. apariciones: 1\n",
      "97 No. apariciones: 1\n",
      "98 No. apariciones: 2\n",
      "99 No. apariciones: 1\n",
      "100 No. apariciones: 3\n"
     ]
    }
   ],
   "source": [
    "contar(ejemplo)"
   ]
  },
  {
   "cell_type": "code",
   "execution_count": 40,
   "metadata": {},
   "outputs": [
    {
     "name": "stdout",
     "output_type": "stream",
     "text": [
      "[4096, 27, 13824, 216, 13824, 12167, 8000, 1331, 1000, 64, 13824, 0, 1331, 9261, 19683, 15625, 729, 216, 10648, 1000, 4913, 27, 17576, 216, 1000, 13824, 64, 1728, 9261, 343]\n"
     ]
    }
   ],
   "source": [
    "lista_cubo = list(map(lambda x: x**3 , lista_menores_30))\n",
    "print(lista_cubo)"
   ]
  },
  {
   "cell_type": "code",
   "execution_count": 41,
   "metadata": {},
   "outputs": [
    {
     "name": "stdout",
     "output_type": "stream",
     "text": [
      "[1849, 1681, 2916, 1024, 3249, 2209, 3025, 2500, 2601, 900, 1369, 3481, 3600, 1369, 3600, 1764, 1600, 2809, 1936, 2601, 1521, 3721, 3600, 2209]\n"
     ]
    }
   ],
   "source": [
    "lista_cuadrada = list(map(lambda x: x**2 , lista_2_limites))\n",
    "print(lista_cuadrada)"
   ]
  },
  {
   "cell_type": "code",
   "execution_count": 42,
   "metadata": {},
   "outputs": [
    {
     "data": {
      "text/plain": [
       "175818"
      ]
     },
     "execution_count": 42,
     "metadata": {},
     "output_type": "execute_result"
    }
   ],
   "source": [
    "sum(lista_cubo)"
   ]
  },
  {
   "cell_type": "code",
   "execution_count": 43,
   "metadata": {},
   "outputs": [
    {
     "data": {
      "text/plain": [
       "57134"
      ]
     },
     "execution_count": 43,
     "metadata": {},
     "output_type": "execute_result"
    }
   ],
   "source": [
    "sum(lista_cuadrada)"
   ]
  },
  {
   "cell_type": "code",
   "execution_count": 52,
   "metadata": {},
   "outputs": [],
   "source": [
    "lista_superior=[ejemplo, lista_cuadrada, lista_cubo]"
   ]
  },
  {
   "cell_type": "markdown",
   "metadata": {},
   "source": [
    "## 4.2 Recursividad"
   ]
  },
  {
   "cell_type": "markdown",
   "metadata": {},
   "source": [
    "<img src=\"img\\recursividad.jpg\" alt=\"Python\" width=\"300\"/>"
   ]
  },
  {
   "cell_type": "markdown",
   "metadata": {},
   "source": [
    "En diferentes materias a lo largo de la carrera, se ha presentado el caso de analizar una función en su tiempo cero, para posteriormente realizar un analisis en tiempos diferentes. Un ejemplo de esto sería la siguiente ecuación:"
   ]
  },
  {
   "cell_type": "markdown",
   "metadata": {},
   "source": [
    "$$f(0)=3$$\n",
    "\n",
    "$$f(t)=2f(t-1)+3$$"
   ]
  },
  {
   "cell_type": "markdown",
   "metadata": {},
   "source": [
    "Evaluando la función para un tiempo \n",
    "$$t=1$$ \n",
    "nos da como resultado 3. Si procedemos a resolver la función para \n",
    "$$f(1)$$\n",
    "resulta: "
   ]
  },
  {
   "cell_type": "markdown",
   "metadata": {},
   "source": [
    "$$f(1)=2f(0)+3$$\n",
    "$$f(1)=(2)(3)+3$$\n",
    "$$f(1)=9$$"
   ]
  },
  {
   "cell_type": "markdown",
   "metadata": {},
   "source": [
    "Para cada caso que quisieramos evaluar, necesitariamos conocer el caso anterior. Por ejemplo si quisieramos evaluar f(3), forzosamente necesitamos conocer f(2)."
   ]
  },
  {
   "cell_type": "markdown",
   "metadata": {},
   "source": [
    "Este proceso se le conoce como recursividad. En programación, aquellas funciones que en su algoritmo, hacen referencia sí misma son funciones recursivas. Una función de este tipo se utilizó para poder desarrollar el fractal de Koch en la unidad 3. En este tipo de casos, la función se aproxima a la solución mediante llamados a la misma función desde adentro. En el siguiente ejemplo, la función **cuenta_regresiva**, se va aproximando a su resultado, mediante llamados a sí misma, siempre y cuando el valor del argumento sea mayor a 1:"
   ]
  },
  {
   "cell_type": "code",
   "execution_count": null,
   "metadata": {},
   "outputs": [],
   "source": [
    "def cuenta_regresiva(numero):\n",
    "    numero -= 1\n",
    "    if numero > 0:\n",
    "        print (numero)\n",
    "        # Llamada recursiva:\n",
    "        cuenta_regresiva(numero)\n",
    "    else:\n",
    "        print (\"\\nCon el valor de\", numero, \"se há terminado la recursividad\\n\")\n",
    "    print (\"Fin de la función\", numero)\n",
    "\n",
    "cuenta_regresiva(5)"
   ]
  },
  {
   "cell_type": "markdown",
   "metadata": {},
   "source": [
    "Como se pudo observar en el ejemplo anterior, la recursividad surge como una opción dentro de una sentencia **If**. Esto es necesario ya que el If nos va a dar la salida de la función recursiva y así de este modo evitar que se ejecute de manera infinita:"
   ]
  },
  {
   "cell_type": "code",
   "execution_count": null,
   "metadata": {},
   "outputs": [],
   "source": [
    "def repetir():\n",
    "    repetir()\n",
    "\n",
    "#repetir()"
   ]
  },
  {
   "cell_type": "markdown",
   "metadata": {},
   "source": [
    "La función repetir es recursiva porque dentro de la función se llama a sí misma. Sin embargo, debido a que no contiene una salida de la misma, esta se bloqueará y generará una excepción: \"RecursionError: maximum recursion depth exceeded\"\n",
    "La razón de este error es que por cada llamada a la función, se reserva un espacio de memoria que solo puede ser liberado cuando la ejecución se termina. "
   ]
  },
  {
   "cell_type": "code",
   "execution_count": null,
   "metadata": {},
   "outputs": [],
   "source": [
    "# La siguiente función mandará resultados hasta que se bloquee debido a la insuficiencia en memoria:\n",
    "def imprimir(x):\n",
    "    print(x)\n",
    "    imprimir(x-1)\n",
    "\n",
    "#imprimir(5)  "
   ]
  },
  {
   "cell_type": "markdown",
   "metadata": {},
   "source": [
    "Por lo tanto para poder corregir el problema, es necesario proporcionar a la función una salida. Esta salida vendrá dada por un caso definido por el programador, en donde la recursividad termina:"
   ]
  },
  {
   "cell_type": "code",
   "execution_count": null,
   "metadata": {},
   "outputs": [],
   "source": [
    "def imprimir(x):\n",
    "    if x>0:\n",
    "        print(\"Entrando a un nivel de recursividad.\", end=\" \")\n",
    "        print(\"Valor almacenado del argumento:\",x)\n",
    "        imprimir(x-1)\n",
    "    else:\n",
    "        print(\"La recursividad ha terminado, la memoria será liberada.\",x)\n",
    "imprimir(5)"
   ]
  },
  {
   "cell_type": "code",
   "execution_count": null,
   "metadata": {},
   "outputs": [],
   "source": [
    "def factorial(numero):\n",
    "    if (numero<0):\n",
    "        return \"Error\"\n",
    "    elif(numero == 0 or numero == 1):\n",
    "        return 1\n",
    "    else:\n",
    "        return numero * factorial(numero-1)\n",
    "factorial(11)"
   ]
  },
  {
   "cell_type": "markdown",
   "metadata": {},
   "source": [
    "<img src=\"img\\factorial.png\" alt=\"Python\" width=\"900\"/>"
   ]
  },
  {
   "cell_type": "markdown",
   "metadata": {},
   "source": [
    "El siguiente ejemplo de recursividad, nos muestra como una función recursiva puede ser sumamente ineficiente si no se programa de forma adecuada."
   ]
  },
  {
   "cell_type": "code",
   "execution_count": null,
   "metadata": {},
   "outputs": [],
   "source": [
    "def fib_recur(n):\n",
    "    if n == 0 or n == 1:\n",
    "        return 1\n",
    "    else:\n",
    "        return fib_recur(n - 1) + fib_recur(n - 2)\n",
    "\n",
    "fib_recur(40)"
   ]
  },
  {
   "cell_type": "markdown",
   "metadata": {},
   "source": [
    "Como se mencionó en un principio, la recursividad se utilizó con anterioridad cuando se vio el módulo turtle. El siguiente ejemplo hace uso de la recursividad:"
   ]
  },
  {
   "cell_type": "code",
   "execution_count": null,
   "metadata": {},
   "outputs": [],
   "source": [
    "import turtle\n",
    "\n",
    "miTortuga = turtle.Turtle()\n",
    "miVentana = turtle.Screen()\n",
    "\n",
    "def dibujarEspiral(miTortuga, longitudLinea):\n",
    "    if longitudLinea > 0:\n",
    "        miTortuga.forward(longitudLinea)\n",
    "        miTortuga.right(90)\n",
    "        dibujarEspiral(miTortuga,longitudLinea-5)\n",
    "\n",
    "dibujarEspiral(miTortuga,100)\n",
    "\n",
    "miVentana.exitonclick()"
   ]
  },
  {
   "cell_type": "markdown",
   "metadata": {},
   "source": [
    "En conclusión, para que una función recursiva funcione, 3 cosas deben de cumplirse:\n",
    "\n",
    "1. La función debe contar con un caso base que sirva de salida.\n",
    "\n",
    "2. La recursividad debe buscar moverse hacia el caso base.\n",
    "\n",
    "3. La función debe llamarse a sí misma dentro de sus sentencias."
   ]
  },
  {
   "cell_type": "code",
   "execution_count": null,
   "metadata": {},
   "outputs": [],
   "source": [
    "def triangulo(n):\n",
    "    if n == 1:\n",
    "        x=[1]\n",
    "        print(x)\n",
    "    else:\n",
    "        triangulo(n-1)\n",
    "        x=[]\n",
    "        for i in range(n):\n",
    "            x.append(1)\n",
    "        print(x)"
   ]
  },
  {
   "cell_type": "code",
   "execution_count": null,
   "metadata": {
    "scrolled": true
   },
   "outputs": [],
   "source": [
    "triangulo(10)"
   ]
  },
  {
   "cell_type": "code",
   "execution_count": null,
   "metadata": {},
   "outputs": [],
   "source": [
    "def triangulo2(n):\n",
    "    if n == 1:\n",
    "        x=[1]\n",
    "        print(x)\n",
    "    else:\n",
    "        triangulo(n-1)\n",
    "        x=[]\n",
    "        for i in range(n):\n",
    "            x.append(n)\n",
    "        print(x)"
   ]
  },
  {
   "cell_type": "code",
   "execution_count": null,
   "metadata": {},
   "outputs": [],
   "source": [
    "triangulo2(4)"
   ]
  },
  {
   "cell_type": "code",
   "execution_count": null,
   "metadata": {},
   "outputs": [],
   "source": [
    "def triangulo3(n):\n",
    "    espacio=round(n/2)\n",
    "    if n == 1:\n",
    "        x=[1]\n",
    "        print(x)\n",
    "    else:\n",
    "        triangulo3(n-1)\n",
    "        x=[]\n",
    "        m=n\n",
    "        for i in range(1, 2*n):\n",
    "            if i<=n:\n",
    "                x.append(i)\n",
    "            else:\n",
    "                m=m-1\n",
    "                x.append(m)\n",
    "        print(x)"
   ]
  },
  {
   "cell_type": "code",
   "execution_count": null,
   "metadata": {},
   "outputs": [],
   "source": [
    "triangulo3(9)"
   ]
  },
  {
   "cell_type": "code",
   "execution_count": null,
   "metadata": {},
   "outputs": [],
   "source": [
    "import turtle\n",
    "import math\n",
    "\n",
    "miTortuga = turtle.Turtle()\n",
    "miVentana = turtle.Screen()\n",
    "a=miTortuga.position()\n",
    "\n",
    "def fractal_circulos(miTortuga, radio):\n",
    "    if radio > 1:\n",
    "        a=miTortuga.position()\n",
    "        miTortuga.circle(radio)\n",
    "        for i in range(6):\n",
    "            x=radio*2*(round(math.cos(math.radians(60*i)),1))\n",
    "            y=radio*2*(round(math.sin(math.radians(60*i)),1))-radio/2\n",
    "            miTortuga.up()\n",
    "            miTortuga.goto(x,y)\n",
    "            miTortuga.down()\n",
    "            fractal_circulos(miTortuga, radio/2)\n",
    "\n",
    "fractal_circulos(miTortuga,100)\n",
    "\n",
    "miVentana.exitonclick()"
   ]
  },
  {
   "cell_type": "markdown",
   "metadata": {},
   "source": [
    "### Actividad"
   ]
  },
  {
   "cell_type": "markdown",
   "metadata": {},
   "source": [
    "**1. Escriba una función recursiva que resuleva el siguiente problema:**\n",
    "\n",
    "$$f(0)=1$$\n",
    "\n",
    "$$f(n)=2^{f(n-1)}$$"
   ]
  },
  {
   "cell_type": "markdown",
   "metadata": {},
   "source": [
    "**2. Escriba una función recursiva que resuleva el siguiente problema:**\n",
    "\n",
    "$$f(0)=1$$\n",
    "\n",
    "$$f(n)={f(n-1)}^{2}-2f(n-1)-2$$"
   ]
  },
  {
   "cell_type": "markdown",
   "metadata": {},
   "source": [
    "**3. Escribir una función recursiva que reciba un número positivo n y devuelva la cantidad de dígitos que tiene.**"
   ]
  },
  {
   "cell_type": "markdown",
   "metadata": {},
   "source": [
    "**4. Escribir una función recursiva que verifique si un número pertenece a una lista.**"
   ]
  },
  {
   "cell_type": "markdown",
   "metadata": {},
   "source": [
    "<img src=\"img/spyder.png\" alt=\"Spyder\" width=\"300\"/>"
   ]
  },
  {
   "cell_type": "code",
   "execution_count": 103,
   "metadata": {},
   "outputs": [],
   "source": [
    "def funcion(n):\n",
    "    if n==0:\n",
    "        return 1\n",
    "    else:\n",
    "        return 2**funcion(n-1)"
   ]
  },
  {
   "cell_type": "code",
   "execution_count": 106,
   "metadata": {},
   "outputs": [
    {
     "data": {
      "text/plain": [
       "2"
      ]
     },
     "execution_count": 106,
     "metadata": {},
     "output_type": "execute_result"
    }
   ],
   "source": [
    "funcion(1)"
   ]
  },
  {
   "cell_type": "code",
   "execution_count": 105,
   "metadata": {},
   "outputs": [
    {
     "data": {
      "text/plain": [
       "16"
      ]
     },
     "execution_count": 105,
     "metadata": {},
     "output_type": "execute_result"
    }
   ],
   "source": [
    "funcion(3)"
   ]
  },
  {
   "cell_type": "code",
   "execution_count": 82,
   "metadata": {},
   "outputs": [],
   "source": [
    "def num_digitos(n):\n",
    "    x=n/10\n",
    "    if x<1:\n",
    "        return 1\n",
    "    else:\n",
    "        return 1 + num_digitos(n/10)"
   ]
  },
  {
   "cell_type": "code",
   "execution_count": 87,
   "metadata": {},
   "outputs": [
    {
     "data": {
      "text/plain": [
       "4"
      ]
     },
     "execution_count": 87,
     "metadata": {},
     "output_type": "execute_result"
    }
   ],
   "source": [
    "num_digitos(2019)"
   ]
  },
  {
   "cell_type": "code",
   "execution_count": 97,
   "metadata": {},
   "outputs": [],
   "source": [
    "def buscar_en_lista(n, lista):\n",
    "    if lista == []: # Caso último en donde se llegue a una sublista vacia.\n",
    "        return False\n",
    "    if n == lista[0]: # Caso base donde el elemento está en la primera posición.\n",
    "        return True\n",
    "    else:\n",
    "        return buscar_en_lista(n,lista[1:]) \n",
    "    # Esta última instrucción crea una sublista de la original, la cual elimina el primer elemento."
   ]
  },
  {
   "cell_type": "code",
   "execution_count": 98,
   "metadata": {},
   "outputs": [],
   "source": [
    "lista_ejemplo=[2,4,6,8,10,0,1,3,5,7,9]"
   ]
  },
  {
   "cell_type": "code",
   "execution_count": 100,
   "metadata": {},
   "outputs": [
    {
     "data": {
      "text/plain": [
       "True"
      ]
     },
     "execution_count": 100,
     "metadata": {},
     "output_type": "execute_result"
    }
   ],
   "source": [
    "buscar_en_lista(4,lista_ejemplo)"
   ]
  },
  {
   "cell_type": "code",
   "execution_count": 101,
   "metadata": {},
   "outputs": [
    {
     "data": {
      "text/plain": [
       "False"
      ]
     },
     "execution_count": 101,
     "metadata": {},
     "output_type": "execute_result"
    }
   ],
   "source": [
    "buscar_en_lista(11,lista_ejemplo)"
   ]
  },
  {
   "cell_type": "markdown",
   "metadata": {},
   "source": [
    "## 4.3 Manejo de excepciones"
   ]
  },
  {
   "cell_type": "markdown",
   "metadata": {},
   "source": [
    "A lo largo del curso (y en cualquier lenguaje de programación), te habrás enfrentado a 2 tipos de errores en Python, los errores de Sintaxis, los cuales implican un error al momento de no utilizar de manera correcta las reglas de escritura del lenguaje; y en un segundo plano **las excepciones**.\n",
    "Una excepción puede ocurrir incluso aunque la sintaxis utilizada sea correcta. Observemos el siguiente ejemplo:"
   ]
  },
  {
   "cell_type": "code",
   "execution_count": null,
   "metadata": {},
   "outputs": [],
   "source": [
    "lista=[\"Hola\", \"Mundo\", \"!!!\"]\n",
    "#lista[3]"
   ]
  },
  {
   "cell_type": "markdown",
   "metadata": {},
   "source": [
    "Ejecutar la segunda linea de código generaría un error. La sintaxis es correcta en ambas lineas, sin embargo en la segunda linea se está trantado de llamar a un índice que no corresponde ya que la lista solo tiene índices del 0 al 2. Son errores de este tipo a los cuales se les conoce como **excepciones**. Exiten muchos tipos de excepciones, a continuación se ejemplifican algunos de los más comunes y que ya han aparecido en el curso:"
   ]
  },
  {
   "cell_type": "code",
   "execution_count": null,
   "metadata": {},
   "outputs": [],
   "source": [
    "#10 * (1/0)"
   ]
  },
  {
   "cell_type": "code",
   "execution_count": null,
   "metadata": {},
   "outputs": [],
   "source": [
    "#4 + spam*3"
   ]
  },
  {
   "cell_type": "code",
   "execution_count": null,
   "metadata": {},
   "outputs": [],
   "source": [
    "#'2' + 2"
   ]
  },
  {
   "cell_type": "markdown",
   "metadata": {},
   "source": [
    "Es posible escribir programas que manejen determinadas excepciones. El siguiente ejemplo le pide al usuario una entrada hasta que ingrese un entero válido:"
   ]
  },
  {
   "cell_type": "code",
   "execution_count": null,
   "metadata": {},
   "outputs": [],
   "source": [
    "while True:\n",
    "    try:\n",
    "        x = int(input(\"Por favor ingrese un número entero: \"))\n",
    "        break\n",
    "    except ValueError:\n",
    "        print(\"Oops! No era válido. Intente nuevamente...\")"
   ]
  },
  {
   "cell_type": "markdown",
   "metadata": {},
   "source": [
    "### try - except"
   ]
  },
  {
   "cell_type": "markdown",
   "metadata": {},
   "source": [
    "La palabra reservada **try** y **except** se utilizan cuando ocurre un manejo de excepciones. La manera para poder utlizarlas es la siguiente:\n",
    "\n",
    "* Primero se tratará de ejecutar todas las declaraciones dentro del bloque try.\n",
    "\n",
    "* Si no ocurre ninguna excepción, el o los bloques except se saltan y termina la ejecución de la declaración try.\n",
    "\n",
    "* En caso de que alguna de las declaraciones genere algún conflicto, el programa saldra del bloque try y buscará coincidencia en alguno de los bloques except.\n",
    "\n",
    "* Si existe coincidencia con un bloque except, el código ejecutara dicho bloque.\n",
    "\n",
    "* Si existe conflicto en el bloque try, y no existe algún bloque except que lo maneje, el programa entrará en conflicto y generará un error como los vistos hasta ahora."
   ]
  },
  {
   "cell_type": "code",
   "execution_count": 9,
   "metadata": {},
   "outputs": [],
   "source": [
    "def dividir(dividendo, divisor):\n",
    "    try:\n",
    "        resultado = dividendo / divisor\n",
    "        return resultado\n",
    "    except ZeroDivisionError:\n",
    "        raise ZeroDivisionError(\"El divisor no puede ser cero\")"
   ]
  },
  {
   "cell_type": "code",
   "execution_count": 12,
   "metadata": {},
   "outputs": [],
   "source": [
    "#dividir(7,0)"
   ]
  },
  {
   "cell_type": "markdown",
   "metadata": {},
   "source": [
    "Las excepciones más comunes son las siguientes:\n",
    "\n",
    "\n",
    "* **ImportError**: Error al realizar una importación de una librería o modulo.\n",
    "\n",
    "* **IndexError**: Se trata de acceder a un indice fuera de rango en una lista o tupla.\n",
    "\n",
    "* **KeyError**: Se trata de acceder a una llave que no existe en un diccionario.\n",
    "\n",
    "* **NameError**: Se trata de utilizar una variable no declarada.\n",
    "\n",
    "* **SyntaxError**: La sintaxis no corresponde a las reglas del lenguaje.\n",
    "\n",
    "* **TypeError**: Se trata de llamar a una función utilizando argumentos de tipo que no corresponden.\n",
    "\n",
    "* **ValueError**: Se trata de llamar a una función utilizando argumentos de tipo correcto pero valor erroneo.\n",
    "\n",
    "\n",
    "Una declaración try puede tener más de un except, para especificar manejadores para distintas excepciones."
   ]
  },
  {
   "cell_type": "code",
   "execution_count": null,
   "metadata": {},
   "outputs": [],
   "source": [
    "try:\n",
    "    pass\n",
    "except (RuntimeError, TypeError, NameError):\n",
    "    pass   "
   ]
  },
  {
   "cell_type": "markdown",
   "metadata": {},
   "source": [
    "**¿Puedes determinar cual de las excepciones es la que se va a ejecutar en el siguiente código?**"
   ]
  },
  {
   "cell_type": "code",
   "execution_count": 19,
   "metadata": {},
   "outputs": [
    {
     "name": "stdout",
     "output_type": "stream",
     "text": [
      "Ha ocurrido un error\n"
     ]
    }
   ],
   "source": [
    "try:\n",
    "    number = 10\n",
    "    string = \"hola\"\n",
    "    print(number + string)\n",
    "    print(number / 0)\n",
    "except ZeroDivisionError:\n",
    "    print(\"División entre cero\")\n",
    "except (ValueError, TypeError):\n",
    "    print(\"Ha ocurrido un error\")"
   ]
  },
  {
   "cell_type": "markdown",
   "metadata": {},
   "source": [
    "Si al utilizar la instrucción except, no se incluye ningun nombre específico de excepción, Python utilizará dicho bloque para cualquier excepción que se pueda generar al intentar ejecutar el try."
   ]
  },
  {
   "cell_type": "code",
   "execution_count": 21,
   "metadata": {},
   "outputs": [
    {
     "name": "stdout",
     "output_type": "stream",
     "text": [
      "Ha ocurrido un error\n"
     ]
    }
   ],
   "source": [
    "try:\n",
    "    string = \"Hola\"\n",
    "    print(string / 2)\n",
    "except:\n",
    "    print(\"Ha ocurrido un error\")"
   ]
  },
  {
   "cell_type": "markdown",
   "metadata": {},
   "source": [
    "### raise"
   ]
  },
  {
   "cell_type": "markdown",
   "metadata": {},
   "source": [
    "La palabra reservada **raise** permite al programador crear una excepción específica a la situación que se indique:"
   ]
  },
  {
   "cell_type": "code",
   "execution_count": 5,
   "metadata": {},
   "outputs": [
    {
     "name": "stdout",
     "output_type": "stream",
     "text": [
      "Indica tu nombre:Edgar\n"
     ]
    }
   ],
   "source": [
    "x=input(\"Indica tu nombre:\")\n",
    "if x==\"Hola\":\n",
    "    raise NameError(\"Hola no es un nombre\")"
   ]
  },
  {
   "cell_type": "markdown",
   "metadata": {},
   "source": [
    "### finally"
   ]
  },
  {
   "cell_type": "markdown",
   "metadata": {},
   "source": [
    "La palabra reservada **finally** nos permite ejecutar alguna sección de código, sin importar que tipo de excepción se genere. El uso del bloque finally es opcional, y este debe de ir colocado en el fondo del bloque try/except."
   ]
  },
  {
   "cell_type": "code",
   "execution_count": 22,
   "metadata": {},
   "outputs": [
    {
     "name": "stdout",
     "output_type": "stream",
     "text": [
      "Hola\n",
      "División entre cero\n",
      "Este código se ejecutara sin importar nada\n"
     ]
    }
   ],
   "source": [
    "try:\n",
    "    print(\"Hola\")\n",
    "    print(1/0)\n",
    "except ZeroDivisionError:\n",
    "    print(\"División entre cero\")\n",
    "finally:\n",
    "    print(\"Este código se ejecutara sin importar nada\")"
   ]
  },
  {
   "cell_type": "markdown",
   "metadata": {},
   "source": [
    "### Actividad"
   ]
  },
  {
   "cell_type": "markdown",
   "metadata": {},
   "source": [
    "Determina el error generado en cada una de las siguientes instrucciones y genera un manejo de excepción adecuado:"
   ]
  },
  {
   "cell_type": "code",
   "execution_count": null,
   "metadata": {},
   "outputs": [],
   "source": [
    "resultado = 10/0\n",
    "\n",
    "lista = [1, 2, 3, 4, 5]\n",
    "lista[10]\n",
    "\n",
    "colores = { 'rojo':'red', 'verde':'green', 'negro':'black' } \n",
    "colores['blanco']\n",
    "\n",
    "resultado = 15 + \"20\"\n",
    "\n",
    "resultado = \"Programación \" + Orientada + \" a objetos\""
   ]
  },
  {
   "cell_type": "markdown",
   "metadata": {},
   "source": [
    "<img src=\"img/spyder.png\" alt=\"Spyder\" width=\"300\"/>"
   ]
  },
  {
   "cell_type": "code",
   "execution_count": null,
   "metadata": {},
   "outputs": [],
   "source": []
  }
 ],
 "metadata": {
  "kernelspec": {
   "display_name": "Python 3",
   "language": "python",
   "name": "python3"
  },
  "language_info": {
   "codemirror_mode": {
    "name": "ipython",
    "version": 3
   },
   "file_extension": ".py",
   "mimetype": "text/x-python",
   "name": "python",
   "nbconvert_exporter": "python",
   "pygments_lexer": "ipython3",
   "version": "3.7.3"
  }
 },
 "nbformat": 4,
 "nbformat_minor": 2
}
