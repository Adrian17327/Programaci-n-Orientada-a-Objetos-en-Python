{
 "cells": [
  {
   "cell_type": "markdown",
   "metadata": {},
   "source": [
    "# Curvas Bezier"
   ]
  },
  {
   "cell_type": "markdown",
   "metadata": {},
   "source": [
    "Técnica de dibujo que utiliza el trazo de lineas rectas para el dibujo de **curvas parabólicas** en una sección generada por un angulo y dos rectas."
   ]
  },
  {
   "cell_type": "markdown",
   "metadata": {},
   "source": [
    "## Procedimiento:"
   ]
  },
  {
   "cell_type": "markdown",
   "metadata": {},
   "source": [
    "1. Se ubican los 3 puntos, (2 extremos y un cruce) que definen el ángulo en done se trazará la curva parabólica.\n",
    "\n",
    "2. Se determina el número de divisiones a hacer en cada una de las rectas, el número de divisiones es el mismo en ambas"
   ]
  },
  {
   "cell_type": "markdown",
   "metadata": {},
   "source": [
    "<img src=\"img/bez1.png\">"
   ]
  },
  {
   "cell_type": "markdown",
   "metadata": {},
   "source": [
    "3. Se traza del extremo mas alejado al cruce situado en la primera recta, al extremo más proximo al cruce situado en la segunda recta.\n",
    "\n",
    "4. Se prosigue con cada una de las divisiones moviendose de la primera a la segunda recta."
   ]
  },
  {
   "cell_type": "markdown",
   "metadata": {},
   "source": [
    "<img src=\"img/bez2.png\">"
   ]
  },
  {
   "cell_type": "markdown",
   "metadata": {},
   "source": [
    "Mientras más divisiones contenga la curva bezier, mejor será la representación de la parábola."
   ]
  },
  {
   "cell_type": "code",
   "execution_count": 2,
   "metadata": {},
   "outputs": [
    {
     "data": {
      "image/jpeg": "[encoded data removed]",
      "text/html": [
       "\n",
       "        <iframe\n",
       "            width=\"600\"\n",
       "            height=\"400\"\n",
       "            src=\"https://www.youtube.com/embed/9JXP7j31qz8\"\n",
       "            frameborder=\"0\"\n",
       "            allowfullscreen\n",
       "        ></iframe>\n",
       "        "
      ],
      "text/plain": [
       "<IPython.lib.display.YouTubeVideo at 0x206b916e548>"
      ]
     },
     "execution_count": 2,
     "metadata": {},
     "output_type": "execute_result"
    }
   ],
   "source": [
    "from IPython.display import YouTubeVideo\n",
    "\n",
    "url=\"9JXP7j31qz8\"\n",
    "YouTubeVideo(id=url,width=600,height=400)"
   ]
  },
  {
   "cell_type": "code",
   "execution_count": null,
   "metadata": {},
   "outputs": [],
   "source": [
    "p1=(0,0)\n",
    "p2=(100,-100)\n",
    "p3=(200,0)"
   ]
  },
  {
   "cell_type": "code",
   "execution_count": null,
   "metadata": {},
   "outputs": [],
   "source": [
    "def y_fun(x1,y1,x2,y2,x):\n",
    "    return (((y2-y1)/(x2-x1))*(x-x1))+y1"
   ]
  },
  {
   "cell_type": "code",
   "execution_count": null,
   "metadata": {},
   "outputs": [],
   "source": [
    "def x_div(x1,x2,divisiones):\n",
    "    x_tem=[]\n",
    "    x=(x2-x1)/divisiones\n",
    "    for i in range(divisiones):\n",
    "        x_tem.append(x1+(x*i))\n",
    "    else:\n",
    "        x_tem.append(x2)\n",
    "    return x_tem"
   ]
  },
  {
   "cell_type": "code",
   "execution_count": null,
   "metadata": {},
   "outputs": [],
   "source": [
    "def curva_bezier(x1,y1,x2,y2,x3,y3,div,\n",
    "                 color=\"black\"):\n",
    "    import turtle\n",
    "    t=turtle.Pen()\n",
    "    t.color(color)\n",
    "    t.speed(0)\n",
    "    t.up()\n",
    "    t.goto(x1,y1)\n",
    "    t.down()\n",
    "    t.goto(x2,y2)\n",
    "    t.goto(x3,y3)\n",
    "    segm1=x_div(x1,x2,div)\n",
    "    segm2=x_div(x2,x3,div)\n",
    "    for i in range(len(segm1)):\n",
    "        y_tem1=y_fun(x1,y1,x2,y2,segm1[i])\n",
    "        y_tem2=y_fun(x2,y2,x3,y3,segm2[i])\n",
    "        t.up()\n",
    "        t.goto(segm1[i],y_tem1)\n",
    "        t.down()\n",
    "        t.goto(segm2[i],y_tem2)"
   ]
  },
  {
   "cell_type": "code",
   "execution_count": null,
   "metadata": {},
   "outputs": [],
   "source": [
    "curva_bezier(p1[0],p1[1],p2[0],p2[1],p3[0],p3[1],10,10)"
   ]
  },
  {
   "cell_type": "code",
   "execution_count": null,
   "metadata": {},
   "outputs": [],
   "source": []
  },
  {
   "cell_type": "code",
   "execution_count": null,
   "metadata": {},
   "outputs": [],
   "source": [
    "def curva_bezier_vertical(x1,y1,x2,y2,x3,y3,div,\n",
    "                 color=\"black\"):\n",
    "    import turtle\n",
    "    t=turtle.Pen()\n",
    "    t.color(color)\n",
    "    t.speed(0)\n",
    "    t.up()\n",
    "    t.goto(x1,y1)\n",
    "    t.down()\n",
    "    t.goto(x2,y2)\n",
    "    t.goto(x3,y3)\n",
    "    segm1=x_div(x1,x2,div)\n",
    "    segm2=x_div(x2,x3,div)\n",
    "    \n",
    "    if x1-x2==0:\n",
    "        y_tem1=x_div(y1,y2,div)\n",
    "        for i in range(len(segm1)):\n",
    "            segm1[i]=x1\n",
    "        for i in range(len(segm1)):\n",
    "            y_tem2=y_fun(x2,y2,x3,y3,segm2[i])\n",
    "            t.up()\n",
    "            t.goto(segm1[i],y_tem1[i])\n",
    "            t.down()\n",
    "            t.goto(segm2[i],y_tem2)\n",
    "    elif x2-x3==0:\n",
    "        y_tem2=x_div(y2,y3,div)\n",
    "        for i in range(len(segm2)):\n",
    "            segm2[i]=x2\n",
    "        for i in range(len(segm2)):\n",
    "            y_tem1=y_fun(x1,y1,x2,y2,segm1[i])\n",
    "            t.up()\n",
    "            t.goto(segm2[i],y_tem2[i])\n",
    "            t.down()\n",
    "            t.goto(segm1[i],y_tem1)\n",
    "    else:   \n",
    "        for i in range(len(segm1)):\n",
    "            y_tem1=y_fun(x1,y1,x2,y2,segm1[i])\n",
    "            y_tem2=y_fun(x2,y2,x3,y3,segm2[i])\n",
    "            t.up()\n",
    "            t.goto(segm1[i],y_tem1)\n",
    "            t.down()\n",
    "            t.goto(segm2[i],y_tem2)"
   ]
  },
  {
   "cell_type": "code",
   "execution_count": null,
   "metadata": {},
   "outputs": [],
   "source": [
    "signo=[-1,1]\n",
    "for i in signo:\n",
    "    for j in signo:\n",
    "        curva_bezier_vertical(i*100,0,0,0,0,j*100,20,20)"
   ]
  },
  {
   "cell_type": "code",
   "execution_count": null,
   "metadata": {},
   "outputs": [],
   "source": [
    "curva_bezier_vertical(100,0,0,0,0,100,20,20)"
   ]
  },
  {
   "cell_type": "code",
   "execution_count": null,
   "metadata": {},
   "outputs": [],
   "source": []
  }
 ],
 "metadata": {
  "kernelspec": {
   "display_name": "Python 3",
   "language": "python",
   "name": "python3"
  },
  "language_info": {
   "codemirror_mode": {
    "name": "ipython",
    "version": 3
   },
   "file_extension": ".py",
   "mimetype": "text/x-python",
   "name": "python",
   "nbconvert_exporter": "python",
   "pygments_lexer": "ipython3",
   "version": "3.7.6"
  }
 },
 "nbformat": 4,
 "nbformat_minor": 4
}
