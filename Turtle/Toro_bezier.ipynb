{
 "cells": [
  {
   "cell_type": "markdown",
   "metadata": {},
   "source": [
    "# Dibujando usando curvas parabólicas"
   ]
  },
  {
   "cell_type": "markdown",
   "metadata": {},
   "source": [
    "<img src=\"img/TORO.jpg\" width=400>"
   ]
  },
  {
   "cell_type": "markdown",
   "metadata": {},
   "source": [
    "Para poder realizar el díbujo que se muestra aquí arriba, será necesario utilizar la función **curva_bezier_vetical** que se definió en el documento de introducción a estas curvas. Para que dicha función pueda trabajar, será necesario establecer las coordenadas de los puntos por donde la curva va a pasar, estas coordenadas fueron estimadas, no se uso ninguna técnica en particular para ello:"
   ]
  },
  {
   "cell_type": "markdown",
   "metadata": {},
   "source": [
    "<img src=\"img/Toro_bezier.png\" width=400>"
   ]
  },
  {
   "cell_type": "code",
   "execution_count": null,
   "metadata": {},
   "outputs": [],
   "source": [
    "# Creamos el canvas\n",
    "import turtle\n",
    "\n",
    "t=turtle.Pen()\n",
    "t.speed(0)"
   ]
  },
  {
   "cell_type": "code",
   "execution_count": null,
   "metadata": {},
   "outputs": [],
   "source": [
    "# Creamos un diccionario con las coordenadas previamente establecidas.\n",
    "# Del mismo modo, notamos que en algunos puntos la figura es geométrica, por ello\n",
    "# creamos una lista de nombre signo, el cual modificará la coordenada que necesitemos.\n",
    "c={0:(0,0),\n",
    "   1:(-200,-275),\n",
    "   2:(-150,-125),\n",
    "   3:(0,-175),\n",
    "   4:(-175,0),\n",
    "   5:(-50,175),\n",
    "   6:(25,25),\n",
    "   7:(-75,225),\n",
    "   8:(0,250),\n",
    "   9:(0,75),\n",
    "   10:(-160,235),\n",
    "   11:(-150,275),\n",
    "   12:(120,75),\n",
    "   13:(250,100),\n",
    "   14:(225,200),\n",
    "   15:(-175,-230)}\n",
    "\n",
    "signo=[1,-1]"
   ]
  },
  {
   "cell_type": "code",
   "execution_count": null,
   "metadata": {},
   "outputs": [],
   "source": [
    "# Dibujamos el esqueleto de la imagen, para verificar que los valores asignados \n",
    "# fueron correctos\n",
    "t.color(\"brown\")\n",
    "\n",
    "# Utilizando la lista signo, trazamos un eje de simetría imaginario, en el que \n",
    "# el trazo de la izquierda será identico al trazo de la derecha.\n",
    "for i in signo:\n",
    "    t.up()\n",
    "    t.goto(c[0][0]*(i),c[0][1])\n",
    "    t.goto(c[1][0]*(i),c[1][1])\n",
    "    t.down()\n",
    "    t.left(60)\n",
    "    t.fillcolor('black')\n",
    "    t.begin_fill()\n",
    "    for j in range(3):\n",
    "        t.forward(50)\n",
    "        t.right(120*i)\n",
    "    t.end_fill()\n",
    "    t.forward(50)\n",
    "    \n",
    "    t.goto(c[2][0]*(i),c[2][1])\n",
    "    t.goto(c[3][0]*(i),c[3][1])\n",
    "    t.goto(c[4][0]*(i),c[4][1])\n",
    "    t.goto(c[2][0]*(i),c[2][1])\n",
    "    t.goto(c[4][0]*(i),c[4][1])\n",
    "    t.goto(c[5][0]*(i),c[5][1])\n",
    "    t.goto(c[6][0]*(i),c[6][1])\n",
    "    t.goto(c[7][0]*(i),c[7][1])\n",
    "    t.goto(c[8][0]*(i),c[8][1])\n",
    "    t.up()\n",
    "    t.goto(c[5][0]*(i),c[5][1])\n",
    "    t.down()\n",
    "    t.width(7)\n",
    "    t.goto(c[10][0]*(i),c[10][1])\n",
    "    t.width(1)\n",
    "    t.goto(c[11][0]*(i),c[11][1])\n",
    "# Trazamos los elementos no simétricos\n",
    "t.up()\n",
    "t.goto(c[8][0],c[8][1])\n",
    "t.down()\n",
    "t.goto(c[9][0],c[9][1])\n",
    "t.up()\n",
    "t.goto(c[12][0],c[12][1])\n",
    "t.down()\n",
    "t.width(15)\n",
    "t.goto(c[13][0],c[13][1])\n",
    "t.width(1)\n",
    "t.goto(c[14][0],c[14][1])\n",
    "\n",
    "t.fillcolor('black')\n",
    "t.begin_fill()\n",
    "\n",
    "# Trazo de la punta de la cola\n",
    "for i in signo:\n",
    "    t.up()\n",
    "    t.goto(c[14][0],c[14][1])\n",
    "    t.down()\n",
    "    t.goto(c[14][0]+(10*(i)),c[14][1]+10)\n",
    "    t.goto(c[14][0],c[14][1]+25)\n",
    "t.end_fill()\n",
    "t.up()\n",
    "t.goto(c[15][0],c[15][1])"
   ]
  },
  {
   "cell_type": "code",
   "execution_count": null,
   "metadata": {},
   "outputs": [],
   "source": [
    "# Función para determinar la posición relativa de un punto x entre dos puntos en el plano\n",
    "def y_fun(x1,y1,x2,y2,x):\n",
    "    return (((y2-y1)/(x2-x1))*(x-x1))+y1"
   ]
  },
  {
   "cell_type": "code",
   "execution_count": null,
   "metadata": {},
   "outputs": [],
   "source": [
    "c"
   ]
  },
  {
   "cell_type": "code",
   "execution_count": null,
   "metadata": {},
   "outputs": [],
   "source": [
    "y_fun(c[15][0],c[15][1],c[2][0],c[2][1],-175)"
   ]
  },
  {
   "cell_type": "code",
   "execution_count": null,
   "metadata": {},
   "outputs": [],
   "source": [
    "# Función para dividir de forma equidistante 2 una recta entre 2 puntos\n",
    "def x_div(x1,x2,divisiones):\n",
    "    x_tem=[]\n",
    "    x=(x2-x1)/divisiones\n",
    "    for i in range(divisiones):\n",
    "        x_tem.append(x1+(x*i))\n",
    "    else:\n",
    "        x_tem.append(x2)\n",
    "    return x_tem"
   ]
  },
  {
   "cell_type": "code",
   "execution_count": null,
   "metadata": {
    "scrolled": true
   },
   "outputs": [],
   "source": [
    "x_div(c[15][0],c[2][0],8)"
   ]
  },
  {
   "cell_type": "code",
   "execution_count": null,
   "metadata": {},
   "outputs": [],
   "source": [
    "# Función para el trazo de curvas Bezier\n",
    "def curva_bezier_vertical(x1,y1,x2,y2,x3,y3,div,\n",
    "                 color=\"black\"):\n",
    "    import turtle\n",
    "    t=turtle.Pen()\n",
    "    t.shape('classic')\n",
    "    t.color(color)\n",
    "    t.speed(0)\n",
    "    t.up()\n",
    "    t.goto(x1,y1)\n",
    "    t.down()\n",
    "    t.goto(x2,y2)\n",
    "    t.goto(x3,y3)\n",
    "    segm1=x_div(x1,x2,div)\n",
    "    segm2=x_div(x2,x3,div)\n",
    "    \n",
    "    if x1-x2==0:\n",
    "        y_tem1=x_div(y1,y2,div)\n",
    "        for i in range(len(segm1)):\n",
    "            segm1[i]=x1\n",
    "        for i in range(len(segm1)):\n",
    "            y_tem2=y_fun(x2,y2,x3,y3,segm2[i])\n",
    "            t.up()\n",
    "            t.goto(segm1[i],y_tem1[i])\n",
    "            t.down()\n",
    "            t.goto(segm2[i],y_tem2)\n",
    "    elif x2-x3==0:\n",
    "        y_tem2=x_div(y2,y3,div)\n",
    "        for i in range(len(segm2)):\n",
    "            segm2[i]=x2\n",
    "        for i in range(len(segm2)):\n",
    "            y_tem1=y_fun(x1,y1,x2,y2,segm1[i])\n",
    "            t.up()\n",
    "            t.goto(segm2[i],y_tem2[i])\n",
    "            t.down()\n",
    "            t.goto(segm1[i],y_tem1)\n",
    "    else:   \n",
    "        for i in range(len(segm1)):\n",
    "            y_tem1=y_fun(x1,y1,x2,y2,segm1[i])\n",
    "            y_tem2=y_fun(x2,y2,x3,y3,segm2[i])\n",
    "            t.up()\n",
    "            t.goto(segm1[i],y_tem1)\n",
    "            t.down()\n",
    "            t.goto(segm2[i],y_tem2)"
   ]
  },
  {
   "cell_type": "code",
   "execution_count": null,
   "metadata": {},
   "outputs": [],
   "source": [
    "c"
   ]
  },
  {
   "cell_type": "code",
   "execution_count": null,
   "metadata": {},
   "outputs": [],
   "source": [
    "# Trazado de las curvas\n",
    "for i in signo:\n",
    "    curva_bezier_vertical(c[15][0]*i,c[15][1],\n",
    "                 c[2][0]*i,c[2][1],\n",
    "                 c[3][0]*i,c[3][1],\n",
    "                 10,\"brown\")\n",
    "    curva_bezier_vertical(c[3][0]*i,c[3][1],\n",
    "                 c[4][0]*i,c[4][1],\n",
    "                 c[5][0]*i,c[5][1],\n",
    "                 20,\"brown\")\n",
    "    curva_bezier_vertical(c[7][0]*i,c[7][1],\n",
    "                 c[9][0]*i,c[9][1],\n",
    "                 c[6][0]*-i,c[6][1],\n",
    "                 10,\"brown\")\n",
    "    curva_bezier_vertical(c[5][0]*i,c[5][1],\n",
    "                 c[10][0]*i,c[10][1],\n",
    "                 c[11][0]*i,c[11][1],\n",
    "                 10,\"brown\")\n",
    "    curva_bezier_vertical(c[7][0]*i,c[7][1],\n",
    "                 c[8][0]*i,c[8][1],\n",
    "                 c[9][0]*i,c[9][1],\n",
    "                 20,\"brown\")\n",
    "    \n",
    "curva_bezier_vertical(c[6][0],c[6][1],\n",
    "                 c[9][0],c[9][1],\n",
    "                 c[6][0]*-1,c[6][1],\n",
    "                 10,\"brown\")\n",
    "curva_bezier_vertical(c[12][0],c[12][1],\n",
    "                 c[13][0],c[13][1],\n",
    "                 c[14][0],c[14][1],\n",
    "                 20,\"brown\")"
   ]
  },
  {
   "cell_type": "code",
   "execution_count": null,
   "metadata": {},
   "outputs": [],
   "source": []
  }
 ],
 "metadata": {
  "kernelspec": {
   "display_name": "Python 3",
   "language": "python",
   "name": "python3"
  },
  "language_info": {
   "codemirror_mode": {
    "name": "ipython",
    "version": 3
   },
   "file_extension": ".py",
   "mimetype": "text/x-python",
   "name": "python",
   "nbconvert_exporter": "python",
   "pygments_lexer": "ipython3",
   "version": "3.7.6"
  }
 },
 "nbformat": 4,
 "nbformat_minor": 4
}
