{
 "cells": [
  {
   "cell_type": "markdown",
   "metadata": {
    "colab_type": "text",
    "id": "RT_7E_jBfQiA"
   },
   "source": [
    "# Introducción a Programación Orientada a Objetos utilizando Python"
   ]
  },
  {
   "cell_type": "markdown",
   "metadata": {
    "colab_type": "text",
    "id": "JY17YsNBfQiB"
   },
   "source": [
    "<img src=\"img\\alarma.jpg\" alt=\"Python\" width=\"600\"/>"
   ]
  },
  {
   "cell_type": "markdown",
   "metadata": {
    "colab_type": "text",
    "id": "ODZWRwKqfQiC"
   },
   "source": [
    "# Programación Orientada a Objetos"
   ]
  },
  {
   "cell_type": "markdown",
   "metadata": {
    "colab_type": "text",
    "id": "k6LQy0nafQiD"
   },
   "source": [
    "Paradigma de programación que utiliza a los **objetos como elementos fundamentales** en la construcción de la solución a un problema informático."
   ]
  },
  {
   "cell_type": "markdown",
   "metadata": {
    "colab_type": "text",
    "id": "wO3S065BfQiE"
   },
   "source": [
    "<img src=\"img\\duda.jpg\" alt=\"Python\" width=\"300\"/>"
   ]
  },
  {
   "cell_type": "markdown",
   "metadata": {
    "colab_type": "text",
    "id": "GnVPOngBfQiE"
   },
   "source": [
    "Un **paradigma de programación** es un estilo de *desarrollo de programas*. Es decir, un modelo para resolver problemas computacionales. "
   ]
  },
  {
   "cell_type": "markdown",
   "metadata": {
    "colab_type": "text",
    "id": "AbcijyfWfQiF"
   },
   "source": [
    "<img src=\"img\\paradigmas.png\" alt=\"Python\" width=\"600\"/>"
   ]
  },
  {
   "cell_type": "markdown",
   "metadata": {
    "colab_type": "text",
    "id": "g-qgldnPfQiG"
   },
   "source": [
    "### En principio, los lenguajes de programación se formaban de una forma estructurada y secuencial. Sin embargo conforme el problema se va haciendo mas complejo, el código para solucionarlo también lo hace. Es así como surge la idea de crear módulos para poder eliminar grandes porciones de código, que serían ejecutadas solamente cuando el módulo fuera invocado."
   ]
  },
  {
   "cell_type": "markdown",
   "metadata": {
    "colab_type": "text",
    "id": "VDJMW4YzfQiG"
   },
   "source": [
    "<img src=\"img\\rene.png\" alt=\"Python\" width=\"800\"/>"
   ]
  },
  {
   "cell_type": "markdown",
   "metadata": {
    "colab_type": "text",
    "id": "NtC1rpwcfQiH"
   },
   "source": [
    "Para entender POO, es necesario entender los siguientes conceptos:\n",
    "\n",
    "\n",
    "* **Objetos**\n",
    "                    Ente abstracto que contiene métodos y atributos.\n",
    "\n",
    "* **Clases**\n",
    "                    Es la descripción general de un objeto.\n",
    "                    \n",
    "* **Herencia**\n",
    "                    Mecanismo para compartir automáticamente métodos y datos entre clases, subclases y objetos.\n",
    "                    \n",
    "* **Abstracción**\n",
    "                    Captar las características escenciales de un objeto.\n",
    "                    \n",
    "* **Encapsulamiento**\n",
    "                    Ocultamiento del estado de los datos dentro de un objeto.\n",
    "                    \n",
    "* **Polimorfismo**\n",
    "                    Capacidad de mandar mensajes sintácticamente iguales a objetos diferentes.\n",
    "                    \n",
    "* **Envío de mensajes**\n",
    "                    Invocación de los métodos de los objetos"
   ]
  },
  {
   "cell_type": "markdown",
   "metadata": {
    "colab_type": "text",
    "id": "VliNcbxufQiI"
   },
   "source": [
    "# Ventajas de POO sobre otros tipos de paradigmas"
   ]
  },
  {
   "cell_type": "markdown",
   "metadata": {
    "colab_type": "text",
    "id": "1KkEUBEYfQiI"
   },
   "source": [
    "<img src=\"img\\ventajas.png\" alt=\"Python\" width=\"1000\"/>"
   ]
  },
  {
   "cell_type": "markdown",
   "metadata": {
    "colab_type": "text",
    "id": "VubZNbfnfQiJ"
   },
   "source": [
    "# Lenguajes orientados a objetos"
   ]
  },
  {
   "cell_type": "markdown",
   "metadata": {
    "colab_type": "text",
    "id": "Y4kdBAsWfQiJ"
   },
   "source": [
    "<img src=\"img\\poo_ejemplos.png\" alt=\"Python\" width=\"600\"/>"
   ]
  },
  {
   "cell_type": "markdown",
   "metadata": {
    "colab_type": "text",
    "id": "bo-wVQe9fQiK"
   },
   "source": [
    "# Ventajas de usar Python sobre otros lenguajes"
   ]
  },
  {
   "cell_type": "markdown",
   "metadata": {
    "colab_type": "text",
    "id": "AuddrW5cfQiK"
   },
   "source": [
    "<img src=\"img\\Python-benefits.png\" alt=\"Python\" width=\"600\"/>"
   ]
  },
  {
   "cell_type": "markdown",
   "metadata": {
    "colab_type": "text",
    "id": "m0mmKPjJfQiL"
   },
   "source": [
    "Python soporta el paradigma orientado a procedimientos, como también el paradigma orientado a objetos. \n",
    "\n",
    "En POO, el desarrollador aplica y reutiliza piezas de codigo. \n",
    "\n",
    "A pesar de que varios lenguajes tambien manejan POO, Python lo hace de una manera mucho mas sencilla."
   ]
  },
  {
   "cell_type": "markdown",
   "metadata": {
    "colab_type": "text",
    "id": "FC3UaOEEfQiL"
   },
   "source": [
    "<img src=\"img\\Languages.png\" alt=\"Python\" width=\"600\"/>"
   ]
  },
  {
   "cell_type": "markdown",
   "metadata": {
    "colab_type": "text",
    "id": "PGheHoA0fQiM"
   },
   "source": [
    "# Operadores lógicos"
   ]
  },
  {
   "cell_type": "markdown",
   "metadata": {
    "colab_type": "text",
    "id": "4tMWUj0ffQiM"
   },
   "source": [
    "En **Python**, los operadores lógicos utilizados son los mismos que en **C#**."
   ]
  },
  {
   "cell_type": "markdown",
   "metadata": {
    "colab_type": "text",
    "id": "5QkcJKFpfQiN"
   },
   "source": [
    "<img src=\"img\\operadores.png\" alt=\"Python\" width=\"350\"/>"
   ]
  },
  {
   "cell_type": "markdown",
   "metadata": {
    "colab_type": "text",
    "id": "-pP4bVDcfQiN"
   },
   "source": [
    "# Imprimir y lectura de datos en pantalla"
   ]
  },
  {
   "cell_type": "markdown",
   "metadata": {
    "colab_type": "text",
    "id": "aqyoKgwOfQiO"
   },
   "source": [
    "En python 3, no es necesario declarar el tipo de variable. Para poder realizar una solicitud al usuario para introducir un dato al programa, solamente es necesario utilizar el método **input()**:"
   ]
  },
  {
   "cell_type": "code",
   "execution_count": 3,
   "metadata": {
    "colab": {},
    "colab_type": "code",
    "id": "Vg21oeEufQiO"
   },
   "outputs": [
    {
     "name": "stdout",
     "output_type": "stream",
     "text": [
      "Edgar\n"
     ]
    }
   ],
   "source": [
    "cadena=input()"
   ]
  },
  {
   "cell_type": "code",
   "execution_count": 4,
   "metadata": {
    "colab": {},
    "colab_type": "code",
    "id": "JY8PYJjAfQiR"
   },
   "outputs": [
    {
     "data": {
      "text/plain": [
       "str"
      ]
     },
     "execution_count": 4,
     "metadata": {},
     "output_type": "execute_result"
    }
   ],
   "source": [
    "type(cadena) #Método para saber que tipo de variable se genero"
   ]
  },
  {
   "cell_type": "code",
   "execution_count": 5,
   "metadata": {
    "colab": {},
    "colab_type": "code",
    "id": "MvvnvB7OfQiS"
   },
   "outputs": [
    {
     "name": "stdout",
     "output_type": "stream",
     "text": [
      "Hola\n"
     ]
    }
   ],
   "source": [
    "cadena=input()"
   ]
  },
  {
   "cell_type": "code",
   "execution_count": 6,
   "metadata": {
    "colab": {},
    "colab_type": "code",
    "id": "sNFnFKqFfQiU"
   },
   "outputs": [
    {
     "data": {
      "text/plain": [
       "str"
      ]
     },
     "execution_count": 6,
     "metadata": {},
     "output_type": "execute_result"
    }
   ],
   "source": [
    "type(cadena)"
   ]
  },
  {
   "cell_type": "markdown",
   "metadata": {
    "colab_type": "text",
    "id": "Q1XpIfrffQiW"
   },
   "source": [
    "El método **input()** maneja todas las variables como si fueran strings. Esto es similar a lo que ocurre en C#. Es por ello que para poder recibir como entrada un valor numérico, es necesario utilizar ademas el método **int()** o **float()**:"
   ]
  },
  {
   "cell_type": "markdown",
   "metadata": {},
   "source": [
    "hola"
   ]
  },
  {
   "cell_type": "code",
   "execution_count": 7,
   "metadata": {
    "colab": {},
    "colab_type": "code",
    "id": "nYzSzPzgfQiX"
   },
   "outputs": [
    {
     "name": "stdout",
     "output_type": "stream",
     "text": [
      "6\n"
     ]
    }
   ],
   "source": [
    "cadena=int(input())"
   ]
  },
  {
   "cell_type": "code",
   "execution_count": 8,
   "metadata": {
    "colab": {},
    "colab_type": "code",
    "id": "7bbmPxhwfQiZ"
   },
   "outputs": [
    {
     "data": {
      "text/plain": [
       "int"
      ]
     },
     "execution_count": 8,
     "metadata": {},
     "output_type": "execute_result"
    }
   ],
   "source": [
    "type(cadena)"
   ]
  },
  {
   "cell_type": "markdown",
   "metadata": {
    "colab_type": "text",
    "id": "hBaEKoMWfQib"
   },
   "source": [
    "En Python, el método para poder hacer impresiones en pantalla es **print()**"
   ]
  },
  {
   "cell_type": "code",
   "execution_count": 9,
   "metadata": {
    "colab": {},
    "colab_type": "code",
    "id": "pETu7ut6fQic"
   },
   "outputs": [
    {
     "name": "stdout",
     "output_type": "stream",
     "text": [
      "6\n"
     ]
    }
   ],
   "source": [
    "print(cadena)"
   ]
  },
  {
   "cell_type": "code",
   "execution_count": 10,
   "metadata": {
    "colab": {},
    "colab_type": "code",
    "id": "rQ1MBbTEfQid"
   },
   "outputs": [
    {
     "name": "stdout",
     "output_type": "stream",
     "text": [
      "Hola mundo!\n"
     ]
    }
   ],
   "source": [
    "print(\"Hola mundo!\")"
   ]
  },
  {
   "cell_type": "code",
   "execution_count": 11,
   "metadata": {
    "colab": {},
    "colab_type": "code",
    "id": "tuplZcXyfQif"
   },
   "outputs": [],
   "source": [
    "a=3\n",
    "b=\"Hola\"\n",
    "#print(a+b)"
   ]
  },
  {
   "cell_type": "code",
   "execution_count": 12,
   "metadata": {
    "colab": {},
    "colab_type": "code",
    "id": "8XtakUQDfQih"
   },
   "outputs": [
    {
     "name": "stdout",
     "output_type": "stream",
     "text": [
      "3Hola\n"
     ]
    }
   ],
   "source": [
    "print(str(a)+b)"
   ]
  },
  {
   "cell_type": "code",
   "execution_count": 13,
   "metadata": {
    "colab": {},
    "colab_type": "code",
    "id": "UnXO7DjcfQii"
   },
   "outputs": [
    {
     "name": "stdout",
     "output_type": "stream",
     "text": [
      "HolaHolaHola\n"
     ]
    }
   ],
   "source": [
    "print(a*b)"
   ]
  },
  {
   "cell_type": "markdown",
   "metadata": {
    "colab_type": "text",
    "id": "7SogYyQ2fQil"
   },
   "source": [
    "### Actividad\n",
    "Realiza un programa que pida un nombre y los elementos de la dirección (calle, número, colonia, ciudad, estado, código postal y país) de manera individual para después escribirlos con formato de etiqueta de correspondencia:\n",
    "\n",
    "        <Nombre>\n",
    "                Calle     <calle>     # <numero>\n",
    "                Colonia   <colonia>\n",
    "                <Ciudad>, <estado>\n",
    "                CP        <código postal>\n",
    "\n",
    "Nota: en Python, al igual que en C#, **\"\\n\"** y **\"\\t\"** se pueden ocupar para dar saltos de línea y tabulaciones en impresiones de pantalla."
   ]
  },
  {
   "cell_type": "markdown",
   "metadata": {
    "colab_type": "text",
    "id": "-LHfIgbifQim"
   },
   "source": [
    "<img src=\"img/spyder.png\" alt=\"Spyder\" width=\"300\"/>"
   ]
  },
  {
   "cell_type": "code",
   "execution_count": 14,
   "metadata": {
    "colab": {},
    "colab_type": "code",
    "id": "VrKaOUhcfQim"
   },
   "outputs": [
    {
     "name": "stdout",
     "output_type": "stream",
     "text": [
      "Indica tu nombre completo\n",
      "Edgar Avalos\n",
      "Indica la calle donde vives\n",
      "Xochimilco\n",
      "Indica el número de tu casa\n",
      "136\n",
      "Indica la colonia donde vives\n",
      "Cd Azteca\n",
      "Indica la ciudad donde vives\n",
      "Ecatepec\n",
      "Indica el estado donde vives\n",
      "Edo MEx\n",
      "Indica el código postal donde vives\n",
      "55120\n"
     ]
    }
   ],
   "source": [
    "#Solicitud de los datos\n",
    "\n",
    "print(\"Indica tu nombre completo\")\n",
    "nombre=input()\n",
    "print(\"Indica la calle donde vives\")\n",
    "calle=input()\n",
    "print(\"Indica el número de tu casa\")\n",
    "numero=input()\n",
    "print(\"Indica la colonia donde vives\")\n",
    "colonia=input()\n",
    "print(\"Indica la ciudad donde vives\")\n",
    "ciudad=input()\n",
    "print(\"Indica el estado donde vives\")\n",
    "estado=input()\n",
    "print(\"Indica el código postal donde vives\")\n",
    "cp=input()"
   ]
  },
  {
   "cell_type": "code",
   "execution_count": 15,
   "metadata": {
    "colab": {},
    "colab_type": "code",
    "id": "s3j-mJMqfQiq"
   },
   "outputs": [
    {
     "name": "stdout",
     "output_type": "stream",
     "text": [
      "Edgar Avalos\n",
      "\n",
      "\tXochimilco #136\n",
      "\tColonia: Cd Azteca\n",
      "\tEcatepec, Edo MEx\n",
      "\tCP: 55120\n"
     ]
    }
   ],
   "source": [
    "#Impresión en pantalla de los datos\n",
    "\n",
    "print(nombre)\n",
    "print()\n",
    "print(\"\\t\" + calle + \" #\" + numero)\n",
    "print(\"\\tColonia: \" + colonia)\n",
    "print(\"\\t\" + ciudad + \", \" + estado)\n",
    "print(\"\\tCP: \" + cp)"
   ]
  },
  {
   "cell_type": "markdown",
   "metadata": {
    "colab_type": "text",
    "id": "2qDNmTA-kjYE"
   },
   "source": [
    "# Tipos de estructuras de datos en Python"
   ]
  },
  {
   "cell_type": "markdown",
   "metadata": {
    "colab_type": "text",
    "id": "-yifTRsKkjYF"
   },
   "source": [
    "Existen diferentes tipos de arreglos en Python, los 3 mas usuales son los siguientes:\n",
    "\n",
    "- **Listas [ ]**, colección ordenada y modificable de elementos.\n",
    "- **Tuplas ( )**, colección ordenada e inmutable de elementos. \n",
    "- **Diccionarios { }**, colección sin ordenar, modificable e indexada de elementos."
   ]
  },
  {
   "cell_type": "code",
   "execution_count": 16,
   "metadata": {
    "colab": {
     "base_uri": "https://localhost:8080/",
     "height": 34
    },
    "colab_type": "code",
    "executionInfo": {
     "elapsed": 519,
     "status": "ok",
     "timestamp": 1569265151656,
     "user": {
      "displayName": "Edgar Avalos Gauna",
      "photoUrl": "https://lh3.googleusercontent.com/a-/AAuE7mBlAgNUstu0sLee83F6yPWlOeuhkSOIQBP1BMW9=s64",
      "userId": "15081544959551912541"
     },
     "user_tz": 300
    },
    "id": "2SNe66-IkjYG",
    "outputId": "6cd1cbf4-7a96-4849-fade-01a528ca657b"
   },
   "outputs": [
    {
     "data": {
      "text/plain": [
       "['platano', 'manzana', 'pera']"
      ]
     },
     "execution_count": 16,
     "metadata": {},
     "output_type": "execute_result"
    }
   ],
   "source": [
    "lista=[\"platano\", \"manzana\", \"pera\"]\n",
    "lista"
   ]
  },
  {
   "cell_type": "code",
   "execution_count": 17,
   "metadata": {
    "colab": {},
    "colab_type": "code",
    "id": "QqT5mJpZsHpA"
   },
   "outputs": [
    {
     "name": "stdout",
     "output_type": "stream",
     "text": [
      "['platano', 'manzana', 'pera']\n"
     ]
    }
   ],
   "source": [
    "print(lista)"
   ]
  },
  {
   "cell_type": "code",
   "execution_count": 18,
   "metadata": {
    "colab": {},
    "colab_type": "code",
    "id": "e1EtFK1cfQiw"
   },
   "outputs": [
    {
     "data": {
      "text/plain": [
       "3"
      ]
     },
     "execution_count": 18,
     "metadata": {},
     "output_type": "execute_result"
    }
   ],
   "source": [
    "# Con el método len es posible conocer el número de elementos dentro de un arrego\n",
    "len(lista)"
   ]
  },
  {
   "cell_type": "code",
   "execution_count": 19,
   "metadata": {
    "colab": {},
    "colab_type": "code",
    "id": "siZ3wbf4fQiy"
   },
   "outputs": [],
   "source": [
    "adjetivos=[\"Rico\", \"Dulce\", \"Colorido\"]"
   ]
  },
  {
   "cell_type": "markdown",
   "metadata": {
    "colab_type": "text",
    "id": "Q1ptHTcIkjYI"
   },
   "source": [
    "Para **acceder** a  los elementos de una lista, se debe de indicar el índice del elemento dentro de la lista."
   ]
  },
  {
   "cell_type": "code",
   "execution_count": 20,
   "metadata": {
    "colab": {},
    "colab_type": "code",
    "id": "8AN_qp6okjYI"
   },
   "outputs": [
    {
     "data": {
      "text/plain": [
       "'pera'"
      ]
     },
     "execution_count": 20,
     "metadata": {},
     "output_type": "execute_result"
    }
   ],
   "source": [
    "lista[2]"
   ]
  },
  {
   "cell_type": "markdown",
   "metadata": {
    "colab_type": "text",
    "id": "dQlnZjTGkjYK"
   },
   "source": [
    "Para **modificar** un elemento de una lista se hace refiriendose al elemento en esa posición:"
   ]
  },
  {
   "cell_type": "code",
   "execution_count": 21,
   "metadata": {
    "colab": {},
    "colab_type": "code",
    "id": "oPsGhy8fkjYK"
   },
   "outputs": [
    {
     "name": "stdout",
     "output_type": "stream",
     "text": [
      "['platano', 'manzana', 'melón']\n"
     ]
    }
   ],
   "source": [
    "lista[2]=\"melón\"\n",
    "print(lista)"
   ]
  },
  {
   "cell_type": "code",
   "execution_count": 22,
   "metadata": {
    "colab": {},
    "colab_type": "code",
    "id": "ozTOObSpfQi3"
   },
   "outputs": [
    {
     "data": {
      "text/plain": [
       "'Frutas'"
      ]
     },
     "execution_count": 22,
     "metadata": {},
     "output_type": "execute_result"
    }
   ],
   "source": [
    "tupla=(\"Frutas\",\"Verduras\")\n",
    "tupla[0]"
   ]
  },
  {
   "cell_type": "code",
   "execution_count": 23,
   "metadata": {
    "colab": {},
    "colab_type": "code",
    "id": "5vnEVZA5fQi4"
   },
   "outputs": [
    {
     "data": {
      "text/plain": [
       "2"
      ]
     },
     "execution_count": 23,
     "metadata": {},
     "output_type": "execute_result"
    }
   ],
   "source": [
    "len(tupla)"
   ]
  },
  {
   "cell_type": "markdown",
   "metadata": {
    "colab_type": "text",
    "id": "VKGHQo6FkjYh"
   },
   "source": [
    "### Agregar elementos a una lista\n",
    "\n",
    "Para poder agregar un elemento al final de una lista, se utiliza el método **append()**:"
   ]
  },
  {
   "cell_type": "code",
   "execution_count": 24,
   "metadata": {
    "colab": {},
    "colab_type": "code",
    "id": "A6fe7jjdkjYh"
   },
   "outputs": [
    {
     "name": "stdout",
     "output_type": "stream",
     "text": [
      "['limón', 'platano', 'mango', 'pomelo']\n"
     ]
    }
   ],
   "source": [
    "frutas = [\"limón\", \"platano\", \"mango\"]\n",
    "frutas.append(\"pomelo\")\n",
    "print(frutas)"
   ]
  },
  {
   "cell_type": "markdown",
   "metadata": {
    "colab_type": "text",
    "id": "PCtPkZzXkjYj"
   },
   "source": [
    "Para agregar un elemento a una lista en una posición específica, se utiliza el método **insert()**"
   ]
  },
  {
   "cell_type": "code",
   "execution_count": 25,
   "metadata": {
    "colab": {},
    "colab_type": "code",
    "id": "WWj0MHXfkjYk"
   },
   "outputs": [
    {
     "name": "stdout",
     "output_type": "stream",
     "text": [
      "['limón', 'naranja', 'platano', 'mango', 'pomelo']\n"
     ]
    }
   ],
   "source": [
    "frutas.insert(1,\"naranja\") #El primer elemento corresponde a la posición (indexada) y el segundo el elemento a agregar.\n",
    "print(frutas)"
   ]
  },
  {
   "cell_type": "code",
   "execution_count": 26,
   "metadata": {
    "colab": {},
    "colab_type": "code",
    "id": "vQIYIMOUfQi-"
   },
   "outputs": [],
   "source": [
    "#tupla.append(\"Tubérculos\")"
   ]
  },
  {
   "cell_type": "markdown",
   "metadata": {
    "colab_type": "text",
    "id": "Is9t8txQkjYo"
   },
   "source": [
    "### Remover elementos a una lista\n",
    "Para remover un elemento específico de una lista, se utiliza el método **remove()**"
   ]
  },
  {
   "cell_type": "code",
   "execution_count": 27,
   "metadata": {
    "colab": {},
    "colab_type": "code",
    "id": "_3F80Iv2kjYp"
   },
   "outputs": [
    {
     "data": {
      "text/plain": [
       "['limón', 'naranja', 'platano', 'pomelo']"
      ]
     },
     "execution_count": 27,
     "metadata": {},
     "output_type": "execute_result"
    }
   ],
   "source": [
    "frutas.remove(\"mango\")\n",
    "frutas"
   ]
  },
  {
   "cell_type": "markdown",
   "metadata": {
    "colab_type": "text",
    "id": "0exhBeyskjYr"
   },
   "source": [
    "Otra manera de quitar un elemento a partir de su posición indexada es mendiante el método **pop()** o **del()**"
   ]
  },
  {
   "cell_type": "code",
   "execution_count": 28,
   "metadata": {
    "colab": {},
    "colab_type": "code",
    "id": "1PXwoZNYkjYs"
   },
   "outputs": [
    {
     "data": {
      "text/plain": [
       "['limón', 'platano', 'pomelo']"
      ]
     },
     "execution_count": 28,
     "metadata": {},
     "output_type": "execute_result"
    }
   ],
   "source": [
    "frutas.pop(1)\n",
    "frutas"
   ]
  },
  {
   "cell_type": "markdown",
   "metadata": {
    "colab_type": "text",
    "id": "HG0aWypCkjYt"
   },
   "source": [
    "Si el método **pop()** se utiliza si un index, se eliminará el último elemento de la lista:"
   ]
  },
  {
   "cell_type": "code",
   "execution_count": 29,
   "metadata": {
    "colab": {},
    "colab_type": "code",
    "id": "EHdSLrpNkjYu"
   },
   "outputs": [
    {
     "data": {
      "text/plain": [
       "['limón', 'platano']"
      ]
     },
     "execution_count": 29,
     "metadata": {},
     "output_type": "execute_result"
    }
   ],
   "source": [
    "frutas.pop()\n",
    "frutas"
   ]
  },
  {
   "cell_type": "markdown",
   "metadata": {
    "colab_type": "text",
    "id": "Hs31al7mkjYv"
   },
   "source": [
    "Para vaciar una lista, podemos usar el método **clear()**"
   ]
  },
  {
   "cell_type": "code",
   "execution_count": 30,
   "metadata": {
    "colab": {},
    "colab_type": "code",
    "id": "iHOGlDOwkjYw"
   },
   "outputs": [
    {
     "data": {
      "text/plain": [
       "[]"
      ]
     },
     "execution_count": 30,
     "metadata": {},
     "output_type": "execute_result"
    }
   ],
   "source": [
    "frutas.clear()\n",
    "frutas"
   ]
  },
  {
   "cell_type": "code",
   "execution_count": 31,
   "metadata": {
    "colab": {},
    "colab_type": "code",
    "id": "6tqb4BP9fQjH"
   },
   "outputs": [],
   "source": [
    "#tupla.pop()"
   ]
  },
  {
   "cell_type": "markdown",
   "metadata": {
    "colab_type": "text",
    "id": "_VCN_J7NkjYy"
   },
   "source": [
    "Existen muchos métodos incorporados a los distintos objetos en Python. Para poder determinar a cuales tenemos acceso, es posible utilizar el método **dir**:"
   ]
  },
  {
   "cell_type": "code",
   "execution_count": 32,
   "metadata": {
    "colab": {},
    "colab_type": "code",
    "id": "3mqvDBXekjYy"
   },
   "outputs": [
    {
     "name": "stdout",
     "output_type": "stream",
     "text": [
      "['__add__', '__class__', '__contains__', '__delattr__', '__delitem__', '__dir__', '__doc__', '__eq__', '__format__', '__ge__', '__getattribute__', '__getitem__', '__gt__', '__hash__', '__iadd__', '__imul__', '__init__', '__init_subclass__', '__iter__', '__le__', '__len__', '__lt__', '__mul__', '__ne__', '__new__', '__reduce__', '__reduce_ex__', '__repr__', '__reversed__', '__rmul__', '__setattr__', '__setitem__', '__sizeof__', '__str__', '__subclasshook__', 'append', 'clear', 'copy', 'count', 'extend', 'index', 'insert', 'pop', 'remove', 'reverse', 'sort']\n"
     ]
    }
   ],
   "source": [
    "print(dir(adjetivos))\n"
   ]
  },
  {
   "cell_type": "code",
   "execution_count": 33,
   "metadata": {
    "colab": {},
    "colab_type": "code",
    "id": "mwuGh3_SfQjK"
   },
   "outputs": [
    {
     "data": {
      "text/plain": [
       "['Rico', 'Dulce', 'Colorido']"
      ]
     },
     "execution_count": 33,
     "metadata": {},
     "output_type": "execute_result"
    }
   ],
   "source": [
    "adjetivos"
   ]
  },
  {
   "cell_type": "code",
   "execution_count": 34,
   "metadata": {
    "colab": {},
    "colab_type": "code",
    "id": "S0t5cFOGfQjL"
   },
   "outputs": [
    {
     "data": {
      "text/plain": [
       "1"
      ]
     },
     "execution_count": 34,
     "metadata": {},
     "output_type": "execute_result"
    }
   ],
   "source": [
    "# Para acceder a la ayuda de los métodos, es necesario precionar shift+tab\n",
    "\n",
    "adjetivos.count(\"Rico\")"
   ]
  },
  {
   "cell_type": "code",
   "execution_count": 35,
   "metadata": {
    "colab": {},
    "colab_type": "code",
    "id": "GX2uZwzKfQjQ"
   },
   "outputs": [
    {
     "data": {
      "text/plain": [
       "2"
      ]
     },
     "execution_count": 35,
     "metadata": {},
     "output_type": "execute_result"
    }
   ],
   "source": [
    "adjetivos.append(\"Rico\")\n",
    "adjetivos.count(\"Rico\")"
   ]
  },
  {
   "cell_type": "code",
   "execution_count": 36,
   "metadata": {
    "colab": {},
    "colab_type": "code",
    "id": "ydZcrcGwfQjR"
   },
   "outputs": [
    {
     "data": {
      "text/plain": [
       "['Colorido', 'Dulce', 'Rico', 'Rico']"
      ]
     },
     "execution_count": 36,
     "metadata": {},
     "output_type": "execute_result"
    }
   ],
   "source": [
    "adjetivos.sort()\n",
    "adjetivos"
   ]
  },
  {
   "cell_type": "code",
   "execution_count": 37,
   "metadata": {
    "colab": {},
    "colab_type": "code",
    "id": "oKDa29lKfQjS"
   },
   "outputs": [
    {
     "data": {
      "text/plain": [
       "['Rico', 'Rico', 'Dulce', 'Colorido']"
      ]
     },
     "execution_count": 37,
     "metadata": {},
     "output_type": "execute_result"
    }
   ],
   "source": [
    "adjetivos.reverse()\n",
    "adjetivos"
   ]
  },
  {
   "cell_type": "code",
   "execution_count": 0,
   "metadata": {
    "colab": {},
    "colab_type": "code",
    "id": "hVKi0XbXfQjT"
   },
   "outputs": [],
   "source": [
    "#los métodos ya incorporados a las tuplas son menos ya que estas son inmutables una vez creadas.\n",
    "print(dir(tupla))"
   ]
  },
  {
   "cell_type": "markdown",
   "metadata": {
    "colab_type": "text",
    "id": "uAgbOACrkjY0"
   },
   "source": [
    "# Python Dictionaries"
   ]
  },
  {
   "cell_type": "markdown",
   "metadata": {
    "colab_type": "text",
    "id": "BJ2a8UW1kjY0"
   },
   "source": [
    "Los **diccionarios** en Python son un arreglo de datos que permite manejar pares clave-valor. Las clave deben de ser **únicas** dentro de un mismo diccionario (es decir que no pueden existir dos elementos con una misma clave)"
   ]
  },
  {
   "cell_type": "code",
   "execution_count": 0,
   "metadata": {
    "colab": {},
    "colab_type": "code",
    "id": "lT1xNDzSkjY0"
   },
   "outputs": [],
   "source": [
    "dict =\t{  \"Nombre\": \"Edgar\",  \"Edad\": 32,  \n",
    "         \"Materias\": [\"POO\", \"Algoritmos\", \"Dinámica de robots\"]}\n",
    "\n",
    "print(dict)"
   ]
  },
  {
   "cell_type": "markdown",
   "metadata": {
    "colab_type": "text",
    "id": "PV1zAOFxkjY2"
   },
   "source": [
    "Para acceder a un elemento dentro de un diccionario, es necesario utilizar su nombre **clave**:"
   ]
  },
  {
   "cell_type": "code",
   "execution_count": 0,
   "metadata": {
    "colab": {},
    "colab_type": "code",
    "id": "A6q65PyZAZGw"
   },
   "outputs": [],
   "source": [
    "dict.keys()"
   ]
  },
  {
   "cell_type": "code",
   "execution_count": 0,
   "metadata": {
    "colab": {},
    "colab_type": "code",
    "id": "VOFSjZhjkjY3"
   },
   "outputs": [],
   "source": [
    "dict[\"Materias\"]"
   ]
  },
  {
   "cell_type": "markdown",
   "metadata": {
    "colab_type": "text",
    "id": "zGvs5XhgkjY5"
   },
   "source": [
    "Al igual que las listas, tambien se pueden cambiar elementos dentro de un diccionario. Para ello simplemente hay que referirse a su **clave**:"
   ]
  },
  {
   "cell_type": "code",
   "execution_count": 0,
   "metadata": {
    "colab": {},
    "colab_type": "code",
    "id": "oVMuF2jxkjY6"
   },
   "outputs": [],
   "source": [
    "dict[\"Edad\"]=23\n",
    "dict"
   ]
  },
  {
   "cell_type": "code",
   "execution_count": 0,
   "metadata": {
    "colab": {},
    "colab_type": "code",
    "id": "5GzHfxPpBTnv"
   },
   "outputs": [],
   "source": [
    "# Con el método len, es posible conocer el número de llaves que contiene un diccionario.\n",
    "len(dict)"
   ]
  },
  {
   "cell_type": "code",
   "execution_count": 0,
   "metadata": {
    "colab": {},
    "colab_type": "code",
    "id": "KizKWW5kBbUx"
   },
   "outputs": [],
   "source": [
    "#Al acceder directamente a una de las llaves, el método len nos dará el número de elementos de dicha llave.\n",
    "len(dict[\"Materias\"])"
   ]
  },
  {
   "cell_type": "code",
   "execution_count": 0,
   "metadata": {
    "colab": {},
    "colab_type": "code",
    "id": "FElU1xfcBu9K"
   },
   "outputs": [],
   "source": [
    "# Nuevamente usamos el método dir para conococer los métodos ya incorporados al diccionario.\n",
    "print(dir(dict))"
   ]
  },
  {
   "cell_type": "markdown",
   "metadata": {
    "colab_type": "text",
    "id": "5qIbRU2TfQje"
   },
   "source": [
    "### Actividad\n",
    "* Crea 3 ejemplos de estructuras de datos propios para tuplas.\n",
    "* Crea 1 lista de 5 elementos, sobre los programas que te gustan.\n",
    "* De la lista anterior, ordenala alfabéticamente, y posteriormente elimina el último elemento de la lista.\n",
    "* Agrega un nuevo programa a la lista y ordenala de forma inversa (No de la Z a la A).\n",
    "* Crea un diccionario en el que:\n",
    "            ** La primer llave se llame tuplas, y dicha llave contenga las tuplas creadas en el presente ejercicio.\n",
    "            ** La segunda llave se llame listas y ahí se almacene la lista de programas.\n",
    "            ** La tercera llave se llame libre, y ahi asignaras 5 elementos libres a escoger."
   ]
  },
  {
   "cell_type": "markdown",
   "metadata": {
    "colab_type": "text",
    "id": "oASjKtJKfQje"
   },
   "source": [
    "<img src=\"img/spyder.png\" alt=\"Spyder\" width=\"300\"/>"
   ]
  },
  {
   "cell_type": "code",
   "execution_count": 1,
   "metadata": {
    "colab": {},
    "colab_type": "code",
    "id": "LG19v5KxfQje"
   },
   "outputs": [],
   "source": [
    "sexo=(\"m\",\"f\")\n",
    "punto_cardinal=(\"E\", \"O\", \"N\", \"S\")\n",
    "colores_primarios=(\"azul\", \"rojo\", \"verde\")"
   ]
  },
  {
   "cell_type": "code",
   "execution_count": 2,
   "metadata": {
    "colab": {},
    "colab_type": "code",
    "id": "bf3B_wb8fQjg"
   },
   "outputs": [],
   "source": [
    "programas=[\"GoT\", \"The Big Bang Theory\", \"Cosmos\", \"Friends\", \"Pimp my ride\"]"
   ]
  },
  {
   "cell_type": "code",
   "execution_count": 3,
   "metadata": {
    "colab": {},
    "colab_type": "code",
    "id": "3cfCn87KfQjl"
   },
   "outputs": [
    {
     "data": {
      "text/plain": [
       "['Cosmos', 'Friends', 'GoT', 'Pimp my ride']"
      ]
     },
     "execution_count": 3,
     "metadata": {},
     "output_type": "execute_result"
    }
   ],
   "source": [
    "programas.sort()\n",
    "programas.pop()\n",
    "programas"
   ]
  },
  {
   "cell_type": "code",
   "execution_count": 4,
   "metadata": {
    "colab": {},
    "colab_type": "code",
    "id": "_GMmgr9LfQjn"
   },
   "outputs": [
    {
     "data": {
      "text/plain": [
       "['Avatar', 'Pimp my ride', 'GoT', 'Friends', 'Cosmos']"
      ]
     },
     "execution_count": 4,
     "metadata": {},
     "output_type": "execute_result"
    }
   ],
   "source": [
    "programas.append(\"Avatar\")\n",
    "programas.reverse()\n",
    "programas"
   ]
  },
  {
   "cell_type": "code",
   "execution_count": 5,
   "metadata": {
    "colab": {},
    "colab_type": "code",
    "id": "KvVH7NbyfQjo"
   },
   "outputs": [
    {
     "data": {
      "text/plain": [
       "{'tuplas': (('m', 'f'), ('E', 'O', 'N', 'S'), ('azul', 'rojo', 'verde')),\n",
       " 'listas': ['Avatar', 'Pimp my ride', 'GoT', 'Friends', 'Cosmos'],\n",
       " 'Libre': ['Hola', 'este', 'es', 'un', 'diccionario']}"
      ]
     },
     "execution_count": 5,
     "metadata": {},
     "output_type": "execute_result"
    }
   ],
   "source": [
    "diccionario={\"tuplas\":(sexo,punto_cardinal,colores_primarios), \n",
    "             \"listas\":programas, \"Libre\":[\"Hola\", \"este\", \"es\", \"un\", \"diccionario\"] }\n",
    "diccionario"
   ]
  },
  {
   "cell_type": "markdown",
   "metadata": {},
   "source": [
    "# Accediendo a mas de un valor (slice)"
   ]
  },
  {
   "cell_type": "code",
   "execution_count": 41,
   "metadata": {},
   "outputs": [
    {
     "data": {
      "text/plain": [
       "'H'"
      ]
     },
     "execution_count": 41,
     "metadata": {},
     "output_type": "execute_result"
    }
   ],
   "source": [
    "cadena=\"Hola Mundo!\"\n",
    "cadena[0]"
   ]
  },
  {
   "cell_type": "code",
   "execution_count": 46,
   "metadata": {},
   "outputs": [
    {
     "data": {
      "text/plain": [
       "'Hola'"
      ]
     },
     "execution_count": 46,
     "metadata": {},
     "output_type": "execute_result"
    }
   ],
   "source": [
    "# El primer valor corresponde a la posición indexada, mientras que el segundo al número de elementos.\n",
    "cadena[0:4]"
   ]
  },
  {
   "cell_type": "code",
   "execution_count": 45,
   "metadata": {},
   "outputs": [
    {
     "data": {
      "text/plain": [
       "'Mundo!'"
      ]
     },
     "execution_count": 45,
     "metadata": {},
     "output_type": "execute_result"
    }
   ],
   "source": [
    "cadena[5:11]"
   ]
  },
  {
   "cell_type": "code",
   "execution_count": 50,
   "metadata": {},
   "outputs": [
    {
     "data": {
      "text/plain": [
       "'Mundo!'"
      ]
     },
     "execution_count": 50,
     "metadata": {},
     "output_type": "execute_result"
    }
   ],
   "source": [
    "# A partir de la posición indexada 5, se traeran todos los caracteres hasta el final de la cadena.\n",
    "cadena[5:]"
   ]
  },
  {
   "cell_type": "code",
   "execution_count": 52,
   "metadata": {},
   "outputs": [
    {
     "data": {
      "text/plain": [
       "'Hola'"
      ]
     },
     "execution_count": 52,
     "metadata": {},
     "output_type": "execute_result"
    }
   ],
   "source": [
    "# Desde el inicio de la cadena, se traeran los caracteres hasta el número 4.\n",
    "cadena[:4]"
   ]
  },
  {
   "cell_type": "code",
   "execution_count": 53,
   "metadata": {},
   "outputs": [
    {
     "name": "stdout",
     "output_type": "stream",
     "text": [
      "Hola a todos!\n"
     ]
    }
   ],
   "source": [
    "print(cadena[:4]+\" a todos!\")"
   ]
  },
  {
   "cell_type": "code",
   "execution_count": 58,
   "metadata": {},
   "outputs": [
    {
     "name": "stdout",
     "output_type": "stream",
     "text": [
      "Adios Mundo cruel :(\n"
     ]
    }
   ],
   "source": [
    "print(\"Adios \" + cadena[5:10] + \" cruel :(\")"
   ]
  },
  {
   "cell_type": "code",
   "execution_count": 61,
   "metadata": {},
   "outputs": [
    {
     "data": {
      "text/plain": [
       "'!'"
      ]
     },
     "execution_count": 61,
     "metadata": {},
     "output_type": "execute_result"
    }
   ],
   "source": [
    "# Solo el último caracter\n",
    "cadena[-1]"
   ]
  },
  {
   "cell_type": "code",
   "execution_count": 62,
   "metadata": {},
   "outputs": [
    {
     "data": {
      "text/plain": [
       "'Hola Mundo'"
      ]
     },
     "execution_count": 62,
     "metadata": {},
     "output_type": "execute_result"
    }
   ],
   "source": [
    "#Todo, excepto el último caracter\n",
    "cadena[:-1]"
   ]
  },
  {
   "cell_type": "code",
   "execution_count": 63,
   "metadata": {},
   "outputs": [
    {
     "data": {
      "text/plain": [
       "'Hola Mundo!'"
      ]
     },
     "execution_count": 63,
     "metadata": {},
     "output_type": "execute_result"
    }
   ],
   "source": [
    "cadena[:-1]+cadena[-1]"
   ]
  },
  {
   "cell_type": "code",
   "execution_count": 66,
   "metadata": {},
   "outputs": [],
   "source": [
    "lista=diccionario[\"listas\"]"
   ]
  },
  {
   "cell_type": "code",
   "execution_count": 68,
   "metadata": {},
   "outputs": [
    {
     "data": {
      "text/plain": [
       "['Avatar', 'Pimp my ride']"
      ]
     },
     "execution_count": 68,
     "metadata": {},
     "output_type": "execute_result"
    }
   ],
   "source": [
    "lista[0:2]"
   ]
  },
  {
   "cell_type": "code",
   "execution_count": 69,
   "metadata": {},
   "outputs": [
    {
     "data": {
      "text/plain": [
       "'Cosmos'"
      ]
     },
     "execution_count": 69,
     "metadata": {},
     "output_type": "execute_result"
    }
   ],
   "source": [
    "lista[-1]"
   ]
  },
  {
   "cell_type": "code",
   "execution_count": 71,
   "metadata": {},
   "outputs": [
    {
     "data": {
      "text/plain": [
       "['Avatar', 'Pimp my ride', 'GoT', 'Friends']"
      ]
     },
     "execution_count": 71,
     "metadata": {},
     "output_type": "execute_result"
    }
   ],
   "source": [
    "lista[:-1]"
   ]
  },
  {
   "cell_type": "code",
   "execution_count": 74,
   "metadata": {},
   "outputs": [],
   "source": [
    "# Esta forma de obtener subsets de información de strings, tuplas y listas no es valido para diccionarios\n",
    "#diccionario[0:2]"
   ]
  },
  {
   "cell_type": "markdown",
   "metadata": {},
   "source": [
    "# Conjuntos (Sets)"
   ]
  },
  {
   "cell_type": "markdown",
   "metadata": {},
   "source": [
    "Un conjunto (set) es otro tipo de estructura de datos en Python. Es una coleccion no ordenada de objetos únicos."
   ]
  },
  {
   "cell_type": "code",
   "execution_count": 75,
   "metadata": {},
   "outputs": [],
   "source": [
    "# Para crear un set utilizamos el simbolo de agrupación de llaves. \n",
    "# A diferencia de un diccionario, aquí no hay variables pareadas\n",
    "\n",
    "s={1,2,3,4}"
   ]
  },
  {
   "cell_type": "code",
   "execution_count": 78,
   "metadata": {},
   "outputs": [],
   "source": [
    "# De igual modo que con las otras 3 estructuras, las variables pueden no ser del mismo tipo:\n",
    "s = {True, 3.14, None, False, \"Hola mundo\", (1, 2)}"
   ]
  },
  {
   "cell_type": "code",
   "execution_count": 80,
   "metadata": {},
   "outputs": [],
   "source": [
    "# Lo único, es que los sets no pueden incluir datos mutables, como son las listas o diccionarios:\n",
    "#s={lista}"
   ]
  },
  {
   "cell_type": "code",
   "execution_count": 82,
   "metadata": {},
   "outputs": [
    {
     "data": {
      "text/plain": [
       "dict"
      ]
     },
     "execution_count": 82,
     "metadata": {},
     "output_type": "execute_result"
    }
   ],
   "source": [
    "# En caso de querer crear un set vacio, Python no es capaz de distinguir entre set y diccionario:\n",
    "s={}\n",
    "type(s)"
   ]
  },
  {
   "cell_type": "code",
   "execution_count": 83,
   "metadata": {},
   "outputs": [
    {
     "data": {
      "text/plain": [
       "set"
      ]
     },
     "execution_count": 83,
     "metadata": {},
     "output_type": "execute_result"
    }
   ],
   "source": [
    "# En este tipo de situación será necesario hacer una instancia directa desde la clase set:\n",
    "s=set()\n",
    "type(s)"
   ]
  },
  {
   "cell_type": "code",
   "execution_count": 85,
   "metadata": {},
   "outputs": [
    {
     "data": {
      "text/plain": [
       "{1}"
      ]
     },
     "execution_count": 85,
     "metadata": {},
     "output_type": "execute_result"
    }
   ],
   "source": [
    "# Una de las características de los sets, es que elimina los datos duplicados, almacenando únicamente\n",
    "# la primera aparición:\n",
    "s={1,1,1,1,1,1,1}\n",
    "s"
   ]
  },
  {
   "cell_type": "code",
   "execution_count": 90,
   "metadata": {},
   "outputs": [
    {
     "data": {
      "text/plain": [
       "9"
      ]
     },
     "execution_count": 90,
     "metadata": {},
     "output_type": "execute_result"
    }
   ],
   "source": [
    "ejemplo=[\"Hola \",\"Hola \",\"Hola \",\"Hola \",\"Mundo!\",\"Mundo!\",\"Mundo!\",\"Mundo!\",\"Mundo!\"]\n",
    "len(ejemplo)"
   ]
  },
  {
   "cell_type": "code",
   "execution_count": 92,
   "metadata": {},
   "outputs": [
    {
     "data": {
      "text/plain": [
       "{'Hola ', 'Mundo!'}"
      ]
     },
     "execution_count": 92,
     "metadata": {},
     "output_type": "execute_result"
    }
   ],
   "source": [
    "s=set(ejemplo)\n",
    "s"
   ]
  },
  {
   "cell_type": "markdown",
   "metadata": {},
   "source": [
    "Los sets son mutables, vía varios métodos. Por mencionar algunos: **add()**, **update()**, **discar()** y **remove()**"
   ]
  },
  {
   "cell_type": "code",
   "execution_count": 89,
   "metadata": {},
   "outputs": [
    {
     "name": "stdout",
     "output_type": "stream",
     "text": [
      "['__and__', '__class__', '__contains__', '__delattr__', '__dir__', '__doc__', '__eq__', '__format__', '__ge__', '__getattribute__', '__gt__', '__hash__', '__iand__', '__init__', '__init_subclass__', '__ior__', '__isub__', '__iter__', '__ixor__', '__le__', '__len__', '__lt__', '__ne__', '__new__', '__or__', '__rand__', '__reduce__', '__reduce_ex__', '__repr__', '__ror__', '__rsub__', '__rxor__', '__setattr__', '__sizeof__', '__str__', '__sub__', '__subclasshook__', '__xor__', 'add', 'clear', 'copy', 'difference', 'difference_update', 'discard', 'intersection', 'intersection_update', 'isdisjoint', 'issubset', 'issuperset', 'pop', 'remove', 'symmetric_difference', 'symmetric_difference_update', 'union', 'update']\n"
     ]
    }
   ],
   "source": [
    "print(dir(s))"
   ]
  },
  {
   "cell_type": "code",
   "execution_count": 93,
   "metadata": {},
   "outputs": [
    {
     "data": {
      "text/plain": [
       "True"
      ]
     },
     "execution_count": 93,
     "metadata": {},
     "output_type": "execute_result"
    }
   ],
   "source": [
    "s.issubset(ejemplo)"
   ]
  },
  {
   "cell_type": "markdown",
   "metadata": {},
   "source": [
    "# Condicional If"
   ]
  },
  {
   "cell_type": "code",
   "execution_count": 29,
   "metadata": {},
   "outputs": [
    {
     "name": "stdout",
     "output_type": "stream",
     "text": [
      "5\n",
      "9\n",
      "b es mayor que a\n"
     ]
    }
   ],
   "source": [
    "a = int(input())\n",
    "b = int(input())\n",
    "if b > a:\n",
    "    print(\"b es mayor que a\")"
   ]
  },
  {
   "cell_type": "markdown",
   "metadata": {},
   "source": [
    "### Elif"
   ]
  },
  {
   "cell_type": "code",
   "execution_count": null,
   "metadata": {},
   "outputs": [],
   "source": [
    "a = int(input())\n",
    "b = int(input())\n",
    "if b > a:\n",
    "    print(\"b es mayor que a\")\n",
    "elif a == b:\n",
    "    print(\"a y b so iguales\")"
   ]
  },
  {
   "cell_type": "markdown",
   "metadata": {},
   "source": [
    "### Else"
   ]
  },
  {
   "cell_type": "code",
   "execution_count": 30,
   "metadata": {},
   "outputs": [
    {
     "name": "stdout",
     "output_type": "stream",
     "text": [
      "6\n",
      "4\n",
      "a es mayor que b\n"
     ]
    }
   ],
   "source": [
    "a = int(input())\n",
    "b = int(input())\n",
    "if b > a:\n",
    "    print(\"b es mayor que a\")\n",
    "elif a == b:\n",
    "    print(\"a y b so iguales\")\n",
    "else:\n",
    "    print(\"a es mayor que b\")"
   ]
  },
  {
   "cell_type": "markdown",
   "metadata": {},
   "source": [
    "### Operadores lógicos: and"
   ]
  },
  {
   "cell_type": "code",
   "execution_count": null,
   "metadata": {},
   "outputs": [],
   "source": [
    "a = int(input())\n",
    "b = int(input())\n",
    "c = int(input())\n",
    "if a > b and c > a:\n",
    "    print(\"Ambas condiciones son verdaderas\")"
   ]
  },
  {
   "cell_type": "markdown",
   "metadata": {},
   "source": [
    "### Operadores lógicos: or"
   ]
  },
  {
   "cell_type": "code",
   "execution_count": 31,
   "metadata": {},
   "outputs": [
    {
     "name": "stdout",
     "output_type": "stream",
     "text": [
      "6\n",
      "5\n",
      "4\n",
      "Por lo menos alguna de las condiciones es verdadera\n"
     ]
    }
   ],
   "source": [
    "a = int(input())\n",
    "b = int(input())\n",
    "c = int(input())\n",
    "if a > b or c > a:\n",
    "    print(\"Por lo menos alguna de las condiciones es verdadera\")"
   ]
  },
  {
   "cell_type": "markdown",
   "metadata": {},
   "source": [
    "### If anidado"
   ]
  },
  {
   "cell_type": "code",
   "execution_count": 34,
   "metadata": {},
   "outputs": [
    {
     "name": "stdout",
     "output_type": "stream",
     "text": [
      "15\n",
      "Mayor que diez, \n",
      "pero no mayor que 20.\n"
     ]
    }
   ],
   "source": [
    "x = int(input())\n",
    "\n",
    "if x > 10:\n",
    "    print(\"Mayor que diez, \")\n",
    "    if x > 20:\n",
    "        print(\"y también mayor que 20!\")\n",
    "    else:\n",
    "        print(\"pero no mayor que 20.\")\n",
    "else:\n",
    "    print(\"No es mayor a diez.\")"
   ]
  },
  {
   "cell_type": "markdown",
   "metadata": {},
   "source": [
    "# Range"
   ]
  },
  {
   "cell_type": "markdown",
   "metadata": {},
   "source": [
    "Sintaxis:\n",
    "\n",
    "--------------------------------------------------------------------------------------------------------------------------\n",
    "\n",
    "                                      range( [inicio,] límite [, salto])\n",
    "\n",
    "--------------------------------------------------------------------------------------------------------------------------"
   ]
  },
  {
   "cell_type": "markdown",
   "metadata": {},
   "source": [
    "*Nota: El valor límite corresponde al valor indexado, mientras que los parametros inicio, y salto son opcionales.*"
   ]
  },
  {
   "cell_type": "code",
   "execution_count": 38,
   "metadata": {},
   "outputs": [
    {
     "data": {
      "text/plain": [
       "[0, 1, 2, 3, 4]"
      ]
     },
     "execution_count": 38,
     "metadata": {},
     "output_type": "execute_result"
    }
   ],
   "source": [
    "list(range(5))"
   ]
  },
  {
   "cell_type": "code",
   "execution_count": 39,
   "metadata": {},
   "outputs": [
    {
     "data": {
      "text/plain": [
       "[5, 6, 7, 8, 9]"
      ]
     },
     "execution_count": 39,
     "metadata": {},
     "output_type": "execute_result"
    }
   ],
   "source": [
    "list(range(5,10))"
   ]
  },
  {
   "cell_type": "markdown",
   "metadata": {
    "colab_type": "text",
    "id": "yw6a3JaGkjY8"
   },
   "source": [
    "# Ciclo  For y ciclo Do while"
   ]
  },
  {
   "cell_type": "markdown",
   "metadata": {
    "colab_type": "text",
    "id": "AHRY-lPXkjYM"
   },
   "source": [
    "El ciclo **for** puede ser utilizado en diferentes objetos, obteniendo resultados diferentes. A esta capacidad de un objeto de reaccionar diferente frente a otro se le conoce como **polimorfismo.**"
   ]
  },
  {
   "cell_type": "code",
   "execution_count": 24,
   "metadata": {},
   "outputs": [
    {
     "name": "stdout",
     "output_type": "stream",
     "text": [
      "0\n",
      "1\n",
      "2\n"
     ]
    }
   ],
   "source": [
    "for x in range(3):\n",
    "    print(x)"
   ]
  },
  {
   "cell_type": "code",
   "execution_count": 0,
   "metadata": {
    "colab": {},
    "colab_type": "code",
    "id": "sZ2ZPBdmkjYN"
   },
   "outputs": [],
   "source": [
    "for x in range(3):\n",
    "    print(str(x) +\" \"+\"Hola mundo\")"
   ]
  },
  {
   "cell_type": "code",
   "execution_count": 25,
   "metadata": {
    "colab": {},
    "colab_type": "code",
    "id": "7E2XYTOTkjYO"
   },
   "outputs": [
    {
     "name": "stdout",
     "output_type": "stream",
     "text": [
      "3 Hola mundo\n",
      "4 Hola mundo\n"
     ]
    }
   ],
   "source": [
    "for x in range(3,5):\n",
    "    print(str(x) +\" \"+ \"Hola mundo\")"
   ]
  },
  {
   "cell_type": "code",
   "execution_count": 0,
   "metadata": {
    "colab": {},
    "colab_type": "code",
    "id": "y6fOUmZfkjYQ"
   },
   "outputs": [],
   "source": [
    "for x in range(0,15,3):\n",
    "    print(x)\n",
    "    print(\"Hola mundo\")"
   ]
  },
  {
   "cell_type": "markdown",
   "metadata": {
    "colab_type": "text",
    "id": "SkMn-UdLkjYM"
   },
   "source": [
    "### Ejemplos de polimorfismo Ciclo For"
   ]
  },
  {
   "cell_type": "code",
   "execution_count": 0,
   "metadata": {
    "colab": {},
    "colab_type": "code",
    "id": "1u8LOTrQywvo"
   },
   "outputs": [],
   "source": [
    "a=0\n",
    "for x in \"banana\":\n",
    "    print(x)"
   ]
  },
  {
   "cell_type": "code",
   "execution_count": 0,
   "metadata": {
    "colab": {},
    "colab_type": "code",
    "id": "4H8JOw_8kjYS"
   },
   "outputs": [],
   "source": [
    "a=0\n",
    "for x in \"banana\":\n",
    "    print(str(a) + \" \" + x)\n",
    "    a+=1"
   ]
  },
  {
   "cell_type": "code",
   "execution_count": 0,
   "metadata": {
    "colab": {},
    "colab_type": "code",
    "id": "0kEwycZtkjYU"
   },
   "outputs": [],
   "source": [
    "for x in lista:\n",
    "    print(x)"
   ]
  },
  {
   "cell_type": "markdown",
   "metadata": {
    "colab_type": "text",
    "id": "BDE8EGOPkjYX"
   },
   "source": [
    "Con la sentencia **break** podemos detener las iteraciones dentro de un ciclo:"
   ]
  },
  {
   "cell_type": "code",
   "execution_count": 0,
   "metadata": {
    "colab": {},
    "colab_type": "code",
    "id": "OH5cEXuAkjYY"
   },
   "outputs": [],
   "source": [
    "for x in lista:\n",
    "    print(x)\n",
    "    if x==\"manzana\":\n",
    "        break"
   ]
  },
  {
   "cell_type": "code",
   "execution_count": 0,
   "metadata": {
    "colab": {},
    "colab_type": "code",
    "id": "a4U_1LDOkjYa"
   },
   "outputs": [],
   "source": [
    "for x in lista:\n",
    "    if x==\"manzana\":\n",
    "        break\n",
    "    print(x)"
   ]
  },
  {
   "cell_type": "markdown",
   "metadata": {
    "colab_type": "text",
    "id": "9gPjD_KHkjYb"
   },
   "source": [
    "Con la sentencia **continue** podemos detener la iteracion actual dentro de un ciclo y que pase a la siguiente:"
   ]
  },
  {
   "cell_type": "code",
   "execution_count": 0,
   "metadata": {
    "colab": {},
    "colab_type": "code",
    "id": "EmWT-W4JkjYc"
   },
   "outputs": [],
   "source": [
    "for x in lista:\n",
    "    if x==\"manzana\":\n",
    "        continue #Este comando sería igual a pasar de largo el elemento manzana.\n",
    "    print(x)"
   ]
  },
  {
   "cell_type": "code",
   "execution_count": 14,
   "metadata": {},
   "outputs": [
    {
     "name": "stdout",
     "output_type": "stream",
     "text": [
      "tuplas\n",
      "listas\n",
      "Libre\n"
     ]
    }
   ],
   "source": [
    "#El siguiente ciclo imprime las llaves dentro de un diccionario\n",
    "for i in diccionario:\n",
    "    print (i)"
   ]
  },
  {
   "cell_type": "code",
   "execution_count": 16,
   "metadata": {},
   "outputs": [
    {
     "data": {
      "text/plain": [
       "dict_keys(['tuplas', 'listas', 'Libre'])"
      ]
     },
     "execution_count": 16,
     "metadata": {},
     "output_type": "execute_result"
    }
   ],
   "source": [
    "diccionario.keys()"
   ]
  },
  {
   "cell_type": "code",
   "execution_count": 22,
   "metadata": {},
   "outputs": [
    {
     "name": "stdout",
     "output_type": "stream",
     "text": [
      "(('m', 'f'), ('E', 'O', 'N', 'S'), ('azul', 'rojo', 'verde'))\n",
      "['Avatar', 'Pimp my ride', 'GoT', 'Friends', 'Cosmos']\n",
      "['Hola', 'este', 'es', 'un', 'diccionario']\n"
     ]
    }
   ],
   "source": [
    "for i in diccionario:\n",
    "    print (diccionario[i])"
   ]
  },
  {
   "cell_type": "markdown",
   "metadata": {
    "colab_type": "text",
    "id": "VsHorsdCkjZB"
   },
   "source": [
    "Otra forma de obtener el resultado anterior, sería mediante el uso del método **values()**"
   ]
  },
  {
   "cell_type": "code",
   "execution_count": 26,
   "metadata": {
    "colab": {},
    "colab_type": "code",
    "id": "wE552CKukjZB"
   },
   "outputs": [
    {
     "name": "stdout",
     "output_type": "stream",
     "text": [
      "(('m', 'f'), ('E', 'O', 'N', 'S'), ('azul', 'rojo', 'verde'))\n",
      "['Avatar', 'Pimp my ride', 'GoT', 'Friends', 'Cosmos']\n",
      "['Hola', 'este', 'es', 'un', 'diccionario']\n"
     ]
    }
   ],
   "source": [
    "for i in diccionario.values():\n",
    "    print(i)"
   ]
  },
  {
   "cell_type": "code",
   "execution_count": 23,
   "metadata": {},
   "outputs": [
    {
     "name": "stdout",
     "output_type": "stream",
     "text": [
      "<class 'tuple'>\n",
      "<class 'list'>\n",
      "<class 'list'>\n"
     ]
    }
   ],
   "source": [
    "for i in diccionario:\n",
    "    print(type(diccionario[i]))"
   ]
  },
  {
   "cell_type": "code",
   "execution_count": 13,
   "metadata": {},
   "outputs": [
    {
     "name": "stdout",
     "output_type": "stream",
     "text": [
      "tuplas : (('m', 'f'), ('E', 'O', 'N', 'S'), ('azul', 'rojo', 'verde'))\n",
      "<class 'tuple'>\n",
      "\n",
      "listas : ['Avatar', 'Pimp my ride', 'GoT', 'Friends', 'Cosmos']\n",
      "<class 'list'>\n",
      "\n",
      "Libre : ['Hola', 'este', 'es', 'un', 'diccionario']\n",
      "<class 'list'>\n",
      "\n"
     ]
    }
   ],
   "source": [
    "for i in diccionario:\n",
    "    print (i,\":\",diccionario[i])\n",
    "    print(type(diccionario[i]))\n",
    "    print()"
   ]
  },
  {
   "cell_type": "markdown",
   "metadata": {
    "colab_type": "text",
    "id": "nnsDjSfKkjZE"
   },
   "source": [
    "El método **items** nos ayuda a obtener las claves y sus valores de forma simultanea:"
   ]
  },
  {
   "cell_type": "code",
   "execution_count": 27,
   "metadata": {
    "colab": {},
    "colab_type": "code",
    "id": "n8HuFQmmkjZE"
   },
   "outputs": [
    {
     "name": "stdout",
     "output_type": "stream",
     "text": [
      "tuplas : (('m', 'f'), ('E', 'O', 'N', 'S'), ('azul', 'rojo', 'verde'))\n",
      "listas : ['Avatar', 'Pimp my ride', 'GoT', 'Friends', 'Cosmos']\n",
      "Libre : ['Hola', 'este', 'es', 'un', 'diccionario']\n"
     ]
    }
   ],
   "source": [
    "for x, y in diccionario.items():\n",
    "    print(x,\":\", y)"
   ]
  },
  {
   "cell_type": "markdown",
   "metadata": {
    "colab_type": "text",
    "id": "ShYD3yFckjYd"
   },
   "source": [
    "### El comando Else en el ciclo For\n",
    "\n",
    "El comando **Else** en un ciclo **For** especifica un bloque de código que se ejecutará solo al termino del loop."
   ]
  },
  {
   "cell_type": "code",
   "execution_count": 0,
   "metadata": {
    "colab": {},
    "colab_type": "code",
    "id": "zo3G0mEekjYe"
   },
   "outputs": [],
   "source": [
    "for x in range(6):\n",
    "    print(x)\n",
    "else:\n",
    "    print(\"Por fin terminó!\")"
   ]
  },
  {
   "cell_type": "markdown",
   "metadata": {
    "colab_type": "text",
    "id": "e1CwjDQHkjYf"
   },
   "source": [
    "### Loops anidados\n",
    "\n",
    "En este tipo de sintaxis, el loop mas *interior* completara todos sus iteraciones por cada iteración del loop *exterior.*"
   ]
  },
  {
   "cell_type": "code",
   "execution_count": 0,
   "metadata": {
    "colab": {},
    "colab_type": "code",
    "id": "E-T4x3YikjYg"
   },
   "outputs": [],
   "source": [
    "frutas = [\"limón\", \"platano\", \"mango\", \"fresa\", \"Kiwi\"]\n",
    "adjetivos = [\"colorido\", \"grande\", \"sabroso\"]\n",
    "\n",
    "\n",
    "for x in frutas:\n",
    "    for y in adjetivos:\n",
    "        print(x, y)"
   ]
  },
  {
   "cell_type": "code",
   "execution_count": 0,
   "metadata": {
    "colab": {},
    "colab_type": "code",
    "id": "fx-Pgdkk31ml"
   },
   "outputs": [],
   "source": [
    "bm=(\"bueno\",\"malo\")\n",
    "resultado=[]\n",
    "for x in frutas:\n",
    "    for y in adjetivos:\n",
    "        for z in bm:\n",
    "            resultado.append((x, y, z))\n",
    "print(resultado)"
   ]
  },
  {
   "cell_type": "code",
   "execution_count": 0,
   "metadata": {
    "colab": {},
    "colab_type": "code",
    "id": "hpa3OqhIfQj7"
   },
   "outputs": [],
   "source": [
    "len(resultado)"
   ]
  },
  {
   "cell_type": "markdown",
   "metadata": {
    "colab_type": "text",
    "id": "9JajQA22lPjn"
   },
   "source": [
    "Con el ciclo **while**, se puede ejecutar una serie de instrucciones mientras que la condición indicada sea verdadera."
   ]
  },
  {
   "cell_type": "code",
   "execution_count": 0,
   "metadata": {
    "colab": {},
    "colab_type": "code",
    "id": "madliu72kjZO"
   },
   "outputs": [],
   "source": [
    "i = 1\n",
    "while i < 6:\n",
    "    print(i)\n",
    "    i += 2"
   ]
  },
  {
   "cell_type": "markdown",
   "metadata": {
    "colab_type": "text",
    "id": "QibXxtzJlaUH"
   },
   "source": [
    "Al igual que el ciclo For, el ciclo **while** también permite el uso de los métodos **break** y **continue**"
   ]
  },
  {
   "cell_type": "code",
   "execution_count": 0,
   "metadata": {
    "colab": {},
    "colab_type": "code",
    "id": "S9kTiLZ4lYzr"
   },
   "outputs": [],
   "source": [
    "i = 1\n",
    "while i < 6:\n",
    "    print(i)\n",
    "    if i == 3:\n",
    "        break\n",
    "    i += 1\n",
    "  "
   ]
  },
  {
   "cell_type": "code",
   "execution_count": 0,
   "metadata": {
    "colab": {},
    "colab_type": "code",
    "id": "FXlHK-ZRlptX"
   },
   "outputs": [],
   "source": [
    "i = 0\n",
    "while i < 6:\n",
    "    i += 1 \n",
    "    if i == 3:\n",
    "        continue\n",
    "    print(i)"
   ]
  },
  {
   "cell_type": "markdown",
   "metadata": {
    "colab_type": "text",
    "id": "8qeqhNHZlNwQ"
   },
   "source": [
    "Ejemplo del uso del loop **While** para el cálculo de la serie Fibonacci"
   ]
  },
  {
   "cell_type": "code",
   "execution_count": 0,
   "metadata": {
    "colab": {},
    "colab_type": "code",
    "id": "Og-ONzKEjko8"
   },
   "outputs": [],
   "source": [
    "a, b = 0,1\n",
    "while a < 100:\n",
    "    print(a) \n",
    "    a, b = b, a+b"
   ]
  },
  {
   "cell_type": "markdown",
   "metadata": {
    "colab_type": "text",
    "id": "DMAJN1QDfQkJ"
   },
   "source": [
    "### Actividad\n",
    "\n",
    "Realizar un programa que calcule los números primos desde 2 hasta n.\n",
    "\n",
    "*Nota: para calcular el residuo de una división, se utiliza el simbolo %.*\n",
    "\n",
    "        ej. 2%2=0"
   ]
  },
  {
   "cell_type": "markdown",
   "metadata": {
    "colab_type": "text",
    "id": "As7NsJ0VfQkJ"
   },
   "source": [
    "<img src=\"img/spyder.png\" alt=\"Spyder\" width=\"300\"/>"
   ]
  },
  {
   "cell_type": "code",
   "execution_count": 0,
   "metadata": {
    "colab": {},
    "colab_type": "code",
    "id": "o9Yi_oLSfQkK"
   },
   "outputs": [],
   "source": [
    "numero=int(input(\"Indique el valor máximo de la serie: \"))\n",
    "primos=[]\n",
    "for i in range(2, numero+1):\n",
    "    for divisor in range(1,i+1):\n",
    "        primo=True\n",
    "        residuo=i%divisor\n",
    "        if residuo==0 and divisor!=1 and divisor!=i:\n",
    "            primo=False\n",
    "            break\n",
    "    if primo==True:\n",
    "        primos.append(i)\n",
    "else:\n",
    "    print(primos)"
   ]
  },
  {
   "cell_type": "markdown",
   "metadata": {
    "colab_type": "text",
    "id": "MWFM0guXfQkK"
   },
   "source": [
    "# Definición de funciones en Python"
   ]
  },
  {
   "cell_type": "markdown",
   "metadata": {
    "colab_type": "text",
    "id": "bFWkcI9UfQkL"
   },
   "source": [
    "Una función (método), es un elemento que nos va a servir en Python para poder realizar acciones, o tareas específicas. Una función puede ser invocada en cualquier parte del código."
   ]
  },
  {
   "cell_type": "code",
   "execution_count": 94,
   "metadata": {},
   "outputs": [
    {
     "data": {
      "text/plain": [
       "11"
      ]
     },
     "execution_count": 94,
     "metadata": {},
     "output_type": "execute_result"
    }
   ],
   "source": [
    "def suma(a,b):\n",
    "    return a+b\n",
    "suma(5,6)"
   ]
  },
  {
   "cell_type": "code",
   "execution_count": 100,
   "metadata": {},
   "outputs": [
    {
     "data": {
      "text/plain": [
       "28.274309999999996"
      ]
     },
     "execution_count": 100,
     "metadata": {},
     "output_type": "execute_result"
    }
   ],
   "source": [
    "def area_circulo(radio):\n",
    "    return 3.14159*radio*radio\n",
    "\n",
    "area_circulo(3)"
   ]
  },
  {
   "cell_type": "code",
   "execution_count": 105,
   "metadata": {},
   "outputs": [],
   "source": [
    "import math"
   ]
  },
  {
   "cell_type": "code",
   "execution_count": 176,
   "metadata": {},
   "outputs": [
    {
     "data": {
      "text/plain": [
       "28.274333882308138"
      ]
     },
     "execution_count": 176,
     "metadata": {},
     "output_type": "execute_result"
    }
   ],
   "source": [
    "def area_circulo(radio):\n",
    "    return math.pi*radio*radio\n",
    "\n",
    "area_circulo(3)"
   ]
  },
  {
   "cell_type": "code",
   "execution_count": 175,
   "metadata": {},
   "outputs": [
    {
     "data": {
      "text/plain": [
       "12"
      ]
     },
     "execution_count": 175,
     "metadata": {},
     "output_type": "execute_result"
    }
   ],
   "source": [
    "# En caso de que la función utilice un número desconocido de argumentos, utilizamos un *\n",
    "def perimetro_poligono_irregular(*lados):\n",
    "    return sum(lados)\n",
    "perimetro_poligono(3,4,5)"
   ]
  },
  {
   "cell_type": "code",
   "execution_count": 95,
   "metadata": {},
   "outputs": [
    {
     "name": "stdout",
     "output_type": "stream",
     "text": [
      "Esta es mi función para saludar\n"
     ]
    }
   ],
   "source": [
    "def saludo():\n",
    "    print(\"Esta es mi función para saludar\")\n",
    "saludo()"
   ]
  },
  {
   "cell_type": "code",
   "execution_count": 104,
   "metadata": {},
   "outputs": [
    {
     "name": "stdout",
     "output_type": "stream",
     "text": [
      "Yo soy de Paraguay\n",
      "Yo soy de UK\n",
      "Yo soy de Mexico\n"
     ]
    }
   ],
   "source": [
    "# Un parametro inicializado será utilizado únicamente cuando no se le asigne valor al momento de llamar la función:\n",
    "def pais(country = \"Mexico\"):\n",
    "    print(\"Yo soy de \" + country)\n",
    "        \n",
    "pais(\"Paraguay\")\n",
    "pais(\"UK\")\n",
    "pais()"
   ]
  },
  {
   "cell_type": "markdown",
   "metadata": {},
   "source": [
    "------------------------------------------------------------------------------------------------------------------------\n",
    "\n",
    "Los parametros inicializados son útiles para crear funciones con varios parametros, en donde dependiendo los parametros activos, la función realizará alguna u otra acción. Esto se logra al inicializarlos con el valor **None**\n",
    "\n",
    "------------------------------------------------------------------------------------------------------------------------"
   ]
  },
  {
   "cell_type": "code",
   "execution_count": 178,
   "metadata": {},
   "outputs": [],
   "source": [
    "def area_poligono_regular(circulo=False, radio=None, lados=None, long_lado=None):\n",
    "    if circulo==True:\n",
    "        return area_circulo(radio)\n",
    "    else:\n",
    "        if lados<=2:\n",
    "            print(\"El número de lados no corresponde a un poligono\")\n",
    "        else:\n",
    "            perimetro=lados*long_lado\n",
    "            angulo=360/(2*lados)\n",
    "            apotema=lados/(2*math.tan(math.radians(angulo)))\n",
    "            area=(perimetro*apotema/2)\n",
    "            print(round(area,2))"
   ]
  },
  {
   "cell_type": "markdown",
   "metadata": {},
   "source": [
    "<img src=\"img\\poligono-regular-apotema.jpg\" alt=\"Python\" width=\"250\"/>"
   ]
  },
  {
   "cell_type": "code",
   "execution_count": 179,
   "metadata": {},
   "outputs": [
    {
     "data": {
      "text/plain": [
       "78.53981633974483"
      ]
     },
     "execution_count": 179,
     "metadata": {},
     "output_type": "execute_result"
    }
   ],
   "source": [
    "area_poligono_regular(circulo=True, radio=5)"
   ]
  },
  {
   "cell_type": "code",
   "execution_count": 181,
   "metadata": {},
   "outputs": [
    {
     "name": "stdout",
     "output_type": "stream",
     "text": [
      "8.0\n"
     ]
    }
   ],
   "source": [
    "area_poligono_regular(lados=4, long_lado=2)"
   ]
  },
  {
   "cell_type": "code",
   "execution_count": 0,
   "metadata": {
    "colab": {},
    "colab_type": "code",
    "id": "6og9-4XEkjZP"
   },
   "outputs": [],
   "source": [
    "def fib(n):\n",
    "    a, b = 0,1\n",
    "    while a < n:\n",
    "        print(a, end=' ') # el parametro end=\" \" sirve para que los resultados siguientes no se escriban en una nueva linea.\n",
    "        a, b = b, a+b\n",
    "    print()"
   ]
  },
  {
   "cell_type": "code",
   "execution_count": 0,
   "metadata": {
    "colab": {},
    "colab_type": "code",
    "id": "47Clf8dAkjZQ"
   },
   "outputs": [],
   "source": [
    "fib(1000)"
   ]
  },
  {
   "cell_type": "code",
   "execution_count": 0,
   "metadata": {
    "colab": {
     "base_uri": "https://localhost:8080/",
     "height": 54
    },
    "colab_type": "code",
    "executionInfo": {
     "elapsed": 49109,
     "status": "ok",
     "timestamp": 1566918496301,
     "user": {
      "displayName": "Edgar Avalos Gauna",
      "photoUrl": "https://lh3.googleusercontent.com/a-/AAuE7mBlAgNUstu0sLee83F6yPWlOeuhkSOIQBP1BMW9=s64",
      "userId": "15081544959551912541"
     },
     "user_tz": 300
    },
    "id": "NOi1PfEYnD8P",
    "outputId": "d276b408-d594-4a15-9fc9-5c742cab739c"
   },
   "outputs": [
    {
     "name": "stdout",
     "output_type": "stream",
     "text": [
      "500\n",
      "0 1 1 2 3 5 8 13 21 34 55 89 144 233 377 \n"
     ]
    }
   ],
   "source": [
    "fib(int(input()))"
   ]
  },
  {
   "cell_type": "markdown",
   "metadata": {
    "colab": {},
    "colab_type": "code",
    "id": "GbMDSNn6nhAW"
   },
   "source": [
    "<img src=\"img\\kahoot.jpg\" alt=\"Python\" width=\"600\"/>"
   ]
  },
  {
   "cell_type": "code",
   "execution_count": 0,
   "metadata": {
    "colab": {},
    "colab_type": "code",
    "id": "tWUtwCRxfQkT"
   },
   "outputs": [],
   "source": []
  }
 ],
 "metadata": {
  "colab": {
   "collapsed_sections": [
    "ShYD3yFckjYd",
    "e1CwjDQHkjYf"
   ],
   "name": "Introducción.ipynb",
   "provenance": []
  },
  "kernelspec": {
   "display_name": "Python 3",
   "language": "python",
   "name": "python3"
  },
  "language_info": {
   "codemirror_mode": {
    "name": "ipython",
    "version": 3
   },
   "file_extension": ".py",
   "mimetype": "text/x-python",
   "name": "python",
   "nbconvert_exporter": "python",
   "pygments_lexer": "ipython3",
   "version": "3.7.3"
  }
 },
 "nbformat": 4,
 "nbformat_minor": 1
}
