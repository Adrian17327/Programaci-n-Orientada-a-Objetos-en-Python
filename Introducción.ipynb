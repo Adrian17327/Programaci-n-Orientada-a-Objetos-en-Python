{
 "cells": [
  {
   "cell_type": "markdown",
   "metadata": {},
   "source": [
    "# Introducción a Programación Orientada a Objetos utilizando Python"
   ]
  },
  {
   "cell_type": "markdown",
   "metadata": {},
   "source": [
    "<img src=\"img\\alarma.jpg\" alt=\"Python\" width=\"600\"/>"
   ]
  },
  {
   "cell_type": "markdown",
   "metadata": {},
   "source": [
    "# Programación Orientada a Objetos"
   ]
  },
  {
   "cell_type": "markdown",
   "metadata": {},
   "source": [
    "Paradigma de programación que utiliza a los **objetos como elementos fundamentales** en la construcción de la solución a un problema informático."
   ]
  },
  {
   "cell_type": "markdown",
   "metadata": {},
   "source": [
    "<img src=\"img\\duda.jpg\" alt=\"Python\" width=\"300\"/>"
   ]
  },
  {
   "cell_type": "markdown",
   "metadata": {},
   "source": [
    "Un **paradigma de programación** es un estilo de *desarrollo de programas*. Es decir, un modelo para resolver problemas computacionales. "
   ]
  },
  {
   "cell_type": "markdown",
   "metadata": {},
   "source": [
    "<img src=\"img\\paradigmas.png\" alt=\"Python\" width=\"600\"/>"
   ]
  },
  {
   "cell_type": "markdown",
   "metadata": {},
   "source": [
    "### En principio, los lenguajes de programación se formaban de una forma estructurada y secuencial. Sin embargo conforme el problema se va haciendo mas complejo, el código para solucionarlo también lo hace. Es así como surge la idea de crear módulos para poder eliminar grandes porciones de código, que serían ejecutadas solamente cuando el módulo fuera invocado."
   ]
  },
  {
   "cell_type": "markdown",
   "metadata": {},
   "source": [
    "<img src=\"img\\rene.png\" alt=\"Python\" width=\"800\"/>"
   ]
  },
  {
   "cell_type": "markdown",
   "metadata": {},
   "source": [
    "Para entender POO, es necesario entender los siguientes conceptos:\n",
    "\n",
    "\n",
    "* **Objetos**\n",
    "                    Ente abstracto que contiene métodos y atributos.\n",
    "\n",
    "* **Clases**\n",
    "                    Es la descripción general de un objeto.\n",
    "                    \n",
    "* **Herencia**\n",
    "                    Mecanismo para compartir automáticamente métodos y datos entre clases, subclases y objetos.\n",
    "                    \n",
    "* **Abstracción**\n",
    "                    Captar las características escenciales de un objeto.\n",
    "                    \n",
    "* **Encapsulamiento**\n",
    "                    Ocultamiento del estado de los datos dentro de un objeto.\n",
    "                    \n",
    "* **Polimorfismo**\n",
    "                    Capacidad de mandar mensajes sintácticamente iguales a objetos diferentes.\n",
    "                    \n",
    "* **Envío de mensajes**\n",
    "                    Invocación de los métodos de los objetos"
   ]
  },
  {
   "cell_type": "markdown",
   "metadata": {},
   "source": [
    "# Ventajas de POO sobre otros tipos de paradigmas"
   ]
  },
  {
   "cell_type": "markdown",
   "metadata": {},
   "source": [
    "<img src=\"img\\ventajas.png\" alt=\"Python\" width=\"1000\"/>"
   ]
  },
  {
   "cell_type": "markdown",
   "metadata": {},
   "source": [
    "# Lenguajes orientados a objetos"
   ]
  },
  {
   "cell_type": "markdown",
   "metadata": {},
   "source": [
    "<img src=\"img\\poo_ejemplos.png\" alt=\"Python\" width=\"600\"/>"
   ]
  },
  {
   "cell_type": "markdown",
   "metadata": {},
   "source": [
    "# Ventajas de usar Python sobre otros lenguajes"
   ]
  },
  {
   "cell_type": "markdown",
   "metadata": {},
   "source": [
    "<img src=\"img\\Python-benefits.png\" alt=\"Python\" width=\"600\"/>"
   ]
  },
  {
   "cell_type": "markdown",
   "metadata": {},
   "source": [
    "Python soporta el paradigma orientado a procedimientos, como también el paradigma orientado a objetos. \n",
    "\n",
    "En POO, el desarrollador aplica y reutiliza piezas de codigo. \n",
    "\n",
    "A pesar de que varios lenguajes tambien manejan POO, Python lo hace de una manera mucho mas sencilla."
   ]
  },
  {
   "cell_type": "markdown",
   "metadata": {},
   "source": [
    "<img src=\"img\\Languages.png\" alt=\"Python\" width=\"600\"/>"
   ]
  },
  {
   "cell_type": "markdown",
   "metadata": {},
   "source": [
    "# Operadores lógicos"
   ]
  },
  {
   "cell_type": "markdown",
   "metadata": {},
   "source": [
    "En **Python**, los operadores lógicos utilizados son los mismos que en **C#**."
   ]
  },
  {
   "cell_type": "markdown",
   "metadata": {},
   "source": [
    "<img src=\"img\\operadores.png\" alt=\"Python\" width=\"350\"/>"
   ]
  },
  {
   "cell_type": "markdown",
   "metadata": {},
   "source": [
    "# Imprimir y lectura de datos en pantalla"
   ]
  },
  {
   "cell_type": "markdown",
   "metadata": {},
   "source": [
    "En python 3, no es necesario declarar el tipo de variable. Para poder realizar una solicitud al usuario para introducir un dato al programa, solamente es necesario utilizar el método **input()**:"
   ]
  },
  {
   "cell_type": "code",
   "execution_count": null,
   "metadata": {},
   "outputs": [],
   "source": [
    "cadena=input()"
   ]
  },
  {
   "cell_type": "code",
   "execution_count": null,
   "metadata": {},
   "outputs": [],
   "source": [
    "type(cadena) #Método para saber que tipo de variable se genero"
   ]
  },
  {
   "cell_type": "code",
   "execution_count": null,
   "metadata": {},
   "outputs": [],
   "source": [
    "cadena=input()"
   ]
  },
  {
   "cell_type": "code",
   "execution_count": null,
   "metadata": {},
   "outputs": [],
   "source": [
    "type(cadena)"
   ]
  },
  {
   "cell_type": "markdown",
   "metadata": {},
   "source": [
    "El método **input()** maneja todas las variables como si fueran strings. Esto es similar a lo que ocurre en C#. Es por ello que para poder recibir como entrada un valor numérico, es necesario utilizar ademas el método **int()** o **float()**:"
   ]
  },
  {
   "cell_type": "code",
   "execution_count": null,
   "metadata": {},
   "outputs": [],
   "source": [
    "cadena=int(input())"
   ]
  },
  {
   "cell_type": "code",
   "execution_count": null,
   "metadata": {},
   "outputs": [],
   "source": [
    "type(cadena)"
   ]
  },
  {
   "cell_type": "markdown",
   "metadata": {},
   "source": [
    "En Python, el método para poder hacer impresiones en pantalla es **print()**"
   ]
  },
  {
   "cell_type": "code",
   "execution_count": null,
   "metadata": {},
   "outputs": [],
   "source": [
    "print(cadena)"
   ]
  },
  {
   "cell_type": "code",
   "execution_count": null,
   "metadata": {},
   "outputs": [],
   "source": [
    "print(\"Hola mundo!\")"
   ]
  },
  {
   "cell_type": "code",
   "execution_count": null,
   "metadata": {},
   "outputs": [],
   "source": [
    "a=3\n",
    "b=\"Hola\"\n",
    "#print(a+b)"
   ]
  },
  {
   "cell_type": "code",
   "execution_count": null,
   "metadata": {},
   "outputs": [],
   "source": [
    "print(str(a)+b)"
   ]
  },
  {
   "cell_type": "code",
   "execution_count": null,
   "metadata": {},
   "outputs": [],
   "source": [
    "print(a*b)"
   ]
  },
  {
   "cell_type": "markdown",
   "metadata": {},
   "source": [
    "### Actividad\n",
    "Realiza un programa que pida un nombre y los elementos de la dirección (calle, número, colonia, ciudad, estado, código postal y país) de manera individual para después escribirlos con formato de etiqueta de correspondencia:\n",
    "\n",
    "        <Nombre>\n",
    "                Calle     <calle>     # <numero>\n",
    "                Colonia   <colonia>\n",
    "                <Ciudad>, <estado>\n",
    "                CP        <código postal>\n",
    "\n",
    "Nota: en Python, al igual que en C#, **\"\\n\"** y **\"\\t\"** se pueden ocupar para dar saltos de línea y tabulaciones en impresiones de pantalla."
   ]
  },
  {
   "cell_type": "markdown",
   "metadata": {},
   "source": [
    "<img src=\"img/spyder.png\" alt=\"Spyder\" width=\"300\"/>"
   ]
  },
  {
   "cell_type": "code",
   "execution_count": null,
   "metadata": {},
   "outputs": [],
   "source": [
    "#Solicitud de los datos\n",
    "\n",
    "print(\"Indica tu nombre completo\")\n",
    "nombre=input()\n",
    "print(\"Indica la calle donde vives\")\n",
    "calle=input()\n",
    "print(\"Indica el número de tu casa\")\n",
    "numero=input()\n",
    "print(\"Indica la colonia donde vives\")\n",
    "colonia=input()\n",
    "print(\"Indica la ciudad donde vives\")\n",
    "ciudad=input()\n",
    "print(\"Indica el estado donde vives\")\n",
    "estado=input()\n",
    "print(\"Indica el código postal donde vives\")\n",
    "cp=input()"
   ]
  },
  {
   "cell_type": "code",
   "execution_count": null,
   "metadata": {},
   "outputs": [],
   "source": [
    "#Impresión en pantalla de los datos\n",
    "\n",
    "print(nombre)\n",
    "print()\n",
    "print(\"\\t\" + calle + \" #\" + numero)\n",
    "print(\"\\tColonia: \" + colonia)\n",
    "print(\"\\t\" + ciudad + \", \" + estado)\n",
    "print(\"\\tCP: \" + cp)"
   ]
  },
  {
   "cell_type": "markdown",
   "metadata": {
    "colab_type": "text",
    "id": "2qDNmTA-kjYE"
   },
   "source": [
    "# Tipos de estructuras de datos en Python"
   ]
  },
  {
   "cell_type": "markdown",
   "metadata": {
    "colab_type": "text",
    "id": "-yifTRsKkjYF"
   },
   "source": [
    "Existen diferentes tipos de arreglos en Python, los 3 mas usuales son los siguientes:\n",
    "\n",
    "- **Listas [ ]**, colección ordenada y modificable de elementos.\n",
    "- **Tuplas ( )**, colección ordenada e inmutable de elementos. \n",
    "- **Diccionarios { }**, colección sin ordenar, modificable e indexada de elementos."
   ]
  },
  {
   "cell_type": "code",
   "execution_count": null,
   "metadata": {
    "colab": {
     "base_uri": "https://localhost:8080/",
     "height": 35
    },
    "colab_type": "code",
    "executionInfo": {
     "elapsed": 740,
     "status": "ok",
     "timestamp": 1566915848740,
     "user": {
      "displayName": "Edgar Avalos Gauna",
      "photoUrl": "https://lh3.googleusercontent.com/a-/AAuE7mBlAgNUstu0sLee83F6yPWlOeuhkSOIQBP1BMW9=s64",
      "userId": "15081544959551912541"
     },
     "user_tz": 300
    },
    "id": "2SNe66-IkjYG",
    "outputId": "ae907689-0759-4516-c95d-a734af02ad71"
   },
   "outputs": [],
   "source": [
    "lista=[\"platano\", \"manzana\", \"pera\"]\n",
    "lista"
   ]
  },
  {
   "cell_type": "code",
   "execution_count": null,
   "metadata": {
    "colab": {
     "base_uri": "https://localhost:8080/",
     "height": 35
    },
    "colab_type": "code",
    "executionInfo": {
     "elapsed": 729,
     "status": "ok",
     "timestamp": 1566915848744,
     "user": {
      "displayName": "Edgar Avalos Gauna",
      "photoUrl": "https://lh3.googleusercontent.com/a-/AAuE7mBlAgNUstu0sLee83F6yPWlOeuhkSOIQBP1BMW9=s64",
      "userId": "15081544959551912541"
     },
     "user_tz": 300
    },
    "id": "QqT5mJpZsHpA",
    "outputId": "213fa2cb-288a-4658-c168-8c759429b011"
   },
   "outputs": [],
   "source": [
    "print(lista)"
   ]
  },
  {
   "cell_type": "code",
   "execution_count": null,
   "metadata": {},
   "outputs": [],
   "source": [
    "# Con el método len es posible conocer el número de elementos dentro de un arrego\n",
    "len(lista)"
   ]
  },
  {
   "cell_type": "code",
   "execution_count": null,
   "metadata": {},
   "outputs": [],
   "source": [
    "adjetivos=[\"Rico\", \"Dulce\", \"Colorido\"]"
   ]
  },
  {
   "cell_type": "markdown",
   "metadata": {
    "colab_type": "text",
    "id": "Q1ptHTcIkjYI"
   },
   "source": [
    "Para **acceder** a  los elementos de una lista, se debe de indicar el índice del elemento dentro de la lista."
   ]
  },
  {
   "cell_type": "code",
   "execution_count": null,
   "metadata": {
    "colab": {
     "base_uri": "https://localhost:8080/",
     "height": 35
    },
    "colab_type": "code",
    "executionInfo": {
     "elapsed": 710,
     "status": "ok",
     "timestamp": 1566915848745,
     "user": {
      "displayName": "Edgar Avalos Gauna",
      "photoUrl": "https://lh3.googleusercontent.com/a-/AAuE7mBlAgNUstu0sLee83F6yPWlOeuhkSOIQBP1BMW9=s64",
      "userId": "15081544959551912541"
     },
     "user_tz": 300
    },
    "id": "8AN_qp6okjYI",
    "outputId": "eba354be-78c6-4b52-a336-2d5e0db26cd1"
   },
   "outputs": [],
   "source": [
    "lista[2]"
   ]
  },
  {
   "cell_type": "markdown",
   "metadata": {
    "colab_type": "text",
    "id": "dQlnZjTGkjYK"
   },
   "source": [
    "Para **modificar** un elemento de una lista se hace refiriendose al elemento en esa posición:"
   ]
  },
  {
   "cell_type": "code",
   "execution_count": null,
   "metadata": {
    "colab": {
     "base_uri": "https://localhost:8080/",
     "height": 35
    },
    "colab_type": "code",
    "executionInfo": {
     "elapsed": 700,
     "status": "ok",
     "timestamp": 1566915848746,
     "user": {
      "displayName": "Edgar Avalos Gauna",
      "photoUrl": "https://lh3.googleusercontent.com/a-/AAuE7mBlAgNUstu0sLee83F6yPWlOeuhkSOIQBP1BMW9=s64",
      "userId": "15081544959551912541"
     },
     "user_tz": 300
    },
    "id": "oPsGhy8fkjYK",
    "outputId": "7a6f1644-27de-497d-9ece-632ba1459e31"
   },
   "outputs": [],
   "source": [
    "lista[2]=\"melón\"\n",
    "print(lista)"
   ]
  },
  {
   "cell_type": "code",
   "execution_count": null,
   "metadata": {},
   "outputs": [],
   "source": [
    "tupla=(\"Frutas\",\"Verduras\")\n",
    "tupla[0]"
   ]
  },
  {
   "cell_type": "code",
   "execution_count": null,
   "metadata": {},
   "outputs": [],
   "source": [
    "len(tupla)"
   ]
  },
  {
   "cell_type": "markdown",
   "metadata": {
    "colab_type": "text",
    "id": "VKGHQo6FkjYh"
   },
   "source": [
    "### Agregar elementos a una lista\n",
    "\n",
    "Para poder agregar un elemento al final de una lista, se utiliza el método **append()**:"
   ]
  },
  {
   "cell_type": "code",
   "execution_count": null,
   "metadata": {
    "colab": {
     "base_uri": "https://localhost:8080/",
     "height": 35
    },
    "colab_type": "code",
    "executionInfo": {
     "elapsed": 781,
     "status": "ok",
     "timestamp": 1566915848931,
     "user": {
      "displayName": "Edgar Avalos Gauna",
      "photoUrl": "https://lh3.googleusercontent.com/a-/AAuE7mBlAgNUstu0sLee83F6yPWlOeuhkSOIQBP1BMW9=s64",
      "userId": "15081544959551912541"
     },
     "user_tz": 300
    },
    "id": "A6fe7jjdkjYh",
    "outputId": "fb2c8fe2-3dba-4f1c-d0e8-c3c99c9d67af"
   },
   "outputs": [],
   "source": [
    "frutas = [\"limón\", \"platano\", \"mango\"]\n",
    "frutas.append(\"pomelo\")\n",
    "print(frutas)"
   ]
  },
  {
   "cell_type": "markdown",
   "metadata": {
    "colab_type": "text",
    "id": "PCtPkZzXkjYj"
   },
   "source": [
    "Para agregar un elemento a una lista en una posición específica, se utiliza el método **insert()**"
   ]
  },
  {
   "cell_type": "code",
   "execution_count": null,
   "metadata": {
    "colab": {
     "base_uri": "https://localhost:8080/",
     "height": 35
    },
    "colab_type": "code",
    "executionInfo": {
     "elapsed": 773,
     "status": "ok",
     "timestamp": 1566915848931,
     "user": {
      "displayName": "Edgar Avalos Gauna",
      "photoUrl": "https://lh3.googleusercontent.com/a-/AAuE7mBlAgNUstu0sLee83F6yPWlOeuhkSOIQBP1BMW9=s64",
      "userId": "15081544959551912541"
     },
     "user_tz": 300
    },
    "id": "WWj0MHXfkjYk",
    "outputId": "99d329dd-627c-4531-f8a0-3fd2383e6600"
   },
   "outputs": [],
   "source": [
    "frutas.insert(1,\"naranja\") #El primer elemento corresponde a la posición (indexada) y el segundo el elemento a agregar.\n",
    "print(frutas)"
   ]
  },
  {
   "cell_type": "code",
   "execution_count": null,
   "metadata": {},
   "outputs": [],
   "source": [
    "#tupla.append(\"Tubérculos\")"
   ]
  },
  {
   "cell_type": "markdown",
   "metadata": {
    "colab_type": "text",
    "id": "Is9t8txQkjYo"
   },
   "source": [
    "### Remover elementos a una lista\n",
    "Para remover un elemento específico de una lista, se utiliza el método **remove()**"
   ]
  },
  {
   "cell_type": "code",
   "execution_count": null,
   "metadata": {
    "colab": {
     "base_uri": "https://localhost:8080/",
     "height": 35
    },
    "colab_type": "code",
    "executionInfo": {
     "elapsed": 756,
     "status": "ok",
     "timestamp": 1566915848932,
     "user": {
      "displayName": "Edgar Avalos Gauna",
      "photoUrl": "https://lh3.googleusercontent.com/a-/AAuE7mBlAgNUstu0sLee83F6yPWlOeuhkSOIQBP1BMW9=s64",
      "userId": "15081544959551912541"
     },
     "user_tz": 300
    },
    "id": "_3F80Iv2kjYp",
    "outputId": "b8293540-0a63-4dfd-8454-daaf6edecc45"
   },
   "outputs": [],
   "source": [
    "frutas.remove(\"mango\")\n",
    "frutas"
   ]
  },
  {
   "cell_type": "markdown",
   "metadata": {
    "colab_type": "text",
    "id": "0exhBeyskjYr"
   },
   "source": [
    "Otra manera de quitar un elemento a partir de su posición indexada es mendiante el método **pop()** o **del()**"
   ]
  },
  {
   "cell_type": "code",
   "execution_count": null,
   "metadata": {
    "colab": {
     "base_uri": "https://localhost:8080/",
     "height": 35
    },
    "colab_type": "code",
    "executionInfo": {
     "elapsed": 749,
     "status": "ok",
     "timestamp": 1566915848933,
     "user": {
      "displayName": "Edgar Avalos Gauna",
      "photoUrl": "https://lh3.googleusercontent.com/a-/AAuE7mBlAgNUstu0sLee83F6yPWlOeuhkSOIQBP1BMW9=s64",
      "userId": "15081544959551912541"
     },
     "user_tz": 300
    },
    "id": "1PXwoZNYkjYs",
    "outputId": "ab5af48e-edfb-400d-b0e9-5a16118e88c2"
   },
   "outputs": [],
   "source": [
    "frutas.pop(1)\n",
    "frutas"
   ]
  },
  {
   "cell_type": "markdown",
   "metadata": {
    "colab_type": "text",
    "id": "HG0aWypCkjYt"
   },
   "source": [
    "Si el método **pop()** se utiliza si un index, se eliminará el último elemento de la lista:"
   ]
  },
  {
   "cell_type": "code",
   "execution_count": null,
   "metadata": {
    "colab": {
     "base_uri": "https://localhost:8080/",
     "height": 35
    },
    "colab_type": "code",
    "executionInfo": {
     "elapsed": 976,
     "status": "ok",
     "timestamp": 1566915849170,
     "user": {
      "displayName": "Edgar Avalos Gauna",
      "photoUrl": "https://lh3.googleusercontent.com/a-/AAuE7mBlAgNUstu0sLee83F6yPWlOeuhkSOIQBP1BMW9=s64",
      "userId": "15081544959551912541"
     },
     "user_tz": 300
    },
    "id": "EHdSLrpNkjYu",
    "outputId": "3d95527c-62fe-4237-f231-0ab0773610e5"
   },
   "outputs": [],
   "source": [
    "frutas.pop()\n",
    "frutas"
   ]
  },
  {
   "cell_type": "markdown",
   "metadata": {
    "colab_type": "text",
    "id": "Hs31al7mkjYv"
   },
   "source": [
    "Para vaciar una lista, podemos usar el método **clear()**"
   ]
  },
  {
   "cell_type": "code",
   "execution_count": null,
   "metadata": {
    "colab": {
     "base_uri": "https://localhost:8080/",
     "height": 35
    },
    "colab_type": "code",
    "executionInfo": {
     "elapsed": 966,
     "status": "ok",
     "timestamp": 1566915849170,
     "user": {
      "displayName": "Edgar Avalos Gauna",
      "photoUrl": "https://lh3.googleusercontent.com/a-/AAuE7mBlAgNUstu0sLee83F6yPWlOeuhkSOIQBP1BMW9=s64",
      "userId": "15081544959551912541"
     },
     "user_tz": 300
    },
    "id": "iHOGlDOwkjYw",
    "outputId": "8a0b0fba-0b1d-419b-e50b-82c39c2e5c92"
   },
   "outputs": [],
   "source": [
    "frutas.clear()\n",
    "frutas"
   ]
  },
  {
   "cell_type": "code",
   "execution_count": null,
   "metadata": {},
   "outputs": [],
   "source": [
    "#tupla.pop()"
   ]
  },
  {
   "cell_type": "markdown",
   "metadata": {
    "colab_type": "text",
    "id": "_VCN_J7NkjYy"
   },
   "source": [
    "Existen muchos métodos incorporados a los distintos objetos en Python. Para poder determinar a cuales tenemos acceso, es posible utilizar el método **dir**:"
   ]
  },
  {
   "cell_type": "code",
   "execution_count": null,
   "metadata": {
    "colab": {
     "base_uri": "https://localhost:8080/",
     "height": 35
    },
    "colab_type": "code",
    "executionInfo": {
     "elapsed": 959,
     "status": "ok",
     "timestamp": 1566915849171,
     "user": {
      "displayName": "Edgar Avalos Gauna",
      "photoUrl": "https://lh3.googleusercontent.com/a-/AAuE7mBlAgNUstu0sLee83F6yPWlOeuhkSOIQBP1BMW9=s64",
      "userId": "15081544959551912541"
     },
     "user_tz": 300
    },
    "id": "3mqvDBXekjYy",
    "outputId": "f2adb650-359c-42ae-a594-8bdfb44579dc"
   },
   "outputs": [],
   "source": [
    "print(dir(adjetivos))\n"
   ]
  },
  {
   "cell_type": "code",
   "execution_count": null,
   "metadata": {},
   "outputs": [],
   "source": [
    "adjetivos"
   ]
  },
  {
   "cell_type": "code",
   "execution_count": null,
   "metadata": {},
   "outputs": [],
   "source": [
    "# Para acceder a la ayuda de los métodos, es necesario precionar shift+tab\n",
    "\n",
    "adjetivos.count(\"Rico\")"
   ]
  },
  {
   "cell_type": "code",
   "execution_count": null,
   "metadata": {},
   "outputs": [],
   "source": [
    "adjetivos.append(\"Rico\")\n",
    "adjetivos.count(\"Rico\")"
   ]
  },
  {
   "cell_type": "code",
   "execution_count": null,
   "metadata": {},
   "outputs": [],
   "source": [
    "adjetivos.sort()\n",
    "adjetivos"
   ]
  },
  {
   "cell_type": "code",
   "execution_count": null,
   "metadata": {},
   "outputs": [],
   "source": [
    "adjetivos.reverse()\n",
    "adjetivos"
   ]
  },
  {
   "cell_type": "code",
   "execution_count": null,
   "metadata": {},
   "outputs": [],
   "source": [
    "#los métodos ya incorporados a las tuplas son menos ya que estas son inmutables una vez creadas.\n",
    "print(dir(tupla))"
   ]
  },
  {
   "cell_type": "markdown",
   "metadata": {
    "colab_type": "text",
    "id": "uAgbOACrkjY0"
   },
   "source": [
    "# Python Dictionaries"
   ]
  },
  {
   "cell_type": "markdown",
   "metadata": {
    "colab_type": "text",
    "id": "BJ2a8UW1kjY0"
   },
   "source": [
    "Los **diccionarios** en Python son un arreglo de datos que permite manejar pares clave-valor. Las clave deben de ser **únicas** dentro de un mismo diccionario (es decir que no pueden existir dos elementos con una misma clave)"
   ]
  },
  {
   "cell_type": "code",
   "execution_count": null,
   "metadata": {
    "colab": {
     "base_uri": "https://localhost:8080/",
     "height": 35
    },
    "colab_type": "code",
    "executionInfo": {
     "elapsed": 950,
     "status": "ok",
     "timestamp": 1566915849171,
     "user": {
      "displayName": "Edgar Avalos Gauna",
      "photoUrl": "https://lh3.googleusercontent.com/a-/AAuE7mBlAgNUstu0sLee83F6yPWlOeuhkSOIQBP1BMW9=s64",
      "userId": "15081544959551912541"
     },
     "user_tz": 300
    },
    "id": "lT1xNDzSkjY0",
    "outputId": "547d747d-5077-4439-9c4d-7ade7bf1c4c2"
   },
   "outputs": [],
   "source": [
    "dict =\t{  \"Nombre\": \"Edgar\",  \"Edad\": \"32\",  \n",
    "         \"Materias\": [\"POO\", \"Algoritmos\", \"Dinámica de robots\"]}\n",
    "\n",
    "print(dict)"
   ]
  },
  {
   "cell_type": "markdown",
   "metadata": {
    "colab_type": "text",
    "id": "PV1zAOFxkjY2"
   },
   "source": [
    "Para acceder a un elemento dentro de un diccionario, es necesario utilizar su nombre **clave**:"
   ]
  },
  {
   "cell_type": "code",
   "execution_count": null,
   "metadata": {
    "colab": {
     "base_uri": "https://localhost:8080/",
     "height": 35
    },
    "colab_type": "code",
    "executionInfo": {
     "elapsed": 944,
     "status": "ok",
     "timestamp": 1566915849172,
     "user": {
      "displayName": "Edgar Avalos Gauna",
      "photoUrl": "https://lh3.googleusercontent.com/a-/AAuE7mBlAgNUstu0sLee83F6yPWlOeuhkSOIQBP1BMW9=s64",
      "userId": "15081544959551912541"
     },
     "user_tz": 300
    },
    "id": "A6q65PyZAZGw",
    "outputId": "a11ccf84-0096-4770-9684-ab63e3355f61"
   },
   "outputs": [],
   "source": [
    "dict.keys()"
   ]
  },
  {
   "cell_type": "code",
   "execution_count": null,
   "metadata": {
    "colab": {
     "base_uri": "https://localhost:8080/",
     "height": 35
    },
    "colab_type": "code",
    "executionInfo": {
     "elapsed": 935,
     "status": "ok",
     "timestamp": 1566915849172,
     "user": {
      "displayName": "Edgar Avalos Gauna",
      "photoUrl": "https://lh3.googleusercontent.com/a-/AAuE7mBlAgNUstu0sLee83F6yPWlOeuhkSOIQBP1BMW9=s64",
      "userId": "15081544959551912541"
     },
     "user_tz": 300
    },
    "id": "VOFSjZhjkjY3",
    "outputId": "eedbe227-bdb2-4a2b-dbda-ec0222077fe2"
   },
   "outputs": [],
   "source": [
    "dict[\"Materias\"]"
   ]
  },
  {
   "cell_type": "markdown",
   "metadata": {
    "colab_type": "text",
    "id": "zGvs5XhgkjY5"
   },
   "source": [
    "Al igual que las listas, tambien se pueden cambiar elementos dentro de un diccionario. Para ello simplemente hay que referirse a su **clave**:"
   ]
  },
  {
   "cell_type": "code",
   "execution_count": null,
   "metadata": {
    "colab": {
     "base_uri": "https://localhost:8080/",
     "height": 72
    },
    "colab_type": "code",
    "executionInfo": {
     "elapsed": 926,
     "status": "ok",
     "timestamp": 1566915849173,
     "user": {
      "displayName": "Edgar Avalos Gauna",
      "photoUrl": "https://lh3.googleusercontent.com/a-/AAuE7mBlAgNUstu0sLee83F6yPWlOeuhkSOIQBP1BMW9=s64",
      "userId": "15081544959551912541"
     },
     "user_tz": 300
    },
    "id": "oVMuF2jxkjY6",
    "outputId": "670ac14c-2040-4d67-8844-97e781273b41"
   },
   "outputs": [],
   "source": [
    "dict[\"Edad\"]=23\n",
    "dict"
   ]
  },
  {
   "cell_type": "code",
   "execution_count": null,
   "metadata": {
    "colab": {
     "base_uri": "https://localhost:8080/",
     "height": 35
    },
    "colab_type": "code",
    "executionInfo": {
     "elapsed": 917,
     "status": "ok",
     "timestamp": 1566915849173,
     "user": {
      "displayName": "Edgar Avalos Gauna",
      "photoUrl": "https://lh3.googleusercontent.com/a-/AAuE7mBlAgNUstu0sLee83F6yPWlOeuhkSOIQBP1BMW9=s64",
      "userId": "15081544959551912541"
     },
     "user_tz": 300
    },
    "id": "5GzHfxPpBTnv",
    "outputId": "70415c0f-1e57-4aa6-91c9-f92b1b8e52ec"
   },
   "outputs": [],
   "source": [
    "# Con el método len, es posible conocer el número de llaves que contiene un diccionario.\n",
    "len(dict)"
   ]
  },
  {
   "cell_type": "code",
   "execution_count": null,
   "metadata": {
    "colab": {
     "base_uri": "https://localhost:8080/",
     "height": 35
    },
    "colab_type": "code",
    "executionInfo": {
     "elapsed": 910,
     "status": "ok",
     "timestamp": 1566915849174,
     "user": {
      "displayName": "Edgar Avalos Gauna",
      "photoUrl": "https://lh3.googleusercontent.com/a-/AAuE7mBlAgNUstu0sLee83F6yPWlOeuhkSOIQBP1BMW9=s64",
      "userId": "15081544959551912541"
     },
     "user_tz": 300
    },
    "id": "KizKWW5kBbUx",
    "outputId": "7c0155f0-dc43-4961-bc6e-709ec143438e"
   },
   "outputs": [],
   "source": [
    "#Al acceder directamente a una de las llaves, el método len nos dará el número de elementos de dicha llave.\n",
    "len(dict[\"Materias\"])"
   ]
  },
  {
   "cell_type": "code",
   "execution_count": null,
   "metadata": {
    "colab": {},
    "colab_type": "code",
    "id": "FElU1xfcBu9K"
   },
   "outputs": [],
   "source": [
    "# Nuevamente usamos el método dir para conococer los métodos ya incorporados al diccionario.\n",
    "print(dir(dict))"
   ]
  },
  {
   "cell_type": "markdown",
   "metadata": {},
   "source": [
    "### Actividad\n",
    "* Crea 3 ejemplos de estructuras de datos propios para tuplas.\n",
    "* Crea 1 lista de 5 elementos, sobre los programas que te gustan.\n",
    "* De la lista anterior, ordenala alfabéticamente, y posteriormente elimina el último elemento de la lista.\n",
    "* Agrega un nuevo programa a la lista y ordenala de forma inversa (No de la Z a la A).\n",
    "* Crea un diccionario en el que:\n",
    "            ** La primer llave se llame tuplas, y dicha llave contenga las tuplas creadas en el presente ejercicio.\n",
    "            ** La segunda llave se llame listas y ahí se almacene la lista de programas.\n",
    "            ** La tercera llave se llame libre, y ahi asignaras 5 elementos libres a escoger."
   ]
  },
  {
   "cell_type": "markdown",
   "metadata": {},
   "source": [
    "<img src=\"img/spyder.png\" alt=\"Spyder\" width=\"300\"/>"
   ]
  },
  {
   "cell_type": "code",
   "execution_count": null,
   "metadata": {},
   "outputs": [],
   "source": [
    "sexo=(\"m\",\"f\")\n",
    "punto_cardinal=(\"E\", \"O\", \"N\", \"S\")\n",
    "colores_primarios=(\"azul\", \"rojo\", \"verde\")"
   ]
  },
  {
   "cell_type": "code",
   "execution_count": null,
   "metadata": {},
   "outputs": [],
   "source": [
    "programas=[\"GoT\", \"The Big Bang Theory\", \"Cosmos\", \"Friends\", \"Pimp my ride\"]"
   ]
  },
  {
   "cell_type": "code",
   "execution_count": null,
   "metadata": {},
   "outputs": [],
   "source": [
    "programas.sort()\n",
    "programas.pop()\n",
    "programas"
   ]
  },
  {
   "cell_type": "code",
   "execution_count": null,
   "metadata": {},
   "outputs": [],
   "source": [
    "programas.append(\"Avatar\")\n",
    "programas.reverse()\n",
    "programas"
   ]
  },
  {
   "cell_type": "code",
   "execution_count": null,
   "metadata": {},
   "outputs": [],
   "source": [
    "diccionario={\"tuplas\":(sexo,punto_cardinal,colores_primarios), \n",
    "             \"listas\":programas, \"Libre\":[\"Hola\", \"este\", \"es\", \"un\", \"diccionario\"] }\n",
    "diccionario"
   ]
  },
  {
   "cell_type": "markdown",
   "metadata": {
    "colab_type": "text",
    "id": "yw6a3JaGkjY8"
   },
   "source": [
    "# Ciclo  For y ciclo Do while"
   ]
  },
  {
   "cell_type": "markdown",
   "metadata": {
    "colab_type": "text",
    "id": "SkMn-UdLkjYM"
   },
   "source": [
    "### Ciclo For usado en listas"
   ]
  },
  {
   "cell_type": "markdown",
   "metadata": {
    "colab_type": "text",
    "id": "AHRY-lPXkjYM"
   },
   "source": [
    "El ciclo **for** puede ser utilizado en diferentes objetos, obteniendo resultados diferentes. A esta capacidad de un objeto de reaccionar diferente frente a otro se le conoce como **polimorfismo.**"
   ]
  },
  {
   "cell_type": "code",
   "execution_count": null,
   "metadata": {
    "colab": {
     "base_uri": "https://localhost:8080/",
     "height": 72
    },
    "colab_type": "code",
    "executionInfo": {
     "elapsed": 691,
     "status": "ok",
     "timestamp": 1566915848746,
     "user": {
      "displayName": "Edgar Avalos Gauna",
      "photoUrl": "https://lh3.googleusercontent.com/a-/AAuE7mBlAgNUstu0sLee83F6yPWlOeuhkSOIQBP1BMW9=s64",
      "userId": "15081544959551912541"
     },
     "user_tz": 300
    },
    "id": "sZ2ZPBdmkjYN",
    "outputId": "e79501a6-7f99-406d-db5b-3fe7e2d5e767"
   },
   "outputs": [],
   "source": [
    "for x in range(3):\n",
    "    print(str(x) +\" \"+\"Hola mundo\")"
   ]
  },
  {
   "cell_type": "code",
   "execution_count": null,
   "metadata": {
    "colab": {
     "base_uri": "https://localhost:8080/",
     "height": 54
    },
    "colab_type": "code",
    "executionInfo": {
     "elapsed": 679,
     "status": "ok",
     "timestamp": 1566915848747,
     "user": {
      "displayName": "Edgar Avalos Gauna",
      "photoUrl": "https://lh3.googleusercontent.com/a-/AAuE7mBlAgNUstu0sLee83F6yPWlOeuhkSOIQBP1BMW9=s64",
      "userId": "15081544959551912541"
     },
     "user_tz": 300
    },
    "id": "7E2XYTOTkjYO",
    "outputId": "8195e3ba-426a-4042-ff36-9adf5cd44e3a"
   },
   "outputs": [],
   "source": [
    "for x in range(3,5):\n",
    "    print(str(x) +\" \"+ \"Hola mundo\")"
   ]
  },
  {
   "cell_type": "code",
   "execution_count": null,
   "metadata": {
    "colab": {
     "base_uri": "https://localhost:8080/",
     "height": 199
    },
    "colab_type": "code",
    "executionInfo": {
     "elapsed": 668,
     "status": "ok",
     "timestamp": 1566915848747,
     "user": {
      "displayName": "Edgar Avalos Gauna",
      "photoUrl": "https://lh3.googleusercontent.com/a-/AAuE7mBlAgNUstu0sLee83F6yPWlOeuhkSOIQBP1BMW9=s64",
      "userId": "15081544959551912541"
     },
     "user_tz": 300
    },
    "id": "y6fOUmZfkjYQ",
    "outputId": "fcfcc8b3-2a01-41cd-b023-7b614802ac6f"
   },
   "outputs": [],
   "source": [
    "for x in range(0,15,3):\n",
    "    print(x)\n",
    "    print(\"Hola mundo\")"
   ]
  },
  {
   "cell_type": "code",
   "execution_count": null,
   "metadata": {
    "colab": {
     "base_uri": "https://localhost:8080/",
     "height": 126
    },
    "colab_type": "code",
    "executionInfo": {
     "elapsed": 661,
     "status": "ok",
     "timestamp": 1566915848748,
     "user": {
      "displayName": "Edgar Avalos Gauna",
      "photoUrl": "https://lh3.googleusercontent.com/a-/AAuE7mBlAgNUstu0sLee83F6yPWlOeuhkSOIQBP1BMW9=s64",
      "userId": "15081544959551912541"
     },
     "user_tz": 300
    },
    "id": "1u8LOTrQywvo",
    "outputId": "d990a9f5-1703-4544-9a3f-b5f6ff4ee990"
   },
   "outputs": [],
   "source": [
    "a=0\n",
    "for x in \"banana\":\n",
    "  print(x)"
   ]
  },
  {
   "cell_type": "code",
   "execution_count": null,
   "metadata": {
    "colab": {
     "base_uri": "https://localhost:8080/",
     "height": 126
    },
    "colab_type": "code",
    "executionInfo": {
     "elapsed": 652,
     "status": "ok",
     "timestamp": 1566915848748,
     "user": {
      "displayName": "Edgar Avalos Gauna",
      "photoUrl": "https://lh3.googleusercontent.com/a-/AAuE7mBlAgNUstu0sLee83F6yPWlOeuhkSOIQBP1BMW9=s64",
      "userId": "15081544959551912541"
     },
     "user_tz": 300
    },
    "id": "4H8JOw_8kjYS",
    "outputId": "a971dc78-2208-4f33-b12e-7ab5a538fb58"
   },
   "outputs": [],
   "source": [
    "a=0\n",
    "for x in \"banana\":\n",
    "  print(str(a) + \" \" + x)\n",
    "  a+=1"
   ]
  },
  {
   "cell_type": "code",
   "execution_count": null,
   "metadata": {
    "colab": {
     "base_uri": "https://localhost:8080/",
     "height": 72
    },
    "colab_type": "code",
    "executionInfo": {
     "elapsed": 823,
     "status": "ok",
     "timestamp": 1566915848927,
     "user": {
      "displayName": "Edgar Avalos Gauna",
      "photoUrl": "https://lh3.googleusercontent.com/a-/AAuE7mBlAgNUstu0sLee83F6yPWlOeuhkSOIQBP1BMW9=s64",
      "userId": "15081544959551912541"
     },
     "user_tz": 300
    },
    "id": "0kEwycZtkjYU",
    "outputId": "29b2ac8f-bd9b-4c5e-dd5a-09c2c7cd3024"
   },
   "outputs": [],
   "source": [
    "for x in lista:\n",
    "    print(x)"
   ]
  },
  {
   "cell_type": "markdown",
   "metadata": {
    "colab_type": "text",
    "id": "BDE8EGOPkjYX"
   },
   "source": [
    "Con la sentencia **break** podemos detener las iteraciones dentro de un ciclo:"
   ]
  },
  {
   "cell_type": "code",
   "execution_count": null,
   "metadata": {
    "colab": {
     "base_uri": "https://localhost:8080/",
     "height": 54
    },
    "colab_type": "code",
    "executionInfo": {
     "elapsed": 815,
     "status": "ok",
     "timestamp": 1566915848928,
     "user": {
      "displayName": "Edgar Avalos Gauna",
      "photoUrl": "https://lh3.googleusercontent.com/a-/AAuE7mBlAgNUstu0sLee83F6yPWlOeuhkSOIQBP1BMW9=s64",
      "userId": "15081544959551912541"
     },
     "user_tz": 300
    },
    "id": "OH5cEXuAkjYY",
    "outputId": "5836cb91-6d8e-4911-e24b-3acb2b9bb583"
   },
   "outputs": [],
   "source": [
    "for x in lista:\n",
    "    print(x)\n",
    "    if x==\"manzana\":\n",
    "        break"
   ]
  },
  {
   "cell_type": "code",
   "execution_count": null,
   "metadata": {
    "colab": {
     "base_uri": "https://localhost:8080/",
     "height": 35
    },
    "colab_type": "code",
    "executionInfo": {
     "elapsed": 807,
     "status": "ok",
     "timestamp": 1566915848929,
     "user": {
      "displayName": "Edgar Avalos Gauna",
      "photoUrl": "https://lh3.googleusercontent.com/a-/AAuE7mBlAgNUstu0sLee83F6yPWlOeuhkSOIQBP1BMW9=s64",
      "userId": "15081544959551912541"
     },
     "user_tz": 300
    },
    "id": "a4U_1LDOkjYa",
    "outputId": "ec0297b6-4fc5-415b-87fc-373883c27a26"
   },
   "outputs": [],
   "source": [
    "for x in lista:\n",
    "    if x==\"manzana\":\n",
    "        break\n",
    "    print(x)"
   ]
  },
  {
   "cell_type": "markdown",
   "metadata": {
    "colab_type": "text",
    "id": "9gPjD_KHkjYb"
   },
   "source": [
    "Con la sentencia **continue** podemos detener la iteracion actual dentro de un ciclo y que pase a la siguiente:"
   ]
  },
  {
   "cell_type": "code",
   "execution_count": null,
   "metadata": {
    "colab": {
     "base_uri": "https://localhost:8080/",
     "height": 54
    },
    "colab_type": "code",
    "executionInfo": {
     "elapsed": 799,
     "status": "ok",
     "timestamp": 1566915848929,
     "user": {
      "displayName": "Edgar Avalos Gauna",
      "photoUrl": "https://lh3.googleusercontent.com/a-/AAuE7mBlAgNUstu0sLee83F6yPWlOeuhkSOIQBP1BMW9=s64",
      "userId": "15081544959551912541"
     },
     "user_tz": 300
    },
    "id": "EmWT-W4JkjYc",
    "outputId": "f8506b3e-53e6-4cd3-e73e-3c06cc40faa5"
   },
   "outputs": [],
   "source": [
    "for x in lista:\n",
    "    if x==\"manzana\":\n",
    "        continue #Este comando sería igual a pasar de largo el elemento manzana.\n",
    "    print(x)"
   ]
  },
  {
   "cell_type": "markdown",
   "metadata": {
    "colab_type": "text",
    "id": "ShYD3yFckjYd"
   },
   "source": [
    "### El comando Else en el ciclo For\n",
    "\n",
    "El comando **Else** en un ciclo **For** especifica un bloque de código que se ejecutará solo al termino del loop."
   ]
  },
  {
   "cell_type": "code",
   "execution_count": null,
   "metadata": {
    "colab": {
     "base_uri": "https://localhost:8080/",
     "height": 0
    },
    "colab_type": "code",
    "executionInfo": {
     "elapsed": 792,
     "status": "ok",
     "timestamp": 1566915848930,
     "user": {
      "displayName": "Edgar Avalos Gauna",
      "photoUrl": "https://lh3.googleusercontent.com/a-/AAuE7mBlAgNUstu0sLee83F6yPWlOeuhkSOIQBP1BMW9=s64",
      "userId": "15081544959551912541"
     },
     "user_tz": 300
    },
    "id": "zo3G0mEekjYe",
    "outputId": "2eeead0c-e37e-450f-cac6-b2e5a07508c6"
   },
   "outputs": [],
   "source": [
    "for x in range(6):\n",
    "    print(x)\n",
    "else:\n",
    "    print(\"Por fin terminó!\")"
   ]
  },
  {
   "cell_type": "markdown",
   "metadata": {
    "colab_type": "text",
    "id": "e1CwjDQHkjYf"
   },
   "source": [
    "### Loops anidados\n",
    "\n",
    "En este tipo de sintaxis, el loop mas *interior* completara todos sus iteraciones por cada iteración del loop *exterior.*"
   ]
  },
  {
   "cell_type": "code",
   "execution_count": null,
   "metadata": {
    "colab": {
     "base_uri": "https://localhost:8080/",
     "height": 0
    },
    "colab_type": "code",
    "executionInfo": {
     "elapsed": 788,
     "status": "ok",
     "timestamp": 1566915848930,
     "user": {
      "displayName": "Edgar Avalos Gauna",
      "photoUrl": "https://lh3.googleusercontent.com/a-/AAuE7mBlAgNUstu0sLee83F6yPWlOeuhkSOIQBP1BMW9=s64",
      "userId": "15081544959551912541"
     },
     "user_tz": 300
    },
    "id": "E-T4x3YikjYg",
    "outputId": "9eeb4c28-94bf-4de0-a519-da67f8a09cbf"
   },
   "outputs": [],
   "source": [
    "frutas = [\"limón\", \"platano\", \"mango\", \"fresa\", \"Kiwi\"]\n",
    "adjetivos = [\"colorido\", \"grande\", \"sabroso\"]\n",
    "\n",
    "\n",
    "for x in frutas:\n",
    "    for y in adjetivos:\n",
    "        print(x, y)"
   ]
  },
  {
   "cell_type": "code",
   "execution_count": null,
   "metadata": {
    "colab": {},
    "colab_type": "code",
    "id": "fx-Pgdkk31ml"
   },
   "outputs": [],
   "source": [
    "bm=(\"bueno\",\"malo\")\n",
    "resultado=[]\n",
    "for x in frutas:\n",
    "    for y in adjetivos:\n",
    "        for z in bm:\n",
    "            resultado.append((x, y, z))\n",
    "print(resultado)"
   ]
  },
  {
   "cell_type": "code",
   "execution_count": null,
   "metadata": {},
   "outputs": [],
   "source": [
    "len(resultado)"
   ]
  },
  {
   "cell_type": "markdown",
   "metadata": {
    "colab_type": "text",
    "id": "dObCvrGQkjY8"
   },
   "source": [
    "Al usar el ciclo **For** en un diccionario, el resultado son las claves que se encuentren dentro de él:"
   ]
  },
  {
   "cell_type": "code",
   "execution_count": null,
   "metadata": {
    "colab": {
     "base_uri": "https://localhost:8080/",
     "height": 72
    },
    "colab_type": "code",
    "executionInfo": {
     "elapsed": 586,
     "status": "ok",
     "timestamp": 1566915906744,
     "user": {
      "displayName": "Edgar Avalos Gauna",
      "photoUrl": "https://lh3.googleusercontent.com/a-/AAuE7mBlAgNUstu0sLee83F6yPWlOeuhkSOIQBP1BMW9=s64",
      "userId": "15081544959551912541"
     },
     "user_tz": 300
    },
    "id": "mmD2PUEbkjY9",
    "outputId": "efb6d359-cd4d-42df-8cf3-d6f9ccc16302"
   },
   "outputs": [],
   "source": [
    "for x in dict:\n",
    "    print(x)"
   ]
  },
  {
   "cell_type": "markdown",
   "metadata": {
    "colab_type": "text",
    "id": "ae4CCi-AkjY_"
   },
   "source": [
    "En cambio, si quisieramos acceder a cada uno de los elementos dentro del diccionario, sería utilizando la clave como contador:"
   ]
  },
  {
   "cell_type": "code",
   "execution_count": null,
   "metadata": {
    "colab": {
     "base_uri": "https://localhost:8080/",
     "height": 72
    },
    "colab_type": "code",
    "executionInfo": {
     "elapsed": 366,
     "status": "ok",
     "timestamp": 1566915985214,
     "user": {
      "displayName": "Edgar Avalos Gauna",
      "photoUrl": "https://lh3.googleusercontent.com/a-/AAuE7mBlAgNUstu0sLee83F6yPWlOeuhkSOIQBP1BMW9=s64",
      "userId": "15081544959551912541"
     },
     "user_tz": 300
    },
    "id": "_0RZgamPkjY_",
    "outputId": "a023da64-06d9-4e00-9fef-434c2ac537d9"
   },
   "outputs": [],
   "source": [
    "for x in dict:\n",
    "    print(dict[x])"
   ]
  },
  {
   "cell_type": "markdown",
   "metadata": {
    "colab_type": "text",
    "id": "VsHorsdCkjZB"
   },
   "source": [
    "Otra forma de obtener el resultado anterior, sería mediante el uso del método **values()**"
   ]
  },
  {
   "cell_type": "code",
   "execution_count": null,
   "metadata": {
    "colab": {
     "base_uri": "https://localhost:8080/",
     "height": 72
    },
    "colab_type": "code",
    "executionInfo": {
     "elapsed": 427,
     "status": "ok",
     "timestamp": 1566916159393,
     "user": {
      "displayName": "Edgar Avalos Gauna",
      "photoUrl": "https://lh3.googleusercontent.com/a-/AAuE7mBlAgNUstu0sLee83F6yPWlOeuhkSOIQBP1BMW9=s64",
      "userId": "15081544959551912541"
     },
     "user_tz": 300
    },
    "id": "wE552CKukjZB",
    "outputId": "3b81146e-7c5c-4768-ed6d-c2ebd8cbdca2"
   },
   "outputs": [],
   "source": [
    "for x in dict.values():\n",
    "    print(x)"
   ]
  },
  {
   "cell_type": "markdown",
   "metadata": {
    "colab_type": "text",
    "id": "nnsDjSfKkjZE"
   },
   "source": [
    "El método **items** nos ayuda a obtener las claves y sus valores de forma simultanea:"
   ]
  },
  {
   "cell_type": "code",
   "execution_count": null,
   "metadata": {
    "colab": {
     "base_uri": "https://localhost:8080/",
     "height": 72
    },
    "colab_type": "code",
    "executionInfo": {
     "elapsed": 409,
     "status": "ok",
     "timestamp": 1566916401108,
     "user": {
      "displayName": "Edgar Avalos Gauna",
      "photoUrl": "https://lh3.googleusercontent.com/a-/AAuE7mBlAgNUstu0sLee83F6yPWlOeuhkSOIQBP1BMW9=s64",
      "userId": "15081544959551912541"
     },
     "user_tz": 300
    },
    "id": "n8HuFQmmkjZE",
    "outputId": "c0010e4f-9327-4988-a61a-e36233ce7aed"
   },
   "outputs": [],
   "source": [
    "for x, y in dict.items():\n",
    "    print(x,\":\", y)"
   ]
  },
  {
   "cell_type": "markdown",
   "metadata": {
    "colab_type": "text",
    "id": "9JajQA22lPjn"
   },
   "source": [
    "Con el ciclo **while**, se puede ejecutar una serie de instrucciones mientras que la condición indicada sea verdadera."
   ]
  },
  {
   "cell_type": "code",
   "execution_count": null,
   "metadata": {
    "colab": {
     "base_uri": "https://localhost:8080/",
     "height": 72
    },
    "colab_type": "code",
    "executionInfo": {
     "elapsed": 365,
     "status": "ok",
     "timestamp": 1566916859793,
     "user": {
      "displayName": "Edgar Avalos Gauna",
      "photoUrl": "https://lh3.googleusercontent.com/a-/AAuE7mBlAgNUstu0sLee83F6yPWlOeuhkSOIQBP1BMW9=s64",
      "userId": "15081544959551912541"
     },
     "user_tz": 300
    },
    "id": "madliu72kjZO",
    "outputId": "e5d4e1bc-fb89-45ed-f3f5-c50e041dba32"
   },
   "outputs": [],
   "source": [
    "i = 1\n",
    "while i < 6:\n",
    "    print(i)\n",
    "    i += 2"
   ]
  },
  {
   "cell_type": "markdown",
   "metadata": {
    "colab_type": "text",
    "id": "QibXxtzJlaUH"
   },
   "source": [
    "Al igual que el ciclo For, el ciclo **while** también permite el uso de los métodos **break** y **continue**"
   ]
  },
  {
   "cell_type": "code",
   "execution_count": null,
   "metadata": {
    "colab": {
     "base_uri": "https://localhost:8080/",
     "height": 72
    },
    "colab_type": "code",
    "executionInfo": {
     "elapsed": 383,
     "status": "ok",
     "timestamp": 1566917000942,
     "user": {
      "displayName": "Edgar Avalos Gauna",
      "photoUrl": "https://lh3.googleusercontent.com/a-/AAuE7mBlAgNUstu0sLee83F6yPWlOeuhkSOIQBP1BMW9=s64",
      "userId": "15081544959551912541"
     },
     "user_tz": 300
    },
    "id": "S9kTiLZ4lYzr",
    "outputId": "b5047f71-7035-490a-804b-69f2a0923659"
   },
   "outputs": [],
   "source": [
    "i = 1\n",
    "while i < 6:\n",
    "    print(i)\n",
    "    if i == 3:\n",
    "        break\n",
    "    i += 1\n",
    "  "
   ]
  },
  {
   "cell_type": "code",
   "execution_count": null,
   "metadata": {
    "colab": {
     "base_uri": "https://localhost:8080/",
     "height": 108
    },
    "colab_type": "code",
    "executionInfo": {
     "elapsed": 415,
     "status": "ok",
     "timestamp": 1566917091067,
     "user": {
      "displayName": "Edgar Avalos Gauna",
      "photoUrl": "https://lh3.googleusercontent.com/a-/AAuE7mBlAgNUstu0sLee83F6yPWlOeuhkSOIQBP1BMW9=s64",
      "userId": "15081544959551912541"
     },
     "user_tz": 300
    },
    "id": "FXlHK-ZRlptX",
    "outputId": "e2f27050-fe41-40ee-d6b7-59b68643bf54"
   },
   "outputs": [],
   "source": [
    "i = 0\n",
    "while i < 6:\n",
    "    i += 1 \n",
    "    if i == 3:\n",
    "        continue\n",
    "    print(i)"
   ]
  },
  {
   "cell_type": "markdown",
   "metadata": {
    "colab_type": "text",
    "id": "8qeqhNHZlNwQ"
   },
   "source": [
    "Ejemplo del uso del loop **While** para el cálculo de la serie Fibonacci"
   ]
  },
  {
   "cell_type": "code",
   "execution_count": null,
   "metadata": {
    "colab": {
     "base_uri": "https://localhost:8080/",
     "height": 235
    },
    "colab_type": "code",
    "executionInfo": {
     "elapsed": 396,
     "status": "ok",
     "timestamp": 1566917637077,
     "user": {
      "displayName": "Edgar Avalos Gauna",
      "photoUrl": "https://lh3.googleusercontent.com/a-/AAuE7mBlAgNUstu0sLee83F6yPWlOeuhkSOIQBP1BMW9=s64",
      "userId": "15081544959551912541"
     },
     "user_tz": 300
    },
    "id": "Og-ONzKEjko8",
    "outputId": "06f219ad-0269-4160-ac2a-8ec4f7001eb3"
   },
   "outputs": [],
   "source": [
    "a, b = 0,1\n",
    "while a < 100:\n",
    "    print(a) \n",
    "    a, b = b, a+b"
   ]
  },
  {
   "cell_type": "markdown",
   "metadata": {},
   "source": [
    "### Actividad\n",
    "\n",
    "Realizar un programa que calcule los números primos desde 2 hasta n.\n",
    "\n",
    "*Nota: para calcular el residuo de una división, se utiliza el simbolo %.*\n",
    "\n",
    "        ej. 2%2=0"
   ]
  },
  {
   "cell_type": "markdown",
   "metadata": {},
   "source": [
    "<img src=\"img/spyder.png\" alt=\"Spyder\" width=\"300\"/>"
   ]
  },
  {
   "cell_type": "code",
   "execution_count": null,
   "metadata": {},
   "outputs": [],
   "source": [
    "numero=int(input(\"Indique el valor máximo de la serie: \"))\n",
    "primos=[]\n",
    "for i in range(2, numero+1):\n",
    "    for divisor in range(1,i+1):\n",
    "        primo=True\n",
    "        residuo=i%divisor\n",
    "        if residuo==0 and divisor!=1 and divisor!=i:\n",
    "            primo=False\n",
    "            break\n",
    "    if primo==True:\n",
    "        primos.append(i)\n",
    "else:\n",
    "    print(primos)"
   ]
  },
  {
   "cell_type": "markdown",
   "metadata": {},
   "source": [
    "# Definición de funciones en Python"
   ]
  },
  {
   "cell_type": "markdown",
   "metadata": {},
   "source": [
    "Una función, es un elemento que nos va a servir en Python para poder realizar tareas específicas, y poder invocarlo en cualquier parte del código."
   ]
  },
  {
   "cell_type": "code",
   "execution_count": 4,
   "metadata": {
    "colab": {},
    "colab_type": "code",
    "id": "6og9-4XEkjZP"
   },
   "outputs": [],
   "source": [
    "def fib(n):\n",
    "    a, b = 0,1\n",
    "    while a < n:\n",
    "        print(a, end=' ') # el parametro end=\" \" sirve para que los resultados siguientes no se escriban en una nueva linea.\n",
    "        a, b = b, a+b\n",
    "    print()"
   ]
  },
  {
   "cell_type": "code",
   "execution_count": null,
   "metadata": {
    "colab": {
     "base_uri": "https://localhost:8080/",
     "height": 35
    },
    "colab_type": "code",
    "executionInfo": {
     "elapsed": 462,
     "status": "ok",
     "timestamp": 1566918215605,
     "user": {
      "displayName": "Edgar Avalos Gauna",
      "photoUrl": "https://lh3.googleusercontent.com/a-/AAuE7mBlAgNUstu0sLee83F6yPWlOeuhkSOIQBP1BMW9=s64",
      "userId": "15081544959551912541"
     },
     "user_tz": 300
    },
    "id": "47Clf8dAkjZQ",
    "outputId": "4f01d195-4e68-4365-adb6-4d285cbd9777"
   },
   "outputs": [],
   "source": [
    "fib(1000)"
   ]
  },
  {
   "cell_type": "code",
   "execution_count": 5,
   "metadata": {
    "colab": {
     "base_uri": "https://localhost:8080/",
     "height": 54
    },
    "colab_type": "code",
    "executionInfo": {
     "elapsed": 49109,
     "status": "ok",
     "timestamp": 1566918496301,
     "user": {
      "displayName": "Edgar Avalos Gauna",
      "photoUrl": "https://lh3.googleusercontent.com/a-/AAuE7mBlAgNUstu0sLee83F6yPWlOeuhkSOIQBP1BMW9=s64",
      "userId": "15081544959551912541"
     },
     "user_tz": 300
    },
    "id": "NOi1PfEYnD8P",
    "outputId": "d276b408-d594-4a15-9fc9-5c742cab739c"
   },
   "outputs": [
    {
     "name": "stdout",
     "output_type": "stream",
     "text": [
      "500\n",
      "0 1 1 2 3 5 8 13 21 34 55 89 144 233 377 \n"
     ]
    }
   ],
   "source": [
    "fib(int(input()))"
   ]
  },
  {
   "cell_type": "markdown",
   "metadata": {
    "colab": {},
    "colab_type": "code",
    "id": "GbMDSNn6nhAW"
   },
   "source": [
    "<img src=\"img\\kahoot.jpg\" alt=\"Python\" width=\"600\"/>"
   ]
  },
  {
   "cell_type": "code",
   "execution_count": null,
   "metadata": {},
   "outputs": [],
   "source": []
  }
 ],
 "metadata": {
  "colab": {
   "collapsed_sections": [
    "ShYD3yFckjYd",
    "e1CwjDQHkjYf"
   ],
   "name": "Introducción.ipynb",
   "provenance": [],
   "version": "0.3.2"
  },
  "kernelspec": {
   "display_name": "Python 3",
   "language": "python",
   "name": "python3"
  },
  "language_info": {
   "codemirror_mode": {
    "name": "ipython",
    "version": 3
   },
   "file_extension": ".py",
   "mimetype": "text/x-python",
   "name": "python",
   "nbconvert_exporter": "python",
   "pygments_lexer": "ipython3",
   "version": "3.7.3"
  }
 },
 "nbformat": 4,
 "nbformat_minor": 1
}
